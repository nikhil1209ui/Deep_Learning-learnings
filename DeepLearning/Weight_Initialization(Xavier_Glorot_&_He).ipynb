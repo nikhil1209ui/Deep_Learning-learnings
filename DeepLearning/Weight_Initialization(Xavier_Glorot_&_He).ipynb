{
  "nbformat": 4,
  "nbformat_minor": 0,
  "metadata": {
    "colab": {
      "provenance": [],
      "gpuType": "T4"
    },
    "kernelspec": {
      "name": "python3",
      "display_name": "Python 3"
    },
    "language_info": {
      "name": "python"
    },
    "accelerator": "GPU"
  },
  "cells": [
    {
      "cell_type": "code",
      "execution_count": 1,
      "metadata": {
        "id": "zlhrIXLNrxiw"
      },
      "outputs": [],
      "source": [
        "import pandas as pd\n",
        "import numpy as np\n",
        "import matplotlib.pyplot as plt\n",
        "import seaborn as sns\n",
        "import tensorflow as tf\n",
        "\n",
        "from tensorflow import keras\n",
        "from keras.models import Sequential\n",
        "from keras.layers import Dense\n",
        "from mlxtend.plotting import plot_decision_regions"
      ]
    },
    {
      "cell_type": "code",
      "source": [
        "df=pd.read_csv('ushape.csv')\n",
        "df.head()"
      ],
      "metadata": {
        "colab": {
          "base_uri": "https://localhost:8080/",
          "height": 206
        },
        "id": "xOa_3kuBssc4",
        "outputId": "355b5955-7f35-403f-b52c-2c4e9d36abf0"
      },
      "execution_count": 2,
      "outputs": [
        {
          "output_type": "execute_result",
          "data": {
            "text/plain": [
              "   3.159499363321345566e-02  9.869877579082642072e-01  0.000000000000000000e+00\n",
              "0                  2.115098                 -0.046244                       1.0\n",
              "1                  0.882490                 -0.075756                       0.0\n",
              "2                 -0.055144                 -0.037332                       1.0\n",
              "3                  0.829545                 -0.539321                       1.0\n",
              "4                  2.112857                  0.662084                       1.0"
            ],
            "text/html": [
              "\n",
              "  <div id=\"df-1b3b78bc-38ca-47fb-9e3f-d0f672616d42\" class=\"colab-df-container\">\n",
              "    <div>\n",
              "<style scoped>\n",
              "    .dataframe tbody tr th:only-of-type {\n",
              "        vertical-align: middle;\n",
              "    }\n",
              "\n",
              "    .dataframe tbody tr th {\n",
              "        vertical-align: top;\n",
              "    }\n",
              "\n",
              "    .dataframe thead th {\n",
              "        text-align: right;\n",
              "    }\n",
              "</style>\n",
              "<table border=\"1\" class=\"dataframe\">\n",
              "  <thead>\n",
              "    <tr style=\"text-align: right;\">\n",
              "      <th></th>\n",
              "      <th>3.159499363321345566e-02</th>\n",
              "      <th>9.869877579082642072e-01</th>\n",
              "      <th>0.000000000000000000e+00</th>\n",
              "    </tr>\n",
              "  </thead>\n",
              "  <tbody>\n",
              "    <tr>\n",
              "      <th>0</th>\n",
              "      <td>2.115098</td>\n",
              "      <td>-0.046244</td>\n",
              "      <td>1.0</td>\n",
              "    </tr>\n",
              "    <tr>\n",
              "      <th>1</th>\n",
              "      <td>0.882490</td>\n",
              "      <td>-0.075756</td>\n",
              "      <td>0.0</td>\n",
              "    </tr>\n",
              "    <tr>\n",
              "      <th>2</th>\n",
              "      <td>-0.055144</td>\n",
              "      <td>-0.037332</td>\n",
              "      <td>1.0</td>\n",
              "    </tr>\n",
              "    <tr>\n",
              "      <th>3</th>\n",
              "      <td>0.829545</td>\n",
              "      <td>-0.539321</td>\n",
              "      <td>1.0</td>\n",
              "    </tr>\n",
              "    <tr>\n",
              "      <th>4</th>\n",
              "      <td>2.112857</td>\n",
              "      <td>0.662084</td>\n",
              "      <td>1.0</td>\n",
              "    </tr>\n",
              "  </tbody>\n",
              "</table>\n",
              "</div>\n",
              "    <div class=\"colab-df-buttons\">\n",
              "\n",
              "  <div class=\"colab-df-container\">\n",
              "    <button class=\"colab-df-convert\" onclick=\"convertToInteractive('df-1b3b78bc-38ca-47fb-9e3f-d0f672616d42')\"\n",
              "            title=\"Convert this dataframe to an interactive table.\"\n",
              "            style=\"display:none;\">\n",
              "\n",
              "  <svg xmlns=\"http://www.w3.org/2000/svg\" height=\"24px\" viewBox=\"0 -960 960 960\">\n",
              "    <path d=\"M120-120v-720h720v720H120Zm60-500h600v-160H180v160Zm220 220h160v-160H400v160Zm0 220h160v-160H400v160ZM180-400h160v-160H180v160Zm440 0h160v-160H620v160ZM180-180h160v-160H180v160Zm440 0h160v-160H620v160Z\"/>\n",
              "  </svg>\n",
              "    </button>\n",
              "\n",
              "  <style>\n",
              "    .colab-df-container {\n",
              "      display:flex;\n",
              "      gap: 12px;\n",
              "    }\n",
              "\n",
              "    .colab-df-convert {\n",
              "      background-color: #E8F0FE;\n",
              "      border: none;\n",
              "      border-radius: 50%;\n",
              "      cursor: pointer;\n",
              "      display: none;\n",
              "      fill: #1967D2;\n",
              "      height: 32px;\n",
              "      padding: 0 0 0 0;\n",
              "      width: 32px;\n",
              "    }\n",
              "\n",
              "    .colab-df-convert:hover {\n",
              "      background-color: #E2EBFA;\n",
              "      box-shadow: 0px 1px 2px rgba(60, 64, 67, 0.3), 0px 1px 3px 1px rgba(60, 64, 67, 0.15);\n",
              "      fill: #174EA6;\n",
              "    }\n",
              "\n",
              "    .colab-df-buttons div {\n",
              "      margin-bottom: 4px;\n",
              "    }\n",
              "\n",
              "    [theme=dark] .colab-df-convert {\n",
              "      background-color: #3B4455;\n",
              "      fill: #D2E3FC;\n",
              "    }\n",
              "\n",
              "    [theme=dark] .colab-df-convert:hover {\n",
              "      background-color: #434B5C;\n",
              "      box-shadow: 0px 1px 3px 1px rgba(0, 0, 0, 0.15);\n",
              "      filter: drop-shadow(0px 1px 2px rgba(0, 0, 0, 0.3));\n",
              "      fill: #FFFFFF;\n",
              "    }\n",
              "  </style>\n",
              "\n",
              "    <script>\n",
              "      const buttonEl =\n",
              "        document.querySelector('#df-1b3b78bc-38ca-47fb-9e3f-d0f672616d42 button.colab-df-convert');\n",
              "      buttonEl.style.display =\n",
              "        google.colab.kernel.accessAllowed ? 'block' : 'none';\n",
              "\n",
              "      async function convertToInteractive(key) {\n",
              "        const element = document.querySelector('#df-1b3b78bc-38ca-47fb-9e3f-d0f672616d42');\n",
              "        const dataTable =\n",
              "          await google.colab.kernel.invokeFunction('convertToInteractive',\n",
              "                                                    [key], {});\n",
              "        if (!dataTable) return;\n",
              "\n",
              "        const docLinkHtml = 'Like what you see? Visit the ' +\n",
              "          '<a target=\"_blank\" href=https://colab.research.google.com/notebooks/data_table.ipynb>data table notebook</a>'\n",
              "          + ' to learn more about interactive tables.';\n",
              "        element.innerHTML = '';\n",
              "        dataTable['output_type'] = 'display_data';\n",
              "        await google.colab.output.renderOutput(dataTable, element);\n",
              "        const docLink = document.createElement('div');\n",
              "        docLink.innerHTML = docLinkHtml;\n",
              "        element.appendChild(docLink);\n",
              "      }\n",
              "    </script>\n",
              "  </div>\n",
              "\n",
              "\n",
              "<div id=\"df-a2a35ed7-bc10-41ab-a4f2-66d997706d7b\">\n",
              "  <button class=\"colab-df-quickchart\" onclick=\"quickchart('df-a2a35ed7-bc10-41ab-a4f2-66d997706d7b')\"\n",
              "            title=\"Suggest charts\"\n",
              "            style=\"display:none;\">\n",
              "\n",
              "<svg xmlns=\"http://www.w3.org/2000/svg\" height=\"24px\"viewBox=\"0 0 24 24\"\n",
              "     width=\"24px\">\n",
              "    <g>\n",
              "        <path d=\"M19 3H5c-1.1 0-2 .9-2 2v14c0 1.1.9 2 2 2h14c1.1 0 2-.9 2-2V5c0-1.1-.9-2-2-2zM9 17H7v-7h2v7zm4 0h-2V7h2v10zm4 0h-2v-4h2v4z\"/>\n",
              "    </g>\n",
              "</svg>\n",
              "  </button>\n",
              "\n",
              "<style>\n",
              "  .colab-df-quickchart {\n",
              "      --bg-color: #E8F0FE;\n",
              "      --fill-color: #1967D2;\n",
              "      --hover-bg-color: #E2EBFA;\n",
              "      --hover-fill-color: #174EA6;\n",
              "      --disabled-fill-color: #AAA;\n",
              "      --disabled-bg-color: #DDD;\n",
              "  }\n",
              "\n",
              "  [theme=dark] .colab-df-quickchart {\n",
              "      --bg-color: #3B4455;\n",
              "      --fill-color: #D2E3FC;\n",
              "      --hover-bg-color: #434B5C;\n",
              "      --hover-fill-color: #FFFFFF;\n",
              "      --disabled-bg-color: #3B4455;\n",
              "      --disabled-fill-color: #666;\n",
              "  }\n",
              "\n",
              "  .colab-df-quickchart {\n",
              "    background-color: var(--bg-color);\n",
              "    border: none;\n",
              "    border-radius: 50%;\n",
              "    cursor: pointer;\n",
              "    display: none;\n",
              "    fill: var(--fill-color);\n",
              "    height: 32px;\n",
              "    padding: 0;\n",
              "    width: 32px;\n",
              "  }\n",
              "\n",
              "  .colab-df-quickchart:hover {\n",
              "    background-color: var(--hover-bg-color);\n",
              "    box-shadow: 0 1px 2px rgba(60, 64, 67, 0.3), 0 1px 3px 1px rgba(60, 64, 67, 0.15);\n",
              "    fill: var(--button-hover-fill-color);\n",
              "  }\n",
              "\n",
              "  .colab-df-quickchart-complete:disabled,\n",
              "  .colab-df-quickchart-complete:disabled:hover {\n",
              "    background-color: var(--disabled-bg-color);\n",
              "    fill: var(--disabled-fill-color);\n",
              "    box-shadow: none;\n",
              "  }\n",
              "\n",
              "  .colab-df-spinner {\n",
              "    border: 2px solid var(--fill-color);\n",
              "    border-color: transparent;\n",
              "    border-bottom-color: var(--fill-color);\n",
              "    animation:\n",
              "      spin 1s steps(1) infinite;\n",
              "  }\n",
              "\n",
              "  @keyframes spin {\n",
              "    0% {\n",
              "      border-color: transparent;\n",
              "      border-bottom-color: var(--fill-color);\n",
              "      border-left-color: var(--fill-color);\n",
              "    }\n",
              "    20% {\n",
              "      border-color: transparent;\n",
              "      border-left-color: var(--fill-color);\n",
              "      border-top-color: var(--fill-color);\n",
              "    }\n",
              "    30% {\n",
              "      border-color: transparent;\n",
              "      border-left-color: var(--fill-color);\n",
              "      border-top-color: var(--fill-color);\n",
              "      border-right-color: var(--fill-color);\n",
              "    }\n",
              "    40% {\n",
              "      border-color: transparent;\n",
              "      border-right-color: var(--fill-color);\n",
              "      border-top-color: var(--fill-color);\n",
              "    }\n",
              "    60% {\n",
              "      border-color: transparent;\n",
              "      border-right-color: var(--fill-color);\n",
              "    }\n",
              "    80% {\n",
              "      border-color: transparent;\n",
              "      border-right-color: var(--fill-color);\n",
              "      border-bottom-color: var(--fill-color);\n",
              "    }\n",
              "    90% {\n",
              "      border-color: transparent;\n",
              "      border-bottom-color: var(--fill-color);\n",
              "    }\n",
              "  }\n",
              "</style>\n",
              "\n",
              "  <script>\n",
              "    async function quickchart(key) {\n",
              "      const quickchartButtonEl =\n",
              "        document.querySelector('#' + key + ' button');\n",
              "      quickchartButtonEl.disabled = true;  // To prevent multiple clicks.\n",
              "      quickchartButtonEl.classList.add('colab-df-spinner');\n",
              "      try {\n",
              "        const charts = await google.colab.kernel.invokeFunction(\n",
              "            'suggestCharts', [key], {});\n",
              "      } catch (error) {\n",
              "        console.error('Error during call to suggestCharts:', error);\n",
              "      }\n",
              "      quickchartButtonEl.classList.remove('colab-df-spinner');\n",
              "      quickchartButtonEl.classList.add('colab-df-quickchart-complete');\n",
              "    }\n",
              "    (() => {\n",
              "      let quickchartButtonEl =\n",
              "        document.querySelector('#df-a2a35ed7-bc10-41ab-a4f2-66d997706d7b button');\n",
              "      quickchartButtonEl.style.display =\n",
              "        google.colab.kernel.accessAllowed ? 'block' : 'none';\n",
              "    })();\n",
              "  </script>\n",
              "</div>\n",
              "\n",
              "    </div>\n",
              "  </div>\n"
            ],
            "application/vnd.google.colaboratory.intrinsic+json": {
              "type": "dataframe",
              "variable_name": "df",
              "summary": "{\n  \"name\": \"df\",\n  \"rows\": 99,\n  \"fields\": [\n    {\n      \"column\": \"3.159499363321345566e-02\",\n      \"properties\": {\n        \"dtype\": \"number\",\n        \"std\": 0.8943130566096504,\n        \"min\": -1.318500344394381,\n        \"max\": 2.181371683049025,\n        \"num_unique_values\": 99,\n        \"samples\": [\n          0.1273314190904385,\n          0.6417403675063451,\n          0.21862323352500593\n        ],\n        \"semantic_type\": \"\",\n        \"description\": \"\"\n      }\n    },\n    {\n      \"column\": \"9.869877579082642072e-01\",\n      \"properties\": {\n        \"dtype\": \"number\",\n        \"std\": 0.5909086142970597,\n        \"min\": -1.0357020680498332,\n        \"max\": 1.5718993127141032,\n        \"num_unique_values\": 99,\n        \"samples\": [\n          -0.3796548967118949,\n          -0.39369468370639576,\n          -0.6525211867631453\n        ],\n        \"semantic_type\": \"\",\n        \"description\": \"\"\n      }\n    },\n    {\n      \"column\": \"0.000000000000000000e+00\",\n      \"properties\": {\n        \"dtype\": \"number\",\n        \"std\": 0.502518907629606,\n        \"min\": 0.0,\n        \"max\": 1.0,\n        \"num_unique_values\": 2,\n        \"samples\": [\n          0.0,\n          1.0\n        ],\n        \"semantic_type\": \"\",\n        \"description\": \"\"\n      }\n    }\n  ]\n}"
            }
          },
          "metadata": {},
          "execution_count": 2
        }
      ]
    },
    {
      "cell_type": "code",
      "source": [
        "df.rename(columns={'3.159499363321345566e-02':'X','9.869877579082642072e-01':'Y','0.000000000000000000e+00':'class'},inplace=True)"
      ],
      "metadata": {
        "id": "Jhpiz-fEssf5"
      },
      "execution_count": 3,
      "outputs": []
    },
    {
      "cell_type": "code",
      "source": [
        "df.head()"
      ],
      "metadata": {
        "colab": {
          "base_uri": "https://localhost:8080/",
          "height": 206
        },
        "id": "0OLNH4v5ssjO",
        "outputId": "99f6671a-7e88-4f91-ef4f-6717e5badefb"
      },
      "execution_count": 4,
      "outputs": [
        {
          "output_type": "execute_result",
          "data": {
            "text/plain": [
              "          X         Y  class\n",
              "0  2.115098 -0.046244    1.0\n",
              "1  0.882490 -0.075756    0.0\n",
              "2 -0.055144 -0.037332    1.0\n",
              "3  0.829545 -0.539321    1.0\n",
              "4  2.112857  0.662084    1.0"
            ],
            "text/html": [
              "\n",
              "  <div id=\"df-d577f3ae-edcf-4643-8a68-111e5df7b005\" class=\"colab-df-container\">\n",
              "    <div>\n",
              "<style scoped>\n",
              "    .dataframe tbody tr th:only-of-type {\n",
              "        vertical-align: middle;\n",
              "    }\n",
              "\n",
              "    .dataframe tbody tr th {\n",
              "        vertical-align: top;\n",
              "    }\n",
              "\n",
              "    .dataframe thead th {\n",
              "        text-align: right;\n",
              "    }\n",
              "</style>\n",
              "<table border=\"1\" class=\"dataframe\">\n",
              "  <thead>\n",
              "    <tr style=\"text-align: right;\">\n",
              "      <th></th>\n",
              "      <th>X</th>\n",
              "      <th>Y</th>\n",
              "      <th>class</th>\n",
              "    </tr>\n",
              "  </thead>\n",
              "  <tbody>\n",
              "    <tr>\n",
              "      <th>0</th>\n",
              "      <td>2.115098</td>\n",
              "      <td>-0.046244</td>\n",
              "      <td>1.0</td>\n",
              "    </tr>\n",
              "    <tr>\n",
              "      <th>1</th>\n",
              "      <td>0.882490</td>\n",
              "      <td>-0.075756</td>\n",
              "      <td>0.0</td>\n",
              "    </tr>\n",
              "    <tr>\n",
              "      <th>2</th>\n",
              "      <td>-0.055144</td>\n",
              "      <td>-0.037332</td>\n",
              "      <td>1.0</td>\n",
              "    </tr>\n",
              "    <tr>\n",
              "      <th>3</th>\n",
              "      <td>0.829545</td>\n",
              "      <td>-0.539321</td>\n",
              "      <td>1.0</td>\n",
              "    </tr>\n",
              "    <tr>\n",
              "      <th>4</th>\n",
              "      <td>2.112857</td>\n",
              "      <td>0.662084</td>\n",
              "      <td>1.0</td>\n",
              "    </tr>\n",
              "  </tbody>\n",
              "</table>\n",
              "</div>\n",
              "    <div class=\"colab-df-buttons\">\n",
              "\n",
              "  <div class=\"colab-df-container\">\n",
              "    <button class=\"colab-df-convert\" onclick=\"convertToInteractive('df-d577f3ae-edcf-4643-8a68-111e5df7b005')\"\n",
              "            title=\"Convert this dataframe to an interactive table.\"\n",
              "            style=\"display:none;\">\n",
              "\n",
              "  <svg xmlns=\"http://www.w3.org/2000/svg\" height=\"24px\" viewBox=\"0 -960 960 960\">\n",
              "    <path d=\"M120-120v-720h720v720H120Zm60-500h600v-160H180v160Zm220 220h160v-160H400v160Zm0 220h160v-160H400v160ZM180-400h160v-160H180v160Zm440 0h160v-160H620v160ZM180-180h160v-160H180v160Zm440 0h160v-160H620v160Z\"/>\n",
              "  </svg>\n",
              "    </button>\n",
              "\n",
              "  <style>\n",
              "    .colab-df-container {\n",
              "      display:flex;\n",
              "      gap: 12px;\n",
              "    }\n",
              "\n",
              "    .colab-df-convert {\n",
              "      background-color: #E8F0FE;\n",
              "      border: none;\n",
              "      border-radius: 50%;\n",
              "      cursor: pointer;\n",
              "      display: none;\n",
              "      fill: #1967D2;\n",
              "      height: 32px;\n",
              "      padding: 0 0 0 0;\n",
              "      width: 32px;\n",
              "    }\n",
              "\n",
              "    .colab-df-convert:hover {\n",
              "      background-color: #E2EBFA;\n",
              "      box-shadow: 0px 1px 2px rgba(60, 64, 67, 0.3), 0px 1px 3px 1px rgba(60, 64, 67, 0.15);\n",
              "      fill: #174EA6;\n",
              "    }\n",
              "\n",
              "    .colab-df-buttons div {\n",
              "      margin-bottom: 4px;\n",
              "    }\n",
              "\n",
              "    [theme=dark] .colab-df-convert {\n",
              "      background-color: #3B4455;\n",
              "      fill: #D2E3FC;\n",
              "    }\n",
              "\n",
              "    [theme=dark] .colab-df-convert:hover {\n",
              "      background-color: #434B5C;\n",
              "      box-shadow: 0px 1px 3px 1px rgba(0, 0, 0, 0.15);\n",
              "      filter: drop-shadow(0px 1px 2px rgba(0, 0, 0, 0.3));\n",
              "      fill: #FFFFFF;\n",
              "    }\n",
              "  </style>\n",
              "\n",
              "    <script>\n",
              "      const buttonEl =\n",
              "        document.querySelector('#df-d577f3ae-edcf-4643-8a68-111e5df7b005 button.colab-df-convert');\n",
              "      buttonEl.style.display =\n",
              "        google.colab.kernel.accessAllowed ? 'block' : 'none';\n",
              "\n",
              "      async function convertToInteractive(key) {\n",
              "        const element = document.querySelector('#df-d577f3ae-edcf-4643-8a68-111e5df7b005');\n",
              "        const dataTable =\n",
              "          await google.colab.kernel.invokeFunction('convertToInteractive',\n",
              "                                                    [key], {});\n",
              "        if (!dataTable) return;\n",
              "\n",
              "        const docLinkHtml = 'Like what you see? Visit the ' +\n",
              "          '<a target=\"_blank\" href=https://colab.research.google.com/notebooks/data_table.ipynb>data table notebook</a>'\n",
              "          + ' to learn more about interactive tables.';\n",
              "        element.innerHTML = '';\n",
              "        dataTable['output_type'] = 'display_data';\n",
              "        await google.colab.output.renderOutput(dataTable, element);\n",
              "        const docLink = document.createElement('div');\n",
              "        docLink.innerHTML = docLinkHtml;\n",
              "        element.appendChild(docLink);\n",
              "      }\n",
              "    </script>\n",
              "  </div>\n",
              "\n",
              "\n",
              "<div id=\"df-74dc2e6e-47c5-49c2-ab64-467ba2829d96\">\n",
              "  <button class=\"colab-df-quickchart\" onclick=\"quickchart('df-74dc2e6e-47c5-49c2-ab64-467ba2829d96')\"\n",
              "            title=\"Suggest charts\"\n",
              "            style=\"display:none;\">\n",
              "\n",
              "<svg xmlns=\"http://www.w3.org/2000/svg\" height=\"24px\"viewBox=\"0 0 24 24\"\n",
              "     width=\"24px\">\n",
              "    <g>\n",
              "        <path d=\"M19 3H5c-1.1 0-2 .9-2 2v14c0 1.1.9 2 2 2h14c1.1 0 2-.9 2-2V5c0-1.1-.9-2-2-2zM9 17H7v-7h2v7zm4 0h-2V7h2v10zm4 0h-2v-4h2v4z\"/>\n",
              "    </g>\n",
              "</svg>\n",
              "  </button>\n",
              "\n",
              "<style>\n",
              "  .colab-df-quickchart {\n",
              "      --bg-color: #E8F0FE;\n",
              "      --fill-color: #1967D2;\n",
              "      --hover-bg-color: #E2EBFA;\n",
              "      --hover-fill-color: #174EA6;\n",
              "      --disabled-fill-color: #AAA;\n",
              "      --disabled-bg-color: #DDD;\n",
              "  }\n",
              "\n",
              "  [theme=dark] .colab-df-quickchart {\n",
              "      --bg-color: #3B4455;\n",
              "      --fill-color: #D2E3FC;\n",
              "      --hover-bg-color: #434B5C;\n",
              "      --hover-fill-color: #FFFFFF;\n",
              "      --disabled-bg-color: #3B4455;\n",
              "      --disabled-fill-color: #666;\n",
              "  }\n",
              "\n",
              "  .colab-df-quickchart {\n",
              "    background-color: var(--bg-color);\n",
              "    border: none;\n",
              "    border-radius: 50%;\n",
              "    cursor: pointer;\n",
              "    display: none;\n",
              "    fill: var(--fill-color);\n",
              "    height: 32px;\n",
              "    padding: 0;\n",
              "    width: 32px;\n",
              "  }\n",
              "\n",
              "  .colab-df-quickchart:hover {\n",
              "    background-color: var(--hover-bg-color);\n",
              "    box-shadow: 0 1px 2px rgba(60, 64, 67, 0.3), 0 1px 3px 1px rgba(60, 64, 67, 0.15);\n",
              "    fill: var(--button-hover-fill-color);\n",
              "  }\n",
              "\n",
              "  .colab-df-quickchart-complete:disabled,\n",
              "  .colab-df-quickchart-complete:disabled:hover {\n",
              "    background-color: var(--disabled-bg-color);\n",
              "    fill: var(--disabled-fill-color);\n",
              "    box-shadow: none;\n",
              "  }\n",
              "\n",
              "  .colab-df-spinner {\n",
              "    border: 2px solid var(--fill-color);\n",
              "    border-color: transparent;\n",
              "    border-bottom-color: var(--fill-color);\n",
              "    animation:\n",
              "      spin 1s steps(1) infinite;\n",
              "  }\n",
              "\n",
              "  @keyframes spin {\n",
              "    0% {\n",
              "      border-color: transparent;\n",
              "      border-bottom-color: var(--fill-color);\n",
              "      border-left-color: var(--fill-color);\n",
              "    }\n",
              "    20% {\n",
              "      border-color: transparent;\n",
              "      border-left-color: var(--fill-color);\n",
              "      border-top-color: var(--fill-color);\n",
              "    }\n",
              "    30% {\n",
              "      border-color: transparent;\n",
              "      border-left-color: var(--fill-color);\n",
              "      border-top-color: var(--fill-color);\n",
              "      border-right-color: var(--fill-color);\n",
              "    }\n",
              "    40% {\n",
              "      border-color: transparent;\n",
              "      border-right-color: var(--fill-color);\n",
              "      border-top-color: var(--fill-color);\n",
              "    }\n",
              "    60% {\n",
              "      border-color: transparent;\n",
              "      border-right-color: var(--fill-color);\n",
              "    }\n",
              "    80% {\n",
              "      border-color: transparent;\n",
              "      border-right-color: var(--fill-color);\n",
              "      border-bottom-color: var(--fill-color);\n",
              "    }\n",
              "    90% {\n",
              "      border-color: transparent;\n",
              "      border-bottom-color: var(--fill-color);\n",
              "    }\n",
              "  }\n",
              "</style>\n",
              "\n",
              "  <script>\n",
              "    async function quickchart(key) {\n",
              "      const quickchartButtonEl =\n",
              "        document.querySelector('#' + key + ' button');\n",
              "      quickchartButtonEl.disabled = true;  // To prevent multiple clicks.\n",
              "      quickchartButtonEl.classList.add('colab-df-spinner');\n",
              "      try {\n",
              "        const charts = await google.colab.kernel.invokeFunction(\n",
              "            'suggestCharts', [key], {});\n",
              "      } catch (error) {\n",
              "        console.error('Error during call to suggestCharts:', error);\n",
              "      }\n",
              "      quickchartButtonEl.classList.remove('colab-df-spinner');\n",
              "      quickchartButtonEl.classList.add('colab-df-quickchart-complete');\n",
              "    }\n",
              "    (() => {\n",
              "      let quickchartButtonEl =\n",
              "        document.querySelector('#df-74dc2e6e-47c5-49c2-ab64-467ba2829d96 button');\n",
              "      quickchartButtonEl.style.display =\n",
              "        google.colab.kernel.accessAllowed ? 'block' : 'none';\n",
              "    })();\n",
              "  </script>\n",
              "</div>\n",
              "\n",
              "    </div>\n",
              "  </div>\n"
            ],
            "application/vnd.google.colaboratory.intrinsic+json": {
              "type": "dataframe",
              "variable_name": "df",
              "summary": "{\n  \"name\": \"df\",\n  \"rows\": 99,\n  \"fields\": [\n    {\n      \"column\": \"X\",\n      \"properties\": {\n        \"dtype\": \"number\",\n        \"std\": 0.8943130566096504,\n        \"min\": -1.318500344394381,\n        \"max\": 2.181371683049025,\n        \"num_unique_values\": 99,\n        \"samples\": [\n          0.1273314190904385,\n          0.6417403675063451,\n          0.21862323352500593\n        ],\n        \"semantic_type\": \"\",\n        \"description\": \"\"\n      }\n    },\n    {\n      \"column\": \"Y\",\n      \"properties\": {\n        \"dtype\": \"number\",\n        \"std\": 0.5909086142970597,\n        \"min\": -1.0357020680498332,\n        \"max\": 1.5718993127141032,\n        \"num_unique_values\": 99,\n        \"samples\": [\n          -0.3796548967118949,\n          -0.39369468370639576,\n          -0.6525211867631453\n        ],\n        \"semantic_type\": \"\",\n        \"description\": \"\"\n      }\n    },\n    {\n      \"column\": \"class\",\n      \"properties\": {\n        \"dtype\": \"number\",\n        \"std\": 0.502518907629606,\n        \"min\": 0.0,\n        \"max\": 1.0,\n        \"num_unique_values\": 2,\n        \"samples\": [\n          0.0,\n          1.0\n        ],\n        \"semantic_type\": \"\",\n        \"description\": \"\"\n      }\n    }\n  ]\n}"
            }
          },
          "metadata": {},
          "execution_count": 4
        }
      ]
    },
    {
      "cell_type": "code",
      "source": [
        "sns.scatterplot(x=df['X'],y=df['Y'],hue=df['class'])"
      ],
      "metadata": {
        "colab": {
          "base_uri": "https://localhost:8080/",
          "height": 466
        },
        "id": "kWdFtE6RssmK",
        "outputId": "19c81e9b-0b83-498b-c582-524934530c43"
      },
      "execution_count": 5,
      "outputs": [
        {
          "output_type": "execute_result",
          "data": {
            "text/plain": [
              "<Axes: xlabel='X', ylabel='Y'>"
            ]
          },
          "metadata": {},
          "execution_count": 5
        },
        {
          "output_type": "display_data",
          "data": {
            "text/plain": [
              "<Figure size 640x480 with 1 Axes>"
            ],
            "image/png": "[encoded data removed]"
          },
          "metadata": {}
        }
      ]
    },
    {
      "cell_type": "code",
      "source": [
        "X=df.iloc[:,0:2].values\n",
        "y=df.iloc[:,-1].values"
      ],
      "metadata": {
        "id": "T1h32eOCss6G"
      },
      "execution_count": 15,
      "outputs": []
    },
    {
      "cell_type": "markdown",
      "source": [
        "GLOROT-NORMAL"
      ],
      "metadata": {
        "id": "zME8Tu3RxMcK"
      }
    },
    {
      "cell_type": "code",
      "source": [
        "model=Sequential()\n",
        "\n",
        "model.add(Dense(10,input_dim=2,activation='tanh',kernel_initializer='glorot_normal'))\n",
        "model.add(Dense(10,activation='tanh',kernel_initializer='glorot_normal'))\n",
        "model.add(Dense(10,activation='tanh',kernel_initializer='glorot_normal'))\n",
        "model.add(Dense(10,activation='tanh',kernel_initializer='glorot_normal'))\n",
        "model.add(Dense(1,activation='sigmoid'))\n",
        "\n",
        "model.summary()"
      ],
      "metadata": {
        "colab": {
          "base_uri": "https://localhost:8080/",
          "height": 344
        },
        "id": "Lxnf2DiPss9L",
        "outputId": "da645225-6f7a-4608-b51c-7db98a2b22ae"
      },
      "execution_count": 17,
      "outputs": [
        {
          "output_type": "stream",
          "name": "stderr",
          "text": [
            "/usr/local/lib/python3.10/dist-packages/keras/src/layers/core/dense.py:87: UserWarning: Do not pass an `input_shape`/`input_dim` argument to a layer. When using Sequential models, prefer using an `Input(shape)` object as the first layer in the model instead.\n",
            "  super().__init__(activity_regularizer=activity_regularizer, **kwargs)\n"
          ]
        },
        {
          "output_type": "display_data",
          "data": {
            "text/plain": [
              "\u001b[1mModel: \"sequential_1\"\u001b[0m\n"
            ],
            "text/html": [
              "<pre style=\"white-space:pre;overflow-x:auto;line-height:normal;font-family:Menlo,'DejaVu Sans Mono',consolas,'Courier New',monospace\"><span style=\"font-weight: bold\">Model: \"sequential_1\"</span>\n",
              "</pre>\n"
            ]
          },
          "metadata": {}
        },
        {
          "output_type": "display_data",
          "data": {
            "text/plain": [
              "┏━━━━━━━━━━━━━━━━━━━━━━━━━━━━━━━━━━━━━━┳━━━━━━━━━━━━━━━━━━━━━━━━━━━━━┳━━━━━━━━━━━━━━━━━┓\n",
              "┃\u001b[1m \u001b[0m\u001b[1mLayer (type)                        \u001b[0m\u001b[1m \u001b[0m┃\u001b[1m \u001b[0m\u001b[1mOutput Shape               \u001b[0m\u001b[1m \u001b[0m┃\u001b[1m \u001b[0m\u001b[1m        Param #\u001b[0m\u001b[1m \u001b[0m┃\n",
              "┡━━━━━━━━━━━━━━━━━━━━━━━━━━━━━━━━━━━━━━╇━━━━━━━━━━━━━━━━━━━━━━━━━━━━━╇━━━━━━━━━━━━━━━━━┩\n",
              "│ dense_1 (\u001b[38;5;33mDense\u001b[0m)                      │ (\u001b[38;5;45mNone\u001b[0m, \u001b[38;5;34m10\u001b[0m)                  │              \u001b[38;5;34m30\u001b[0m │\n",
              "├──────────────────────────────────────┼─────────────────────────────┼─────────────────┤\n",
              "│ dense_2 (\u001b[38;5;33mDense\u001b[0m)                      │ (\u001b[38;5;45mNone\u001b[0m, \u001b[38;5;34m10\u001b[0m)                  │             \u001b[38;5;34m110\u001b[0m │\n",
              "├──────────────────────────────────────┼─────────────────────────────┼─────────────────┤\n",
              "│ dense_3 (\u001b[38;5;33mDense\u001b[0m)                      │ (\u001b[38;5;45mNone\u001b[0m, \u001b[38;5;34m10\u001b[0m)                  │             \u001b[38;5;34m110\u001b[0m │\n",
              "├──────────────────────────────────────┼─────────────────────────────┼─────────────────┤\n",
              "│ dense_4 (\u001b[38;5;33mDense\u001b[0m)                      │ (\u001b[38;5;45mNone\u001b[0m, \u001b[38;5;34m10\u001b[0m)                  │             \u001b[38;5;34m110\u001b[0m │\n",
              "├──────────────────────────────────────┼─────────────────────────────┼─────────────────┤\n",
              "│ dense_5 (\u001b[38;5;33mDense\u001b[0m)                      │ (\u001b[38;5;45mNone\u001b[0m, \u001b[38;5;34m1\u001b[0m)                   │              \u001b[38;5;34m11\u001b[0m │\n",
              "└──────────────────────────────────────┴─────────────────────────────┴─────────────────┘\n"
            ],
            "text/html": [
              "<pre style=\"white-space:pre;overflow-x:auto;line-height:normal;font-family:Menlo,'DejaVu Sans Mono',consolas,'Courier New',monospace\">┏━━━━━━━━━━━━━━━━━━━━━━━━━━━━━━━━━━━━━━┳━━━━━━━━━━━━━━━━━━━━━━━━━━━━━┳━━━━━━━━━━━━━━━━━┓\n",
              "┃<span style=\"font-weight: bold\"> Layer (type)                         </span>┃<span style=\"font-weight: bold\"> Output Shape                </span>┃<span style=\"font-weight: bold\">         Param # </span>┃\n",
              "┡━━━━━━━━━━━━━━━━━━━━━━━━━━━━━━━━━━━━━━╇━━━━━━━━━━━━━━━━━━━━━━━━━━━━━╇━━━━━━━━━━━━━━━━━┩\n",
              "│ dense_1 (<span style=\"color: #0087ff; text-decoration-color: #0087ff\">Dense</span>)                      │ (<span style=\"color: #00d7ff; text-decoration-color: #00d7ff\">None</span>, <span style=\"color: #00af00; text-decoration-color: #00af00\">10</span>)                  │              <span style=\"color: #00af00; text-decoration-color: #00af00\">30</span> │\n",
              "├──────────────────────────────────────┼─────────────────────────────┼─────────────────┤\n",
              "│ dense_2 (<span style=\"color: #0087ff; text-decoration-color: #0087ff\">Dense</span>)                      │ (<span style=\"color: #00d7ff; text-decoration-color: #00d7ff\">None</span>, <span style=\"color: #00af00; text-decoration-color: #00af00\">10</span>)                  │             <span style=\"color: #00af00; text-decoration-color: #00af00\">110</span> │\n",
              "├──────────────────────────────────────┼─────────────────────────────┼─────────────────┤\n",
              "│ dense_3 (<span style=\"color: #0087ff; text-decoration-color: #0087ff\">Dense</span>)                      │ (<span style=\"color: #00d7ff; text-decoration-color: #00d7ff\">None</span>, <span style=\"color: #00af00; text-decoration-color: #00af00\">10</span>)                  │             <span style=\"color: #00af00; text-decoration-color: #00af00\">110</span> │\n",
              "├──────────────────────────────────────┼─────────────────────────────┼─────────────────┤\n",
              "│ dense_4 (<span style=\"color: #0087ff; text-decoration-color: #0087ff\">Dense</span>)                      │ (<span style=\"color: #00d7ff; text-decoration-color: #00d7ff\">None</span>, <span style=\"color: #00af00; text-decoration-color: #00af00\">10</span>)                  │             <span style=\"color: #00af00; text-decoration-color: #00af00\">110</span> │\n",
              "├──────────────────────────────────────┼─────────────────────────────┼─────────────────┤\n",
              "│ dense_5 (<span style=\"color: #0087ff; text-decoration-color: #0087ff\">Dense</span>)                      │ (<span style=\"color: #00d7ff; text-decoration-color: #00d7ff\">None</span>, <span style=\"color: #00af00; text-decoration-color: #00af00\">1</span>)                   │              <span style=\"color: #00af00; text-decoration-color: #00af00\">11</span> │\n",
              "└──────────────────────────────────────┴─────────────────────────────┴─────────────────┘\n",
              "</pre>\n"
            ]
          },
          "metadata": {}
        },
        {
          "output_type": "display_data",
          "data": {
            "text/plain": [
              "\u001b[1m Total params: \u001b[0m\u001b[38;5;34m371\u001b[0m (1.45 KB)\n"
            ],
            "text/html": [
              "<pre style=\"white-space:pre;overflow-x:auto;line-height:normal;font-family:Menlo,'DejaVu Sans Mono',consolas,'Courier New',monospace\"><span style=\"font-weight: bold\"> Total params: </span><span style=\"color: #00af00; text-decoration-color: #00af00\">371</span> (1.45 KB)\n",
              "</pre>\n"
            ]
          },
          "metadata": {}
        },
        {
          "output_type": "display_data",
          "data": {
            "text/plain": [
              "\u001b[1m Trainable params: \u001b[0m\u001b[38;5;34m371\u001b[0m (1.45 KB)\n"
            ],
            "text/html": [
              "<pre style=\"white-space:pre;overflow-x:auto;line-height:normal;font-family:Menlo,'DejaVu Sans Mono',consolas,'Courier New',monospace\"><span style=\"font-weight: bold\"> Trainable params: </span><span style=\"color: #00af00; text-decoration-color: #00af00\">371</span> (1.45 KB)\n",
              "</pre>\n"
            ]
          },
          "metadata": {}
        },
        {
          "output_type": "display_data",
          "data": {
            "text/plain": [
              "\u001b[1m Non-trainable params: \u001b[0m\u001b[38;5;34m0\u001b[0m (0.00 B)\n"
            ],
            "text/html": [
              "<pre style=\"white-space:pre;overflow-x:auto;line-height:normal;font-family:Menlo,'DejaVu Sans Mono',consolas,'Courier New',monospace\"><span style=\"font-weight: bold\"> Non-trainable params: </span><span style=\"color: #00af00; text-decoration-color: #00af00\">0</span> (0.00 B)\n",
              "</pre>\n"
            ]
          },
          "metadata": {}
        }
      ]
    },
    {
      "cell_type": "code",
      "source": [
        "model.get_weights()"
      ],
      "metadata": {
        "colab": {
          "base_uri": "https://localhost:8080/"
        },
        "id": "RCLSf_FhstAE",
        "outputId": "9fc6291e-3783-4553-cbd5-752c8bb0544a"
      },
      "execution_count": 18,
      "outputs": [
        {
          "output_type": "execute_result",
          "data": {
            "text/plain": [
              "[array([[ 0.77244216,  0.1297217 , -0.00551099, -0.3480987 , -0.23249196,\n",
              "         -0.6803866 ,  0.18284434, -0.5875591 , -0.78375006, -0.41276166],\n",
              "        [ 0.07894839,  0.22706719, -0.261188  ,  0.41585657,  0.42229906,\n",
              "          0.18806265, -0.43700433, -0.39646354, -0.572477  ,  0.29575524]],\n",
              "       dtype=float32),\n",
              " array([0., 0., 0., 0., 0., 0., 0., 0., 0., 0.], dtype=float32),\n",
              " array([[-3.6368829e-01, -2.4538749e-01, -1.1861687e-01, -4.0136907e-01,\n",
              "         -2.4857956e-01,  2.5721440e-01,  3.8172907e-01, -4.2547134e-01,\n",
              "          3.8416368e-01,  2.1226391e-01],\n",
              "        [-3.9085090e-01,  4.6466136e-01, -2.0706396e-01, -4.8814344e-01,\n",
              "         -3.9820790e-01, -2.0171942e-01,  1.6728050e-01,  3.9895511e-01,\n",
              "          1.2218512e-01, -3.1355923e-01],\n",
              "        [-3.6967322e-01, -1.5777652e-01,  1.2959352e-02,  1.6290379e-01,\n",
              "          5.6956619e-01, -4.9525768e-01,  9.8780938e-04,  6.6842979e-01,\n",
              "         -1.3602930e-01,  5.5882478e-01],\n",
              "        [ 2.9804417e-01, -4.3799445e-01,  2.1213364e-02,  3.9806631e-01,\n",
              "          3.5305239e-02, -2.8460184e-01,  6.8112358e-02,  3.1597224e-01,\n",
              "         -2.0143166e-01, -1.2557644e-01],\n",
              "        [ 3.6231756e-02, -2.4471797e-01, -4.3174133e-01,  4.2815173e-01,\n",
              "         -1.4261061e-01, -5.4247493e-01,  1.4554711e-01, -4.0761504e-01,\n",
              "          1.8154533e-01, -3.3583056e-02],\n",
              "        [-8.3448142e-03,  5.6006575e-01,  1.0746867e-01, -9.3467563e-02,\n",
              "          5.9576005e-01, -9.8861344e-02,  7.8258291e-02, -8.0046080e-02,\n",
              "          1.9575195e-01,  5.0027770e-01],\n",
              "        [-3.7821400e-01, -2.7762428e-01, -4.8938096e-01, -4.1927677e-01,\n",
              "         -1.2502743e-01, -2.1433678e-01, -4.7646262e-02,  3.1474108e-01,\n",
              "          2.4666788e-01,  1.9026183e-01],\n",
              "        [-4.4782105e-04,  2.4039823e-01,  6.3288307e-01, -3.1144163e-01,\n",
              "          9.7776063e-02,  1.3399913e-05,  6.7344034e-01, -3.8358086e-01,\n",
              "         -2.1064289e-01,  6.1501175e-01],\n",
              "        [-5.1058310e-01,  6.0136932e-01, -8.7032691e-02,  5.9274560e-01,\n",
              "         -2.7487525e-01,  7.3782980e-02, -5.1699337e-02, -4.6898431e-01,\n",
              "          4.0700322e-01, -1.5086588e-01],\n",
              "        [ 7.4371107e-02, -1.9068827e-01, -5.4351979e-01,  4.8574865e-01,\n",
              "         -4.7130951e-01, -4.8770237e-01,  5.4391537e-02,  2.2818263e-01,\n",
              "          1.4151709e-01,  3.8325778e-01]], dtype=float32),\n",
              " array([0., 0., 0., 0., 0., 0., 0., 0., 0., 0.], dtype=float32),\n",
              " array([[-0.28410244, -0.32081333, -0.17764996, -0.66519684, -0.38633013,\n",
              "          0.48428053, -0.4957    , -0.15736684, -0.05213864,  0.61858183],\n",
              "        [ 0.32795322, -0.00279229, -0.20254092, -0.05927293, -0.13273688,\n",
              "         -0.08929393,  0.5575861 ,  0.02079054, -0.23631671, -0.4034693 ],\n",
              "        [-0.6218406 , -0.38607115, -0.2366786 ,  0.1771682 ,  0.19521569,\n",
              "         -0.17055531,  0.17024091, -0.42698866, -0.57976556, -0.09325669],\n",
              "        [-0.24294697, -0.19149773, -0.5452807 ,  0.09865825, -0.28249204,\n",
              "         -0.14804006, -0.02717998, -0.2501654 , -0.07595234, -0.14523083],\n",
              "        [ 0.01233374, -0.06633273,  0.30433413,  0.47649977,  0.0056264 ,\n",
              "         -0.34439167,  0.47477   , -0.05000507,  0.12232787, -0.39427826],\n",
              "        [-0.07161245, -0.14403053,  0.11756108,  0.60625523, -0.27313262,\n",
              "         -0.12331052, -0.22586188,  0.1852244 , -0.6086554 , -0.36863628],\n",
              "        [-0.61919343, -0.02496842, -0.16133206, -0.43010366, -0.18944752,\n",
              "          0.2172441 , -0.3040518 , -0.15570134, -0.32907054, -0.5659524 ],\n",
              "        [ 0.15046746,  0.45047036,  0.20074013,  0.21622698,  0.34352374,\n",
              "         -0.5246743 ,  0.5122736 ,  0.59469914, -0.05469068, -0.26016802],\n",
              "        [ 0.02401219,  0.6870602 , -0.5104301 ,  0.04621682, -0.13263297,\n",
              "         -0.31838894, -0.44525614, -0.19790532, -0.03323359,  0.19385666],\n",
              "        [-0.14089234, -0.32837206,  0.44520673, -0.32583848, -0.47024488,\n",
              "         -0.07306516,  0.16006872, -0.5228854 ,  0.09627584,  0.2619559 ]],\n",
              "       dtype=float32),\n",
              " array([0., 0., 0., 0., 0., 0., 0., 0., 0., 0.], dtype=float32),\n",
              " array([[-0.48394763,  0.6336833 , -0.5915102 , -0.1704464 , -0.24599607,\n",
              "          0.02336332,  0.34399587, -0.07599282,  0.31961057, -0.667243  ],\n",
              "        [ 0.26422495, -0.06054564,  0.07693999,  0.30603716, -0.1428926 ,\n",
              "         -0.17442611, -0.14689916, -0.39040214, -0.43395922,  0.10296553],\n",
              "        [ 0.38572663, -0.42288023,  0.21658717, -0.19614573,  0.04102835,\n",
              "          0.18022054,  0.34461704,  0.03201237,  0.0708777 , -0.05492959],\n",
              "        [-0.36119425, -0.33758384, -0.19402054, -0.37276682, -0.33323085,\n",
              "          0.0470995 ,  0.04863237, -0.15737751, -0.01046548, -0.02420666],\n",
              "        [ 0.29190165, -0.6526982 ,  0.02684814,  0.43346375,  0.22741757,\n",
              "         -0.5113391 ,  0.07863279,  0.1135016 , -0.16148475, -0.57338494],\n",
              "        [-0.20129699,  0.17623593, -0.2672542 , -0.13410944,  0.09023697,\n",
              "         -0.26544863, -0.13916303,  0.25287434,  0.19881324, -0.15146266],\n",
              "        [ 0.4301744 ,  0.18353675,  0.6774643 ,  0.14891243,  0.21621172,\n",
              "         -0.16189657, -0.5947795 , -0.38880125, -0.21417251,  0.17001377],\n",
              "        [ 0.02259113,  0.22940898,  0.17246462,  0.20967183,  0.1619854 ,\n",
              "         -0.04066022,  0.3167099 ,  0.00552282,  0.04262595, -0.49715453],\n",
              "        [ 0.24561016,  0.10242568,  0.62430924,  0.19115092,  0.030856  ,\n",
              "          0.2273617 , -0.46406594, -0.49456662,  0.6602564 , -0.21848734],\n",
              "        [ 0.01442339,  0.08081187,  0.49764588,  0.11544942,  0.39529797,\n",
              "         -0.5690154 , -0.1892396 , -0.00221486, -0.33997875, -0.45925483]],\n",
              "       dtype=float32),\n",
              " array([0., 0., 0., 0., 0., 0., 0., 0., 0., 0.], dtype=float32),\n",
              " array([[-0.73578036],\n",
              "        [-0.35604337],\n",
              "        [ 0.1998905 ],\n",
              "        [-0.03694659],\n",
              "        [ 0.5309308 ],\n",
              "        [-0.63732487],\n",
              "        [ 0.7241604 ],\n",
              "        [ 0.6669747 ],\n",
              "        [ 0.05143762],\n",
              "        [-0.53812915]], dtype=float32),\n",
              " array([0.], dtype=float32)]"
            ]
          },
          "metadata": {},
          "execution_count": 18
        }
      ]
    },
    {
      "cell_type": "code",
      "source": [
        "ini_weight=model.get_weights()"
      ],
      "metadata": {
        "id": "9bzWcTTSstCx"
      },
      "execution_count": 19,
      "outputs": []
    },
    {
      "cell_type": "code",
      "source": [
        "ini_weight[0]=np.random.randn(2,10)*np.sqrt(1/2)\n",
        "ini_weight[1]=np.zeros(model.get_weights()[1].shape)\n",
        "ini_weight[2]=np.random.randn(10,10)*np.sqrt(1/2)\n",
        "ini_weight[3]=np.zeros(model.get_weights()[3].shape)\n",
        "ini_weight[4]=np.random.randn(10,10)*np.sqrt(1/2)\n",
        "ini_weight[5]=np.zeros(model.get_weights()[5].shape)\n",
        "ini_weight[6]=np.random.randn(10,10)*np.sqrt(1/2)\n",
        "ini_weight[7]=np.zeros(model.get_weights()[7].shape)\n",
        "ini_weight[8]=np.random.randn(10,1)*np.sqrt(1/2)\n",
        "ini_weight[9]=np.zeros(model.get_weights()[9].shape)"
      ],
      "metadata": {
        "id": "Wg6jfTd4stF7"
      },
      "execution_count": 21,
      "outputs": []
    },
    {
      "cell_type": "code",
      "source": [
        "model.set_weights(ini_weight)"
      ],
      "metadata": {
        "id": "2SUBf-rkstIg"
      },
      "execution_count": 22,
      "outputs": []
    },
    {
      "cell_type": "code",
      "source": [
        "model.get_weights()"
      ],
      "metadata": {
        "colab": {
          "base_uri": "https://localhost:8080/"
        },
        "id": "2Y9ERQhqstLr",
        "outputId": "90f10cc0-269d-4470-b71f-69eba41692c0"
      },
      "execution_count": 23,
      "outputs": [
        {
          "output_type": "execute_result",
          "data": {
            "text/plain": [
              "[array([[ 1.160709  ,  0.37201506, -1.6755414 ,  1.3364861 ,  0.03866322,\n",
              "         -0.58316714, -0.67118055,  0.44430748,  0.9391648 ,  0.66833526],\n",
              "        [ 0.3048071 , -0.54497504, -0.16253991, -0.07420593,  0.31382817,\n",
              "          0.8446759 ,  0.08161522, -0.17802465,  0.29955068,  0.6752249 ]],\n",
              "       dtype=float32),\n",
              " array([0., 0., 0., 0., 0., 0., 0., 0., 0., 0.], dtype=float32),\n",
              " array([[ 0.00805691,  0.54675025,  0.215146  , -0.0668711 , -1.2918705 ,\n",
              "          0.31449673,  0.7707559 ,  0.47528443, -0.12713179, -0.3650852 ],\n",
              "        [-0.33148724, -0.8738341 ,  0.6364448 , -0.15777594, -0.8670592 ,\n",
              "         -0.388173  ,  0.4696843 , -0.52289903, -0.5867958 , -0.08551904],\n",
              "        [-0.5735155 , -0.12738293, -0.4259436 , -0.56306905, -0.28510168,\n",
              "         -0.58842397,  0.6854059 ,  1.0131221 ,  0.31062523, -0.04257281],\n",
              "        [-0.71037614,  0.39231998,  0.7652194 , -0.71084654,  0.08475301,\n",
              "          0.672062  , -0.56357515,  0.7745815 ,  0.6083197 ,  1.8562851 ],\n",
              "        [ 1.1605678 , -0.31481132,  0.29709545, -0.47181085,  0.29230168,\n",
              "          1.1870614 ,  0.09470706, -0.18193904, -0.49193624, -0.7584085 ],\n",
              "        [-0.04751793,  0.12372331, -0.3322987 , -0.35083613,  0.9832569 ,\n",
              "         -0.63829356,  0.40104008,  0.61809653,  0.26735628,  0.34362447],\n",
              "        [-0.09920875,  0.21969233,  0.16953489, -0.2995851 , -0.09475449,\n",
              "         -0.00392917,  0.32720485, -0.5772648 ,  1.0680649 , -1.1862491 ],\n",
              "        [-0.4875797 ,  1.3724641 ,  0.34853086, -1.6352814 , -0.271986  ,\n",
              "          0.28323805,  0.0972996 ,  0.09270416,  0.63955563, -0.0784955 ],\n",
              "        [-0.00976962, -0.00728559, -0.23201066,  1.2191169 , -0.50714236,\n",
              "          0.84271026,  0.23549886, -0.26078227, -0.12094133,  0.11892939],\n",
              "        [ 0.67755514,  0.42737302,  0.62152886,  0.9125206 , -0.3464487 ,\n",
              "         -0.9459014 , -0.8292623 , -1.9617709 ,  0.77634037,  0.3051088 ]],\n",
              "       dtype=float32),\n",
              " array([0., 0., 0., 0., 0., 0., 0., 0., 0., 0.], dtype=float32),\n",
              " array([[-3.8658777e-01,  6.0964298e-01,  2.1496940e-01, -8.0836844e-01,\n",
              "          8.5631287e-01,  2.1921445e-01,  2.0845650e-01, -2.0113914e-01,\n",
              "         -4.4895053e-01, -1.7915903e-01],\n",
              "        [ 6.8559453e-02, -8.9234367e-02,  8.6838019e-01,  1.2923566e+00,\n",
              "         -8.8381112e-01,  2.9606232e-01, -8.2396168e-01, -5.8124427e-02,\n",
              "          4.0447527e-01, -1.0858469e-01],\n",
              "        [ 1.7236726e+00, -9.6815252e-01, -2.3379568e-02, -2.2939214e-01,\n",
              "          9.1110349e-01, -7.5244141e-01,  4.4462332e-01, -1.8948585e-01,\n",
              "         -1.6292182e+00,  1.3863428e+00],\n",
              "        [ 3.0904460e-01,  1.2964463e+00,  1.8094553e-01, -1.9657059e+00,\n",
              "         -2.9746467e-02,  2.8984016e-01, -9.1221058e-01,  3.5991362e-01,\n",
              "          3.9644960e-01, -5.5001670e-01],\n",
              "        [ 7.9498661e-01, -6.8687305e-02,  1.2441565e-01,  6.6179252e-01,\n",
              "          2.9874533e-01,  2.3470658e-01, -1.3533363e+00,  1.5274531e+00,\n",
              "          1.2166296e+00,  3.3748884e-02],\n",
              "        [-9.5696139e-01, -1.0270491e+00,  9.5621668e-02,  2.8574201e-01,\n",
              "          2.5271904e-01,  5.2679211e-01,  2.3464940e-02, -7.7525008e-01,\n",
              "          6.3587469e-01,  8.1905305e-01],\n",
              "        [ 1.4917175e+00, -4.8571745e-01, -1.1892757e+00,  1.9977209e-01,\n",
              "         -1.4197262e-01,  3.8727054e-01, -5.6442356e-01, -1.5056677e-02,\n",
              "         -4.5154297e-01,  4.7766009e-01],\n",
              "        [-4.1341698e-01, -5.3257209e-01,  3.2546937e-01, -7.7840203e-01,\n",
              "         -3.6465970e-01, -3.9227957e-01, -1.8954332e-03,  1.5140679e+00,\n",
              "         -2.8065425e-01,  1.7020580e-01],\n",
              "        [ 1.1494907e+00,  1.5292700e-01,  1.1546171e+00, -5.7943875e-01,\n",
              "         -9.0472668e-02, -9.6200073e-01,  4.3357816e-01, -5.3994012e-01,\n",
              "          2.1796229e-01,  2.5251058e-01],\n",
              "        [-8.6179036e-01, -9.7609580e-02, -9.4552451e-01, -1.5501437e-01,\n",
              "         -1.0043305e+00, -1.8243564e-02, -2.9800084e-01,  1.7554725e+00,\n",
              "         -2.3969103e-01,  2.5150787e-02]], dtype=float32),\n",
              " array([0., 0., 0., 0., 0., 0., 0., 0., 0., 0.], dtype=float32),\n",
              " array([[ 8.4597564e-01,  1.0133712e+00, -1.2135135e-01,  1.1512097e+00,\n",
              "          2.7364635e-01, -3.9137438e-01,  9.5349717e-01,  3.4191731e-01,\n",
              "         -3.9916641e-01, -9.4171003e-02],\n",
              "        [ 6.4108491e-01,  1.4246908e+00,  8.4637898e-01,  5.6845313e-01,\n",
              "          2.5674310e-01,  4.8611350e-02, -7.9999721e-01, -5.2502978e-01,\n",
              "          1.2159556e+00,  4.6264046e-01],\n",
              "        [ 1.1582620e+00, -5.8984268e-02, -2.3245940e-01, -1.0924127e+00,\n",
              "          1.4621623e-01,  8.4643014e-02,  8.0077732e-01,  2.2222607e-01,\n",
              "         -4.9571767e-01,  4.9680781e-01],\n",
              "        [-7.4990118e-01, -8.4753376e-01,  9.3911457e-01,  3.3553126e-01,\n",
              "         -3.2251772e-01, -1.1336006e+00, -1.1464729e+00,  4.3164194e-01,\n",
              "         -1.3195025e-04, -8.6572945e-01],\n",
              "        [-1.2989504e+00,  1.1091491e-01, -3.0321053e-01, -3.1315438e-02,\n",
              "         -3.0029511e-01, -1.0588665e+00, -2.2534254e+00,  4.7981668e-01,\n",
              "         -2.6726197e-02,  5.3135157e-01],\n",
              "        [ 3.7683532e-01,  9.7860324e-01, -5.4699177e-01,  1.0770380e+00,\n",
              "          5.9865797e-01,  8.5066408e-01, -5.5775559e-01, -4.2059368e-01,\n",
              "         -1.3400242e+00,  4.2310804e-01],\n",
              "        [-8.3847487e-01,  2.2337332e-01,  1.1284304e+00, -5.5300659e-01,\n",
              "         -1.0699202e+00,  9.2114580e-01,  3.4481254e-01, -9.0444052e-01,\n",
              "         -9.4936305e-01,  1.9374602e-01],\n",
              "        [-1.7036499e-01, -7.5194582e-02, -1.4601579e-01, -1.4772767e+00,\n",
              "          5.7427931e-01,  7.9976402e-02,  6.5158141e-01, -1.1814425e+00,\n",
              "          1.9580133e-01,  1.0614101e+00],\n",
              "        [ 8.1799346e-01, -1.0252295e+00, -2.7594465e-01,  3.5227984e-01,\n",
              "          6.3972896e-01, -8.5964136e-02, -1.4711375e+00,  4.2167065e-01,\n",
              "          9.1889656e-01,  6.1342877e-01],\n",
              "        [ 6.2853433e-02,  1.6217792e-01, -2.6177955e-01,  6.7654246e-01,\n",
              "         -3.9675710e-01, -5.1818317e-01,  8.4154466e-03,  9.5228052e-01,\n",
              "         -7.0716429e-01, -1.5381178e+00]], dtype=float32),\n",
              " array([0., 0., 0., 0., 0., 0., 0., 0., 0., 0.], dtype=float32),\n",
              " array([[-1.4667388 ],\n",
              "        [ 0.9169048 ],\n",
              "        [ 0.71579796],\n",
              "        [ 0.19280876],\n",
              "        [-0.2526112 ],\n",
              "        [ 0.37397113],\n",
              "        [ 0.86329603],\n",
              "        [-0.3870927 ],\n",
              "        [ 0.04627669],\n",
              "        [ 0.6043794 ]], dtype=float32),\n",
              " array([0.], dtype=float32)]"
            ]
          },
          "metadata": {},
          "execution_count": 23
        }
      ]
    },
    {
      "cell_type": "code",
      "source": [
        "model.compile(loss='binary_crossentropy',optimizer='adam',metrics=['accuracy'])\n",
        "history=model.fit(X,y,epochs=100,validation_split=0.2)"
      ],
      "metadata": {
        "colab": {
          "base_uri": "https://localhost:8080/"
        },
        "collapsed": true,
        "id": "lbophMo2stOW",
        "outputId": "2f2d16b3-ee26-40a0-a9ff-07f84cd110fd"
      },
      "execution_count": 25,
      "outputs": [
        {
          "output_type": "stream",
          "name": "stdout",
          "text": [
            "Epoch 1/100\n",
            "\u001b[1m3/3\u001b[0m \u001b[32m━━━━━━━━━━━━━━━━━━━━\u001b[0m\u001b[37m\u001b[0m \u001b[1m4s\u001b[0m 546ms/step - accuracy: 0.7045 - loss: 0.5465 - val_accuracy: 0.8500 - val_loss: 0.3617\n",
            "Epoch 2/100\n",
            "\u001b[1m3/3\u001b[0m \u001b[32m━━━━━━━━━━━━━━━━━━━━\u001b[0m\u001b[37m\u001b[0m \u001b[1m0s\u001b[0m 21ms/step - accuracy: 0.7523 - loss: 0.4816 - val_accuracy: 0.8500 - val_loss: 0.3538\n",
            "Epoch 3/100\n",
            "\u001b[1m3/3\u001b[0m \u001b[32m━━━━━━━━━━━━━━━━━━━━\u001b[0m\u001b[37m\u001b[0m \u001b[1m0s\u001b[0m 15ms/step - accuracy: 0.7767 - loss: 0.4669 - val_accuracy: 0.8500 - val_loss: 0.3513\n",
            "Epoch 4/100\n",
            "\u001b[1m3/3\u001b[0m \u001b[32m━━━━━━━━━━━━━━━━━━━━\u001b[0m\u001b[37m\u001b[0m \u001b[1m0s\u001b[0m 15ms/step - accuracy: 0.7923 - loss: 0.4442 - val_accuracy: 0.8500 - val_loss: 0.3496\n",
            "Epoch 5/100\n",
            "\u001b[1m3/3\u001b[0m \u001b[32m━━━━━━━━━━━━━━━━━━━━\u001b[0m\u001b[37m\u001b[0m \u001b[1m0s\u001b[0m 13ms/step - accuracy: 0.7908 - loss: 0.4376 - val_accuracy: 0.8500 - val_loss: 0.3480\n",
            "Epoch 6/100\n",
            "\u001b[1m3/3\u001b[0m \u001b[32m━━━━━━━━━━━━━━━━━━━━\u001b[0m\u001b[37m\u001b[0m \u001b[1m0s\u001b[0m 16ms/step - accuracy: 0.7894 - loss: 0.4566 - val_accuracy: 0.8500 - val_loss: 0.3449\n",
            "Epoch 7/100\n",
            "\u001b[1m3/3\u001b[0m \u001b[32m━━━━━━━━━━━━━━━━━━━━\u001b[0m\u001b[37m\u001b[0m \u001b[1m0s\u001b[0m 15ms/step - accuracy: 0.8098 - loss: 0.4442 - val_accuracy: 0.9000 - val_loss: 0.3385\n",
            "Epoch 8/100\n",
            "\u001b[1m3/3\u001b[0m \u001b[32m━━━━━━━━━━━━━━━━━━━━\u001b[0m\u001b[37m\u001b[0m \u001b[1m0s\u001b[0m 14ms/step - accuracy: 0.8215 - loss: 0.4225 - val_accuracy: 0.9000 - val_loss: 0.3277\n",
            "Epoch 9/100\n",
            "\u001b[1m3/3\u001b[0m \u001b[32m━━━━━━━━━━━━━━━━━━━━\u001b[0m\u001b[37m\u001b[0m \u001b[1m0s\u001b[0m 16ms/step - accuracy: 0.8020 - loss: 0.4340 - val_accuracy: 0.9000 - val_loss: 0.3186\n",
            "Epoch 10/100\n",
            "\u001b[1m3/3\u001b[0m \u001b[32m━━━━━━━━━━━━━━━━━━━━\u001b[0m\u001b[37m\u001b[0m \u001b[1m0s\u001b[0m 14ms/step - accuracy: 0.8357 - loss: 0.4115 - val_accuracy: 0.9000 - val_loss: 0.3110\n",
            "Epoch 11/100\n",
            "\u001b[1m3/3\u001b[0m \u001b[32m━━━━━━━━━━━━━━━━━━━━\u001b[0m\u001b[37m\u001b[0m \u001b[1m0s\u001b[0m 14ms/step - accuracy: 0.8225 - loss: 0.4242 - val_accuracy: 0.9000 - val_loss: 0.3034\n",
            "Epoch 12/100\n",
            "\u001b[1m3/3\u001b[0m \u001b[32m━━━━━━━━━━━━━━━━━━━━\u001b[0m\u001b[37m\u001b[0m \u001b[1m0s\u001b[0m 16ms/step - accuracy: 0.8201 - loss: 0.4046 - val_accuracy: 0.9000 - val_loss: 0.2956\n",
            "Epoch 13/100\n",
            "\u001b[1m3/3\u001b[0m \u001b[32m━━━━━━━━━━━━━━━━━━━━\u001b[0m\u001b[37m\u001b[0m \u001b[1m0s\u001b[0m 16ms/step - accuracy: 0.8498 - loss: 0.3768 - val_accuracy: 0.9000 - val_loss: 0.2886\n",
            "Epoch 14/100\n",
            "\u001b[1m3/3\u001b[0m \u001b[32m━━━━━━━━━━━━━━━━━━━━\u001b[0m\u001b[37m\u001b[0m \u001b[1m0s\u001b[0m 15ms/step - accuracy: 0.8264 - loss: 0.3992 - val_accuracy: 0.9000 - val_loss: 0.2826\n",
            "Epoch 15/100\n",
            "\u001b[1m3/3\u001b[0m \u001b[32m━━━━━━━━━━━━━━━━━━━━\u001b[0m\u001b[37m\u001b[0m \u001b[1m0s\u001b[0m 16ms/step - accuracy: 0.8303 - loss: 0.3803 - val_accuracy: 0.9000 - val_loss: 0.2767\n",
            "Epoch 16/100\n",
            "\u001b[1m3/3\u001b[0m \u001b[32m━━━━━━━━━━━━━━━━━━━━\u001b[0m\u001b[37m\u001b[0m \u001b[1m0s\u001b[0m 18ms/step - accuracy: 0.8576 - loss: 0.3567 - val_accuracy: 0.9000 - val_loss: 0.2716\n",
            "Epoch 17/100\n",
            "\u001b[1m3/3\u001b[0m \u001b[32m━━━━━━━━━━━━━━━━━━━━\u001b[0m\u001b[37m\u001b[0m \u001b[1m0s\u001b[0m 25ms/step - accuracy: 0.8459 - loss: 0.3575 - val_accuracy: 0.9000 - val_loss: 0.2674\n",
            "Epoch 18/100\n",
            "\u001b[1m3/3\u001b[0m \u001b[32m━━━━━━━━━━━━━━━━━━━━\u001b[0m\u001b[37m\u001b[0m \u001b[1m0s\u001b[0m 32ms/step - accuracy: 0.8264 - loss: 0.3775 - val_accuracy: 0.9000 - val_loss: 0.2641\n",
            "Epoch 19/100\n",
            "\u001b[1m3/3\u001b[0m \u001b[32m━━━━━━━━━━━━━━━━━━━━\u001b[0m\u001b[37m\u001b[0m \u001b[1m0s\u001b[0m 30ms/step - accuracy: 0.8420 - loss: 0.3518 - val_accuracy: 0.9500 - val_loss: 0.2607\n",
            "Epoch 20/100\n",
            "\u001b[1m3/3\u001b[0m \u001b[32m━━━━━━━━━━━━━━━━━━━━\u001b[0m\u001b[37m\u001b[0m \u001b[1m0s\u001b[0m 30ms/step - accuracy: 0.8381 - loss: 0.3575 - val_accuracy: 0.9500 - val_loss: 0.2577\n",
            "Epoch 21/100\n",
            "\u001b[1m3/3\u001b[0m \u001b[32m━━━━━━━━━━━━━━━━━━━━\u001b[0m\u001b[37m\u001b[0m \u001b[1m0s\u001b[0m 22ms/step - accuracy: 0.8874 - loss: 0.3075 - val_accuracy: 0.9500 - val_loss: 0.2535\n",
            "Epoch 22/100\n",
            "\u001b[1m3/3\u001b[0m \u001b[32m━━━━━━━━━━━━━━━━━━━━\u001b[0m\u001b[37m\u001b[0m \u001b[1m0s\u001b[0m 21ms/step - accuracy: 0.8952 - loss: 0.3072 - val_accuracy: 1.0000 - val_loss: 0.2511\n",
            "Epoch 23/100\n",
            "\u001b[1m3/3\u001b[0m \u001b[32m━━━━━━━━━━━━━━━━━━━━\u001b[0m\u001b[37m\u001b[0m \u001b[1m0s\u001b[0m 19ms/step - accuracy: 0.8288 - loss: 0.3476 - val_accuracy: 1.0000 - val_loss: 0.2494\n",
            "Epoch 24/100\n",
            "\u001b[1m3/3\u001b[0m \u001b[32m━━━━━━━━━━━━━━━━━━━━\u001b[0m\u001b[37m\u001b[0m \u001b[1m0s\u001b[0m 20ms/step - accuracy: 0.8576 - loss: 0.3093 - val_accuracy: 1.0000 - val_loss: 0.2469\n",
            "Epoch 25/100\n",
            "\u001b[1m3/3\u001b[0m \u001b[32m━━━━━━━━━━━━━━━━━━━━\u001b[0m\u001b[37m\u001b[0m \u001b[1m0s\u001b[0m 29ms/step - accuracy: 0.8655 - loss: 0.3061 - val_accuracy: 1.0000 - val_loss: 0.2451\n",
            "Epoch 26/100\n",
            "\u001b[1m3/3\u001b[0m \u001b[32m━━━━━━━━━━━━━━━━━━━━\u001b[0m\u001b[37m\u001b[0m \u001b[1m0s\u001b[0m 21ms/step - accuracy: 0.8420 - loss: 0.3262 - val_accuracy: 1.0000 - val_loss: 0.2422\n",
            "Epoch 27/100\n",
            "\u001b[1m3/3\u001b[0m \u001b[32m━━━━━━━━━━━━━━━━━━━━\u001b[0m\u001b[37m\u001b[0m \u001b[1m0s\u001b[0m 31ms/step - accuracy: 0.8366 - loss: 0.3410 - val_accuracy: 1.0000 - val_loss: 0.2384\n",
            "Epoch 28/100\n",
            "\u001b[1m3/3\u001b[0m \u001b[32m━━━━━━━━━━━━━━━━━━━━\u001b[0m\u001b[37m\u001b[0m \u001b[1m0s\u001b[0m 23ms/step - accuracy: 0.8210 - loss: 0.3254 - val_accuracy: 1.0000 - val_loss: 0.2336\n",
            "Epoch 29/100\n",
            "\u001b[1m3/3\u001b[0m \u001b[32m━━━━━━━━━━━━━━━━━━━━\u001b[0m\u001b[37m\u001b[0m \u001b[1m0s\u001b[0m 33ms/step - accuracy: 0.9030 - loss: 0.2658 - val_accuracy: 1.0000 - val_loss: 0.2284\n",
            "Epoch 30/100\n",
            "\u001b[1m3/3\u001b[0m \u001b[32m━━━━━━━━━━━━━━━━━━━━\u001b[0m\u001b[37m\u001b[0m \u001b[1m0s\u001b[0m 34ms/step - accuracy: 0.8913 - loss: 0.2746 - val_accuracy: 1.0000 - val_loss: 0.2241\n",
            "Epoch 31/100\n",
            "\u001b[1m3/3\u001b[0m \u001b[32m━━━━━━━━━━━━━━━━━━━━\u001b[0m\u001b[37m\u001b[0m \u001b[1m0s\u001b[0m 31ms/step - accuracy: 0.8640 - loss: 0.2785 - val_accuracy: 1.0000 - val_loss: 0.2216\n",
            "Epoch 32/100\n",
            "\u001b[1m3/3\u001b[0m \u001b[32m━━━━━━━━━━━━━━━━━━━━\u001b[0m\u001b[37m\u001b[0m \u001b[1m0s\u001b[0m 27ms/step - accuracy: 0.8796 - loss: 0.2776 - val_accuracy: 1.0000 - val_loss: 0.2211\n",
            "Epoch 33/100\n",
            "\u001b[1m3/3\u001b[0m \u001b[32m━━━━━━━━━━━━━━━━━━━━\u001b[0m\u001b[37m\u001b[0m \u001b[1m0s\u001b[0m 36ms/step - accuracy: 0.8937 - loss: 0.2824 - val_accuracy: 1.0000 - val_loss: 0.2214\n",
            "Epoch 34/100\n",
            "\u001b[1m3/3\u001b[0m \u001b[32m━━━━━━━━━━━━━━━━━━━━\u001b[0m\u001b[37m\u001b[0m \u001b[1m0s\u001b[0m 27ms/step - accuracy: 0.8766 - loss: 0.3129 - val_accuracy: 1.0000 - val_loss: 0.2200\n",
            "Epoch 35/100\n",
            "\u001b[1m3/3\u001b[0m \u001b[32m━━━━━━━━━━━━━━━━━━━━\u001b[0m\u001b[37m\u001b[0m \u001b[1m0s\u001b[0m 25ms/step - accuracy: 0.9001 - loss: 0.2658 - val_accuracy: 1.0000 - val_loss: 0.2164\n",
            "Epoch 36/100\n",
            "\u001b[1m3/3\u001b[0m \u001b[32m━━━━━━━━━━━━━━━━━━━━\u001b[0m\u001b[37m\u001b[0m \u001b[1m0s\u001b[0m 16ms/step - accuracy: 0.8884 - loss: 0.2650 - val_accuracy: 1.0000 - val_loss: 0.2132\n",
            "Epoch 37/100\n",
            "\u001b[1m3/3\u001b[0m \u001b[32m━━━━━━━━━━━━━━━━━━━━\u001b[0m\u001b[37m\u001b[0m \u001b[1m0s\u001b[0m 16ms/step - accuracy: 0.8727 - loss: 0.2900 - val_accuracy: 1.0000 - val_loss: 0.2106\n",
            "Epoch 38/100\n",
            "\u001b[1m3/3\u001b[0m \u001b[32m━━━━━━━━━━━━━━━━━━━━\u001b[0m\u001b[37m\u001b[0m \u001b[1m0s\u001b[0m 16ms/step - accuracy: 0.9079 - loss: 0.2728 - val_accuracy: 1.0000 - val_loss: 0.2059\n",
            "Epoch 39/100\n",
            "\u001b[1m3/3\u001b[0m \u001b[32m━━━━━━━━━━━━━━━━━━━━\u001b[0m\u001b[37m\u001b[0m \u001b[1m0s\u001b[0m 15ms/step - accuracy: 0.8844 - loss: 0.2812 - val_accuracy: 1.0000 - val_loss: 0.2010\n",
            "Epoch 40/100\n",
            "\u001b[1m3/3\u001b[0m \u001b[32m━━━━━━━━━━━━━━━━━━━━\u001b[0m\u001b[37m\u001b[0m \u001b[1m0s\u001b[0m 16ms/step - accuracy: 0.8844 - loss: 0.2704 - val_accuracy: 1.0000 - val_loss: 0.1962\n",
            "Epoch 41/100\n",
            "\u001b[1m3/3\u001b[0m \u001b[32m━━━━━━━━━━━━━━━━━━━━\u001b[0m\u001b[37m\u001b[0m \u001b[1m0s\u001b[0m 16ms/step - accuracy: 0.8869 - loss: 0.3013 - val_accuracy: 1.0000 - val_loss: 0.1925\n",
            "Epoch 42/100\n",
            "\u001b[1m3/3\u001b[0m \u001b[32m━━━━━━━━━━━━━━━━━━━━\u001b[0m\u001b[37m\u001b[0m \u001b[1m0s\u001b[0m 17ms/step - accuracy: 0.9103 - loss: 0.2603 - val_accuracy: 1.0000 - val_loss: 0.1889\n",
            "Epoch 43/100\n",
            "\u001b[1m3/3\u001b[0m \u001b[32m━━━━━━━━━━━━━━━━━━━━\u001b[0m\u001b[37m\u001b[0m \u001b[1m0s\u001b[0m 16ms/step - accuracy: 0.9259 - loss: 0.2304 - val_accuracy: 1.0000 - val_loss: 0.1869\n",
            "Epoch 44/100\n",
            "\u001b[1m3/3\u001b[0m \u001b[32m━━━━━━━━━━━━━━━━━━━━\u001b[0m\u001b[37m\u001b[0m \u001b[1m0s\u001b[0m 20ms/step - accuracy: 0.8947 - loss: 0.2665 - val_accuracy: 1.0000 - val_loss: 0.1858\n",
            "Epoch 45/100\n",
            "\u001b[1m3/3\u001b[0m \u001b[32m━━━━━━━━━━━━━━━━━━━━\u001b[0m\u001b[37m\u001b[0m \u001b[1m0s\u001b[0m 18ms/step - accuracy: 0.9220 - loss: 0.2296 - val_accuracy: 1.0000 - val_loss: 0.1838\n",
            "Epoch 46/100\n",
            "\u001b[1m3/3\u001b[0m \u001b[32m━━━━━━━━━━━━━━━━━━━━\u001b[0m\u001b[37m\u001b[0m \u001b[1m0s\u001b[0m 15ms/step - accuracy: 0.8830 - loss: 0.2739 - val_accuracy: 1.0000 - val_loss: 0.1855\n",
            "Epoch 47/100\n",
            "\u001b[1m3/3\u001b[0m \u001b[32m━━━━━━━━━━━━━━━━━━━━\u001b[0m\u001b[37m\u001b[0m \u001b[1m0s\u001b[0m 16ms/step - accuracy: 0.9244 - loss: 0.2419 - val_accuracy: 1.0000 - val_loss: 0.1847\n",
            "Epoch 48/100\n",
            "\u001b[1m3/3\u001b[0m \u001b[32m━━━━━━━━━━━━━━━━━━━━\u001b[0m\u001b[37m\u001b[0m \u001b[1m0s\u001b[0m 16ms/step - accuracy: 0.9166 - loss: 0.2566 - val_accuracy: 1.0000 - val_loss: 0.1827\n",
            "Epoch 49/100\n",
            "\u001b[1m3/3\u001b[0m \u001b[32m━━━━━━━━━━━━━━━━━━━━\u001b[0m\u001b[37m\u001b[0m \u001b[1m0s\u001b[0m 15ms/step - accuracy: 0.9205 - loss: 0.2401 - val_accuracy: 1.0000 - val_loss: 0.1793\n",
            "Epoch 50/100\n",
            "\u001b[1m3/3\u001b[0m \u001b[32m━━━━━━━━━━━━━━━━━━━━\u001b[0m\u001b[37m\u001b[0m \u001b[1m0s\u001b[0m 16ms/step - accuracy: 0.8971 - loss: 0.2766 - val_accuracy: 1.0000 - val_loss: 0.1769\n",
            "Epoch 51/100\n",
            "\u001b[1m3/3\u001b[0m \u001b[32m━━━━━━━━━━━━━━━━━━━━\u001b[0m\u001b[37m\u001b[0m \u001b[1m0s\u001b[0m 17ms/step - accuracy: 0.9205 - loss: 0.2448 - val_accuracy: 1.0000 - val_loss: 0.1722\n",
            "Epoch 52/100\n",
            "\u001b[1m3/3\u001b[0m \u001b[32m━━━━━━━━━━━━━━━━━━━━\u001b[0m\u001b[37m\u001b[0m \u001b[1m0s\u001b[0m 16ms/step - accuracy: 0.8971 - loss: 0.2653 - val_accuracy: 1.0000 - val_loss: 0.1708\n",
            "Epoch 53/100\n",
            "\u001b[1m3/3\u001b[0m \u001b[32m━━━━━━━━━━━━━━━━━━━━\u001b[0m\u001b[37m\u001b[0m \u001b[1m0s\u001b[0m 17ms/step - accuracy: 0.8971 - loss: 0.2487 - val_accuracy: 1.0000 - val_loss: 0.1683\n",
            "Epoch 54/100\n",
            "\u001b[1m3/3\u001b[0m \u001b[32m━━━━━━━━━━━━━━━━━━━━\u001b[0m\u001b[37m\u001b[0m \u001b[1m0s\u001b[0m 18ms/step - accuracy: 0.9073 - loss: 0.2530 - val_accuracy: 1.0000 - val_loss: 0.1657\n",
            "Epoch 55/100\n",
            "\u001b[1m3/3\u001b[0m \u001b[32m━━━━━━━━━━━━━━━━━━━━\u001b[0m\u001b[37m\u001b[0m \u001b[1m0s\u001b[0m 16ms/step - accuracy: 0.9425 - loss: 0.2121 - val_accuracy: 1.0000 - val_loss: 0.1628\n",
            "Epoch 56/100\n",
            "\u001b[1m3/3\u001b[0m \u001b[32m━━━━━━━━━━━━━━━━━━━━\u001b[0m\u001b[37m\u001b[0m \u001b[1m0s\u001b[0m 15ms/step - accuracy: 0.8971 - loss: 0.2449 - val_accuracy: 1.0000 - val_loss: 0.1632\n",
            "Epoch 57/100\n",
            "\u001b[1m3/3\u001b[0m \u001b[32m━━━━━━━━━━━━━━━━━━━━\u001b[0m\u001b[37m\u001b[0m \u001b[1m0s\u001b[0m 20ms/step - accuracy: 0.9269 - loss: 0.2235 - val_accuracy: 1.0000 - val_loss: 0.1627\n",
            "Epoch 58/100\n",
            "\u001b[1m3/3\u001b[0m \u001b[32m━━━━━━━━━━━━━━━━━━━━\u001b[0m\u001b[37m\u001b[0m \u001b[1m0s\u001b[0m 17ms/step - accuracy: 0.9230 - loss: 0.2385 - val_accuracy: 1.0000 - val_loss: 0.1619\n",
            "Epoch 59/100\n",
            "\u001b[1m3/3\u001b[0m \u001b[32m━━━━━━━━━━━━━━━━━━━━\u001b[0m\u001b[37m\u001b[0m \u001b[1m0s\u001b[0m 18ms/step - accuracy: 0.9386 - loss: 0.2164 - val_accuracy: 1.0000 - val_loss: 0.1587\n",
            "Epoch 60/100\n",
            "\u001b[1m3/3\u001b[0m \u001b[32m━━━━━━━━━━━━━━━━━━━━\u001b[0m\u001b[37m\u001b[0m \u001b[1m0s\u001b[0m 16ms/step - accuracy: 0.9112 - loss: 0.2331 - val_accuracy: 1.0000 - val_loss: 0.1570\n",
            "Epoch 61/100\n",
            "\u001b[1m3/3\u001b[0m \u001b[32m━━━━━━━━━━━━━━━━━━━━\u001b[0m\u001b[37m\u001b[0m \u001b[1m0s\u001b[0m 17ms/step - accuracy: 0.9230 - loss: 0.2248 - val_accuracy: 1.0000 - val_loss: 0.1576\n",
            "Epoch 62/100\n",
            "\u001b[1m3/3\u001b[0m \u001b[32m━━━━━━━━━━━━━━━━━━━━\u001b[0m\u001b[37m\u001b[0m \u001b[1m0s\u001b[0m 15ms/step - accuracy: 0.9112 - loss: 0.2499 - val_accuracy: 1.0000 - val_loss: 0.1600\n",
            "Epoch 63/100\n",
            "\u001b[1m3/3\u001b[0m \u001b[32m━━━━━━━━━━━━━━━━━━━━\u001b[0m\u001b[37m\u001b[0m \u001b[1m0s\u001b[0m 15ms/step - accuracy: 0.9230 - loss: 0.2289 - val_accuracy: 1.0000 - val_loss: 0.1593\n",
            "Epoch 64/100\n",
            "\u001b[1m3/3\u001b[0m \u001b[32m━━━━━━━━━━━━━━━━━━━━\u001b[0m\u001b[37m\u001b[0m \u001b[1m0s\u001b[0m 14ms/step - accuracy: 0.9308 - loss: 0.2181 - val_accuracy: 1.0000 - val_loss: 0.1564\n",
            "Epoch 65/100\n",
            "\u001b[1m3/3\u001b[0m \u001b[32m━━━━━━━━━━━━━━━━━━━━\u001b[0m\u001b[37m\u001b[0m \u001b[1m0s\u001b[0m 18ms/step - accuracy: 0.9230 - loss: 0.2266 - val_accuracy: 1.0000 - val_loss: 0.1550\n",
            "Epoch 66/100\n",
            "\u001b[1m3/3\u001b[0m \u001b[32m━━━━━━━━━━━━━━━━━━━━\u001b[0m\u001b[37m\u001b[0m \u001b[1m0s\u001b[0m 17ms/step - accuracy: 0.9347 - loss: 0.2099 - val_accuracy: 1.0000 - val_loss: 0.1495\n",
            "Epoch 67/100\n",
            "\u001b[1m3/3\u001b[0m \u001b[32m━━━━━━━━━━━━━━━━━━━━\u001b[0m\u001b[37m\u001b[0m \u001b[1m0s\u001b[0m 15ms/step - accuracy: 0.9073 - loss: 0.2445 - val_accuracy: 1.0000 - val_loss: 0.1454\n",
            "Epoch 68/100\n",
            "\u001b[1m3/3\u001b[0m \u001b[32m━━━━━━━━━━━━━━━━━━━━\u001b[0m\u001b[37m\u001b[0m \u001b[1m0s\u001b[0m 15ms/step - accuracy: 0.9347 - loss: 0.2091 - val_accuracy: 1.0000 - val_loss: 0.1416\n",
            "Epoch 69/100\n",
            "\u001b[1m3/3\u001b[0m \u001b[32m━━━━━━━━━━━━━━━━━━━━\u001b[0m\u001b[37m\u001b[0m \u001b[1m0s\u001b[0m 21ms/step - accuracy: 0.9073 - loss: 0.2385 - val_accuracy: 1.0000 - val_loss: 0.1407\n",
            "Epoch 70/100\n",
            "\u001b[1m3/3\u001b[0m \u001b[32m━━━━━━━━━━━━━━━━━━━━\u001b[0m\u001b[37m\u001b[0m \u001b[1m0s\u001b[0m 16ms/step - accuracy: 0.8917 - loss: 0.2513 - val_accuracy: 1.0000 - val_loss: 0.1411\n",
            "Epoch 71/100\n",
            "\u001b[1m3/3\u001b[0m \u001b[32m━━━━━━━━━━━━━━━━━━━━\u001b[0m\u001b[37m\u001b[0m \u001b[1m0s\u001b[0m 16ms/step - accuracy: 0.9552 - loss: 0.1997 - val_accuracy: 1.0000 - val_loss: 0.1397\n",
            "Epoch 72/100\n",
            "\u001b[1m3/3\u001b[0m \u001b[32m━━━━━━━━━━━━━━━━━━━━\u001b[0m\u001b[37m\u001b[0m \u001b[1m0s\u001b[0m 18ms/step - accuracy: 0.9356 - loss: 0.2390 - val_accuracy: 1.0000 - val_loss: 0.1406\n",
            "Epoch 73/100\n",
            "\u001b[1m3/3\u001b[0m \u001b[32m━━━━━━━━━━━━━━━━━━━━\u001b[0m\u001b[37m\u001b[0m \u001b[1m0s\u001b[0m 15ms/step - accuracy: 0.9591 - loss: 0.2090 - val_accuracy: 1.0000 - val_loss: 0.1392\n",
            "Epoch 74/100\n",
            "\u001b[1m3/3\u001b[0m \u001b[32m━━━━━━━━━━━━━━━━━━━━\u001b[0m\u001b[37m\u001b[0m \u001b[1m0s\u001b[0m 16ms/step - accuracy: 0.9434 - loss: 0.2260 - val_accuracy: 1.0000 - val_loss: 0.1395\n",
            "Epoch 75/100\n",
            "\u001b[1m3/3\u001b[0m \u001b[32m━━━━━━━━━━━━━━━━━━━━\u001b[0m\u001b[37m\u001b[0m \u001b[1m0s\u001b[0m 16ms/step - accuracy: 0.9473 - loss: 0.2119 - val_accuracy: 1.0000 - val_loss: 0.1380\n",
            "Epoch 76/100\n",
            "\u001b[1m3/3\u001b[0m \u001b[32m━━━━━━━━━━━━━━━━━━━━\u001b[0m\u001b[37m\u001b[0m \u001b[1m0s\u001b[0m 15ms/step - accuracy: 0.9434 - loss: 0.2331 - val_accuracy: 1.0000 - val_loss: 0.1366\n",
            "Epoch 77/100\n",
            "\u001b[1m3/3\u001b[0m \u001b[32m━━━━━━━━━━━━━━━━━━━━\u001b[0m\u001b[37m\u001b[0m \u001b[1m0s\u001b[0m 16ms/step - accuracy: 0.9473 - loss: 0.2214 - val_accuracy: 1.0000 - val_loss: 0.1345\n",
            "Epoch 78/100\n",
            "\u001b[1m3/3\u001b[0m \u001b[32m━━━━━━━━━━━━━━━━━━━━\u001b[0m\u001b[37m\u001b[0m \u001b[1m0s\u001b[0m 15ms/step - accuracy: 0.9552 - loss: 0.2016 - val_accuracy: 1.0000 - val_loss: 0.1333\n",
            "Epoch 79/100\n",
            "\u001b[1m3/3\u001b[0m \u001b[32m━━━━━━━━━━━━━━━━━━━━\u001b[0m\u001b[37m\u001b[0m \u001b[1m0s\u001b[0m 16ms/step - accuracy: 0.9630 - loss: 0.1868 - val_accuracy: 1.0000 - val_loss: 0.1328\n",
            "Epoch 80/100\n",
            "\u001b[1m3/3\u001b[0m \u001b[32m━━━━━━━━━━━━━━━━━━━━\u001b[0m\u001b[37m\u001b[0m \u001b[1m0s\u001b[0m 15ms/step - accuracy: 0.9512 - loss: 0.1941 - val_accuracy: 1.0000 - val_loss: 0.1342\n",
            "Epoch 81/100\n",
            "\u001b[1m3/3\u001b[0m \u001b[32m━━━━━━━━━━━━━━━━━━━━\u001b[0m\u001b[37m\u001b[0m \u001b[1m0s\u001b[0m 17ms/step - accuracy: 0.9473 - loss: 0.1994 - val_accuracy: 1.0000 - val_loss: 0.1322\n",
            "Epoch 82/100\n",
            "\u001b[1m3/3\u001b[0m \u001b[32m━━━━━━━━━━━━━━━━━━━━\u001b[0m\u001b[37m\u001b[0m \u001b[1m0s\u001b[0m 20ms/step - accuracy: 0.9473 - loss: 0.2092 - val_accuracy: 1.0000 - val_loss: 0.1344\n",
            "Epoch 83/100\n",
            "\u001b[1m3/3\u001b[0m \u001b[32m━━━━━━━━━━━━━━━━━━━━\u001b[0m\u001b[37m\u001b[0m \u001b[1m0s\u001b[0m 16ms/step - accuracy: 0.9512 - loss: 0.1880 - val_accuracy: 1.0000 - val_loss: 0.1343\n",
            "Epoch 84/100\n",
            "\u001b[1m3/3\u001b[0m \u001b[32m━━━━━━━━━━━━━━━━━━━━\u001b[0m\u001b[37m\u001b[0m \u001b[1m0s\u001b[0m 18ms/step - accuracy: 0.9434 - loss: 0.1992 - val_accuracy: 1.0000 - val_loss: 0.1336\n",
            "Epoch 85/100\n",
            "\u001b[1m3/3\u001b[0m \u001b[32m━━━━━━━━━━━━━━━━━━━━\u001b[0m\u001b[37m\u001b[0m \u001b[1m0s\u001b[0m 16ms/step - accuracy: 0.9512 - loss: 0.1776 - val_accuracy: 1.0000 - val_loss: 0.1289\n",
            "Epoch 86/100\n",
            "\u001b[1m3/3\u001b[0m \u001b[32m━━━━━━━━━━━━━━━━━━━━\u001b[0m\u001b[37m\u001b[0m \u001b[1m0s\u001b[0m 15ms/step - accuracy: 0.9552 - loss: 0.1841 - val_accuracy: 1.0000 - val_loss: 0.1251\n",
            "Epoch 87/100\n",
            "\u001b[1m3/3\u001b[0m \u001b[32m━━━━━━━━━━━━━━━━━━━━\u001b[0m\u001b[37m\u001b[0m \u001b[1m0s\u001b[0m 15ms/step - accuracy: 0.9630 - loss: 0.1732 - val_accuracy: 1.0000 - val_loss: 0.1222\n",
            "Epoch 88/100\n",
            "\u001b[1m3/3\u001b[0m \u001b[32m━━━━━━━━━━━━━━━━━━━━\u001b[0m\u001b[37m\u001b[0m \u001b[1m0s\u001b[0m 15ms/step - accuracy: 0.9434 - loss: 0.1975 - val_accuracy: 1.0000 - val_loss: 0.1199\n",
            "Epoch 89/100\n",
            "\u001b[1m3/3\u001b[0m \u001b[32m━━━━━━━━━━━━━━━━━━━━\u001b[0m\u001b[37m\u001b[0m \u001b[1m0s\u001b[0m 15ms/step - accuracy: 0.9512 - loss: 0.1868 - val_accuracy: 1.0000 - val_loss: 0.1186\n",
            "Epoch 90/100\n",
            "\u001b[1m3/3\u001b[0m \u001b[32m━━━━━━━━━━━━━━━━━━━━\u001b[0m\u001b[37m\u001b[0m \u001b[1m0s\u001b[0m 15ms/step - accuracy: 0.9434 - loss: 0.2082 - val_accuracy: 1.0000 - val_loss: 0.1167\n",
            "Epoch 91/100\n",
            "\u001b[1m3/3\u001b[0m \u001b[32m━━━━━━━━━━━━━━━━━━━━\u001b[0m\u001b[37m\u001b[0m \u001b[1m0s\u001b[0m 16ms/step - accuracy: 0.9512 - loss: 0.1966 - val_accuracy: 1.0000 - val_loss: 0.1147\n",
            "Epoch 92/100\n",
            "\u001b[1m3/3\u001b[0m \u001b[32m━━━━━━━━━━━━━━━━━━━━\u001b[0m\u001b[37m\u001b[0m \u001b[1m0s\u001b[0m 15ms/step - accuracy: 0.9512 - loss: 0.1921 - val_accuracy: 1.0000 - val_loss: 0.1122\n",
            "Epoch 93/100\n",
            "\u001b[1m3/3\u001b[0m \u001b[32m━━━━━━━━━━━━━━━━━━━━\u001b[0m\u001b[37m\u001b[0m \u001b[1m0s\u001b[0m 16ms/step - accuracy: 0.9434 - loss: 0.1979 - val_accuracy: 1.0000 - val_loss: 0.1117\n",
            "Epoch 94/100\n",
            "\u001b[1m3/3\u001b[0m \u001b[32m━━━━━━━━━━━━━━━━━━━━\u001b[0m\u001b[37m\u001b[0m \u001b[1m0s\u001b[0m 14ms/step - accuracy: 0.9630 - loss: 0.1757 - val_accuracy: 1.0000 - val_loss: 0.1091\n",
            "Epoch 95/100\n",
            "\u001b[1m3/3\u001b[0m \u001b[32m━━━━━━━━━━━━━━━━━━━━\u001b[0m\u001b[37m\u001b[0m \u001b[1m0s\u001b[0m 14ms/step - accuracy: 0.9512 - loss: 0.1737 - val_accuracy: 1.0000 - val_loss: 0.1081\n",
            "Epoch 96/100\n",
            "\u001b[1m3/3\u001b[0m \u001b[32m━━━━━━━━━━━━━━━━━━━━\u001b[0m\u001b[37m\u001b[0m \u001b[1m0s\u001b[0m 27ms/step - accuracy: 0.9434 - loss: 0.1970 - val_accuracy: 1.0000 - val_loss: 0.1083\n",
            "Epoch 97/100\n",
            "\u001b[1m3/3\u001b[0m \u001b[32m━━━━━━━━━━━━━━━━━━━━\u001b[0m\u001b[37m\u001b[0m \u001b[1m0s\u001b[0m 19ms/step - accuracy: 0.9512 - loss: 0.1921 - val_accuracy: 1.0000 - val_loss: 0.1082\n",
            "Epoch 98/100\n",
            "\u001b[1m3/3\u001b[0m \u001b[32m━━━━━━━━━━━━━━━━━━━━\u001b[0m\u001b[37m\u001b[0m \u001b[1m0s\u001b[0m 16ms/step - accuracy: 0.9434 - loss: 0.1939 - val_accuracy: 1.0000 - val_loss: 0.1092\n",
            "Epoch 99/100\n",
            "\u001b[1m3/3\u001b[0m \u001b[32m━━━━━━━━━━━━━━━━━━━━\u001b[0m\u001b[37m\u001b[0m \u001b[1m0s\u001b[0m 15ms/step - accuracy: 0.9630 - loss: 0.1694 - val_accuracy: 1.0000 - val_loss: 0.1089\n",
            "Epoch 100/100\n",
            "\u001b[1m3/3\u001b[0m \u001b[32m━━━━━━━━━━━━━━━━━━━━\u001b[0m\u001b[37m\u001b[0m \u001b[1m0s\u001b[0m 15ms/step - accuracy: 0.9434 - loss: 0.1993 - val_accuracy: 1.0000 - val_loss: 0.1110\n"
          ]
        }
      ]
    },
    {
      "cell_type": "code",
      "source": [
        "plt.figure()\n",
        "plot_decision_regions(X,y.astype('int'),clf=model,legend=2)"
      ],
      "metadata": {
        "colab": {
          "base_uri": "https://localhost:8080/",
          "height": 465
        },
        "id": "_UHqI8gZstQ9",
        "outputId": "aaedfea3-10aa-412f-8808-1e0e0a79bb98"
      },
      "execution_count": 27,
      "outputs": [
        {
          "output_type": "stream",
          "name": "stdout",
          "text": [
            "\u001b[1m9600/9600\u001b[0m \u001b[32m━━━━━━━━━━━━━━━━━━━━\u001b[0m\u001b[37m\u001b[0m \u001b[1m13s\u001b[0m 1ms/step\n"
          ]
        },
        {
          "output_type": "execute_result",
          "data": {
            "text/plain": [
              "<Axes: >"
            ]
          },
          "metadata": {},
          "execution_count": 27
        },
        {
          "output_type": "display_data",
          "data": {
            "text/plain": [
              "<Figure size 640x480 with 1 Axes>"
            ],
            "image/png": "[encoded data removed]"
          },
          "metadata": {}
        }
      ]
    },
    {
      "cell_type": "markdown",
      "source": [
        "GLOROT-UNIFORM"
      ],
      "metadata": {
        "id": "Hp60LhUDxTdY"
      }
    },
    {
      "cell_type": "code",
      "source": [
        "model=Sequential()\n",
        "\n",
        "model.add(Dense(10,input_dim=2,activation='tanh',kernel_initializer='glorot_uniform'))\n",
        "model.add(Dense(10,activation='tanh',kernel_initializer='glorot_uniform'))\n",
        "model.add(Dense(10,activation='tanh',kernel_initializer='glorot_uniform'))\n",
        "model.add(Dense(10,activation='tanh',kernel_initializer='glorot_uniform'))\n",
        "model.add(Dense(1,activation='sigmoid'))\n",
        "\n",
        "model.summary()"
      ],
      "metadata": {
        "colab": {
          "base_uri": "https://localhost:8080/",
          "height": 289
        },
        "id": "yo2z6CuDstTk",
        "outputId": "4990b71a-d0cd-487d-8eda-0b5f7dea3a12"
      },
      "execution_count": 44,
      "outputs": [
        {
          "output_type": "display_data",
          "data": {
            "text/plain": [
              "\u001b[1mModel: \"sequential_6\"\u001b[0m\n"
            ],
            "text/html": [
              "<pre style=\"white-space:pre;overflow-x:auto;line-height:normal;font-family:Menlo,'DejaVu Sans Mono',consolas,'Courier New',monospace\"><span style=\"font-weight: bold\">Model: \"sequential_6\"</span>\n",
              "</pre>\n"
            ]
          },
          "metadata": {}
        },
        {
          "output_type": "display_data",
          "data": {
            "text/plain": [
              "┏━━━━━━━━━━━━━━━━━━━━━━━━━━━━━━━━━━━━━━┳━━━━━━━━━━━━━━━━━━━━━━━━━━━━━┳━━━━━━━━━━━━━━━━━┓\n",
              "┃\u001b[1m \u001b[0m\u001b[1mLayer (type)                        \u001b[0m\u001b[1m \u001b[0m┃\u001b[1m \u001b[0m\u001b[1mOutput Shape               \u001b[0m\u001b[1m \u001b[0m┃\u001b[1m \u001b[0m\u001b[1m        Param #\u001b[0m\u001b[1m \u001b[0m┃\n",
              "┡━━━━━━━━━━━━━━━━━━━━━━━━━━━━━━━━━━━━━━╇━━━━━━━━━━━━━━━━━━━━━━━━━━━━━╇━━━━━━━━━━━━━━━━━┩\n",
              "│ dense_26 (\u001b[38;5;33mDense\u001b[0m)                     │ (\u001b[38;5;45mNone\u001b[0m, \u001b[38;5;34m10\u001b[0m)                  │              \u001b[38;5;34m30\u001b[0m │\n",
              "├──────────────────────────────────────┼─────────────────────────────┼─────────────────┤\n",
              "│ dense_27 (\u001b[38;5;33mDense\u001b[0m)                     │ (\u001b[38;5;45mNone\u001b[0m, \u001b[38;5;34m10\u001b[0m)                  │             \u001b[38;5;34m110\u001b[0m │\n",
              "├──────────────────────────────────────┼─────────────────────────────┼─────────────────┤\n",
              "│ dense_28 (\u001b[38;5;33mDense\u001b[0m)                     │ (\u001b[38;5;45mNone\u001b[0m, \u001b[38;5;34m10\u001b[0m)                  │             \u001b[38;5;34m110\u001b[0m │\n",
              "├──────────────────────────────────────┼─────────────────────────────┼─────────────────┤\n",
              "│ dense_29 (\u001b[38;5;33mDense\u001b[0m)                     │ (\u001b[38;5;45mNone\u001b[0m, \u001b[38;5;34m10\u001b[0m)                  │             \u001b[38;5;34m110\u001b[0m │\n",
              "├──────────────────────────────────────┼─────────────────────────────┼─────────────────┤\n",
              "│ dense_30 (\u001b[38;5;33mDense\u001b[0m)                     │ (\u001b[38;5;45mNone\u001b[0m, \u001b[38;5;34m1\u001b[0m)                   │              \u001b[38;5;34m11\u001b[0m │\n",
              "└──────────────────────────────────────┴─────────────────────────────┴─────────────────┘\n"
            ],
            "text/html": [
              "<pre style=\"white-space:pre;overflow-x:auto;line-height:normal;font-family:Menlo,'DejaVu Sans Mono',consolas,'Courier New',monospace\">┏━━━━━━━━━━━━━━━━━━━━━━━━━━━━━━━━━━━━━━┳━━━━━━━━━━━━━━━━━━━━━━━━━━━━━┳━━━━━━━━━━━━━━━━━┓\n",
              "┃<span style=\"font-weight: bold\"> Layer (type)                         </span>┃<span style=\"font-weight: bold\"> Output Shape                </span>┃<span style=\"font-weight: bold\">         Param # </span>┃\n",
              "┡━━━━━━━━━━━━━━━━━━━━━━━━━━━━━━━━━━━━━━╇━━━━━━━━━━━━━━━━━━━━━━━━━━━━━╇━━━━━━━━━━━━━━━━━┩\n",
              "│ dense_26 (<span style=\"color: #0087ff; text-decoration-color: #0087ff\">Dense</span>)                     │ (<span style=\"color: #00d7ff; text-decoration-color: #00d7ff\">None</span>, <span style=\"color: #00af00; text-decoration-color: #00af00\">10</span>)                  │              <span style=\"color: #00af00; text-decoration-color: #00af00\">30</span> │\n",
              "├──────────────────────────────────────┼─────────────────────────────┼─────────────────┤\n",
              "│ dense_27 (<span style=\"color: #0087ff; text-decoration-color: #0087ff\">Dense</span>)                     │ (<span style=\"color: #00d7ff; text-decoration-color: #00d7ff\">None</span>, <span style=\"color: #00af00; text-decoration-color: #00af00\">10</span>)                  │             <span style=\"color: #00af00; text-decoration-color: #00af00\">110</span> │\n",
              "├──────────────────────────────────────┼─────────────────────────────┼─────────────────┤\n",
              "│ dense_28 (<span style=\"color: #0087ff; text-decoration-color: #0087ff\">Dense</span>)                     │ (<span style=\"color: #00d7ff; text-decoration-color: #00d7ff\">None</span>, <span style=\"color: #00af00; text-decoration-color: #00af00\">10</span>)                  │             <span style=\"color: #00af00; text-decoration-color: #00af00\">110</span> │\n",
              "├──────────────────────────────────────┼─────────────────────────────┼─────────────────┤\n",
              "│ dense_29 (<span style=\"color: #0087ff; text-decoration-color: #0087ff\">Dense</span>)                     │ (<span style=\"color: #00d7ff; text-decoration-color: #00d7ff\">None</span>, <span style=\"color: #00af00; text-decoration-color: #00af00\">10</span>)                  │             <span style=\"color: #00af00; text-decoration-color: #00af00\">110</span> │\n",
              "├──────────────────────────────────────┼─────────────────────────────┼─────────────────┤\n",
              "│ dense_30 (<span style=\"color: #0087ff; text-decoration-color: #0087ff\">Dense</span>)                     │ (<span style=\"color: #00d7ff; text-decoration-color: #00d7ff\">None</span>, <span style=\"color: #00af00; text-decoration-color: #00af00\">1</span>)                   │              <span style=\"color: #00af00; text-decoration-color: #00af00\">11</span> │\n",
              "└──────────────────────────────────────┴─────────────────────────────┴─────────────────┘\n",
              "</pre>\n"
            ]
          },
          "metadata": {}
        },
        {
          "output_type": "display_data",
          "data": {
            "text/plain": [
              "\u001b[1m Total params: \u001b[0m\u001b[38;5;34m371\u001b[0m (1.45 KB)\n"
            ],
            "text/html": [
              "<pre style=\"white-space:pre;overflow-x:auto;line-height:normal;font-family:Menlo,'DejaVu Sans Mono',consolas,'Courier New',monospace\"><span style=\"font-weight: bold\"> Total params: </span><span style=\"color: #00af00; text-decoration-color: #00af00\">371</span> (1.45 KB)\n",
              "</pre>\n"
            ]
          },
          "metadata": {}
        },
        {
          "output_type": "display_data",
          "data": {
            "text/plain": [
              "\u001b[1m Trainable params: \u001b[0m\u001b[38;5;34m371\u001b[0m (1.45 KB)\n"
            ],
            "text/html": [
              "<pre style=\"white-space:pre;overflow-x:auto;line-height:normal;font-family:Menlo,'DejaVu Sans Mono',consolas,'Courier New',monospace\"><span style=\"font-weight: bold\"> Trainable params: </span><span style=\"color: #00af00; text-decoration-color: #00af00\">371</span> (1.45 KB)\n",
              "</pre>\n"
            ]
          },
          "metadata": {}
        },
        {
          "output_type": "display_data",
          "data": {
            "text/plain": [
              "\u001b[1m Non-trainable params: \u001b[0m\u001b[38;5;34m0\u001b[0m (0.00 B)\n"
            ],
            "text/html": [
              "<pre style=\"white-space:pre;overflow-x:auto;line-height:normal;font-family:Menlo,'DejaVu Sans Mono',consolas,'Courier New',monospace\"><span style=\"font-weight: bold\"> Non-trainable params: </span><span style=\"color: #00af00; text-decoration-color: #00af00\">0</span> (0.00 B)\n",
              "</pre>\n"
            ]
          },
          "metadata": {}
        }
      ]
    },
    {
      "cell_type": "code",
      "source": [
        "model.get_weights()"
      ],
      "metadata": {
        "colab": {
          "base_uri": "https://localhost:8080/"
        },
        "id": "HKEZQJUkstWM",
        "outputId": "19559d13-97ff-4473-8ef4-de0464a7fc52"
      },
      "execution_count": 45,
      "outputs": [
        {
          "output_type": "execute_result",
          "data": {
            "text/plain": [
              "[array([[ 0.21421218,  0.09779841, -0.40786988, -0.5552523 , -0.31628713,\n",
              "         -0.04797322, -0.31903106, -0.62787324, -0.35330808,  0.42808455],\n",
              "        [-0.38220415, -0.5175326 ,  0.084512  ,  0.18069297, -0.0326336 ,\n",
              "          0.14453232,  0.03071225, -0.24535432,  0.3646068 ,  0.33598477]],\n",
              "       dtype=float32),\n",
              " array([0., 0., 0., 0., 0., 0., 0., 0., 0., 0.], dtype=float32),\n",
              " array([[-0.30032843, -0.00168484,  0.26489258,  0.32266682, -0.04755872,\n",
              "          0.3412665 , -0.30384475, -0.42831126,  0.14957005, -0.19213614],\n",
              "        [ 0.5233536 , -0.2503685 ,  0.17176282,  0.29968023, -0.4271578 ,\n",
              "         -0.54296017,  0.12604737,  0.39741838,  0.263012  ,  0.02942991],\n",
              "        [-0.31680048, -0.39578223, -0.52371305, -0.3598612 ,  0.51411617,\n",
              "         -0.03860313, -0.06781802,  0.08713901, -0.18770608,  0.393265  ],\n",
              "        [-0.17656702,  0.15265507,  0.3702314 ,  0.2296561 ,  0.27714556,\n",
              "         -0.51015824,  0.40940064,  0.53235614, -0.1771929 , -0.23986578],\n",
              "        [-0.06265825, -0.21954772,  0.02383947, -0.38251483,  0.2068528 ,\n",
              "          0.10633808, -0.33658665, -0.19477817, -0.24094313, -0.51662856],\n",
              "        [ 0.4292742 , -0.531439  ,  0.10317463,  0.29420877,  0.46522713,\n",
              "          0.32587302,  0.24941707, -0.47046822, -0.03919965, -0.3856223 ],\n",
              "        [-0.09366605, -0.4542873 ,  0.23969603,  0.00548464, -0.15200198,\n",
              "         -0.03160274, -0.07252958, -0.4716094 ,  0.1304807 , -0.46219772],\n",
              "        [ 0.30421144,  0.3756312 ,  0.02860606,  0.24128109,  0.24720907,\n",
              "          0.11370724, -0.07119119,  0.10495543, -0.10096562, -0.26477998],\n",
              "        [-0.33427173,  0.3714218 ,  0.02499139,  0.50111866,  0.03398979,\n",
              "         -0.26415253, -0.49376145,  0.19092429,  0.5286714 , -0.47031412],\n",
              "        [-0.5098169 , -0.22197923,  0.38489413,  0.42403257,  0.5165355 ,\n",
              "          0.22195691,  0.14112133, -0.00535744, -0.4166105 ,  0.29407227]],\n",
              "       dtype=float32),\n",
              " array([0., 0., 0., 0., 0., 0., 0., 0., 0., 0.], dtype=float32),\n",
              " array([[ 0.47592866,  0.49659204, -0.4615589 , -0.17599961, -0.14007846,\n",
              "          0.15523207, -0.19727984, -0.3461578 ,  0.36270332, -0.11157203],\n",
              "        [ 0.37754118,  0.12908703, -0.31176803, -0.17114764,  0.47555208,\n",
              "          0.06416744,  0.5129236 ,  0.1082294 , -0.08566627, -0.06696305],\n",
              "        [-0.41649914, -0.38643116, -0.47038972, -0.20433587,  0.15901846,\n",
              "         -0.2970208 , -0.0809142 ,  0.18878174, -0.00541347,  0.45549464],\n",
              "        [-0.49269506,  0.26410317, -0.18868092, -0.05615592,  0.35276186,\n",
              "          0.3034525 ,  0.15070629,  0.10725915,  0.19686967, -0.41216454],\n",
              "        [-0.19483864, -0.23999792, -0.31386134, -0.32058096,  0.46552908,\n",
              "         -0.3766247 , -0.4268138 , -0.24230331, -0.2839246 , -0.00927442],\n",
              "        [ 0.3607061 ,  0.01137418,  0.0354436 , -0.07319415,  0.06747168,\n",
              "         -0.49656397, -0.04646528, -0.07968327, -0.4038682 ,  0.19312978],\n",
              "        [-0.416844  , -0.48868957,  0.06494075,  0.4548099 , -0.08692345,\n",
              "         -0.3713384 , -0.01787162, -0.41160315, -0.07910872, -0.32731742],\n",
              "        [ 0.16893238, -0.50277966, -0.2652164 , -0.49376237, -0.5166599 ,\n",
              "         -0.32368726, -0.44219267, -0.45398563,  0.3890267 , -0.2494232 ],\n",
              "        [-0.05156863, -0.01245946, -0.40365362, -0.09108642, -0.3105435 ,\n",
              "         -0.28184214,  0.47122943, -0.0517213 ,  0.4352377 ,  0.53544295],\n",
              "        [ 0.3595128 ,  0.488513  ,  0.46066606, -0.29115874,  0.07693571,\n",
              "         -0.11728966, -0.5446461 ,  0.17814231, -0.18044859, -0.3384359 ]],\n",
              "       dtype=float32),\n",
              " array([0., 0., 0., 0., 0., 0., 0., 0., 0., 0.], dtype=float32),\n",
              " array([[-0.50571424, -0.16764659,  0.50384355, -0.44950634,  0.37636536,\n",
              "         -0.28002724, -0.21817917, -0.36898363, -0.29463327, -0.11316639],\n",
              "        [-0.09188327, -0.12988493,  0.23574561, -0.37212008, -0.23086205,\n",
              "          0.45952916,  0.03563803, -0.40456307, -0.43736017, -0.37066483],\n",
              "        [ 0.27589542,  0.44038773,  0.2581138 ,  0.53283584,  0.04069805,\n",
              "          0.13844442, -0.06151274,  0.08806318,  0.09389716,  0.48527122],\n",
              "        [ 0.3339808 , -0.467679  , -0.33842584,  0.13327879, -0.39465383,\n",
              "         -0.04175097, -0.20592472, -0.41280872,  0.02153563, -0.01735646],\n",
              "        [ 0.12460297,  0.07462823, -0.19811404, -0.21780619, -0.19017485,\n",
              "         -0.17251149, -0.10229695,  0.43200845,  0.16511124, -0.38158727],\n",
              "        [-0.50357884, -0.28874144, -0.47716838,  0.1523487 ,  0.25458962,\n",
              "         -0.00461704, -0.18196589, -0.24211618,  0.39027405,  0.04249269],\n",
              "        [-0.10866401,  0.10336018, -0.5372325 , -0.33697867,  0.5088897 ,\n",
              "         -0.40874928, -0.08915269,  0.4884894 ,  0.1034047 ,  0.309416  ],\n",
              "        [-0.5409519 ,  0.49943197,  0.4547838 ,  0.20509851, -0.05470678,\n",
              "         -0.4568541 ,  0.44685453,  0.10853809,  0.12946743, -0.47707725],\n",
              "        [-0.33958912,  0.393566  , -0.3336692 ,  0.54315364,  0.35689503,\n",
              "          0.35635102,  0.04596305,  0.5400468 , -0.44691783, -0.38328832],\n",
              "        [-0.11040759,  0.423199  , -0.49007863,  0.113078  ,  0.19085401,\n",
              "          0.45159626,  0.53952193, -0.40255776, -0.14975652,  0.431136  ]],\n",
              "       dtype=float32),\n",
              " array([0., 0., 0., 0., 0., 0., 0., 0., 0., 0.], dtype=float32),\n",
              " array([[ 0.5545525 ],\n",
              "        [-0.04611546],\n",
              "        [ 0.20451182],\n",
              "        [ 0.5660042 ],\n",
              "        [-0.69170237],\n",
              "        [-0.16809714],\n",
              "        [ 0.72260827],\n",
              "        [ 0.4948923 ],\n",
              "        [ 0.21331316],\n",
              "        [-0.38928992]], dtype=float32),\n",
              " array([0.], dtype=float32)]"
            ]
          },
          "metadata": {},
          "execution_count": 45
        }
      ]
    },
    {
      "cell_type": "code",
      "source": [
        "ini_weights=model.get_weights()"
      ],
      "metadata": {
        "id": "iLY-egzpstYx"
      },
      "execution_count": 46,
      "outputs": []
    },
    {
      "cell_type": "code",
      "source": [
        "ini_weights[0]=np.random.randn(2,10)*np.sqrt(6/2)\n",
        "ini_weights[1]=np.zeros(model.get_weights()[1].shape)\n",
        "ini_weights[2]=np.random.randn(10,10)*np.sqrt(6/2)\n",
        "ini_weights[3]=np.zeros(model.get_weights()[3].shape)\n",
        "ini_weights[4]=np.random.randn(10,10)*np.sqrt(6/2)\n",
        "ini_weights[5]=np.zeros(model.get_weights()[5].shape)\n",
        "ini_weights[6]=np.random.randn(10,10)*np.sqrt(6/2)\n",
        "ini_weights[7]=np.zeros(model.get_weights()[7].shape)\n",
        "ini_weights[8]=np.random.randn(10,1)*np.sqrt(6/2)\n",
        "ini_weights[9]=np.zeros(model.get_weights()[9].shape)"
      ],
      "metadata": {
        "id": "f5i5A4SDstbe"
      },
      "execution_count": 47,
      "outputs": []
    },
    {
      "cell_type": "code",
      "source": [
        "model.set_weights(ini_weights)\n",
        "model.get_weights()"
      ],
      "metadata": {
        "colab": {
          "base_uri": "https://localhost:8080/"
        },
        "id": "cWRPgE98yujF",
        "outputId": "289a175a-9c90-4664-e7eb-dd00c122a5e7"
      },
      "execution_count": 48,
      "outputs": [
        {
          "output_type": "execute_result",
          "data": {
            "text/plain": [
              "[array([[ 1.4531924 ,  2.4924674 , -1.797161  , -0.23059101,  1.0678514 ,\n",
              "          0.3102024 ,  2.3233385 , -4.5541315 ,  1.2323005 ,  0.22416775],\n",
              "        [ 1.3389317 ,  0.97877294,  0.5429132 , -0.3620535 ,  0.27442035,\n",
              "         -4.334653  ,  0.08500185, -0.58400744, -0.50213593, -0.5995851 ]],\n",
              "       dtype=float32),\n",
              " array([0., 0., 0., 0., 0., 0., 0., 0., 0., 0.], dtype=float32),\n",
              " array([[ 0.24847311, -0.4568815 ,  1.1669904 ,  0.31320214,  0.57873255,\n",
              "         -1.4572233 ,  1.4132248 ,  0.06712379,  3.3315508 ,  0.3925606 ],\n",
              "        [ 2.1533844 , -1.0426068 ,  0.05578576, -2.9882562 ,  0.15955973,\n",
              "          0.04650098, -1.7656463 ,  3.1963289 ,  4.074184  ,  2.1163328 ],\n",
              "        [ 1.4141661 , -0.58170027, -1.155644  , -0.03032979,  1.8726519 ,\n",
              "         -1.7647216 ,  0.59474194,  0.15232372,  0.7392032 , -1.7864096 ],\n",
              "        [-0.8248029 ,  0.04989395, -0.15533063, -2.3965197 , -1.3036792 ,\n",
              "          3.7966366 , -2.5817986 ,  2.276314  ,  0.1404287 ,  0.17551972],\n",
              "        [-0.58224314, -0.18709333,  1.0818872 ,  5.705604  ,  1.0173842 ,\n",
              "          1.4387696 , -1.3651621 , -0.53004205, -3.0590727 , -1.2752987 ],\n",
              "        [-2.987419  ,  1.9217914 ,  0.41269943, -1.8124601 ,  0.5490249 ,\n",
              "          0.69889563, -3.5570183 , -0.37427625, -1.7015259 , -0.9517765 ],\n",
              "        [-0.54499215, -1.3889877 ,  1.6317921 , -1.043029  ,  1.1315606 ,\n",
              "          2.1899471 , -1.7145716 , -1.8270339 , -1.6780171 ,  2.5993695 ],\n",
              "        [-2.3397267 ,  2.3722212 ,  1.3902183 ,  0.01847662,  2.536153  ,\n",
              "          1.1590626 ,  0.94094855,  1.5246017 , -2.4957967 , -1.1204364 ],\n",
              "        [-0.48957324,  2.3040109 , -1.1568258 , -3.8305085 , -3.8978379 ,\n",
              "         -3.9564962 ,  3.229513  , -0.02926719,  1.9175713 , -2.985834  ],\n",
              "        [ 0.45040327,  1.0600965 , -5.9463067 ,  3.0970328 ,  0.89496815,\n",
              "          1.8515403 , -1.7012908 ,  2.5512486 , -1.8017118 , -1.8845739 ]],\n",
              "       dtype=float32),\n",
              " array([0., 0., 0., 0., 0., 0., 0., 0., 0., 0.], dtype=float32),\n",
              " array([[-1.1424642 ,  2.917584  ,  0.9680286 ,  0.4370667 ,  0.3848557 ,\n",
              "          2.1239867 , -2.5790246 , -0.14030364,  2.8128633 , -1.7117069 ],\n",
              "        [-1.9116044 ,  2.620427  , -0.16560104,  2.4138649 , -0.7689827 ,\n",
              "          0.8685064 ,  0.848234  ,  1.7565416 , -0.9029489 ,  0.38294628],\n",
              "        [ 0.6831486 , -1.0962055 , -0.36692628,  0.79938513, -0.36910078,\n",
              "          3.3666859 ,  0.8441125 ,  0.16350539,  0.09975738, -1.5359114 ],\n",
              "        [-1.2616395 ,  2.662132  , -0.77521735,  0.459435  ,  0.09497383,\n",
              "          2.6871789 , -2.7571914 ,  1.3100545 , -2.4566808 , -1.6545752 ],\n",
              "        [ 0.00667616, -2.9482841 , -0.24680296,  1.2612609 ,  1.8829707 ,\n",
              "         -3.1146922 , -0.659434  ,  0.7203897 , -0.42431843,  3.532216  ],\n",
              "        [-0.56606066, -0.39828396,  2.5105917 , -0.8073732 , -2.2090006 ,\n",
              "          1.2590142 , -1.3259597 ,  3.8864868 , -1.2147747 ,  1.2972443 ],\n",
              "        [ 0.21204686, -1.065134  , -2.1180491 , -0.91721845, -1.4585924 ,\n",
              "          3.9071229 , -2.5222118 , -1.6224931 , -0.8252105 ,  0.85277176],\n",
              "        [-0.11984354,  0.44765964, -0.4017195 , -0.2549637 , -2.0906434 ,\n",
              "          1.1611265 , -0.34028748, -0.39826396,  0.86107373,  2.250168  ],\n",
              "        [-1.072436  ,  2.498948  ,  3.0306485 ,  1.0872303 , -0.46305788,\n",
              "         -0.3780622 , -0.43353882,  2.4667895 ,  4.905188  , -0.23726161],\n",
              "        [ 1.1504834 ,  0.32431054, -0.32003254,  0.75814813,  0.9744585 ,\n",
              "         -0.25720367, -1.8403255 , -1.7155948 , -1.2271665 ,  5.316145  ]],\n",
              "       dtype=float32),\n",
              " array([0., 0., 0., 0., 0., 0., 0., 0., 0., 0.], dtype=float32),\n",
              " array([[-1.84559476e+00, -2.44685960e+00,  1.54973388e+00,\n",
              "         -2.57151151e+00, -9.80108440e-01, -1.44971776e+00,\n",
              "         -1.36927986e+00, -5.15991449e-01, -5.14911234e-01,\n",
              "         -4.68240070e+00],\n",
              "        [ 1.60457045e-01,  1.01961456e-01, -3.65378469e-01,\n",
              "          8.54775906e-01, -1.20787129e-01, -4.16939974e-01,\n",
              "         -5.98607838e-01, -2.40509844e+00,  6.87854514e-02,\n",
              "         -1.81674242e-01],\n",
              "        [-2.48857117e+00, -6.39414012e-01, -1.41790414e+00,\n",
              "         -5.90055704e-01,  3.49995279e+00, -2.11671686e+00,\n",
              "          2.02455848e-01,  2.56921947e-02, -7.20037580e-01,\n",
              "          3.70164561e+00],\n",
              "        [-3.09476078e-01, -1.96651196e+00,  3.38246264e-02,\n",
              "          8.53867769e-01,  9.08284545e-01,  3.25243735e+00,\n",
              "          4.39201564e-01,  4.38765138e-01,  7.03469068e-02,\n",
              "         -1.42574799e+00],\n",
              "        [-4.48938578e-01, -4.44696426e-01, -3.60759473e+00,\n",
              "          1.08248281e+00,  1.04163516e+00,  3.55730474e-04,\n",
              "          3.59945685e-01,  2.42417887e-01, -2.42516088e+00,\n",
              "         -7.62386441e-01],\n",
              "        [ 3.58738661e+00,  3.19810843e+00, -3.31759596e+00,\n",
              "          1.25703180e+00,  4.50783819e-01,  1.27396965e+00,\n",
              "          2.51194060e-01,  6.31914258e-01, -2.41718024e-01,\n",
              "         -5.51313996e-01],\n",
              "        [ 1.92043555e+00, -1.88655663e+00, -1.37886241e-01,\n",
              "         -3.60167909e+00, -1.52757263e+00,  2.58234549e+00,\n",
              "          6.21992826e-01,  9.27356124e-01,  1.29539895e+00,\n",
              "         -9.65940595e-01],\n",
              "        [-1.99575984e+00, -4.23701704e-01,  3.62469649e+00,\n",
              "         -1.56652343e+00, -1.44017792e+00, -2.52585268e+00,\n",
              "         -1.53110981e-01, -1.10256754e-01,  3.23802710e+00,\n",
              "         -9.89714265e-01],\n",
              "        [-4.90062922e-01, -2.11625409e+00, -7.55694449e-01,\n",
              "          2.25384086e-01,  4.02082860e-01, -4.34691370e-01,\n",
              "          9.41221952e-01, -3.88114119e+00,  3.23250264e-01,\n",
              "          6.32608175e-01],\n",
              "        [-1.29704881e+00,  1.07660556e+00, -1.49195507e-01,\n",
              "         -5.63155174e-01,  3.48329961e-01, -2.05094790e+00,\n",
              "         -3.44136691e+00, -4.12119702e-02,  1.81999648e+00,\n",
              "         -1.19246542e+00]], dtype=float32),\n",
              " array([0., 0., 0., 0., 0., 0., 0., 0., 0., 0.], dtype=float32),\n",
              " array([[-2.2359037 ],\n",
              "        [-1.7262307 ],\n",
              "        [-0.87647176],\n",
              "        [ 0.7766409 ],\n",
              "        [ 1.4283345 ],\n",
              "        [-2.6464808 ],\n",
              "        [-1.7780162 ],\n",
              "        [-1.2754871 ],\n",
              "        [-1.3425707 ],\n",
              "        [-2.0104856 ]], dtype=float32),\n",
              " array([0.], dtype=float32)]"
            ]
          },
          "metadata": {},
          "execution_count": 48
        }
      ]
    },
    {
      "cell_type": "code",
      "source": [
        "model.compile(loss='binary_crossentropy',optimizer='adam',metrics=['accuracy'])\n",
        "history=model.fit(X,y,epochs=100,validation_split=0.2)"
      ],
      "metadata": {
        "colab": {
          "base_uri": "https://localhost:8080/"
        },
        "collapsed": true,
        "id": "GU5gHikdyug_",
        "outputId": "090ed170-5c05-4038-a8e7-60a10a83f1d7"
      },
      "execution_count": 49,
      "outputs": [
        {
          "output_type": "stream",
          "name": "stdout",
          "text": [
            "Epoch 1/100\n",
            "\u001b[1m3/3\u001b[0m \u001b[32m━━━━━━━━━━━━━━━━━━━━\u001b[0m\u001b[37m\u001b[0m \u001b[1m2s\u001b[0m 330ms/step - accuracy: 0.6392 - loss: 1.0184 - val_accuracy: 0.7000 - val_loss: 0.6552\n",
            "Epoch 2/100\n",
            "\u001b[1m3/3\u001b[0m \u001b[32m━━━━━━━━━━━━━━━━━━━━\u001b[0m\u001b[37m\u001b[0m \u001b[1m0s\u001b[0m 13ms/step - accuracy: 0.6924 - loss: 0.9030 - val_accuracy: 0.7000 - val_loss: 0.6265\n",
            "Epoch 3/100\n",
            "\u001b[1m3/3\u001b[0m \u001b[32m━━━━━━━━━━━━━━━━━━━━\u001b[0m\u001b[37m\u001b[0m \u001b[1m0s\u001b[0m 12ms/step - accuracy: 0.6533 - loss: 0.8911 - val_accuracy: 0.7500 - val_loss: 0.6076\n",
            "Epoch 4/100\n",
            "\u001b[1m3/3\u001b[0m \u001b[32m━━━━━━━━━━━━━━━━━━━━\u001b[0m\u001b[37m\u001b[0m \u001b[1m0s\u001b[0m 12ms/step - accuracy: 0.6651 - loss: 0.8324 - val_accuracy: 0.7500 - val_loss: 0.5865\n",
            "Epoch 5/100\n",
            "\u001b[1m3/3\u001b[0m \u001b[32m━━━━━━━━━━━━━━━━━━━━\u001b[0m\u001b[37m\u001b[0m \u001b[1m0s\u001b[0m 12ms/step - accuracy: 0.6518 - loss: 0.9455 - val_accuracy: 0.7500 - val_loss: 0.5739\n",
            "Epoch 6/100\n",
            "\u001b[1m3/3\u001b[0m \u001b[32m━━━━━━━━━━━━━━━━━━━━\u001b[0m\u001b[37m\u001b[0m \u001b[1m0s\u001b[0m 12ms/step - accuracy: 0.6479 - loss: 0.9099 - val_accuracy: 0.7500 - val_loss: 0.5653\n",
            "Epoch 7/100\n",
            "\u001b[1m3/3\u001b[0m \u001b[32m━━━━━━━━━━━━━━━━━━━━\u001b[0m\u001b[37m\u001b[0m \u001b[1m0s\u001b[0m 13ms/step - accuracy: 0.6479 - loss: 0.9313 - val_accuracy: 0.7500 - val_loss: 0.5576\n",
            "Epoch 8/100\n",
            "\u001b[1m3/3\u001b[0m \u001b[32m━━━━━━━━━━━━━━━━━━━━\u001b[0m\u001b[37m\u001b[0m \u001b[1m0s\u001b[0m 12ms/step - accuracy: 0.6753 - loss: 0.7858 - val_accuracy: 0.7500 - val_loss: 0.5527\n",
            "Epoch 9/100\n",
            "\u001b[1m3/3\u001b[0m \u001b[32m━━━━━━━━━━━━━━━━━━━━\u001b[0m\u001b[37m\u001b[0m \u001b[1m0s\u001b[0m 12ms/step - accuracy: 0.6543 - loss: 0.8235 - val_accuracy: 0.7500 - val_loss: 0.5506\n",
            "Epoch 10/100\n",
            "\u001b[1m3/3\u001b[0m \u001b[32m━━━━━━━━━━━━━━━━━━━━\u001b[0m\u001b[37m\u001b[0m \u001b[1m0s\u001b[0m 16ms/step - accuracy: 0.7036 - loss: 0.7116 - val_accuracy: 0.7500 - val_loss: 0.5490\n",
            "Epoch 11/100\n",
            "\u001b[1m3/3\u001b[0m \u001b[32m━━━━━━━━━━━━━━━━━━━━\u001b[0m\u001b[37m\u001b[0m \u001b[1m0s\u001b[0m 15ms/step - accuracy: 0.7153 - loss: 0.7057 - val_accuracy: 0.7500 - val_loss: 0.5491\n",
            "Epoch 12/100\n",
            "\u001b[1m3/3\u001b[0m \u001b[32m━━━━━━━━━━━━━━━━━━━━\u001b[0m\u001b[37m\u001b[0m \u001b[1m0s\u001b[0m 15ms/step - accuracy: 0.6450 - loss: 0.8730 - val_accuracy: 0.7500 - val_loss: 0.5492\n",
            "Epoch 13/100\n",
            "\u001b[1m3/3\u001b[0m \u001b[32m━━━━━━━━━━━━━━━━━━━━\u001b[0m\u001b[37m\u001b[0m \u001b[1m0s\u001b[0m 12ms/step - accuracy: 0.7060 - loss: 0.7030 - val_accuracy: 0.7500 - val_loss: 0.5493\n",
            "Epoch 14/100\n",
            "\u001b[1m3/3\u001b[0m \u001b[32m━━━━━━━━━━━━━━━━━━━━\u001b[0m\u001b[37m\u001b[0m \u001b[1m0s\u001b[0m 12ms/step - accuracy: 0.7592 - loss: 0.6412 - val_accuracy: 0.7500 - val_loss: 0.5510\n",
            "Epoch 15/100\n",
            "\u001b[1m3/3\u001b[0m \u001b[32m━━━━━━━━━━━━━━━━━━━━\u001b[0m\u001b[37m\u001b[0m \u001b[1m0s\u001b[0m 13ms/step - accuracy: 0.7499 - loss: 0.7122 - val_accuracy: 0.7500 - val_loss: 0.5537\n",
            "Epoch 16/100\n",
            "\u001b[1m3/3\u001b[0m \u001b[32m━━━━━━━━━━━━━━━━━━━━\u001b[0m\u001b[37m\u001b[0m \u001b[1m0s\u001b[0m 12ms/step - accuracy: 0.7226 - loss: 0.7419 - val_accuracy: 0.7500 - val_loss: 0.5548\n",
            "Epoch 17/100\n",
            "\u001b[1m3/3\u001b[0m \u001b[32m━━━━━━━━━━━━━━━━━━━━\u001b[0m\u001b[37m\u001b[0m \u001b[1m0s\u001b[0m 17ms/step - accuracy: 0.7358 - loss: 0.6749 - val_accuracy: 0.7500 - val_loss: 0.5559\n",
            "Epoch 18/100\n",
            "\u001b[1m3/3\u001b[0m \u001b[32m━━━━━━━━━━━━━━━━━━━━\u001b[0m\u001b[37m\u001b[0m \u001b[1m0s\u001b[0m 13ms/step - accuracy: 0.7240 - loss: 0.6848 - val_accuracy: 0.7000 - val_loss: 0.5561\n",
            "Epoch 19/100\n",
            "\u001b[1m3/3\u001b[0m \u001b[32m━━━━━━━━━━━━━━━━━━━━\u001b[0m\u001b[37m\u001b[0m \u001b[1m0s\u001b[0m 13ms/step - accuracy: 0.6904 - loss: 0.6844 - val_accuracy: 0.7000 - val_loss: 0.5554\n",
            "Epoch 20/100\n",
            "\u001b[1m3/3\u001b[0m \u001b[32m━━━━━━━━━━━━━━━━━━━━\u001b[0m\u001b[37m\u001b[0m \u001b[1m0s\u001b[0m 12ms/step - accuracy: 0.6669 - loss: 0.7448 - val_accuracy: 0.7000 - val_loss: 0.5547\n",
            "Epoch 21/100\n",
            "\u001b[1m3/3\u001b[0m \u001b[32m━━━━━━━━━━━━━━━━━━━━\u001b[0m\u001b[37m\u001b[0m \u001b[1m0s\u001b[0m 13ms/step - accuracy: 0.7397 - loss: 0.6789 - val_accuracy: 0.7000 - val_loss: 0.5533\n",
            "Epoch 22/100\n",
            "\u001b[1m3/3\u001b[0m \u001b[32m━━━━━━━━━━━━━━━━━━━━\u001b[0m\u001b[37m\u001b[0m \u001b[1m0s\u001b[0m 12ms/step - accuracy: 0.7631 - loss: 0.5587 - val_accuracy: 0.7000 - val_loss: 0.5513\n",
            "Epoch 23/100\n",
            "\u001b[1m3/3\u001b[0m \u001b[32m━━━━━━━━━━━━━━━━━━━━\u001b[0m\u001b[37m\u001b[0m \u001b[1m0s\u001b[0m 13ms/step - accuracy: 0.7006 - loss: 0.6998 - val_accuracy: 0.7000 - val_loss: 0.5490\n",
            "Epoch 24/100\n",
            "\u001b[1m3/3\u001b[0m \u001b[32m━━━━━━━━━━━━━━━━━━━━\u001b[0m\u001b[37m\u001b[0m \u001b[1m0s\u001b[0m 13ms/step - accuracy: 0.7006 - loss: 0.7180 - val_accuracy: 0.7000 - val_loss: 0.5473\n",
            "Epoch 25/100\n",
            "\u001b[1m3/3\u001b[0m \u001b[32m━━━━━━━━━━━━━━━━━━━━\u001b[0m\u001b[37m\u001b[0m \u001b[1m0s\u001b[0m 12ms/step - accuracy: 0.7460 - loss: 0.6555 - val_accuracy: 0.7000 - val_loss: 0.5453\n",
            "Epoch 26/100\n",
            "\u001b[1m3/3\u001b[0m \u001b[32m━━━━━━━━━━━━━━━━━━━━\u001b[0m\u001b[37m\u001b[0m \u001b[1m0s\u001b[0m 14ms/step - accuracy: 0.7523 - loss: 0.6051 - val_accuracy: 0.7000 - val_loss: 0.5433\n",
            "Epoch 27/100\n",
            "\u001b[1m3/3\u001b[0m \u001b[32m━━━━━━━━━━━━━━━━━━━━\u001b[0m\u001b[37m\u001b[0m \u001b[1m0s\u001b[0m 12ms/step - accuracy: 0.7406 - loss: 0.6434 - val_accuracy: 0.7000 - val_loss: 0.5407\n",
            "Epoch 28/100\n",
            "\u001b[1m3/3\u001b[0m \u001b[32m━━━━━━━━━━━━━━━━━━━━\u001b[0m\u001b[37m\u001b[0m \u001b[1m0s\u001b[0m 24ms/step - accuracy: 0.7328 - loss: 0.6492 - val_accuracy: 0.7000 - val_loss: 0.5386\n",
            "Epoch 29/100\n",
            "\u001b[1m3/3\u001b[0m \u001b[32m━━━━━━━━━━━━━━━━━━━━\u001b[0m\u001b[37m\u001b[0m \u001b[1m0s\u001b[0m 16ms/step - accuracy: 0.7445 - loss: 0.6141 - val_accuracy: 0.7000 - val_loss: 0.5372\n",
            "Epoch 30/100\n",
            "\u001b[1m3/3\u001b[0m \u001b[32m━━━━━━━━━━━━━━━━━━━━\u001b[0m\u001b[37m\u001b[0m \u001b[1m0s\u001b[0m 16ms/step - accuracy: 0.7406 - loss: 0.5927 - val_accuracy: 0.7000 - val_loss: 0.5357\n",
            "Epoch 31/100\n",
            "\u001b[1m3/3\u001b[0m \u001b[32m━━━━━━━━━━━━━━━━━━━━\u001b[0m\u001b[37m\u001b[0m \u001b[1m0s\u001b[0m 16ms/step - accuracy: 0.7767 - loss: 0.6371 - val_accuracy: 0.7000 - val_loss: 0.5346\n",
            "Epoch 32/100\n",
            "\u001b[1m3/3\u001b[0m \u001b[32m━━━━━━━━━━━━━━━━━━━━\u001b[0m\u001b[37m\u001b[0m \u001b[1m0s\u001b[0m 12ms/step - accuracy: 0.8001 - loss: 0.5678 - val_accuracy: 0.7000 - val_loss: 0.5345\n",
            "Epoch 33/100\n",
            "\u001b[1m3/3\u001b[0m \u001b[32m━━━━━━━━━━━━━━━━━━━━\u001b[0m\u001b[37m\u001b[0m \u001b[1m0s\u001b[0m 13ms/step - accuracy: 0.7923 - loss: 0.5574 - val_accuracy: 0.7000 - val_loss: 0.5341\n",
            "Epoch 34/100\n",
            "\u001b[1m3/3\u001b[0m \u001b[32m━━━━━━━━━━━━━━━━━━━━\u001b[0m\u001b[37m\u001b[0m \u001b[1m0s\u001b[0m 12ms/step - accuracy: 0.7962 - loss: 0.5476 - val_accuracy: 0.7000 - val_loss: 0.5338\n",
            "Epoch 35/100\n",
            "\u001b[1m3/3\u001b[0m \u001b[32m━━━━━━━━━━━━━━━━━━━━\u001b[0m\u001b[37m\u001b[0m \u001b[1m0s\u001b[0m 15ms/step - accuracy: 0.7376 - loss: 0.7123 - val_accuracy: 0.7000 - val_loss: 0.5330\n",
            "Epoch 36/100\n",
            "\u001b[1m3/3\u001b[0m \u001b[32m━━━━━━━━━━━━━━━━━━━━\u001b[0m\u001b[37m\u001b[0m \u001b[1m0s\u001b[0m 13ms/step - accuracy: 0.7806 - loss: 0.5822 - val_accuracy: 0.7000 - val_loss: 0.5319\n",
            "Epoch 37/100\n",
            "\u001b[1m3/3\u001b[0m \u001b[32m━━━━━━━━━━━━━━━━━━━━\u001b[0m\u001b[37m\u001b[0m \u001b[1m0s\u001b[0m 12ms/step - accuracy: 0.7728 - loss: 0.5762 - val_accuracy: 0.7500 - val_loss: 0.5309\n",
            "Epoch 38/100\n",
            "\u001b[1m3/3\u001b[0m \u001b[32m━━━━━━━━━━━━━━━━━━━━\u001b[0m\u001b[37m\u001b[0m \u001b[1m0s\u001b[0m 13ms/step - accuracy: 0.7611 - loss: 0.6230 - val_accuracy: 0.7500 - val_loss: 0.5301\n",
            "Epoch 39/100\n",
            "\u001b[1m3/3\u001b[0m \u001b[32m━━━━━━━━━━━━━━━━━━━━\u001b[0m\u001b[37m\u001b[0m \u001b[1m0s\u001b[0m 12ms/step - accuracy: 0.7962 - loss: 0.5428 - val_accuracy: 0.7500 - val_loss: 0.5290\n",
            "Epoch 40/100\n",
            "\u001b[1m3/3\u001b[0m \u001b[32m━━━━━━━━━━━━━━━━━━━━\u001b[0m\u001b[37m\u001b[0m \u001b[1m0s\u001b[0m 13ms/step - accuracy: 0.7572 - loss: 0.6523 - val_accuracy: 0.7500 - val_loss: 0.5277\n",
            "Epoch 41/100\n",
            "\u001b[1m3/3\u001b[0m \u001b[32m━━━━━━━━━━━━━━━━━━━━\u001b[0m\u001b[37m\u001b[0m \u001b[1m0s\u001b[0m 12ms/step - accuracy: 0.7469 - loss: 0.5964 - val_accuracy: 0.7500 - val_loss: 0.5261\n",
            "Epoch 42/100\n",
            "\u001b[1m3/3\u001b[0m \u001b[32m━━━━━━━━━━━━━━━━━━━━\u001b[0m\u001b[37m\u001b[0m \u001b[1m0s\u001b[0m 13ms/step - accuracy: 0.7938 - loss: 0.5172 - val_accuracy: 0.7500 - val_loss: 0.5250\n",
            "Epoch 43/100\n",
            "\u001b[1m3/3\u001b[0m \u001b[32m━━━━━━━━━━━━━━━━━━━━\u001b[0m\u001b[37m\u001b[0m \u001b[1m0s\u001b[0m 12ms/step - accuracy: 0.7665 - loss: 0.6169 - val_accuracy: 0.7500 - val_loss: 0.5239\n",
            "Epoch 44/100\n",
            "\u001b[1m3/3\u001b[0m \u001b[32m━━━━━━━━━━━━━━━━━━━━\u001b[0m\u001b[37m\u001b[0m \u001b[1m0s\u001b[0m 13ms/step - accuracy: 0.7626 - loss: 0.5726 - val_accuracy: 0.7500 - val_loss: 0.5227\n",
            "Epoch 45/100\n",
            "\u001b[1m3/3\u001b[0m \u001b[32m━━━━━━━━━━━━━━━━━━━━\u001b[0m\u001b[37m\u001b[0m \u001b[1m0s\u001b[0m 17ms/step - accuracy: 0.7587 - loss: 0.5787 - val_accuracy: 0.7500 - val_loss: 0.5214\n",
            "Epoch 46/100\n",
            "\u001b[1m3/3\u001b[0m \u001b[32m━━━━━━━━━━━━━━━━━━━━\u001b[0m\u001b[37m\u001b[0m \u001b[1m0s\u001b[0m 14ms/step - accuracy: 0.7782 - loss: 0.5206 - val_accuracy: 0.7500 - val_loss: 0.5203\n",
            "Epoch 47/100\n",
            "\u001b[1m3/3\u001b[0m \u001b[32m━━━━━━━━━━━━━━━━━━━━\u001b[0m\u001b[37m\u001b[0m \u001b[1m0s\u001b[0m 13ms/step - accuracy: 0.7782 - loss: 0.5735 - val_accuracy: 0.7500 - val_loss: 0.5190\n",
            "Epoch 48/100\n",
            "\u001b[1m3/3\u001b[0m \u001b[32m━━━━━━━━━━━━━━━━━━━━\u001b[0m\u001b[37m\u001b[0m \u001b[1m0s\u001b[0m 13ms/step - accuracy: 0.7391 - loss: 0.5949 - val_accuracy: 0.7500 - val_loss: 0.5177\n",
            "Epoch 49/100\n",
            "\u001b[1m3/3\u001b[0m \u001b[32m━━━━━━━━━━━━━━━━━━━━\u001b[0m\u001b[37m\u001b[0m \u001b[1m0s\u001b[0m 13ms/step - accuracy: 0.7782 - loss: 0.5182 - val_accuracy: 0.7500 - val_loss: 0.5166\n",
            "Epoch 50/100\n",
            "\u001b[1m3/3\u001b[0m \u001b[32m━━━━━━━━━━━━━━━━━━━━\u001b[0m\u001b[37m\u001b[0m \u001b[1m0s\u001b[0m 12ms/step - accuracy: 0.7821 - loss: 0.5199 - val_accuracy: 0.7500 - val_loss: 0.5154\n",
            "Epoch 51/100\n",
            "\u001b[1m3/3\u001b[0m \u001b[32m━━━━━━━━━━━━━━━━━━━━\u001b[0m\u001b[37m\u001b[0m \u001b[1m0s\u001b[0m 12ms/step - accuracy: 0.7508 - loss: 0.6253 - val_accuracy: 0.7500 - val_loss: 0.5146\n",
            "Epoch 52/100\n",
            "\u001b[1m3/3\u001b[0m \u001b[32m━━━━━━━━━━━━━━━━━━━━\u001b[0m\u001b[37m\u001b[0m \u001b[1m0s\u001b[0m 16ms/step - accuracy: 0.7508 - loss: 0.5811 - val_accuracy: 0.7500 - val_loss: 0.5132\n",
            "Epoch 53/100\n",
            "\u001b[1m3/3\u001b[0m \u001b[32m━━━━━━━━━━━━━━━━━━━━\u001b[0m\u001b[37m\u001b[0m \u001b[1m0s\u001b[0m 13ms/step - accuracy: 0.7469 - loss: 0.6252 - val_accuracy: 0.7500 - val_loss: 0.5119\n",
            "Epoch 54/100\n",
            "\u001b[1m3/3\u001b[0m \u001b[32m━━━━━━━━━━━━━━━━━━━━\u001b[0m\u001b[37m\u001b[0m \u001b[1m0s\u001b[0m 15ms/step - accuracy: 0.7508 - loss: 0.6163 - val_accuracy: 0.7500 - val_loss: 0.5105\n",
            "Epoch 55/100\n",
            "\u001b[1m3/3\u001b[0m \u001b[32m━━━━━━━━━━━━━━━━━━━━\u001b[0m\u001b[37m\u001b[0m \u001b[1m0s\u001b[0m 13ms/step - accuracy: 0.7704 - loss: 0.5313 - val_accuracy: 0.7500 - val_loss: 0.5093\n",
            "Epoch 56/100\n",
            "\u001b[1m3/3\u001b[0m \u001b[32m━━━━━━━━━━━━━━━━━━━━\u001b[0m\u001b[37m\u001b[0m \u001b[1m0s\u001b[0m 12ms/step - accuracy: 0.7743 - loss: 0.5612 - val_accuracy: 0.7500 - val_loss: 0.5077\n",
            "Epoch 57/100\n",
            "\u001b[1m3/3\u001b[0m \u001b[32m━━━━━━━━━━━━━━━━━━━━\u001b[0m\u001b[37m\u001b[0m \u001b[1m0s\u001b[0m 12ms/step - accuracy: 0.7899 - loss: 0.4975 - val_accuracy: 0.7500 - val_loss: 0.5062\n",
            "Epoch 58/100\n",
            "\u001b[1m3/3\u001b[0m \u001b[32m━━━━━━━━━━━━━━━━━━━━\u001b[0m\u001b[37m\u001b[0m \u001b[1m0s\u001b[0m 13ms/step - accuracy: 0.7157 - loss: 0.6647 - val_accuracy: 0.7500 - val_loss: 0.5047\n",
            "Epoch 59/100\n",
            "\u001b[1m3/3\u001b[0m \u001b[32m━━━━━━━━━━━━━━━━━━━━\u001b[0m\u001b[37m\u001b[0m \u001b[1m0s\u001b[0m 13ms/step - accuracy: 0.7391 - loss: 0.5899 - val_accuracy: 0.7500 - val_loss: 0.5032\n",
            "Epoch 60/100\n",
            "\u001b[1m3/3\u001b[0m \u001b[32m━━━━━━━━━━━━━━━━━━━━\u001b[0m\u001b[37m\u001b[0m \u001b[1m0s\u001b[0m 14ms/step - accuracy: 0.7860 - loss: 0.4799 - val_accuracy: 0.7500 - val_loss: 0.5015\n",
            "Epoch 61/100\n",
            "\u001b[1m3/3\u001b[0m \u001b[32m━━━━━━━━━━━━━━━━━━━━\u001b[0m\u001b[37m\u001b[0m \u001b[1m0s\u001b[0m 13ms/step - accuracy: 0.7782 - loss: 0.5220 - val_accuracy: 0.7500 - val_loss: 0.4996\n",
            "Epoch 62/100\n",
            "\u001b[1m3/3\u001b[0m \u001b[32m━━━━━━━━━━━━━━━━━━━━\u001b[0m\u001b[37m\u001b[0m \u001b[1m0s\u001b[0m 15ms/step - accuracy: 0.7665 - loss: 0.5877 - val_accuracy: 0.7500 - val_loss: 0.4976\n",
            "Epoch 63/100\n",
            "\u001b[1m3/3\u001b[0m \u001b[32m━━━━━━━━━━━━━━━━━━━━\u001b[0m\u001b[37m\u001b[0m \u001b[1m0s\u001b[0m 16ms/step - accuracy: 0.7313 - loss: 0.6129 - val_accuracy: 0.7500 - val_loss: 0.4953\n",
            "Epoch 64/100\n",
            "\u001b[1m3/3\u001b[0m \u001b[32m━━━━━━━━━━━━━━━━━━━━\u001b[0m\u001b[37m\u001b[0m \u001b[1m0s\u001b[0m 17ms/step - accuracy: 0.7469 - loss: 0.6020 - val_accuracy: 0.7500 - val_loss: 0.4932\n",
            "Epoch 65/100\n",
            "\u001b[1m3/3\u001b[0m \u001b[32m━━━━━━━━━━━━━━━━━━━━\u001b[0m\u001b[37m\u001b[0m \u001b[1m0s\u001b[0m 13ms/step - accuracy: 0.7704 - loss: 0.5059 - val_accuracy: 0.7500 - val_loss: 0.4909\n",
            "Epoch 66/100\n",
            "\u001b[1m3/3\u001b[0m \u001b[32m━━━━━━━━━━━━━━━━━━━━\u001b[0m\u001b[37m\u001b[0m \u001b[1m0s\u001b[0m 13ms/step - accuracy: 0.7430 - loss: 0.5508 - val_accuracy: 0.7500 - val_loss: 0.4888\n",
            "Epoch 67/100\n",
            "\u001b[1m3/3\u001b[0m \u001b[32m━━━━━━━━━━━━━━━━━━━━\u001b[0m\u001b[37m\u001b[0m \u001b[1m0s\u001b[0m 12ms/step - accuracy: 0.7508 - loss: 0.5883 - val_accuracy: 0.7500 - val_loss: 0.4866\n",
            "Epoch 68/100\n",
            "\u001b[1m3/3\u001b[0m \u001b[32m━━━━━━━━━━━━━━━━━━━━\u001b[0m\u001b[37m\u001b[0m \u001b[1m0s\u001b[0m 13ms/step - accuracy: 0.7533 - loss: 0.5598 - val_accuracy: 0.7500 - val_loss: 0.4839\n",
            "Epoch 69/100\n",
            "\u001b[1m3/3\u001b[0m \u001b[32m━━━━━━━━━━━━━━━━━━━━\u001b[0m\u001b[37m\u001b[0m \u001b[1m0s\u001b[0m 16ms/step - accuracy: 0.7415 - loss: 0.6020 - val_accuracy: 0.7500 - val_loss: 0.4809\n",
            "Epoch 70/100\n",
            "\u001b[1m3/3\u001b[0m \u001b[32m━━━━━━━━━━━━━━━━━━━━\u001b[0m\u001b[37m\u001b[0m \u001b[1m0s\u001b[0m 13ms/step - accuracy: 0.7689 - loss: 0.5555 - val_accuracy: 0.7500 - val_loss: 0.4774\n",
            "Epoch 71/100\n",
            "\u001b[1m3/3\u001b[0m \u001b[32m━━━━━━━━━━━━━━━━━━━━\u001b[0m\u001b[37m\u001b[0m \u001b[1m0s\u001b[0m 12ms/step - accuracy: 0.7415 - loss: 0.5566 - val_accuracy: 0.7500 - val_loss: 0.4732\n",
            "Epoch 72/100\n",
            "\u001b[1m3/3\u001b[0m \u001b[32m━━━━━━━━━━━━━━━━━━━━\u001b[0m\u001b[37m\u001b[0m \u001b[1m0s\u001b[0m 14ms/step - accuracy: 0.8143 - loss: 0.4600 - val_accuracy: 0.7500 - val_loss: 0.4696\n",
            "Epoch 73/100\n",
            "\u001b[1m3/3\u001b[0m \u001b[32m━━━━━━━━━━━━━━━━━━━━\u001b[0m\u001b[37m\u001b[0m \u001b[1m0s\u001b[0m 13ms/step - accuracy: 0.7869 - loss: 0.5453 - val_accuracy: 0.7500 - val_loss: 0.4658\n",
            "Epoch 74/100\n",
            "\u001b[1m3/3\u001b[0m \u001b[32m━━━━━━━━━━━━━━━━━━━━\u001b[0m\u001b[37m\u001b[0m \u001b[1m0s\u001b[0m 14ms/step - accuracy: 0.7713 - loss: 0.5326 - val_accuracy: 0.7500 - val_loss: 0.4619\n",
            "Epoch 75/100\n",
            "\u001b[1m3/3\u001b[0m \u001b[32m━━━━━━━━━━━━━━━━━━━━\u001b[0m\u001b[37m\u001b[0m \u001b[1m0s\u001b[0m 14ms/step - accuracy: 0.8065 - loss: 0.5097 - val_accuracy: 0.7500 - val_loss: 0.4578\n",
            "Epoch 76/100\n",
            "\u001b[1m3/3\u001b[0m \u001b[32m━━━━━━━━━━━━━━━━━━━━\u001b[0m\u001b[37m\u001b[0m \u001b[1m0s\u001b[0m 13ms/step - accuracy: 0.8065 - loss: 0.4653 - val_accuracy: 0.7500 - val_loss: 0.4536\n",
            "Epoch 77/100\n",
            "\u001b[1m3/3\u001b[0m \u001b[32m━━━━━━━━━━━━━━━━━━━━\u001b[0m\u001b[37m\u001b[0m \u001b[1m0s\u001b[0m 13ms/step - accuracy: 0.7713 - loss: 0.5260 - val_accuracy: 0.7500 - val_loss: 0.4487\n",
            "Epoch 78/100\n",
            "\u001b[1m3/3\u001b[0m \u001b[32m━━━━━━━━━━━━━━━━━━━━\u001b[0m\u001b[37m\u001b[0m \u001b[1m0s\u001b[0m 20ms/step - accuracy: 0.7908 - loss: 0.4680 - val_accuracy: 0.7500 - val_loss: 0.4438\n",
            "Epoch 79/100\n",
            "\u001b[1m3/3\u001b[0m \u001b[32m━━━━━━━━━━━━━━━━━━━━\u001b[0m\u001b[37m\u001b[0m \u001b[1m0s\u001b[0m 36ms/step - accuracy: 0.7752 - loss: 0.5286 - val_accuracy: 0.7500 - val_loss: 0.4388\n",
            "Epoch 80/100\n",
            "\u001b[1m3/3\u001b[0m \u001b[32m━━━━━━━━━━━━━━━━━━━━\u001b[0m\u001b[37m\u001b[0m \u001b[1m0s\u001b[0m 21ms/step - accuracy: 0.7440 - loss: 0.5189 - val_accuracy: 0.7500 - val_loss: 0.4343\n",
            "Epoch 81/100\n",
            "\u001b[1m3/3\u001b[0m \u001b[32m━━━━━━━━━━━━━━━━━━━━\u001b[0m\u001b[37m\u001b[0m \u001b[1m0s\u001b[0m 19ms/step - accuracy: 0.7518 - loss: 0.5170 - val_accuracy: 0.7500 - val_loss: 0.4296\n",
            "Epoch 82/100\n",
            "\u001b[1m3/3\u001b[0m \u001b[32m━━━━━━━━━━━━━━━━━━━━\u001b[0m\u001b[37m\u001b[0m \u001b[1m0s\u001b[0m 19ms/step - accuracy: 0.7713 - loss: 0.5480 - val_accuracy: 0.7500 - val_loss: 0.4251\n",
            "Epoch 83/100\n",
            "\u001b[1m3/3\u001b[0m \u001b[32m━━━━━━━━━━━━━━━━━━━━\u001b[0m\u001b[37m\u001b[0m \u001b[1m0s\u001b[0m 18ms/step - accuracy: 0.7830 - loss: 0.4446 - val_accuracy: 0.7500 - val_loss: 0.4197\n",
            "Epoch 84/100\n",
            "\u001b[1m3/3\u001b[0m \u001b[32m━━━━━━━━━━━━━━━━━━━━\u001b[0m\u001b[37m\u001b[0m \u001b[1m0s\u001b[0m 21ms/step - accuracy: 0.7987 - loss: 0.4315 - val_accuracy: 0.7500 - val_loss: 0.4142\n",
            "Epoch 85/100\n",
            "\u001b[1m3/3\u001b[0m \u001b[32m━━━━━━━━━━━━━━━━━━━━\u001b[0m\u001b[37m\u001b[0m \u001b[1m0s\u001b[0m 20ms/step - accuracy: 0.8104 - loss: 0.4112 - val_accuracy: 0.7500 - val_loss: 0.4087\n",
            "Epoch 86/100\n",
            "\u001b[1m3/3\u001b[0m \u001b[32m━━━━━━━━━━━━━━━━━━━━\u001b[0m\u001b[37m\u001b[0m \u001b[1m0s\u001b[0m 23ms/step - accuracy: 0.7908 - loss: 0.5002 - val_accuracy: 0.7500 - val_loss: 0.4032\n",
            "Epoch 87/100\n",
            "\u001b[1m3/3\u001b[0m \u001b[32m━━━━━━━━━━━━━━━━━━━━\u001b[0m\u001b[37m\u001b[0m \u001b[1m0s\u001b[0m 23ms/step - accuracy: 0.7557 - loss: 0.5224 - val_accuracy: 0.7500 - val_loss: 0.3946\n",
            "Epoch 88/100\n",
            "\u001b[1m3/3\u001b[0m \u001b[32m━━━━━━━━━━━━━━━━━━━━\u001b[0m\u001b[37m\u001b[0m \u001b[1m0s\u001b[0m 20ms/step - accuracy: 0.8128 - loss: 0.4178 - val_accuracy: 0.7500 - val_loss: 0.3816\n",
            "Epoch 89/100\n",
            "\u001b[1m3/3\u001b[0m \u001b[32m━━━━━━━━━━━━━━━━━━━━\u001b[0m\u001b[37m\u001b[0m \u001b[1m0s\u001b[0m 22ms/step - accuracy: 0.7776 - loss: 0.4283 - val_accuracy: 0.7500 - val_loss: 0.3630\n",
            "Epoch 90/100\n",
            "\u001b[1m3/3\u001b[0m \u001b[32m━━━━━━━━━━━━━━━━━━━━\u001b[0m\u001b[37m\u001b[0m \u001b[1m0s\u001b[0m 36ms/step - accuracy: 0.8089 - loss: 0.4625 - val_accuracy: 0.8000 - val_loss: 0.3459\n",
            "Epoch 91/100\n",
            "\u001b[1m3/3\u001b[0m \u001b[32m━━━━━━━━━━━━━━━━━━━━\u001b[0m\u001b[37m\u001b[0m \u001b[1m0s\u001b[0m 17ms/step - accuracy: 0.8011 - loss: 0.4783 - val_accuracy: 0.8000 - val_loss: 0.3344\n",
            "Epoch 92/100\n",
            "\u001b[1m3/3\u001b[0m \u001b[32m━━━━━━━━━━━━━━━━━━━━\u001b[0m\u001b[37m\u001b[0m \u001b[1m0s\u001b[0m 18ms/step - accuracy: 0.7698 - loss: 0.4568 - val_accuracy: 0.8000 - val_loss: 0.3273\n",
            "Epoch 93/100\n",
            "\u001b[1m3/3\u001b[0m \u001b[32m━━━━━━━━━━━━━━━━━━━━\u001b[0m\u001b[37m\u001b[0m \u001b[1m0s\u001b[0m 28ms/step - accuracy: 0.8089 - loss: 0.3845 - val_accuracy: 0.8000 - val_loss: 0.3225\n",
            "Epoch 94/100\n",
            "\u001b[1m3/3\u001b[0m \u001b[32m━━━━━━━━━━━━━━━━━━━━\u001b[0m\u001b[37m\u001b[0m \u001b[1m0s\u001b[0m 36ms/step - accuracy: 0.7713 - loss: 0.4159 - val_accuracy: 0.8000 - val_loss: 0.3188\n",
            "Epoch 95/100\n",
            "\u001b[1m3/3\u001b[0m \u001b[32m━━━━━━━━━━━━━━━━━━━━\u001b[0m\u001b[37m\u001b[0m \u001b[1m0s\u001b[0m 31ms/step - accuracy: 0.7518 - loss: 0.4445 - val_accuracy: 0.8000 - val_loss: 0.3156\n",
            "Epoch 96/100\n",
            "\u001b[1m3/3\u001b[0m \u001b[32m━━━━━━━━━━━━━━━━━━━━\u001b[0m\u001b[37m\u001b[0m \u001b[1m0s\u001b[0m 17ms/step - accuracy: 0.7752 - loss: 0.4355 - val_accuracy: 0.8000 - val_loss: 0.3129\n",
            "Epoch 97/100\n",
            "\u001b[1m3/3\u001b[0m \u001b[32m━━━━━━━━━━━━━━━━━━━━\u001b[0m\u001b[37m\u001b[0m \u001b[1m0s\u001b[0m 14ms/step - accuracy: 0.7752 - loss: 0.4426 - val_accuracy: 0.8000 - val_loss: 0.3105\n",
            "Epoch 98/100\n",
            "\u001b[1m3/3\u001b[0m \u001b[32m━━━━━━━━━━━━━━━━━━━━\u001b[0m\u001b[37m\u001b[0m \u001b[1m0s\u001b[0m 15ms/step - accuracy: 0.7830 - loss: 0.4061 - val_accuracy: 0.8000 - val_loss: 0.3085\n",
            "Epoch 99/100\n",
            "\u001b[1m3/3\u001b[0m \u001b[32m━━━━━━━━━━━━━━━━━━━━\u001b[0m\u001b[37m\u001b[0m \u001b[1m0s\u001b[0m 13ms/step - accuracy: 0.7752 - loss: 0.4094 - val_accuracy: 0.8000 - val_loss: 0.3069\n",
            "Epoch 100/100\n",
            "\u001b[1m3/3\u001b[0m \u001b[32m━━━━━━━━━━━━━━━━━━━━\u001b[0m\u001b[37m\u001b[0m \u001b[1m0s\u001b[0m 13ms/step - accuracy: 0.7776 - loss: 0.4275 - val_accuracy: 0.8000 - val_loss: 0.3048\n"
          ]
        }
      ]
    },
    {
      "cell_type": "code",
      "source": [
        "plt.figure()\n",
        "plot_decision_regions(X,y.astype('int'),clf=model,legend=2)"
      ],
      "metadata": {
        "colab": {
          "base_uri": "https://localhost:8080/",
          "height": 465
        },
        "id": "dUZOuxmOyueL",
        "outputId": "860b5798-3175-46d2-9504-a18c8e4ed45e"
      },
      "execution_count": 50,
      "outputs": [
        {
          "output_type": "stream",
          "name": "stdout",
          "text": [
            "\u001b[1m9600/9600\u001b[0m \u001b[32m━━━━━━━━━━━━━━━━━━━━\u001b[0m\u001b[37m\u001b[0m \u001b[1m13s\u001b[0m 1ms/step\n"
          ]
        },
        {
          "output_type": "execute_result",
          "data": {
            "text/plain": [
              "<Axes: >"
            ]
          },
          "metadata": {},
          "execution_count": 50
        },
        {
          "output_type": "display_data",
          "data": {
            "text/plain": [
              "<Figure size 640x480 with 1 Axes>"
            ],
            "image/png": "[encoded data removed]"
          },
          "metadata": {}
        }
      ]
    },
    {
      "cell_type": "markdown",
      "source": [
        "HE-NORMAL"
      ],
      "metadata": {
        "id": "QAuhgFW7zpt1"
      }
    },
    {
      "cell_type": "code",
      "source": [
        "model=Sequential()\n",
        "\n",
        "model.add(Dense(10,input_dim=2,activation='relu',kernel_initializer='he_normal'))\n",
        "model.add(Dense(10,activation='relu',kernel_initializer='he_normal'))\n",
        "model.add(Dense(10,activation='relu',kernel_initializer='he_normal'))\n",
        "model.add(Dense(10,activation='relu',kernel_initializer='he_normal'))\n",
        "model.add(Dense(1,activation='sigmoid'))\n",
        "\n",
        "model.summary()"
      ],
      "metadata": {
        "colab": {
          "base_uri": "https://localhost:8080/",
          "height": 289
        },
        "id": "9NNoz1jGyube",
        "outputId": "18f81b96-d54b-4c82-ed73-f677e6654b84"
      },
      "execution_count": 51,
      "outputs": [
        {
          "output_type": "display_data",
          "data": {
            "text/plain": [
              "\u001b[1mModel: \"sequential_7\"\u001b[0m\n"
            ],
            "text/html": [
              "<pre style=\"white-space:pre;overflow-x:auto;line-height:normal;font-family:Menlo,'DejaVu Sans Mono',consolas,'Courier New',monospace\"><span style=\"font-weight: bold\">Model: \"sequential_7\"</span>\n",
              "</pre>\n"
            ]
          },
          "metadata": {}
        },
        {
          "output_type": "display_data",
          "data": {
            "text/plain": [
              "┏━━━━━━━━━━━━━━━━━━━━━━━━━━━━━━━━━━━━━━┳━━━━━━━━━━━━━━━━━━━━━━━━━━━━━┳━━━━━━━━━━━━━━━━━┓\n",
              "┃\u001b[1m \u001b[0m\u001b[1mLayer (type)                        \u001b[0m\u001b[1m \u001b[0m┃\u001b[1m \u001b[0m\u001b[1mOutput Shape               \u001b[0m\u001b[1m \u001b[0m┃\u001b[1m \u001b[0m\u001b[1m        Param #\u001b[0m\u001b[1m \u001b[0m┃\n",
              "┡━━━━━━━━━━━━━━━━━━━━━━━━━━━━━━━━━━━━━━╇━━━━━━━━━━━━━━━━━━━━━━━━━━━━━╇━━━━━━━━━━━━━━━━━┩\n",
              "│ dense_31 (\u001b[38;5;33mDense\u001b[0m)                     │ (\u001b[38;5;45mNone\u001b[0m, \u001b[38;5;34m10\u001b[0m)                  │              \u001b[38;5;34m30\u001b[0m │\n",
              "├──────────────────────────────────────┼─────────────────────────────┼─────────────────┤\n",
              "│ dense_32 (\u001b[38;5;33mDense\u001b[0m)                     │ (\u001b[38;5;45mNone\u001b[0m, \u001b[38;5;34m10\u001b[0m)                  │             \u001b[38;5;34m110\u001b[0m │\n",
              "├──────────────────────────────────────┼─────────────────────────────┼─────────────────┤\n",
              "│ dense_33 (\u001b[38;5;33mDense\u001b[0m)                     │ (\u001b[38;5;45mNone\u001b[0m, \u001b[38;5;34m10\u001b[0m)                  │             \u001b[38;5;34m110\u001b[0m │\n",
              "├──────────────────────────────────────┼─────────────────────────────┼─────────────────┤\n",
              "│ dense_34 (\u001b[38;5;33mDense\u001b[0m)                     │ (\u001b[38;5;45mNone\u001b[0m, \u001b[38;5;34m10\u001b[0m)                  │             \u001b[38;5;34m110\u001b[0m │\n",
              "├──────────────────────────────────────┼─────────────────────────────┼─────────────────┤\n",
              "│ dense_35 (\u001b[38;5;33mDense\u001b[0m)                     │ (\u001b[38;5;45mNone\u001b[0m, \u001b[38;5;34m1\u001b[0m)                   │              \u001b[38;5;34m11\u001b[0m │\n",
              "└──────────────────────────────────────┴─────────────────────────────┴─────────────────┘\n"
            ],
            "text/html": [
              "<pre style=\"white-space:pre;overflow-x:auto;line-height:normal;font-family:Menlo,'DejaVu Sans Mono',consolas,'Courier New',monospace\">┏━━━━━━━━━━━━━━━━━━━━━━━━━━━━━━━━━━━━━━┳━━━━━━━━━━━━━━━━━━━━━━━━━━━━━┳━━━━━━━━━━━━━━━━━┓\n",
              "┃<span style=\"font-weight: bold\"> Layer (type)                         </span>┃<span style=\"font-weight: bold\"> Output Shape                </span>┃<span style=\"font-weight: bold\">         Param # </span>┃\n",
              "┡━━━━━━━━━━━━━━━━━━━━━━━━━━━━━━━━━━━━━━╇━━━━━━━━━━━━━━━━━━━━━━━━━━━━━╇━━━━━━━━━━━━━━━━━┩\n",
              "│ dense_31 (<span style=\"color: #0087ff; text-decoration-color: #0087ff\">Dense</span>)                     │ (<span style=\"color: #00d7ff; text-decoration-color: #00d7ff\">None</span>, <span style=\"color: #00af00; text-decoration-color: #00af00\">10</span>)                  │              <span style=\"color: #00af00; text-decoration-color: #00af00\">30</span> │\n",
              "├──────────────────────────────────────┼─────────────────────────────┼─────────────────┤\n",
              "│ dense_32 (<span style=\"color: #0087ff; text-decoration-color: #0087ff\">Dense</span>)                     │ (<span style=\"color: #00d7ff; text-decoration-color: #00d7ff\">None</span>, <span style=\"color: #00af00; text-decoration-color: #00af00\">10</span>)                  │             <span style=\"color: #00af00; text-decoration-color: #00af00\">110</span> │\n",
              "├──────────────────────────────────────┼─────────────────────────────┼─────────────────┤\n",
              "│ dense_33 (<span style=\"color: #0087ff; text-decoration-color: #0087ff\">Dense</span>)                     │ (<span style=\"color: #00d7ff; text-decoration-color: #00d7ff\">None</span>, <span style=\"color: #00af00; text-decoration-color: #00af00\">10</span>)                  │             <span style=\"color: #00af00; text-decoration-color: #00af00\">110</span> │\n",
              "├──────────────────────────────────────┼─────────────────────────────┼─────────────────┤\n",
              "│ dense_34 (<span style=\"color: #0087ff; text-decoration-color: #0087ff\">Dense</span>)                     │ (<span style=\"color: #00d7ff; text-decoration-color: #00d7ff\">None</span>, <span style=\"color: #00af00; text-decoration-color: #00af00\">10</span>)                  │             <span style=\"color: #00af00; text-decoration-color: #00af00\">110</span> │\n",
              "├──────────────────────────────────────┼─────────────────────────────┼─────────────────┤\n",
              "│ dense_35 (<span style=\"color: #0087ff; text-decoration-color: #0087ff\">Dense</span>)                     │ (<span style=\"color: #00d7ff; text-decoration-color: #00d7ff\">None</span>, <span style=\"color: #00af00; text-decoration-color: #00af00\">1</span>)                   │              <span style=\"color: #00af00; text-decoration-color: #00af00\">11</span> │\n",
              "└──────────────────────────────────────┴─────────────────────────────┴─────────────────┘\n",
              "</pre>\n"
            ]
          },
          "metadata": {}
        },
        {
          "output_type": "display_data",
          "data": {
            "text/plain": [
              "\u001b[1m Total params: \u001b[0m\u001b[38;5;34m371\u001b[0m (1.45 KB)\n"
            ],
            "text/html": [
              "<pre style=\"white-space:pre;overflow-x:auto;line-height:normal;font-family:Menlo,'DejaVu Sans Mono',consolas,'Courier New',monospace\"><span style=\"font-weight: bold\"> Total params: </span><span style=\"color: #00af00; text-decoration-color: #00af00\">371</span> (1.45 KB)\n",
              "</pre>\n"
            ]
          },
          "metadata": {}
        },
        {
          "output_type": "display_data",
          "data": {
            "text/plain": [
              "\u001b[1m Trainable params: \u001b[0m\u001b[38;5;34m371\u001b[0m (1.45 KB)\n"
            ],
            "text/html": [
              "<pre style=\"white-space:pre;overflow-x:auto;line-height:normal;font-family:Menlo,'DejaVu Sans Mono',consolas,'Courier New',monospace\"><span style=\"font-weight: bold\"> Trainable params: </span><span style=\"color: #00af00; text-decoration-color: #00af00\">371</span> (1.45 KB)\n",
              "</pre>\n"
            ]
          },
          "metadata": {}
        },
        {
          "output_type": "display_data",
          "data": {
            "text/plain": [
              "\u001b[1m Non-trainable params: \u001b[0m\u001b[38;5;34m0\u001b[0m (0.00 B)\n"
            ],
            "text/html": [
              "<pre style=\"white-space:pre;overflow-x:auto;line-height:normal;font-family:Menlo,'DejaVu Sans Mono',consolas,'Courier New',monospace\"><span style=\"font-weight: bold\"> Non-trainable params: </span><span style=\"color: #00af00; text-decoration-color: #00af00\">0</span> (0.00 B)\n",
              "</pre>\n"
            ]
          },
          "metadata": {}
        }
      ]
    },
    {
      "cell_type": "code",
      "source": [
        "model.get_weights()"
      ],
      "metadata": {
        "colab": {
          "base_uri": "https://localhost:8080/"
        },
        "id": "t6tXfw1U0-HB",
        "outputId": "bbc80c34-498f-4a85-efd0-38b1c155d1e2"
      },
      "execution_count": 53,
      "outputs": [
        {
          "output_type": "execute_result",
          "data": {
            "text/plain": [
              "[array([[ 0.5763656 ,  0.23036319, -2.2333465 ,  0.15704322,  0.73204046,\n",
              "          0.23579353,  0.47659564, -0.7341416 , -1.0494434 , -0.20675409],\n",
              "        [-0.25189176, -0.10211886, -0.00904863, -0.13878705, -0.3172303 ,\n",
              "         -0.49586487, -1.2148708 , -0.24647251,  0.20593244,  0.20380193]],\n",
              "       dtype=float32),\n",
              " array([0., 0., 0., 0., 0., 0., 0., 0., 0., 0.], dtype=float32),\n",
              " array([[-0.83439565, -0.97433984, -0.0920826 ,  0.22753155, -0.25007254,\n",
              "          0.2948034 ,  0.67760223, -0.9701456 , -0.03686312, -0.49540654],\n",
              "        [ 0.24348786,  0.6241052 ,  0.57266164,  0.6912563 ,  0.29723138,\n",
              "         -0.11913107,  0.46122077, -0.8642858 , -0.10994979,  0.02132881],\n",
              "        [ 0.39833155,  0.9217009 ,  0.11188576,  0.89849746,  0.83943266,\n",
              "          0.2071565 ,  0.3918277 , -0.05493837, -0.2250669 ,  0.5685254 ],\n",
              "        [ 0.2972864 ,  0.19224407, -0.23393342,  0.08008923, -0.47854012,\n",
              "          0.16763934,  0.7747916 ,  0.69989645, -0.6508767 , -0.05292017],\n",
              "        [-0.35411116, -0.48671708,  0.09438074,  0.05696945,  0.04626787,\n",
              "          0.9991357 , -0.03032996, -0.3175669 ,  0.47023535,  0.8707214 ],\n",
              "        [ 0.4546122 ,  0.05453491,  0.06929212,  0.61939406,  0.26500574,\n",
              "          0.33286405, -0.4217129 ,  0.08578625, -1.0000103 ,  0.31831396],\n",
              "        [ 0.5347916 , -0.2689269 ,  0.20735492,  0.13827263,  1.0034415 ,\n",
              "         -0.29190218, -0.3018709 ,  0.50479996,  0.65944034, -0.13856347],\n",
              "        [ 0.7443286 , -0.6452848 , -0.078828  , -0.02402418,  0.7203136 ,\n",
              "         -0.6130022 , -0.12024232, -0.7382516 ,  0.5297515 , -0.16354942],\n",
              "        [ 0.23701803,  0.88699013, -0.03851059, -0.0925164 ,  0.51835644,\n",
              "         -0.3895839 ,  0.17795686,  0.03305022, -0.08265191,  0.5997101 ],\n",
              "        [ 0.66288656,  0.13727212, -0.85474473,  0.43562323, -0.08050723,\n",
              "          0.74972785, -0.671772  , -0.13467273,  0.58862245,  0.6913596 ]],\n",
              "       dtype=float32),\n",
              " array([0., 0., 0., 0., 0., 0., 0., 0., 0., 0.], dtype=float32),\n",
              " array([[ 0.56358486,  0.19536999,  0.5638705 ,  0.5721301 , -0.19571275,\n",
              "          0.00524546,  0.78839207, -0.12318843, -0.6769129 , -0.51750934],\n",
              "        [-0.17291868, -0.9507566 , -0.27907497, -0.04987857, -0.36300927,\n",
              "         -0.36647078,  0.05907421,  0.44033977, -0.07339488,  0.25538087],\n",
              "        [-0.1579658 ,  0.09136545,  0.16662444, -0.4480214 , -0.09747002,\n",
              "          0.2479835 ,  0.38972622, -0.792499  ,  0.23301946,  0.03036361],\n",
              "        [-0.36702657, -0.13356729,  0.10463291, -0.9931259 ,  0.2364385 ,\n",
              "          0.3429291 , -0.18919054,  0.51394904,  0.34969553, -0.09327274],\n",
              "        [-0.26148707,  0.2932887 , -0.1604233 ,  0.36958972,  0.7939357 ,\n",
              "         -0.23582481,  0.5149675 ,  0.29382986, -0.75525093,  0.01138932],\n",
              "        [ 0.5602269 , -0.82451856,  0.12979947, -0.7857161 , -0.38444993,\n",
              "         -0.02761095, -0.26430073, -0.19176215,  0.59363115, -0.65855074],\n",
              "        [-0.3524225 , -0.35362935, -0.41339615, -0.04462904,  0.4130681 ,\n",
              "         -0.10986689, -0.9006759 , -0.35053065, -0.02149064,  0.09927195],\n",
              "        [ 0.7062352 ,  0.2047219 ,  0.44471323, -0.260231  , -0.14743808,\n",
              "         -0.30808538,  0.24213335,  0.9810225 , -0.04120142,  0.17059466],\n",
              "        [ 0.3206087 ,  0.92561436,  0.29464924, -0.16755404,  0.45805275,\n",
              "          0.1010778 , -0.01248527, -0.21665737,  0.23530342, -0.4161982 ],\n",
              "        [-0.08027323, -0.07391383, -0.04679269,  0.5677076 , -0.56892014,\n",
              "          0.39015016, -0.01830463, -0.01528943, -0.5795753 ,  0.252968  ]],\n",
              "       dtype=float32),\n",
              " array([0., 0., 0., 0., 0., 0., 0., 0., 0., 0.], dtype=float32),\n",
              " array([[ 6.0555625e-01,  7.7264085e-02,  4.0173629e-01,  5.0973130e-04,\n",
              "         -1.1901818e-01, -4.5619142e-01,  1.8156068e-01,  1.7490971e-01,\n",
              "          3.4682387e-01,  7.9371214e-01],\n",
              "        [-4.0956169e-01,  3.0386532e-02,  6.2331516e-02,  2.4960467e-01,\n",
              "          2.8239435e-01, -2.3781720e-01, -2.8450027e-01, -1.7550094e-01,\n",
              "         -3.0050445e-01, -1.9544481e-01],\n",
              "        [-3.8180268e-01, -2.6378471e-01, -1.9110473e-01,  2.3295562e-01,\n",
              "         -8.1597227e-01,  4.7815025e-01,  3.1846625e-01,  3.1328562e-01,\n",
              "          2.1301372e-01, -8.6699432e-01],\n",
              "        [-2.2632203e-01,  8.8529430e-02,  4.9638115e-02, -2.9609150e-01,\n",
              "          2.0288748e-01, -9.2433713e-02, -3.6390815e-02, -4.7610310e-01,\n",
              "          5.2538639e-01, -4.9826095e-01],\n",
              "        [ 2.2514609e-01,  6.7815888e-01, -2.6665456e-03,  3.6478707e-01,\n",
              "          6.6202801e-01,  1.5948288e-01,  3.9277464e-01, -2.8684413e-01,\n",
              "         -8.8087626e-02,  6.7335880e-01],\n",
              "        [ 7.0943296e-01,  1.9327046e-01, -2.8462857e-01, -1.2722243e-01,\n",
              "         -2.4889629e-01, -3.5293427e-01,  2.4704336e-01,  3.7768301e-01,\n",
              "         -2.7434415e-01,  5.7677954e-01],\n",
              "        [ 5.1108539e-01,  2.6181692e-01, -5.9418219e-01, -4.1816759e-01,\n",
              "          8.6949497e-01,  4.8105666e-01,  4.9160829e-01, -7.4703425e-01,\n",
              "          4.4285607e-01,  4.2659360e-01],\n",
              "        [-8.2643682e-01, -8.2705867e-01, -4.9132043e-01,  4.1303900e-01,\n",
              "          4.5673016e-01,  5.6524122e-01,  3.2181229e-02, -2.6069030e-01,\n",
              "         -3.7717596e-02, -5.7643467e-01],\n",
              "        [ 3.2725221e-01, -1.5408102e-01,  1.7450087e-03,  3.7364770e-02,\n",
              "         -2.0376600e-01, -4.3206170e-01, -6.6676922e-02,  3.6606231e-01,\n",
              "          1.2345358e-01, -1.5240717e-01],\n",
              "        [ 2.0289724e-01,  3.9364505e-01,  4.9275023e-01, -4.1311431e-01,\n",
              "         -5.4726076e-01, -7.5970821e-02, -2.7145189e-01, -5.9691238e-01,\n",
              "         -5.1583970e-01,  1.1495451e-01]], dtype=float32),\n",
              " array([0., 0., 0., 0., 0., 0., 0., 0., 0., 0.], dtype=float32),\n",
              " array([[-0.67162335],\n",
              "        [-0.65085447],\n",
              "        [-0.11814958],\n",
              "        [-0.35410255],\n",
              "        [-0.47337484],\n",
              "        [-0.08567321],\n",
              "        [ 0.4632761 ],\n",
              "        [-0.45237386],\n",
              "        [ 0.3060872 ],\n",
              "        [ 0.45599324]], dtype=float32),\n",
              " array([0.], dtype=float32)]"
            ]
          },
          "metadata": {},
          "execution_count": 53
        }
      ]
    },
    {
      "cell_type": "code",
      "source": [
        "ini_weight=model.get_weights()"
      ],
      "metadata": {
        "id": "NfpGTIWWyuYr"
      },
      "execution_count": 52,
      "outputs": []
    },
    {
      "cell_type": "code",
      "source": [
        "ini_weight[0]=np.random.randn(2,10)*np.sqrt(2/2)\n",
        "ini_weight[1]=np.zeros(model.get_weights()[1].shape)\n",
        "ini_weight[2]=np.random.randn(10,10)*np.sqrt(2/2)\n",
        "ini_weight[3]=np.zeros(model.get_weights()[3].shape)\n",
        "ini_weight[4]=np.random.randn(10,10)*np.sqrt(2/2)\n",
        "ini_weight[5]=np.zeros(model.get_weights()[5].shape)\n",
        "ini_weight[6]=np.random.randn(10,10)*np.sqrt(2/2)\n",
        "ini_weight[7]=np.zeros(model.get_weights()[7].shape)\n",
        "ini_weight[8]=np.random.randn(10,1)*np.sqrt(2/2)\n",
        "ini_weight[9]=np.zeros(model.get_weights()[9].shape)"
      ],
      "metadata": {
        "id": "vHbNusWnyuV2"
      },
      "execution_count": 54,
      "outputs": []
    },
    {
      "cell_type": "code",
      "source": [
        "model.set_weights(ini_weight)\n",
        "model.get_weights()"
      ],
      "metadata": {
        "colab": {
          "base_uri": "https://localhost:8080/"
        },
        "id": "URI4dAw1yuSs",
        "outputId": "5e28e1ae-54bb-423d-be89-06f1b63450ff"
      },
      "execution_count": 55,
      "outputs": [
        {
          "output_type": "execute_result",
          "data": {
            "text/plain": [
              "[array([[ 1.6700808 ,  0.02398252,  0.3037097 ,  0.00736149, -0.5778023 ,\n",
              "          0.70549214,  0.06672742,  0.56003225,  0.3474012 , -0.15997936],\n",
              "        [-0.30914894, -0.5552934 , -1.4678625 ,  0.9776605 , -1.1393715 ,\n",
              "          0.47460824,  0.4514862 ,  1.6008675 , -0.31376013,  1.2353755 ]],\n",
              "       dtype=float32),\n",
              " array([0., 0., 0., 0., 0., 0., 0., 0., 0., 0.], dtype=float32),\n",
              " array([[-0.71785355, -0.51527447,  0.7170237 , -0.37410995, -0.9683156 ,\n",
              "          2.502246  ,  0.00843898, -1.209363  , -0.3043951 ,  0.28933483],\n",
              "        [-0.07325009, -0.29590026,  1.1793948 , -0.06021889,  0.16535215,\n",
              "          1.6507937 ,  0.6123472 ,  0.24933441,  0.27986172, -0.22627686],\n",
              "        [ 2.0474339 ,  0.12047791,  1.3896363 ,  0.20093201,  0.44885477,\n",
              "         -0.312105  ,  0.26697508,  0.24058972,  1.2820836 , -0.01211601],\n",
              "        [-0.2075777 , -1.8672374 , -0.34890294,  0.18410824,  1.3226559 ,\n",
              "          0.39536098,  0.2032931 ,  0.2131446 , -0.387222  ,  1.3651961 ],\n",
              "        [ 0.40589398, -0.8137776 , -0.66250116,  0.6406433 , -0.7128623 ,\n",
              "          1.0657363 ,  0.3258854 , -1.4393877 , -0.32382268, -0.09817518],\n",
              "        [-1.6766777 , -1.306589  ,  0.59241736, -1.4420607 ,  0.52004576,\n",
              "          0.56289303,  0.23168252, -0.00298265,  0.2386453 ,  0.9736904 ],\n",
              "        [-0.8819775 , -0.30361134,  0.23896776, -0.9372751 , -0.62570333,\n",
              "          0.31455478,  0.05144586,  1.9892628 , -0.21782261, -2.142777  ],\n",
              "        [ 0.6938449 ,  0.45946985, -0.38048762, -0.4974511 , -0.3761609 ,\n",
              "         -0.40144062, -0.8919598 , -0.98816293, -0.11033593, -0.73698205],\n",
              "        [ 0.32053155,  0.04386293,  1.238845  ,  0.6554876 , -0.00800986,\n",
              "         -1.8291844 , -1.6618903 , -2.2496104 ,  0.45981064,  1.1190906 ],\n",
              "        [-0.6696488 , -0.508556  , -0.9870414 , -1.7342312 ,  0.31069538,\n",
              "          0.30390614,  1.5507879 ,  1.745011  , -0.4384472 , -0.19552185]],\n",
              "       dtype=float32),\n",
              " array([0., 0., 0., 0., 0., 0., 0., 0., 0., 0.], dtype=float32),\n",
              " array([[ 1.6438073e+00,  4.7778401e-01, -1.3977616e-01,  4.5497337e-01,\n",
              "         -1.0471830e-01,  1.8016395e-01, -3.1770292e-01,  2.5122988e+00,\n",
              "         -2.0886979e+00,  1.7965874e-01],\n",
              "        [ 1.4089853e+00, -1.5567263e+00,  6.4103216e-01,  8.8820505e-01,\n",
              "         -5.6242574e-02,  1.5643781e+00, -7.2598296e-01,  2.0271213e+00,\n",
              "         -1.1483824e+00, -6.4801621e-01],\n",
              "        [ 3.8132140e-01, -6.3121146e-01,  1.2484554e+00,  2.3011680e+00,\n",
              "         -6.9460922e-01,  6.1627799e-01, -1.2495726e+00, -1.7630150e+00,\n",
              "          6.5734088e-01, -1.2419448e+00],\n",
              "        [-9.3730915e-01,  2.3150894e-01,  8.4157234e-01, -3.8096836e-01,\n",
              "         -1.1135505e+00, -3.0058226e-01, -5.7241774e-01, -2.3552765e-01,\n",
              "         -4.4246873e-01,  1.2585502e+00],\n",
              "        [ 4.5889595e-01, -1.3733233e+00, -4.3080565e-01, -1.1968088e+00,\n",
              "         -4.8221070e-01, -1.2766488e+00,  3.5260391e-01,  1.2233641e+00,\n",
              "          7.2422647e-01,  1.4348503e+00],\n",
              "        [ 6.0981266e-02, -2.0724975e-01,  2.3349034e-02,  1.1871648e+00,\n",
              "         -8.4671354e-01,  1.8569040e+00,  5.6467086e-02, -1.1435330e+00,\n",
              "         -1.6739683e+00, -3.4359238e-01],\n",
              "        [ 8.5989511e-01,  6.4361018e-01,  4.4590566e-01, -1.7160429e-01,\n",
              "         -5.6643212e-01, -5.1484275e-01, -4.0313244e-01,  1.8342458e+00,\n",
              "          1.0263630e+00, -5.9007472e-01],\n",
              "        [ 4.0407211e-01, -2.1643995e-01,  8.4451586e-01,  5.9252310e-01,\n",
              "          8.9109330e-05,  4.0932834e-02, -1.4366075e+00, -2.9232648e-01,\n",
              "          1.2206122e+00,  8.3528644e-01],\n",
              "        [-1.3482149e+00, -1.1307185e-01,  7.9363263e-01, -1.4364421e+00,\n",
              "          2.0127133e-01,  1.3246657e-01,  1.1506644e+00,  6.0057800e-02,\n",
              "          7.9833931e-01, -4.3698603e-01],\n",
              "        [-2.7071920e-01,  1.1856495e+00, -8.9311117e-01,  1.0756875e+00,\n",
              "          2.4643470e-01,  5.5501652e-01,  3.4788263e-01,  4.8577988e-01,\n",
              "          1.0612149e+00, -9.2747539e-01]], dtype=float32),\n",
              " array([0., 0., 0., 0., 0., 0., 0., 0., 0., 0.], dtype=float32),\n",
              " array([[-0.05680888, -0.5774454 , -0.6719264 ,  1.4843059 ,  0.7552009 ,\n",
              "          1.3380723 , -0.17751434,  0.17454904, -2.4344757 ,  1.0560783 ],\n",
              "        [ 0.5427646 , -0.23946315, -0.37885094,  0.27481547, -1.138611  ,\n",
              "         -1.4577955 , -0.3465949 , -2.1200345 ,  0.57598764,  1.1718624 ],\n",
              "        [ 2.8282344 , -0.04332445, -0.25731894,  0.5136523 ,  1.221035  ,\n",
              "         -0.4229965 , -0.9347185 , -0.9084749 , -0.4031643 , -0.47741336],\n",
              "        [-0.6930215 ,  2.2503314 ,  0.18904226, -0.86160743, -0.37879655,\n",
              "          1.6457281 ,  0.00993428,  0.9325428 , -1.1210171 ,  1.1554507 ],\n",
              "        [-0.33240628,  0.847931  , -0.6109886 ,  1.6134982 , -0.7230407 ,\n",
              "          2.5043368 , -0.28868484,  1.5495702 ,  0.6171999 , -0.47064325],\n",
              "        [ 1.353642  , -0.9133023 ,  0.35269716, -2.735384  , -1.879656  ,\n",
              "         -0.61424446,  0.7924323 , -0.34382135,  0.53535694,  1.0244608 ],\n",
              "        [-0.40604022, -1.3601992 ,  2.7909489 ,  0.45373678, -1.1694057 ,\n",
              "         -0.5139246 , -0.31888956, -0.18604264, -0.9261021 , -0.82313895],\n",
              "        [ 1.3833692 ,  0.17316073,  0.7006162 , -1.0899009 ,  0.4417698 ,\n",
              "          1.5880173 ,  0.10982031,  1.008832  , -0.5017332 , -0.2739709 ],\n",
              "        [ 0.13191506,  0.35258913, -0.06082509, -0.61187595, -1.4974722 ,\n",
              "          0.29775274,  0.8266349 , -0.589898  , -0.5485164 , -0.67250824],\n",
              "        [ 0.34970385,  0.7313543 ,  0.20343624,  0.56780994, -0.71309584,\n",
              "         -0.92242366, -0.5952582 , -1.0544838 , -3.5202043 , -0.46735552]],\n",
              "       dtype=float32),\n",
              " array([0., 0., 0., 0., 0., 0., 0., 0., 0., 0.], dtype=float32),\n",
              " array([[ 2.3968482 ],\n",
              "        [ 0.86171675],\n",
              "        [-0.42518923],\n",
              "        [ 0.2640273 ],\n",
              "        [-0.89233613],\n",
              "        [ 1.2777795 ],\n",
              "        [ 1.4161786 ],\n",
              "        [ 0.49123603],\n",
              "        [-0.25019166],\n",
              "        [ 0.01458023]], dtype=float32),\n",
              " array([0.], dtype=float32)]"
            ]
          },
          "metadata": {},
          "execution_count": 55
        }
      ]
    },
    {
      "cell_type": "code",
      "source": [
        "model.compile(loss='binary_crossentropy',optimizer='adam',metrics=['accuracy'])\n",
        "history=model.fit(X,y,epochs=100,validation_split=0.2)"
      ],
      "metadata": {
        "colab": {
          "base_uri": "https://localhost:8080/"
        },
        "collapsed": true,
        "id": "VI22B6xoyuPC",
        "outputId": "b0229559-cd02-4ead-d33d-19d1b6f56c53"
      },
      "execution_count": 56,
      "outputs": [
        {
          "output_type": "stream",
          "name": "stdout",
          "text": [
            "Epoch 1/100\n",
            "\u001b[1m3/3\u001b[0m \u001b[32m━━━━━━━━━━━━━━━━━━━━\u001b[0m\u001b[37m\u001b[0m \u001b[1m4s\u001b[0m 692ms/step - accuracy: 0.5227 - loss: 12.4298 - val_accuracy: 0.5000 - val_loss: 13.1975\n",
            "Epoch 2/100\n",
            "\u001b[1m3/3\u001b[0m \u001b[32m━━━━━━━━━━━━━━━━━━━━\u001b[0m\u001b[37m\u001b[0m \u001b[1m0s\u001b[0m 25ms/step - accuracy: 0.5149 - loss: 11.2473 - val_accuracy: 0.5000 - val_loss: 12.6821\n",
            "Epoch 3/100\n",
            "\u001b[1m3/3\u001b[0m \u001b[32m━━━━━━━━━━━━━━━━━━━━\u001b[0m\u001b[37m\u001b[0m \u001b[1m0s\u001b[0m 20ms/step - accuracy: 0.5110 - loss: 12.1468 - val_accuracy: 0.5000 - val_loss: 12.1889\n",
            "Epoch 4/100\n",
            "\u001b[1m3/3\u001b[0m \u001b[32m━━━━━━━━━━━━━━━━━━━━\u001b[0m\u001b[37m\u001b[0m \u001b[1m0s\u001b[0m 28ms/step - accuracy: 0.5149 - loss: 10.1703 - val_accuracy: 0.5000 - val_loss: 11.7144\n",
            "Epoch 5/100\n",
            "\u001b[1m3/3\u001b[0m \u001b[32m━━━━━━━━━━━━━━━━━━━━\u001b[0m\u001b[37m\u001b[0m \u001b[1m0s\u001b[0m 14ms/step - accuracy: 0.5344 - loss: 10.0015 - val_accuracy: 0.5000 - val_loss: 11.2530\n",
            "Epoch 6/100\n",
            "\u001b[1m3/3\u001b[0m \u001b[32m━━━━━━━━━━━━━━━━━━━━\u001b[0m\u001b[37m\u001b[0m \u001b[1m0s\u001b[0m 18ms/step - accuracy: 0.5071 - loss: 10.5816 - val_accuracy: 0.5000 - val_loss: 10.8039\n",
            "Epoch 7/100\n",
            "\u001b[1m3/3\u001b[0m \u001b[32m━━━━━━━━━━━━━━━━━━━━\u001b[0m\u001b[37m\u001b[0m \u001b[1m0s\u001b[0m 13ms/step - accuracy: 0.4797 - loss: 10.2666 - val_accuracy: 0.5000 - val_loss: 10.3841\n",
            "Epoch 8/100\n",
            "\u001b[1m3/3\u001b[0m \u001b[32m━━━━━━━━━━━━━━━━━━━━\u001b[0m\u001b[37m\u001b[0m \u001b[1m0s\u001b[0m 16ms/step - accuracy: 0.4914 - loss: 9.2584 - val_accuracy: 0.5000 - val_loss: 9.9780\n",
            "Epoch 9/100\n",
            "\u001b[1m3/3\u001b[0m \u001b[32m━━━━━━━━━━━━━━━━━━━━\u001b[0m\u001b[37m\u001b[0m \u001b[1m0s\u001b[0m 14ms/step - accuracy: 0.4875 - loss: 8.8165 - val_accuracy: 0.4500 - val_loss: 9.5867\n",
            "Epoch 10/100\n",
            "\u001b[1m3/3\u001b[0m \u001b[32m━━━━━━━━━━━━━━━━━━━━\u001b[0m\u001b[37m\u001b[0m \u001b[1m0s\u001b[0m 13ms/step - accuracy: 0.4758 - loss: 8.3593 - val_accuracy: 0.4500 - val_loss: 9.2123\n",
            "Epoch 11/100\n",
            "\u001b[1m3/3\u001b[0m \u001b[32m━━━━━━━━━━━━━━━━━━━━\u001b[0m\u001b[37m\u001b[0m \u001b[1m0s\u001b[0m 13ms/step - accuracy: 0.5032 - loss: 8.0674 - val_accuracy: 0.4500 - val_loss: 8.8477\n",
            "Epoch 12/100\n",
            "\u001b[1m3/3\u001b[0m \u001b[32m━━━━━━━━━━━━━━━━━━━━\u001b[0m\u001b[37m\u001b[0m \u001b[1m0s\u001b[0m 25ms/step - accuracy: 0.5071 - loss: 8.1347 - val_accuracy: 0.4500 - val_loss: 8.4943\n",
            "Epoch 13/100\n",
            "\u001b[1m3/3\u001b[0m \u001b[32m━━━━━━━━━━━━━━━━━━━━\u001b[0m\u001b[37m\u001b[0m \u001b[1m0s\u001b[0m 29ms/step - accuracy: 0.5188 - loss: 6.5756 - val_accuracy: 0.4500 - val_loss: 8.1556\n",
            "Epoch 14/100\n",
            "\u001b[1m3/3\u001b[0m \u001b[32m━━━━━━━━━━━━━━━━━━━━\u001b[0m\u001b[37m\u001b[0m \u001b[1m0s\u001b[0m 25ms/step - accuracy: 0.5086 - loss: 6.8965 - val_accuracy: 0.4500 - val_loss: 7.8293\n",
            "Epoch 15/100\n",
            "\u001b[1m3/3\u001b[0m \u001b[32m━━━━━━━━━━━━━━━━━━━━\u001b[0m\u001b[37m\u001b[0m \u001b[1m0s\u001b[0m 21ms/step - accuracy: 0.4617 - loss: 6.9682 - val_accuracy: 0.4500 - val_loss: 7.5245\n",
            "Epoch 16/100\n",
            "\u001b[1m3/3\u001b[0m \u001b[32m━━━━━━━━━━━━━━━━━━━━\u001b[0m\u001b[37m\u001b[0m \u001b[1m0s\u001b[0m 20ms/step - accuracy: 0.5203 - loss: 5.9873 - val_accuracy: 0.4500 - val_loss: 7.2317\n",
            "Epoch 17/100\n",
            "\u001b[1m3/3\u001b[0m \u001b[32m━━━━━━━━━━━━━━━━━━━━\u001b[0m\u001b[37m\u001b[0m \u001b[1m0s\u001b[0m 22ms/step - accuracy: 0.5046 - loss: 5.3324 - val_accuracy: 0.4500 - val_loss: 6.9473\n",
            "Epoch 18/100\n",
            "\u001b[1m3/3\u001b[0m \u001b[32m━━━━━━━━━━━━━━━━━━━━\u001b[0m\u001b[37m\u001b[0m \u001b[1m0s\u001b[0m 54ms/step - accuracy: 0.4382 - loss: 6.7799 - val_accuracy: 0.5000 - val_loss: 6.6704\n",
            "Epoch 19/100\n",
            "\u001b[1m3/3\u001b[0m \u001b[32m━━━━━━━━━━━━━━━━━━━━\u001b[0m\u001b[37m\u001b[0m \u001b[1m0s\u001b[0m 54ms/step - accuracy: 0.5242 - loss: 4.5354 - val_accuracy: 0.5000 - val_loss: 6.4089\n",
            "Epoch 20/100\n",
            "\u001b[1m3/3\u001b[0m \u001b[32m━━━━━━━━━━━━━━━━━━━━\u001b[0m\u001b[37m\u001b[0m \u001b[1m0s\u001b[0m 22ms/step - accuracy: 0.4890 - loss: 5.4663 - val_accuracy: 0.5000 - val_loss: 6.1499\n",
            "Epoch 21/100\n",
            "\u001b[1m3/3\u001b[0m \u001b[32m━━━━━━━━━━━━━━━━━━━━\u001b[0m\u001b[37m\u001b[0m \u001b[1m0s\u001b[0m 20ms/step - accuracy: 0.4968 - loss: 5.4144 - val_accuracy: 0.5000 - val_loss: 5.9071\n",
            "Epoch 22/100\n",
            "\u001b[1m3/3\u001b[0m \u001b[32m━━━━━━━━━━━━━━━━━━━━\u001b[0m\u001b[37m\u001b[0m \u001b[1m0s\u001b[0m 20ms/step - accuracy: 0.4734 - loss: 5.0802 - val_accuracy: 0.5000 - val_loss: 5.6685\n",
            "Epoch 23/100\n",
            "\u001b[1m3/3\u001b[0m \u001b[32m━━━━━━━━━━━━━━━━━━━━\u001b[0m\u001b[37m\u001b[0m \u001b[1m0s\u001b[0m 21ms/step - accuracy: 0.4656 - loss: 5.5034 - val_accuracy: 0.5000 - val_loss: 5.4366\n",
            "Epoch 24/100\n",
            "\u001b[1m3/3\u001b[0m \u001b[32m━━━━━━━━━━━━━━━━━━━━\u001b[0m\u001b[37m\u001b[0m \u001b[1m0s\u001b[0m 30ms/step - accuracy: 0.5515 - loss: 4.2272 - val_accuracy: 0.5500 - val_loss: 5.2142\n",
            "Epoch 25/100\n",
            "\u001b[1m3/3\u001b[0m \u001b[32m━━━━━━━━━━━━━━━━━━━━\u001b[0m\u001b[37m\u001b[0m \u001b[1m0s\u001b[0m 13ms/step - accuracy: 0.4646 - loss: 4.8550 - val_accuracy: 0.5500 - val_loss: 4.9829\n",
            "Epoch 26/100\n",
            "\u001b[1m3/3\u001b[0m \u001b[32m━━━━━━━━━━━━━━━━━━━━\u001b[0m\u001b[37m\u001b[0m \u001b[1m0s\u001b[0m 13ms/step - accuracy: 0.4490 - loss: 4.3742 - val_accuracy: 0.5500 - val_loss: 4.7519\n",
            "Epoch 27/100\n",
            "\u001b[1m3/3\u001b[0m \u001b[32m━━━━━━━━━━━━━━━━━━━━\u001b[0m\u001b[37m\u001b[0m \u001b[1m0s\u001b[0m 13ms/step - accuracy: 0.5007 - loss: 3.8963 - val_accuracy: 0.5500 - val_loss: 4.5275\n",
            "Epoch 28/100\n",
            "\u001b[1m3/3\u001b[0m \u001b[32m━━━━━━━━━━━━━━━━━━━━\u001b[0m\u001b[37m\u001b[0m \u001b[1m0s\u001b[0m 13ms/step - accuracy: 0.5203 - loss: 3.6787 - val_accuracy: 0.5500 - val_loss: 4.3199\n",
            "Epoch 29/100\n",
            "\u001b[1m3/3\u001b[0m \u001b[32m━━━━━━━━━━━━━━━━━━━━\u001b[0m\u001b[37m\u001b[0m \u001b[1m0s\u001b[0m 13ms/step - accuracy: 0.4803 - loss: 3.4964 - val_accuracy: 0.5500 - val_loss: 4.1160\n",
            "Epoch 30/100\n",
            "\u001b[1m3/3\u001b[0m \u001b[32m━━━━━━━━━━━━━━━━━━━━\u001b[0m\u001b[37m\u001b[0m \u001b[1m0s\u001b[0m 16ms/step - accuracy: 0.4373 - loss: 4.1496 - val_accuracy: 0.5500 - val_loss: 3.9134\n",
            "Epoch 31/100\n",
            "\u001b[1m3/3\u001b[0m \u001b[32m━━━━━━━━━━━━━━━━━━━━\u001b[0m\u001b[37m\u001b[0m \u001b[1m0s\u001b[0m 20ms/step - accuracy: 0.4725 - loss: 3.3920 - val_accuracy: 0.5500 - val_loss: 3.7281\n",
            "Epoch 32/100\n",
            "\u001b[1m3/3\u001b[0m \u001b[32m━━━━━━━━━━━━━━━━━━━━\u001b[0m\u001b[37m\u001b[0m \u001b[1m0s\u001b[0m 23ms/step - accuracy: 0.4412 - loss: 3.3700 - val_accuracy: 0.5500 - val_loss: 3.5473\n",
            "Epoch 33/100\n",
            "\u001b[1m3/3\u001b[0m \u001b[32m━━━━━━━━━━━━━━━━━━━━\u001b[0m\u001b[37m\u001b[0m \u001b[1m0s\u001b[0m 21ms/step - accuracy: 0.4607 - loss: 3.2680 - val_accuracy: 0.5500 - val_loss: 3.3747\n",
            "Epoch 34/100\n",
            "\u001b[1m3/3\u001b[0m \u001b[32m━━━━━━━━━━━━━━━━━━━━\u001b[0m\u001b[37m\u001b[0m \u001b[1m0s\u001b[0m 14ms/step - accuracy: 0.4607 - loss: 2.6555 - val_accuracy: 0.5500 - val_loss: 3.2119\n",
            "Epoch 35/100\n",
            "\u001b[1m3/3\u001b[0m \u001b[32m━━━━━━━━━━━━━━━━━━━━\u001b[0m\u001b[37m\u001b[0m \u001b[1m0s\u001b[0m 15ms/step - accuracy: 0.4725 - loss: 2.5413 - val_accuracy: 0.5500 - val_loss: 3.0546\n",
            "Epoch 36/100\n",
            "\u001b[1m3/3\u001b[0m \u001b[32m━━━━━━━━━━━━━━━━━━━━\u001b[0m\u001b[37m\u001b[0m \u001b[1m0s\u001b[0m 29ms/step - accuracy: 0.4954 - loss: 2.9502 - val_accuracy: 0.5500 - val_loss: 2.8980\n",
            "Epoch 37/100\n",
            "\u001b[1m3/3\u001b[0m \u001b[32m━━━━━━━━━━━━━━━━━━━━\u001b[0m\u001b[37m\u001b[0m \u001b[1m0s\u001b[0m 30ms/step - accuracy: 0.4914 - loss: 2.5916 - val_accuracy: 0.5500 - val_loss: 2.7476\n",
            "Epoch 38/100\n",
            "\u001b[1m3/3\u001b[0m \u001b[32m━━━━━━━━━━━━━━━━━━━━\u001b[0m\u001b[37m\u001b[0m \u001b[1m0s\u001b[0m 29ms/step - accuracy: 0.5158 - loss: 2.5369 - val_accuracy: 0.5500 - val_loss: 2.6034\n",
            "Epoch 39/100\n",
            "\u001b[1m3/3\u001b[0m \u001b[32m━━━━━━━━━━━━━━━━━━━━\u001b[0m\u001b[37m\u001b[0m \u001b[1m0s\u001b[0m 29ms/step - accuracy: 0.5573 - loss: 2.0027 - val_accuracy: 0.5500 - val_loss: 2.4629\n",
            "Epoch 40/100\n",
            "\u001b[1m3/3\u001b[0m \u001b[32m━━━━━━━━━━━━━━━━━━━━\u001b[0m\u001b[37m\u001b[0m \u001b[1m0s\u001b[0m 34ms/step - accuracy: 0.5573 - loss: 2.0147 - val_accuracy: 0.5500 - val_loss: 2.3261\n",
            "Epoch 41/100\n",
            "\u001b[1m3/3\u001b[0m \u001b[32m━━━━━━━━━━━━━━━━━━━━\u001b[0m\u001b[37m\u001b[0m \u001b[1m0s\u001b[0m 19ms/step - accuracy: 0.5495 - loss: 1.9272 - val_accuracy: 0.6000 - val_loss: 2.1940\n",
            "Epoch 42/100\n",
            "\u001b[1m3/3\u001b[0m \u001b[32m━━━━━━━━━━━━━━━━━━━━\u001b[0m\u001b[37m\u001b[0m \u001b[1m0s\u001b[0m 22ms/step - accuracy: 0.5729 - loss: 2.1223 - val_accuracy: 0.6000 - val_loss: 2.0712\n",
            "Epoch 43/100\n",
            "\u001b[1m3/3\u001b[0m \u001b[32m━━━━━━━━━━━━━━━━━━━━\u001b[0m\u001b[37m\u001b[0m \u001b[1m0s\u001b[0m 20ms/step - accuracy: 0.5339 - loss: 1.5884 - val_accuracy: 0.6000 - val_loss: 1.9599\n",
            "Epoch 44/100\n",
            "\u001b[1m3/3\u001b[0m \u001b[32m━━━━━━━━━━━━━━━━━━━━\u001b[0m\u001b[37m\u001b[0m \u001b[1m0s\u001b[0m 32ms/step - accuracy: 0.5988 - loss: 1.8330 - val_accuracy: 0.6000 - val_loss: 1.8511\n",
            "Epoch 45/100\n",
            "\u001b[1m3/3\u001b[0m \u001b[32m━━━━━━━━━━━━━━━━━━━━\u001b[0m\u001b[37m\u001b[0m \u001b[1m0s\u001b[0m 23ms/step - accuracy: 0.5426 - loss: 1.8755 - val_accuracy: 0.5500 - val_loss: 1.7480\n",
            "Epoch 46/100\n",
            "\u001b[1m3/3\u001b[0m \u001b[32m━━━━━━━━━━━━━━━━━━━━\u001b[0m\u001b[37m\u001b[0m \u001b[1m0s\u001b[0m 23ms/step - accuracy: 0.5709 - loss: 1.6011 - val_accuracy: 0.5500 - val_loss: 1.6517\n",
            "Epoch 47/100\n",
            "\u001b[1m3/3\u001b[0m \u001b[32m━━━━━━━━━━━━━━━━━━━━\u001b[0m\u001b[37m\u001b[0m \u001b[1m0s\u001b[0m 23ms/step - accuracy: 0.6524 - loss: 1.2530 - val_accuracy: 0.5500 - val_loss: 1.5593\n",
            "Epoch 48/100\n",
            "\u001b[1m3/3\u001b[0m \u001b[32m━━━━━━━━━━━━━━━━━━━━\u001b[0m\u001b[37m\u001b[0m \u001b[1m0s\u001b[0m 24ms/step - accuracy: 0.6055 - loss: 1.2744 - val_accuracy: 0.5500 - val_loss: 1.4724\n",
            "Epoch 49/100\n",
            "\u001b[1m3/3\u001b[0m \u001b[32m━━━━━━━━━━━━━━━━━━━━\u001b[0m\u001b[37m\u001b[0m \u001b[1m0s\u001b[0m 22ms/step - accuracy: 0.6431 - loss: 1.0972 - val_accuracy: 0.5500 - val_loss: 1.3922\n",
            "Epoch 50/100\n",
            "\u001b[1m3/3\u001b[0m \u001b[32m━━━━━━━━━━━━━━━━━━━━\u001b[0m\u001b[37m\u001b[0m \u001b[1m0s\u001b[0m 29ms/step - accuracy: 0.6611 - loss: 1.2420 - val_accuracy: 0.5500 - val_loss: 1.3154\n",
            "Epoch 51/100\n",
            "\u001b[1m3/3\u001b[0m \u001b[32m━━━━━━━━━━━━━━━━━━━━\u001b[0m\u001b[37m\u001b[0m \u001b[1m0s\u001b[0m 21ms/step - accuracy: 0.6987 - loss: 0.9887 - val_accuracy: 0.5500 - val_loss: 1.2433\n",
            "Epoch 52/100\n",
            "\u001b[1m3/3\u001b[0m \u001b[32m━━━━━━━━━━━━━━━━━━━━\u001b[0m\u001b[37m\u001b[0m \u001b[1m0s\u001b[0m 62ms/step - accuracy: 0.7143 - loss: 0.8673 - val_accuracy: 0.5500 - val_loss: 1.1758\n",
            "Epoch 53/100\n",
            "\u001b[1m3/3\u001b[0m \u001b[32m━━━━━━━━━━━━━━━━━━━━\u001b[0m\u001b[37m\u001b[0m \u001b[1m0s\u001b[0m 21ms/step - accuracy: 0.6997 - loss: 1.0669 - val_accuracy: 0.6000 - val_loss: 1.1105\n",
            "Epoch 54/100\n",
            "\u001b[1m3/3\u001b[0m \u001b[32m━━━━━━━━━━━━━━━━━━━━\u001b[0m\u001b[37m\u001b[0m \u001b[1m0s\u001b[0m 30ms/step - accuracy: 0.7021 - loss: 0.9360 - val_accuracy: 0.6500 - val_loss: 1.0534\n",
            "Epoch 55/100\n",
            "\u001b[1m3/3\u001b[0m \u001b[32m━━━━━━━━━━━━━━━━━━━━\u001b[0m\u001b[37m\u001b[0m \u001b[1m0s\u001b[0m 20ms/step - accuracy: 0.7319 - loss: 1.0565 - val_accuracy: 0.6500 - val_loss: 0.9997\n",
            "Epoch 56/100\n",
            "\u001b[1m3/3\u001b[0m \u001b[32m━━━━━━━━━━━━━━━━━━━━\u001b[0m\u001b[37m\u001b[0m \u001b[1m0s\u001b[0m 20ms/step - accuracy: 0.7123 - loss: 0.8716 - val_accuracy: 0.6500 - val_loss: 0.9539\n",
            "Epoch 57/100\n",
            "\u001b[1m3/3\u001b[0m \u001b[32m━━━━━━━━━━━━━━━━━━━━\u001b[0m\u001b[37m\u001b[0m \u001b[1m0s\u001b[0m 23ms/step - accuracy: 0.7460 - loss: 0.6386 - val_accuracy: 0.6500 - val_loss: 0.9147\n",
            "Epoch 58/100\n",
            "\u001b[1m3/3\u001b[0m \u001b[32m━━━━━━━━━━━━━━━━━━━━\u001b[0m\u001b[37m\u001b[0m \u001b[1m0s\u001b[0m 28ms/step - accuracy: 0.7884 - loss: 0.7442 - val_accuracy: 0.6500 - val_loss: 0.8788\n",
            "Epoch 59/100\n",
            "\u001b[1m3/3\u001b[0m \u001b[32m━━━━━━━━━━━━━━━━━━━━\u001b[0m\u001b[37m\u001b[0m \u001b[1m0s\u001b[0m 30ms/step - accuracy: 0.7752 - loss: 0.7919 - val_accuracy: 0.6500 - val_loss: 0.8435\n",
            "Epoch 60/100\n",
            "\u001b[1m3/3\u001b[0m \u001b[32m━━━━━━━━━━━━━━━━━━━━\u001b[0m\u001b[37m\u001b[0m \u001b[1m0s\u001b[0m 40ms/step - accuracy: 0.7596 - loss: 0.6880 - val_accuracy: 0.6500 - val_loss: 0.8126\n",
            "Epoch 61/100\n",
            "\u001b[1m3/3\u001b[0m \u001b[32m━━━━━━━━━━━━━━━━━━━━\u001b[0m\u001b[37m\u001b[0m \u001b[1m0s\u001b[0m 51ms/step - accuracy: 0.8089 - loss: 0.5667 - val_accuracy: 0.6500 - val_loss: 0.7860\n",
            "Epoch 62/100\n",
            "\u001b[1m3/3\u001b[0m \u001b[32m━━━━━━━━━━━━━━━━━━━━\u001b[0m\u001b[37m\u001b[0m \u001b[1m0s\u001b[0m 53ms/step - accuracy: 0.8011 - loss: 0.7410 - val_accuracy: 0.6500 - val_loss: 0.7635\n",
            "Epoch 63/100\n",
            "\u001b[1m3/3\u001b[0m \u001b[32m━━━━━━━━━━━━━━━━━━━━\u001b[0m\u001b[37m\u001b[0m \u001b[1m0s\u001b[0m 68ms/step - accuracy: 0.7972 - loss: 0.7160 - val_accuracy: 0.6500 - val_loss: 0.7436\n",
            "Epoch 64/100\n",
            "\u001b[1m3/3\u001b[0m \u001b[32m━━━━━━━━━━━━━━━━━━━━\u001b[0m\u001b[37m\u001b[0m \u001b[1m0s\u001b[0m 71ms/step - accuracy: 0.7659 - loss: 0.8134 - val_accuracy: 0.7000 - val_loss: 0.7290\n",
            "Epoch 65/100\n",
            "\u001b[1m3/3\u001b[0m \u001b[32m━━━━━━━━━━━━━━━━━━━━\u001b[0m\u001b[37m\u001b[0m \u001b[1m0s\u001b[0m 42ms/step - accuracy: 0.8113 - loss: 0.6119 - val_accuracy: 0.6500 - val_loss: 0.7190\n",
            "Epoch 66/100\n",
            "\u001b[1m3/3\u001b[0m \u001b[32m━━━━━━━━━━━━━━━━━━━━\u001b[0m\u001b[37m\u001b[0m \u001b[1m0s\u001b[0m 32ms/step - accuracy: 0.8387 - loss: 0.5110 - val_accuracy: 0.6500 - val_loss: 0.7120\n",
            "Epoch 67/100\n",
            "\u001b[1m3/3\u001b[0m \u001b[32m━━━━━━━━━━━━━━━━━━━━\u001b[0m\u001b[37m\u001b[0m \u001b[1m0s\u001b[0m 24ms/step - accuracy: 0.8152 - loss: 0.5063 - val_accuracy: 0.6500 - val_loss: 0.7066\n",
            "Epoch 68/100\n",
            "\u001b[1m3/3\u001b[0m \u001b[32m━━━━━━━━━━━━━━━━━━━━\u001b[0m\u001b[37m\u001b[0m \u001b[1m0s\u001b[0m 26ms/step - accuracy: 0.8372 - loss: 0.4397 - val_accuracy: 0.6500 - val_loss: 0.6993\n",
            "Epoch 69/100\n",
            "\u001b[1m3/3\u001b[0m \u001b[32m━━━━━━━━━━━━━━━━━━━━\u001b[0m\u001b[37m\u001b[0m \u001b[1m0s\u001b[0m 20ms/step - accuracy: 0.8255 - loss: 0.5555 - val_accuracy: 0.6500 - val_loss: 0.6944\n",
            "Epoch 70/100\n",
            "\u001b[1m3/3\u001b[0m \u001b[32m━━━━━━━━━━━━━━━━━━━━\u001b[0m\u001b[37m\u001b[0m \u001b[1m0s\u001b[0m 28ms/step - accuracy: 0.7918 - loss: 0.4792 - val_accuracy: 0.6500 - val_loss: 0.6876\n",
            "Epoch 71/100\n",
            "\u001b[1m3/3\u001b[0m \u001b[32m━━━━━━━━━━━━━━━━━━━━\u001b[0m\u001b[37m\u001b[0m \u001b[1m0s\u001b[0m 36ms/step - accuracy: 0.8128 - loss: 0.4127 - val_accuracy: 0.6500 - val_loss: 0.6811\n",
            "Epoch 72/100\n",
            "\u001b[1m3/3\u001b[0m \u001b[32m━━━━━━━━━━━━━━━━━━━━\u001b[0m\u001b[37m\u001b[0m \u001b[1m0s\u001b[0m 43ms/step - accuracy: 0.8074 - loss: 0.5814 - val_accuracy: 0.7000 - val_loss: 0.6775\n",
            "Epoch 73/100\n",
            "\u001b[1m3/3\u001b[0m \u001b[32m━━━━━━━━━━━━━━━━━━━━\u001b[0m\u001b[37m\u001b[0m \u001b[1m0s\u001b[0m 52ms/step - accuracy: 0.8348 - loss: 0.4015 - val_accuracy: 0.7000 - val_loss: 0.6710\n",
            "Epoch 74/100\n",
            "\u001b[1m3/3\u001b[0m \u001b[32m━━━━━━━━━━━━━━━━━━━━\u001b[0m\u001b[37m\u001b[0m \u001b[1m0s\u001b[0m 52ms/step - accuracy: 0.8152 - loss: 0.4623 - val_accuracy: 0.7000 - val_loss: 0.6673\n",
            "Epoch 75/100\n",
            "\u001b[1m3/3\u001b[0m \u001b[32m━━━━━━━━━━━━━━━━━━━━\u001b[0m\u001b[37m\u001b[0m \u001b[1m0s\u001b[0m 51ms/step - accuracy: 0.8113 - loss: 0.4376 - val_accuracy: 0.7000 - val_loss: 0.6585\n",
            "Epoch 76/100\n",
            "\u001b[1m3/3\u001b[0m \u001b[32m━━━━━━━━━━━━━━━━━━━━\u001b[0m\u001b[37m\u001b[0m \u001b[1m0s\u001b[0m 57ms/step - accuracy: 0.8074 - loss: 0.4506 - val_accuracy: 0.7000 - val_loss: 0.6474\n",
            "Epoch 77/100\n",
            "\u001b[1m3/3\u001b[0m \u001b[32m━━━━━━━━━━━━━━━━━━━━\u001b[0m\u001b[37m\u001b[0m \u001b[1m0s\u001b[0m 40ms/step - accuracy: 0.8113 - loss: 0.4274 - val_accuracy: 0.7000 - val_loss: 0.6327\n",
            "Epoch 78/100\n",
            "\u001b[1m3/3\u001b[0m \u001b[32m━━━━━━━━━━━━━━━━━━━━\u001b[0m\u001b[37m\u001b[0m \u001b[1m0s\u001b[0m 42ms/step - accuracy: 0.8152 - loss: 0.4258 - val_accuracy: 0.7000 - val_loss: 0.6198\n",
            "Epoch 79/100\n",
            "\u001b[1m3/3\u001b[0m \u001b[32m━━━━━━━━━━━━━━━━━━━━\u001b[0m\u001b[37m\u001b[0m \u001b[1m0s\u001b[0m 52ms/step - accuracy: 0.8035 - loss: 0.4397 - val_accuracy: 0.7000 - val_loss: 0.6022\n",
            "Epoch 80/100\n",
            "\u001b[1m3/3\u001b[0m \u001b[32m━━━━━━━━━━━━━━━━━━━━\u001b[0m\u001b[37m\u001b[0m \u001b[1m0s\u001b[0m 29ms/step - accuracy: 0.8191 - loss: 0.3825 - val_accuracy: 0.7000 - val_loss: 0.5867\n",
            "Epoch 81/100\n",
            "\u001b[1m3/3\u001b[0m \u001b[32m━━━━━━━━━━━━━━━━━━━━\u001b[0m\u001b[37m\u001b[0m \u001b[1m0s\u001b[0m 45ms/step - accuracy: 0.8113 - loss: 0.4458 - val_accuracy: 0.7000 - val_loss: 0.5742\n",
            "Epoch 82/100\n",
            "\u001b[1m3/3\u001b[0m \u001b[32m━━━━━━━━━━━━━━━━━━━━\u001b[0m\u001b[37m\u001b[0m \u001b[1m0s\u001b[0m 34ms/step - accuracy: 0.7879 - loss: 0.4560 - val_accuracy: 0.7000 - val_loss: 0.5586\n",
            "Epoch 83/100\n",
            "\u001b[1m3/3\u001b[0m \u001b[32m━━━━━━━━━━━━━━━━━━━━\u001b[0m\u001b[37m\u001b[0m \u001b[1m0s\u001b[0m 86ms/step - accuracy: 0.8465 - loss: 0.3141 - val_accuracy: 0.7500 - val_loss: 0.5436\n",
            "Epoch 84/100\n",
            "\u001b[1m3/3\u001b[0m \u001b[32m━━━━━━━━━━━━━━━━━━━━\u001b[0m\u001b[37m\u001b[0m \u001b[1m0s\u001b[0m 37ms/step - accuracy: 0.7957 - loss: 0.4280 - val_accuracy: 0.7500 - val_loss: 0.5335\n",
            "Epoch 85/100\n",
            "\u001b[1m3/3\u001b[0m \u001b[32m━━━━━━━━━━━━━━━━━━━━\u001b[0m\u001b[37m\u001b[0m \u001b[1m0s\u001b[0m 53ms/step - accuracy: 0.8387 - loss: 0.3428 - val_accuracy: 0.7500 - val_loss: 0.5239\n",
            "Epoch 86/100\n",
            "\u001b[1m3/3\u001b[0m \u001b[32m━━━━━━━━━━━━━━━━━━━━\u001b[0m\u001b[37m\u001b[0m \u001b[1m0s\u001b[0m 42ms/step - accuracy: 0.7879 - loss: 0.4153 - val_accuracy: 0.8000 - val_loss: 0.5147\n",
            "Epoch 87/100\n",
            "\u001b[1m3/3\u001b[0m \u001b[32m━━━━━━━━━━━━━━━━━━━━\u001b[0m\u001b[37m\u001b[0m \u001b[1m0s\u001b[0m 80ms/step - accuracy: 0.8113 - loss: 0.3869 - val_accuracy: 0.8000 - val_loss: 0.5055\n",
            "Epoch 88/100\n",
            "\u001b[1m3/3\u001b[0m \u001b[32m━━━━━━━━━━━━━━━━━━━━\u001b[0m\u001b[37m\u001b[0m \u001b[1m0s\u001b[0m 90ms/step - accuracy: 0.8294 - loss: 0.3704 - val_accuracy: 0.8000 - val_loss: 0.4927\n",
            "Epoch 89/100\n",
            "\u001b[1m3/3\u001b[0m \u001b[32m━━━━━━━━━━━━━━━━━━━━\u001b[0m\u001b[37m\u001b[0m \u001b[1m0s\u001b[0m 37ms/step - accuracy: 0.8591 - loss: 0.3105 - val_accuracy: 0.8000 - val_loss: 0.4818\n",
            "Epoch 90/100\n",
            "\u001b[1m3/3\u001b[0m \u001b[32m━━━━━━━━━━━━━━━━━━━━\u001b[0m\u001b[37m\u001b[0m \u001b[1m0s\u001b[0m 38ms/step - accuracy: 0.8279 - loss: 0.3392 - val_accuracy: 0.8000 - val_loss: 0.4726\n",
            "Epoch 91/100\n",
            "\u001b[1m3/3\u001b[0m \u001b[32m━━━━━━━━━━━━━━━━━━━━\u001b[0m\u001b[37m\u001b[0m \u001b[1m0s\u001b[0m 21ms/step - accuracy: 0.8537 - loss: 0.3611 - val_accuracy: 0.8000 - val_loss: 0.4634\n",
            "Epoch 92/100\n",
            "\u001b[1m3/3\u001b[0m \u001b[32m━━━━━━━━━━━━━━━━━━━━\u001b[0m\u001b[37m\u001b[0m \u001b[1m0s\u001b[0m 29ms/step - accuracy: 0.8483 - loss: 0.3686 - val_accuracy: 0.8000 - val_loss: 0.4563\n",
            "Epoch 93/100\n",
            "\u001b[1m3/3\u001b[0m \u001b[32m━━━━━━━━━━━━━━━━━━━━\u001b[0m\u001b[37m\u001b[0m \u001b[1m0s\u001b[0m 30ms/step - accuracy: 0.8679 - loss: 0.3130 - val_accuracy: 0.7500 - val_loss: 0.4484\n",
            "Epoch 94/100\n",
            "\u001b[1m3/3\u001b[0m \u001b[32m━━━━━━━━━━━━━━━━━━━━\u001b[0m\u001b[37m\u001b[0m \u001b[1m0s\u001b[0m 27ms/step - accuracy: 0.8523 - loss: 0.3001 - val_accuracy: 0.8000 - val_loss: 0.4446\n",
            "Epoch 95/100\n",
            "\u001b[1m3/3\u001b[0m \u001b[32m━━━━━━━━━━━━━━━━━━━━\u001b[0m\u001b[37m\u001b[0m \u001b[1m0s\u001b[0m 22ms/step - accuracy: 0.8601 - loss: 0.3140 - val_accuracy: 0.8000 - val_loss: 0.4434\n",
            "Epoch 96/100\n",
            "\u001b[1m3/3\u001b[0m \u001b[32m━━━━━━━━━━━━━━━━━━━━\u001b[0m\u001b[37m\u001b[0m \u001b[1m0s\u001b[0m 22ms/step - accuracy: 0.8733 - loss: 0.2634 - val_accuracy: 0.8000 - val_loss: 0.4396\n",
            "Epoch 97/100\n",
            "\u001b[1m3/3\u001b[0m \u001b[32m━━━━━━━━━━━━━━━━━━━━\u001b[0m\u001b[37m\u001b[0m \u001b[1m0s\u001b[0m 25ms/step - accuracy: 0.8523 - loss: 0.3122 - val_accuracy: 0.8000 - val_loss: 0.4360\n",
            "Epoch 98/100\n",
            "\u001b[1m3/3\u001b[0m \u001b[32m━━━━━━━━━━━━━━━━━━━━\u001b[0m\u001b[37m\u001b[0m \u001b[1m0s\u001b[0m 30ms/step - accuracy: 0.8601 - loss: 0.3059 - val_accuracy: 0.8000 - val_loss: 0.4300\n",
            "Epoch 99/100\n",
            "\u001b[1m3/3\u001b[0m \u001b[32m━━━━━━━━━━━━━━━━━━━━\u001b[0m\u001b[37m\u001b[0m \u001b[1m0s\u001b[0m 20ms/step - accuracy: 0.8444 - loss: 0.2960 - val_accuracy: 0.8000 - val_loss: 0.4219\n",
            "Epoch 100/100\n",
            "\u001b[1m3/3\u001b[0m \u001b[32m━━━━━━━━━━━━━━━━━━━━\u001b[0m\u001b[37m\u001b[0m \u001b[1m0s\u001b[0m 20ms/step - accuracy: 0.8766 - loss: 0.2842 - val_accuracy: 0.8000 - val_loss: 0.4142\n"
          ]
        }
      ]
    },
    {
      "cell_type": "code",
      "source": [
        "plot_decision_regions(X,y.astype('int'),clf=model,legend=2)"
      ],
      "metadata": {
        "colab": {
          "base_uri": "https://localhost:8080/",
          "height": 465
        },
        "id": "nCSsyTJxyuJI",
        "outputId": "90725e53-180a-4334-a0f6-172f482b81dc"
      },
      "execution_count": 58,
      "outputs": [
        {
          "output_type": "stream",
          "name": "stdout",
          "text": [
            "\u001b[1m9600/9600\u001b[0m \u001b[32m━━━━━━━━━━━━━━━━━━━━\u001b[0m\u001b[37m\u001b[0m \u001b[1m17s\u001b[0m 2ms/step\n"
          ]
        },
        {
          "output_type": "execute_result",
          "data": {
            "text/plain": [
              "<Axes: >"
            ]
          },
          "metadata": {},
          "execution_count": 58
        },
        {
          "output_type": "display_data",
          "data": {
            "text/plain": [
              "<Figure size 640x480 with 1 Axes>"
            ],
            "image/png": "[encoded data removed]"
          },
          "metadata": {}
        }
      ]
    },
    {
      "cell_type": "markdown",
      "source": [
        "HE-UNIFORM"
      ],
      "metadata": {
        "id": "d9jeNpDY1pmI"
      }
    },
    {
      "cell_type": "code",
      "source": [
        "model=Sequential()\n",
        "\n",
        "model.add(Dense(10,input_dim=2,activation='relu',kernel_initializer='he_uniform'))\n",
        "model.add(Dense(10,activation='relu',kernel_initializer='he_uniform'))\n",
        "model.add(Dense(10,activation='relu',kernel_initializer='he_uniform'))\n",
        "model.add(Dense(10,activation='relu',kernel_initializer='he_uniform'))\n",
        "model.add(Dense(1,activation='sigmoid'))\n",
        "\n",
        "model.summary()"
      ],
      "metadata": {
        "colab": {
          "base_uri": "https://localhost:8080/",
          "height": 344
        },
        "id": "b1euy_OM1ocg",
        "outputId": "6459c945-2557-4181-d6e7-ead04f7a1d4b"
      },
      "execution_count": 59,
      "outputs": [
        {
          "output_type": "stream",
          "name": "stderr",
          "text": [
            "/usr/local/lib/python3.10/dist-packages/keras/src/layers/core/dense.py:87: UserWarning: Do not pass an `input_shape`/`input_dim` argument to a layer. When using Sequential models, prefer using an `Input(shape)` object as the first layer in the model instead.\n",
            "  super().__init__(activity_regularizer=activity_regularizer, **kwargs)\n"
          ]
        },
        {
          "output_type": "display_data",
          "data": {
            "text/plain": [
              "\u001b[1mModel: \"sequential_8\"\u001b[0m\n"
            ],
            "text/html": [
              "<pre style=\"white-space:pre;overflow-x:auto;line-height:normal;font-family:Menlo,'DejaVu Sans Mono',consolas,'Courier New',monospace\"><span style=\"font-weight: bold\">Model: \"sequential_8\"</span>\n",
              "</pre>\n"
            ]
          },
          "metadata": {}
        },
        {
          "output_type": "display_data",
          "data": {
            "text/plain": [
              "┏━━━━━━━━━━━━━━━━━━━━━━━━━━━━━━━━━━━━━━┳━━━━━━━━━━━━━━━━━━━━━━━━━━━━━┳━━━━━━━━━━━━━━━━━┓\n",
              "┃\u001b[1m \u001b[0m\u001b[1mLayer (type)                        \u001b[0m\u001b[1m \u001b[0m┃\u001b[1m \u001b[0m\u001b[1mOutput Shape               \u001b[0m\u001b[1m \u001b[0m┃\u001b[1m \u001b[0m\u001b[1m        Param #\u001b[0m\u001b[1m \u001b[0m┃\n",
              "┡━━━━━━━━━━━━━━━━━━━━━━━━━━━━━━━━━━━━━━╇━━━━━━━━━━━━━━━━━━━━━━━━━━━━━╇━━━━━━━━━━━━━━━━━┩\n",
              "│ dense_36 (\u001b[38;5;33mDense\u001b[0m)                     │ (\u001b[38;5;45mNone\u001b[0m, \u001b[38;5;34m10\u001b[0m)                  │              \u001b[38;5;34m30\u001b[0m │\n",
              "├──────────────────────────────────────┼─────────────────────────────┼─────────────────┤\n",
              "│ dense_37 (\u001b[38;5;33mDense\u001b[0m)                     │ (\u001b[38;5;45mNone\u001b[0m, \u001b[38;5;34m10\u001b[0m)                  │             \u001b[38;5;34m110\u001b[0m │\n",
              "├──────────────────────────────────────┼─────────────────────────────┼─────────────────┤\n",
              "│ dense_38 (\u001b[38;5;33mDense\u001b[0m)                     │ (\u001b[38;5;45mNone\u001b[0m, \u001b[38;5;34m10\u001b[0m)                  │             \u001b[38;5;34m110\u001b[0m │\n",
              "├──────────────────────────────────────┼─────────────────────────────┼─────────────────┤\n",
              "│ dense_39 (\u001b[38;5;33mDense\u001b[0m)                     │ (\u001b[38;5;45mNone\u001b[0m, \u001b[38;5;34m10\u001b[0m)                  │             \u001b[38;5;34m110\u001b[0m │\n",
              "├──────────────────────────────────────┼─────────────────────────────┼─────────────────┤\n",
              "│ dense_40 (\u001b[38;5;33mDense\u001b[0m)                     │ (\u001b[38;5;45mNone\u001b[0m, \u001b[38;5;34m1\u001b[0m)                   │              \u001b[38;5;34m11\u001b[0m │\n",
              "└──────────────────────────────────────┴─────────────────────────────┴─────────────────┘\n"
            ],
            "text/html": [
              "<pre style=\"white-space:pre;overflow-x:auto;line-height:normal;font-family:Menlo,'DejaVu Sans Mono',consolas,'Courier New',monospace\">┏━━━━━━━━━━━━━━━━━━━━━━━━━━━━━━━━━━━━━━┳━━━━━━━━━━━━━━━━━━━━━━━━━━━━━┳━━━━━━━━━━━━━━━━━┓\n",
              "┃<span style=\"font-weight: bold\"> Layer (type)                         </span>┃<span style=\"font-weight: bold\"> Output Shape                </span>┃<span style=\"font-weight: bold\">         Param # </span>┃\n",
              "┡━━━━━━━━━━━━━━━━━━━━━━━━━━━━━━━━━━━━━━╇━━━━━━━━━━━━━━━━━━━━━━━━━━━━━╇━━━━━━━━━━━━━━━━━┩\n",
              "│ dense_36 (<span style=\"color: #0087ff; text-decoration-color: #0087ff\">Dense</span>)                     │ (<span style=\"color: #00d7ff; text-decoration-color: #00d7ff\">None</span>, <span style=\"color: #00af00; text-decoration-color: #00af00\">10</span>)                  │              <span style=\"color: #00af00; text-decoration-color: #00af00\">30</span> │\n",
              "├──────────────────────────────────────┼─────────────────────────────┼─────────────────┤\n",
              "│ dense_37 (<span style=\"color: #0087ff; text-decoration-color: #0087ff\">Dense</span>)                     │ (<span style=\"color: #00d7ff; text-decoration-color: #00d7ff\">None</span>, <span style=\"color: #00af00; text-decoration-color: #00af00\">10</span>)                  │             <span style=\"color: #00af00; text-decoration-color: #00af00\">110</span> │\n",
              "├──────────────────────────────────────┼─────────────────────────────┼─────────────────┤\n",
              "│ dense_38 (<span style=\"color: #0087ff; text-decoration-color: #0087ff\">Dense</span>)                     │ (<span style=\"color: #00d7ff; text-decoration-color: #00d7ff\">None</span>, <span style=\"color: #00af00; text-decoration-color: #00af00\">10</span>)                  │             <span style=\"color: #00af00; text-decoration-color: #00af00\">110</span> │\n",
              "├──────────────────────────────────────┼─────────────────────────────┼─────────────────┤\n",
              "│ dense_39 (<span style=\"color: #0087ff; text-decoration-color: #0087ff\">Dense</span>)                     │ (<span style=\"color: #00d7ff; text-decoration-color: #00d7ff\">None</span>, <span style=\"color: #00af00; text-decoration-color: #00af00\">10</span>)                  │             <span style=\"color: #00af00; text-decoration-color: #00af00\">110</span> │\n",
              "├──────────────────────────────────────┼─────────────────────────────┼─────────────────┤\n",
              "│ dense_40 (<span style=\"color: #0087ff; text-decoration-color: #0087ff\">Dense</span>)                     │ (<span style=\"color: #00d7ff; text-decoration-color: #00d7ff\">None</span>, <span style=\"color: #00af00; text-decoration-color: #00af00\">1</span>)                   │              <span style=\"color: #00af00; text-decoration-color: #00af00\">11</span> │\n",
              "└──────────────────────────────────────┴─────────────────────────────┴─────────────────┘\n",
              "</pre>\n"
            ]
          },
          "metadata": {}
        },
        {
          "output_type": "display_data",
          "data": {
            "text/plain": [
              "\u001b[1m Total params: \u001b[0m\u001b[38;5;34m371\u001b[0m (1.45 KB)\n"
            ],
            "text/html": [
              "<pre style=\"white-space:pre;overflow-x:auto;line-height:normal;font-family:Menlo,'DejaVu Sans Mono',consolas,'Courier New',monospace\"><span style=\"font-weight: bold\"> Total params: </span><span style=\"color: #00af00; text-decoration-color: #00af00\">371</span> (1.45 KB)\n",
              "</pre>\n"
            ]
          },
          "metadata": {}
        },
        {
          "output_type": "display_data",
          "data": {
            "text/plain": [
              "\u001b[1m Trainable params: \u001b[0m\u001b[38;5;34m371\u001b[0m (1.45 KB)\n"
            ],
            "text/html": [
              "<pre style=\"white-space:pre;overflow-x:auto;line-height:normal;font-family:Menlo,'DejaVu Sans Mono',consolas,'Courier New',monospace\"><span style=\"font-weight: bold\"> Trainable params: </span><span style=\"color: #00af00; text-decoration-color: #00af00\">371</span> (1.45 KB)\n",
              "</pre>\n"
            ]
          },
          "metadata": {}
        },
        {
          "output_type": "display_data",
          "data": {
            "text/plain": [
              "\u001b[1m Non-trainable params: \u001b[0m\u001b[38;5;34m0\u001b[0m (0.00 B)\n"
            ],
            "text/html": [
              "<pre style=\"white-space:pre;overflow-x:auto;line-height:normal;font-family:Menlo,'DejaVu Sans Mono',consolas,'Courier New',monospace\"><span style=\"font-weight: bold\"> Non-trainable params: </span><span style=\"color: #00af00; text-decoration-color: #00af00\">0</span> (0.00 B)\n",
              "</pre>\n"
            ]
          },
          "metadata": {}
        }
      ]
    },
    {
      "cell_type": "code",
      "source": [
        "model.get_weights()"
      ],
      "metadata": {
        "colab": {
          "base_uri": "https://localhost:8080/"
        },
        "id": "yoSomF3u1_Qn",
        "outputId": "39331f62-c93e-41ef-e403-0b1313d61cec"
      },
      "execution_count": 60,
      "outputs": [
        {
          "output_type": "execute_result",
          "data": {
            "text/plain": [
              "[array([[-0.30718052, -0.486045  , -0.6294602 ,  0.15383124, -0.69301295,\n",
              "          1.6891049 , -1.4282585 ,  0.7070955 , -1.2376919 , -0.9818959 ],\n",
              "        [-1.1195414 ,  1.4337553 ,  0.6921941 , -1.7093751 , -1.2233057 ,\n",
              "         -0.9452723 , -0.6084653 ,  1.6781877 ,  1.0376285 ,  0.56902826]],\n",
              "       dtype=float32),\n",
              " array([0., 0., 0., 0., 0., 0., 0., 0., 0., 0.], dtype=float32),\n",
              " array([[ 0.33075583,  0.40833926, -0.6977264 , -0.690087  , -0.22594678,\n",
              "         -0.37293166, -0.5409135 ,  0.6975491 , -0.6202151 , -0.37453616],\n",
              "        [ 0.19360596,  0.61097586,  0.44420707, -0.06755787,  0.3311453 ,\n",
              "         -0.39297128,  0.46005213,  0.33169305, -0.4077736 , -0.45257583],\n",
              "        [ 0.43605113,  0.1486215 , -0.17950708,  0.38289714,  0.5537306 ,\n",
              "         -0.5380394 , -0.49109307,  0.6716218 ,  0.49100327, -0.537977  ],\n",
              "        [-0.03836763, -0.4912541 , -0.43311647, -0.22978997, -0.01496243,\n",
              "          0.0685361 , -0.3313619 , -0.5636779 ,  0.5391085 , -0.1896987 ],\n",
              "        [-0.02519882, -0.4223933 ,  0.01280409,  0.4132656 ,  0.38508368,\n",
              "         -0.6975462 , -0.03115189, -0.21923286,  0.07945746, -0.7283015 ],\n",
              "        [ 0.5005914 , -0.50157005, -0.60185826, -0.09217566, -0.7312566 ,\n",
              "         -0.01889497, -0.6210851 , -0.22153395,  0.0417186 ,  0.3922435 ],\n",
              "        [-0.59986466,  0.22393435, -0.4655598 ,  0.31022227,  0.19909978,\n",
              "          0.71470296, -0.20792109, -0.02898729, -0.20034581,  0.5527102 ],\n",
              "        [-0.57056653,  0.03723449,  0.28057408, -0.44371957,  0.36368978,\n",
              "         -0.11578864,  0.08934385, -0.4478017 , -0.29377913, -0.35366714],\n",
              "        [-0.03324395,  0.15654212,  0.05234075,  0.76927114,  0.24654973,\n",
              "         -0.4915361 , -0.48978812, -0.39581773,  0.12535018,  0.05416745],\n",
              "        [-0.18937796, -0.61788166, -0.5620817 ,  0.49868095, -0.42778885,\n",
              "         -0.2806319 , -0.11175215,  0.31069767, -0.39798403,  0.3074981 ]],\n",
              "       dtype=float32),\n",
              " array([0., 0., 0., 0., 0., 0., 0., 0., 0., 0.], dtype=float32),\n",
              " array([[ 0.4536203 , -0.33861032,  0.6988356 , -0.75884897,  0.56618285,\n",
              "          0.44091058,  0.77358925, -0.2394948 ,  0.16065216, -0.58327556],\n",
              "        [ 0.5495925 ,  0.66156626,  0.4547155 ,  0.5012561 , -0.52912366,\n",
              "          0.02414721,  0.6135948 , -0.22209573, -0.03141212,  0.35315537],\n",
              "        [-0.35424685, -0.04048443,  0.41971898, -0.02170026, -0.64475423,\n",
              "         -0.45818174, -0.34278628,  0.64950705,  0.5811604 ,  0.4412986 ],\n",
              "        [-0.14503837,  0.35958493, -0.19307578,  0.24685371, -0.6300625 ,\n",
              "          0.2149505 , -0.29382402, -0.09897053, -0.61487365,  0.2938881 ],\n",
              "        [ 0.03947073,  0.5202559 , -0.10793853, -0.71597725, -0.44505906,\n",
              "          0.5443531 , -0.76831317, -0.34239292, -0.698775  , -0.4380169 ],\n",
              "        [-0.30483398, -0.01493865, -0.6816786 ,  0.5026134 , -0.51999575,\n",
              "         -0.51170665,  0.27778745,  0.21470177, -0.64301014, -0.50555706],\n",
              "        [-0.12475973,  0.32807577,  0.16750264, -0.39037934, -0.38328528,\n",
              "          0.14545608,  0.28364563, -0.27009636, -0.23286247, -0.06917548],\n",
              "        [ 0.16050774, -0.5674837 ,  0.6527566 , -0.3206075 ,  0.52290726,\n",
              "         -0.30868027,  0.6458242 ,  0.31318843, -0.34250686, -0.44464666],\n",
              "        [-0.7093953 , -0.4597153 , -0.7363947 , -0.69408107, -0.5262519 ,\n",
              "          0.6314074 , -0.6201992 ,  0.46512854, -0.34975713, -0.40380746],\n",
              "        [-0.180547  ,  0.26797903,  0.41935706,  0.41088688, -0.2893666 ,\n",
              "         -0.72836214, -0.28310215, -0.67862236,  0.06637484,  0.48564446]],\n",
              "       dtype=float32),\n",
              " array([0., 0., 0., 0., 0., 0., 0., 0., 0., 0.], dtype=float32),\n",
              " array([[ 0.4365629 , -0.44272417,  0.07393444, -0.4177577 ,  0.07252795,\n",
              "          0.00666726,  0.05858141, -0.10509247, -0.5231999 , -0.5407091 ],\n",
              "        [-0.6465654 ,  0.5001925 ,  0.52360785,  0.34972882, -0.5032689 ,\n",
              "          0.11782968,  0.34891927, -0.02450609,  0.3971995 , -0.5344969 ],\n",
              "        [-0.24245739,  0.6946746 ,  0.3918854 ,  0.34052742, -0.56980824,\n",
              "         -0.01664305, -0.06350195, -0.57697713,  0.52172637, -0.08154762],\n",
              "        [-0.37927943, -0.41747606,  0.7692591 ,  0.02351695,  0.54050136,\n",
              "         -0.41680938,  0.5856446 , -0.5947319 ,  0.44975317,  0.6324637 ],\n",
              "        [-0.59375143, -0.40248296,  0.5063516 , -0.39088148,  0.6271664 ,\n",
              "          0.09531188, -0.02417845, -0.1767587 ,  0.22600198, -0.27349132],\n",
              "        [-0.7425936 , -0.70668995,  0.01060128, -0.4035238 ,  0.48085964,\n",
              "         -0.49619332, -0.25870985,  0.42777073, -0.58263844,  0.638443  ],\n",
              "        [ 0.3258034 ,  0.75917697, -0.12309194,  0.18477982,  0.0798654 ,\n",
              "         -0.18908024,  0.50422716,  0.66070914,  0.10743529,  0.53813946],\n",
              "        [-0.46826497, -0.32256806,  0.04646784, -0.37692127,  0.39360547,\n",
              "         -0.7012587 ,  0.43389893, -0.216941  ,  0.4364394 , -0.46739385],\n",
              "        [ 0.4004811 ,  0.7330036 ,  0.6532341 ,  0.00152767, -0.74875206,\n",
              "          0.47391856, -0.47555277,  0.14735973,  0.38239455,  0.31700552],\n",
              "        [-0.08839899, -0.5351826 , -0.28784543,  0.34972727,  0.3242749 ,\n",
              "          0.47034407,  0.342139  ,  0.54657686,  0.2061351 ,  0.14338142]],\n",
              "       dtype=float32),\n",
              " array([0., 0., 0., 0., 0., 0., 0., 0., 0., 0.], dtype=float32),\n",
              " array([[-0.15764797],\n",
              "        [ 0.4107656 ],\n",
              "        [ 0.5584406 ],\n",
              "        [ 0.34680635],\n",
              "        [-0.6251864 ],\n",
              "        [ 0.5732041 ],\n",
              "        [ 0.29427594],\n",
              "        [-0.3917498 ],\n",
              "        [ 0.26189965],\n",
              "        [ 0.6215175 ]], dtype=float32),\n",
              " array([0.], dtype=float32)]"
            ]
          },
          "metadata": {},
          "execution_count": 60
        }
      ]
    },
    {
      "cell_type": "code",
      "source": [
        "ini_weights=model.get_weights()"
      ],
      "metadata": {
        "id": "89VILk8r2M-4"
      },
      "execution_count": 61,
      "outputs": []
    },
    {
      "cell_type": "code",
      "source": [
        "ini_weights[0]=np.random.randn(2,10)*np.sqrt(6/2)\n",
        "ini_weights[1]=np.zeros(model.get_weights()[1].shape)\n",
        "ini_weights[2]=np.random.randn(10,10)*np.sqrt(6/2)\n",
        "ini_weights[3]=np.zeros(model.get_weights()[3].shape)\n",
        "ini_weights[4]=np.random.randn(10,10)*np.sqrt(6/2)\n",
        "ini_weights[5]=np.zeros(model.get_weights()[5].shape)\n",
        "ini_weights[6]=np.random.randn(10,10)*np.sqrt(6/2)\n",
        "ini_weights[7]=np.zeros(model.get_weights()[7].shape)\n",
        "ini_weights[8]=np.random.randn(10,1)*np.sqrt(6/2)\n",
        "ini_weights[9]=np.zeros(model.get_weights()[9].shape)"
      ],
      "metadata": {
        "id": "V0ljKyy-1_TY"
      },
      "execution_count": 62,
      "outputs": []
    },
    {
      "cell_type": "code",
      "source": [
        "model.set_weights(ini_weight)\n",
        "model.get_weights()"
      ],
      "metadata": {
        "colab": {
          "base_uri": "https://localhost:8080/"
        },
        "id": "iHQSa6E11_V1",
        "outputId": "1ab53656-fdf3-44b5-c72d-dc4ab0727c0b"
      },
      "execution_count": 63,
      "outputs": [
        {
          "output_type": "execute_result",
          "data": {
            "text/plain": [
              "[array([[ 1.6700808 ,  0.02398252,  0.3037097 ,  0.00736149, -0.5778023 ,\n",
              "          0.70549214,  0.06672742,  0.56003225,  0.3474012 , -0.15997936],\n",
              "        [-0.30914894, -0.5552934 , -1.4678625 ,  0.9776605 , -1.1393715 ,\n",
              "          0.47460824,  0.4514862 ,  1.6008675 , -0.31376013,  1.2353755 ]],\n",
              "       dtype=float32),\n",
              " array([0., 0., 0., 0., 0., 0., 0., 0., 0., 0.], dtype=float32),\n",
              " array([[-0.71785355, -0.51527447,  0.7170237 , -0.37410995, -0.9683156 ,\n",
              "          2.502246  ,  0.00843898, -1.209363  , -0.3043951 ,  0.28933483],\n",
              "        [-0.07325009, -0.29590026,  1.1793948 , -0.06021889,  0.16535215,\n",
              "          1.6507937 ,  0.6123472 ,  0.24933441,  0.27986172, -0.22627686],\n",
              "        [ 2.0474339 ,  0.12047791,  1.3896363 ,  0.20093201,  0.44885477,\n",
              "         -0.312105  ,  0.26697508,  0.24058972,  1.2820836 , -0.01211601],\n",
              "        [-0.2075777 , -1.8672374 , -0.34890294,  0.18410824,  1.3226559 ,\n",
              "          0.39536098,  0.2032931 ,  0.2131446 , -0.387222  ,  1.3651961 ],\n",
              "        [ 0.40589398, -0.8137776 , -0.66250116,  0.6406433 , -0.7128623 ,\n",
              "          1.0657363 ,  0.3258854 , -1.4393877 , -0.32382268, -0.09817518],\n",
              "        [-1.6766777 , -1.306589  ,  0.59241736, -1.4420607 ,  0.52004576,\n",
              "          0.56289303,  0.23168252, -0.00298265,  0.2386453 ,  0.9736904 ],\n",
              "        [-0.8819775 , -0.30361134,  0.23896776, -0.9372751 , -0.62570333,\n",
              "          0.31455478,  0.05144586,  1.9892628 , -0.21782261, -2.142777  ],\n",
              "        [ 0.6938449 ,  0.45946985, -0.38048762, -0.4974511 , -0.3761609 ,\n",
              "         -0.40144062, -0.8919598 , -0.98816293, -0.11033593, -0.73698205],\n",
              "        [ 0.32053155,  0.04386293,  1.238845  ,  0.6554876 , -0.00800986,\n",
              "         -1.8291844 , -1.6618903 , -2.2496104 ,  0.45981064,  1.1190906 ],\n",
              "        [-0.6696488 , -0.508556  , -0.9870414 , -1.7342312 ,  0.31069538,\n",
              "          0.30390614,  1.5507879 ,  1.745011  , -0.4384472 , -0.19552185]],\n",
              "       dtype=float32),\n",
              " array([0., 0., 0., 0., 0., 0., 0., 0., 0., 0.], dtype=float32),\n",
              " array([[ 1.6438073e+00,  4.7778401e-01, -1.3977616e-01,  4.5497337e-01,\n",
              "         -1.0471830e-01,  1.8016395e-01, -3.1770292e-01,  2.5122988e+00,\n",
              "         -2.0886979e+00,  1.7965874e-01],\n",
              "        [ 1.4089853e+00, -1.5567263e+00,  6.4103216e-01,  8.8820505e-01,\n",
              "         -5.6242574e-02,  1.5643781e+00, -7.2598296e-01,  2.0271213e+00,\n",
              "         -1.1483824e+00, -6.4801621e-01],\n",
              "        [ 3.8132140e-01, -6.3121146e-01,  1.2484554e+00,  2.3011680e+00,\n",
              "         -6.9460922e-01,  6.1627799e-01, -1.2495726e+00, -1.7630150e+00,\n",
              "          6.5734088e-01, -1.2419448e+00],\n",
              "        [-9.3730915e-01,  2.3150894e-01,  8.4157234e-01, -3.8096836e-01,\n",
              "         -1.1135505e+00, -3.0058226e-01, -5.7241774e-01, -2.3552765e-01,\n",
              "         -4.4246873e-01,  1.2585502e+00],\n",
              "        [ 4.5889595e-01, -1.3733233e+00, -4.3080565e-01, -1.1968088e+00,\n",
              "         -4.8221070e-01, -1.2766488e+00,  3.5260391e-01,  1.2233641e+00,\n",
              "          7.2422647e-01,  1.4348503e+00],\n",
              "        [ 6.0981266e-02, -2.0724975e-01,  2.3349034e-02,  1.1871648e+00,\n",
              "         -8.4671354e-01,  1.8569040e+00,  5.6467086e-02, -1.1435330e+00,\n",
              "         -1.6739683e+00, -3.4359238e-01],\n",
              "        [ 8.5989511e-01,  6.4361018e-01,  4.4590566e-01, -1.7160429e-01,\n",
              "         -5.6643212e-01, -5.1484275e-01, -4.0313244e-01,  1.8342458e+00,\n",
              "          1.0263630e+00, -5.9007472e-01],\n",
              "        [ 4.0407211e-01, -2.1643995e-01,  8.4451586e-01,  5.9252310e-01,\n",
              "          8.9109330e-05,  4.0932834e-02, -1.4366075e+00, -2.9232648e-01,\n",
              "          1.2206122e+00,  8.3528644e-01],\n",
              "        [-1.3482149e+00, -1.1307185e-01,  7.9363263e-01, -1.4364421e+00,\n",
              "          2.0127133e-01,  1.3246657e-01,  1.1506644e+00,  6.0057800e-02,\n",
              "          7.9833931e-01, -4.3698603e-01],\n",
              "        [-2.7071920e-01,  1.1856495e+00, -8.9311117e-01,  1.0756875e+00,\n",
              "          2.4643470e-01,  5.5501652e-01,  3.4788263e-01,  4.8577988e-01,\n",
              "          1.0612149e+00, -9.2747539e-01]], dtype=float32),\n",
              " array([0., 0., 0., 0., 0., 0., 0., 0., 0., 0.], dtype=float32),\n",
              " array([[-0.05680888, -0.5774454 , -0.6719264 ,  1.4843059 ,  0.7552009 ,\n",
              "          1.3380723 , -0.17751434,  0.17454904, -2.4344757 ,  1.0560783 ],\n",
              "        [ 0.5427646 , -0.23946315, -0.37885094,  0.27481547, -1.138611  ,\n",
              "         -1.4577955 , -0.3465949 , -2.1200345 ,  0.57598764,  1.1718624 ],\n",
              "        [ 2.8282344 , -0.04332445, -0.25731894,  0.5136523 ,  1.221035  ,\n",
              "         -0.4229965 , -0.9347185 , -0.9084749 , -0.4031643 , -0.47741336],\n",
              "        [-0.6930215 ,  2.2503314 ,  0.18904226, -0.86160743, -0.37879655,\n",
              "          1.6457281 ,  0.00993428,  0.9325428 , -1.1210171 ,  1.1554507 ],\n",
              "        [-0.33240628,  0.847931  , -0.6109886 ,  1.6134982 , -0.7230407 ,\n",
              "          2.5043368 , -0.28868484,  1.5495702 ,  0.6171999 , -0.47064325],\n",
              "        [ 1.353642  , -0.9133023 ,  0.35269716, -2.735384  , -1.879656  ,\n",
              "         -0.61424446,  0.7924323 , -0.34382135,  0.53535694,  1.0244608 ],\n",
              "        [-0.40604022, -1.3601992 ,  2.7909489 ,  0.45373678, -1.1694057 ,\n",
              "         -0.5139246 , -0.31888956, -0.18604264, -0.9261021 , -0.82313895],\n",
              "        [ 1.3833692 ,  0.17316073,  0.7006162 , -1.0899009 ,  0.4417698 ,\n",
              "          1.5880173 ,  0.10982031,  1.008832  , -0.5017332 , -0.2739709 ],\n",
              "        [ 0.13191506,  0.35258913, -0.06082509, -0.61187595, -1.4974722 ,\n",
              "          0.29775274,  0.8266349 , -0.589898  , -0.5485164 , -0.67250824],\n",
              "        [ 0.34970385,  0.7313543 ,  0.20343624,  0.56780994, -0.71309584,\n",
              "         -0.92242366, -0.5952582 , -1.0544838 , -3.5202043 , -0.46735552]],\n",
              "       dtype=float32),\n",
              " array([0., 0., 0., 0., 0., 0., 0., 0., 0., 0.], dtype=float32),\n",
              " array([[ 2.3968482 ],\n",
              "        [ 0.86171675],\n",
              "        [-0.42518923],\n",
              "        [ 0.2640273 ],\n",
              "        [-0.89233613],\n",
              "        [ 1.2777795 ],\n",
              "        [ 1.4161786 ],\n",
              "        [ 0.49123603],\n",
              "        [-0.25019166],\n",
              "        [ 0.01458023]], dtype=float32),\n",
              " array([0.], dtype=float32)]"
            ]
          },
          "metadata": {},
          "execution_count": 63
        }
      ]
    },
    {
      "cell_type": "code",
      "source": [
        "model.compile(loss='binary_crossentropy',optimizer='adam',metrics=['accuracy'])\n",
        "history=model.fit(X,y,epochs=100,validation_split=0.2)"
      ],
      "metadata": {
        "colab": {
          "base_uri": "https://localhost:8080/"
        },
        "collapsed": true,
        "id": "6DWRUJF61_YY",
        "outputId": "1bf02c11-1d22-46b3-d706-20257b7e8991"
      },
      "execution_count": 64,
      "outputs": [
        {
          "output_type": "stream",
          "name": "stdout",
          "text": [
            "Epoch 1/100\n",
            "\u001b[1m3/3\u001b[0m \u001b[32m━━━━━━━━━━━━━━━━━━━━\u001b[0m\u001b[37m\u001b[0m \u001b[1m4s\u001b[0m 467ms/step - accuracy: 0.5227 - loss: 12.6066 - val_accuracy: 0.5000 - val_loss: 13.2025\n",
            "Epoch 2/100\n",
            "\u001b[1m3/3\u001b[0m \u001b[32m━━━━━━━━━━━━━━━━━━━━\u001b[0m\u001b[37m\u001b[0m \u001b[1m0s\u001b[0m 15ms/step - accuracy: 0.5071 - loss: 12.6879 - val_accuracy: 0.5000 - val_loss: 12.7074\n",
            "Epoch 3/100\n",
            "\u001b[1m3/3\u001b[0m \u001b[32m━━━━━━━━━━━━━━━━━━━━\u001b[0m\u001b[37m\u001b[0m \u001b[1m0s\u001b[0m 18ms/step - accuracy: 0.5266 - loss: 10.7159 - val_accuracy: 0.5000 - val_loss: 12.2402\n",
            "Epoch 4/100\n",
            "\u001b[1m3/3\u001b[0m \u001b[32m━━━━━━━━━━━━━━━━━━━━\u001b[0m\u001b[37m\u001b[0m \u001b[1m0s\u001b[0m 13ms/step - accuracy: 0.5149 - loss: 11.4769 - val_accuracy: 0.5000 - val_loss: 11.7779\n",
            "Epoch 5/100\n",
            "\u001b[1m3/3\u001b[0m \u001b[32m━━━━━━━━━━━━━━━━━━━━\u001b[0m\u001b[37m\u001b[0m \u001b[1m0s\u001b[0m 13ms/step - accuracy: 0.5305 - loss: 9.5807 - val_accuracy: 0.5000 - val_loss: 11.3229\n",
            "Epoch 6/100\n",
            "\u001b[1m3/3\u001b[0m \u001b[32m━━━━━━━━━━━━━━━━━━━━\u001b[0m\u001b[37m\u001b[0m \u001b[1m0s\u001b[0m 13ms/step - accuracy: 0.5344 - loss: 9.5538 - val_accuracy: 0.5000 - val_loss: 10.8830\n",
            "Epoch 7/100\n",
            "\u001b[1m3/3\u001b[0m \u001b[32m━━━━━━━━━━━━━━━━━━━━\u001b[0m\u001b[37m\u001b[0m \u001b[1m0s\u001b[0m 12ms/step - accuracy: 0.5110 - loss: 9.4449 - val_accuracy: 0.5000 - val_loss: 10.4546\n",
            "Epoch 8/100\n",
            "\u001b[1m3/3\u001b[0m \u001b[32m━━━━━━━━━━━━━━━━━━━━\u001b[0m\u001b[37m\u001b[0m \u001b[1m0s\u001b[0m 13ms/step - accuracy: 0.4954 - loss: 9.3560 - val_accuracy: 0.5000 - val_loss: 10.0452\n",
            "Epoch 9/100\n",
            "\u001b[1m3/3\u001b[0m \u001b[32m━━━━━━━━━━━━━━━━━━━━\u001b[0m\u001b[37m\u001b[0m \u001b[1m0s\u001b[0m 13ms/step - accuracy: 0.4563 - loss: 9.9257 - val_accuracy: 0.5000 - val_loss: 9.6545\n",
            "Epoch 10/100\n",
            "\u001b[1m3/3\u001b[0m \u001b[32m━━━━━━━━━━━━━━━━━━━━\u001b[0m\u001b[37m\u001b[0m \u001b[1m0s\u001b[0m 13ms/step - accuracy: 0.5110 - loss: 8.2613 - val_accuracy: 0.4500 - val_loss: 9.2914\n",
            "Epoch 11/100\n",
            "\u001b[1m3/3\u001b[0m \u001b[32m━━━━━━━━━━━━━━━━━━━━\u001b[0m\u001b[37m\u001b[0m \u001b[1m0s\u001b[0m 14ms/step - accuracy: 0.5188 - loss: 8.2511 - val_accuracy: 0.4500 - val_loss: 8.9374\n",
            "Epoch 12/100\n",
            "\u001b[1m3/3\u001b[0m \u001b[32m━━━━━━━━━━━━━━━━━━━━\u001b[0m\u001b[37m\u001b[0m \u001b[1m0s\u001b[0m 13ms/step - accuracy: 0.4993 - loss: 8.4765 - val_accuracy: 0.4500 - val_loss: 8.5974\n",
            "Epoch 13/100\n",
            "\u001b[1m3/3\u001b[0m \u001b[32m━━━━━━━━━━━━━━━━━━━━\u001b[0m\u001b[37m\u001b[0m \u001b[1m0s\u001b[0m 13ms/step - accuracy: 0.5227 - loss: 7.0777 - val_accuracy: 0.4500 - val_loss: 8.2708\n",
            "Epoch 14/100\n",
            "\u001b[1m3/3\u001b[0m \u001b[32m━━━━━━━━━━━━━━━━━━━━\u001b[0m\u001b[37m\u001b[0m \u001b[1m0s\u001b[0m 14ms/step - accuracy: 0.5110 - loss: 7.6830 - val_accuracy: 0.4500 - val_loss: 7.9530\n",
            "Epoch 15/100\n",
            "\u001b[1m3/3\u001b[0m \u001b[32m━━━━━━━━━━━━━━━━━━━━\u001b[0m\u001b[37m\u001b[0m \u001b[1m0s\u001b[0m 13ms/step - accuracy: 0.5110 - loss: 6.8983 - val_accuracy: 0.4500 - val_loss: 7.6540\n",
            "Epoch 16/100\n",
            "\u001b[1m3/3\u001b[0m \u001b[32m━━━━━━━━━━━━━━━━━━━━\u001b[0m\u001b[37m\u001b[0m \u001b[1m0s\u001b[0m 13ms/step - accuracy: 0.5320 - loss: 6.1371 - val_accuracy: 0.4500 - val_loss: 7.3638\n",
            "Epoch 17/100\n",
            "\u001b[1m3/3\u001b[0m \u001b[32m━━━━━━━━━━━━━━━━━━━━\u001b[0m\u001b[37m\u001b[0m \u001b[1m0s\u001b[0m 12ms/step - accuracy: 0.5320 - loss: 5.5923 - val_accuracy: 0.4500 - val_loss: 7.0802\n",
            "Epoch 18/100\n",
            "\u001b[1m3/3\u001b[0m \u001b[32m━━━━━━━━━━━━━━━━━━━━\u001b[0m\u001b[37m\u001b[0m \u001b[1m0s\u001b[0m 13ms/step - accuracy: 0.5086 - loss: 5.9732 - val_accuracy: 0.5000 - val_loss: 6.7940\n",
            "Epoch 19/100\n",
            "\u001b[1m3/3\u001b[0m \u001b[32m━━━━━━━━━━━━━━━━━━━━\u001b[0m\u001b[37m\u001b[0m \u001b[1m0s\u001b[0m 13ms/step - accuracy: 0.4578 - loss: 6.1352 - val_accuracy: 0.5000 - val_loss: 6.5193\n",
            "Epoch 20/100\n",
            "\u001b[1m3/3\u001b[0m \u001b[32m━━━━━━━━━━━━━━━━━━━━\u001b[0m\u001b[37m\u001b[0m \u001b[1m0s\u001b[0m 13ms/step - accuracy: 0.4656 - loss: 5.9223 - val_accuracy: 0.5000 - val_loss: 6.2607\n",
            "Epoch 21/100\n",
            "\u001b[1m3/3\u001b[0m \u001b[32m━━━━━━━━━━━━━━━━━━━━\u001b[0m\u001b[37m\u001b[0m \u001b[1m0s\u001b[0m 31ms/step - accuracy: 0.4968 - loss: 5.3427 - val_accuracy: 0.5000 - val_loss: 6.0077\n",
            "Epoch 22/100\n",
            "\u001b[1m3/3\u001b[0m \u001b[32m━━━━━━━━━━━━━━━━━━━━\u001b[0m\u001b[37m\u001b[0m \u001b[1m0s\u001b[0m 16ms/step - accuracy: 0.4968 - loss: 5.1753 - val_accuracy: 0.5000 - val_loss: 5.7663\n",
            "Epoch 23/100\n",
            "\u001b[1m3/3\u001b[0m \u001b[32m━━━━━━━━━━━━━━━━━━━━\u001b[0m\u001b[37m\u001b[0m \u001b[1m0s\u001b[0m 13ms/step - accuracy: 0.5437 - loss: 4.2260 - val_accuracy: 0.5000 - val_loss: 5.5341\n",
            "Epoch 24/100\n",
            "\u001b[1m3/3\u001b[0m \u001b[32m━━━━━━━━━━━━━━━━━━━━\u001b[0m\u001b[37m\u001b[0m \u001b[1m0s\u001b[0m 14ms/step - accuracy: 0.4827 - loss: 4.4383 - val_accuracy: 0.5500 - val_loss: 5.2941\n",
            "Epoch 25/100\n",
            "\u001b[1m3/3\u001b[0m \u001b[32m━━━━━━━━━━━━━━━━━━━━\u001b[0m\u001b[37m\u001b[0m \u001b[1m0s\u001b[0m 13ms/step - accuracy: 0.4710 - loss: 4.6608 - val_accuracy: 0.5500 - val_loss: 5.0650\n",
            "Epoch 26/100\n",
            "\u001b[1m3/3\u001b[0m \u001b[32m━━━━━━━━━━━━━━━━━━━━\u001b[0m\u001b[37m\u001b[0m \u001b[1m0s\u001b[0m 13ms/step - accuracy: 0.4920 - loss: 4.2480 - val_accuracy: 0.5500 - val_loss: 4.8413\n",
            "Epoch 27/100\n",
            "\u001b[1m3/3\u001b[0m \u001b[32m━━━━━━━━━━━━━━━━━━━━\u001b[0m\u001b[37m\u001b[0m \u001b[1m0s\u001b[0m 13ms/step - accuracy: 0.4436 - loss: 4.5514 - val_accuracy: 0.5500 - val_loss: 4.6171\n",
            "Epoch 28/100\n",
            "\u001b[1m3/3\u001b[0m \u001b[32m━━━━━━━━━━━━━━━━━━━━\u001b[0m\u001b[37m\u001b[0m \u001b[1m0s\u001b[0m 13ms/step - accuracy: 0.4671 - loss: 3.8063 - val_accuracy: 0.5500 - val_loss: 4.4054\n",
            "Epoch 29/100\n",
            "\u001b[1m3/3\u001b[0m \u001b[32m━━━━━━━━━━━━━━━━━━━━\u001b[0m\u001b[37m\u001b[0m \u001b[1m0s\u001b[0m 15ms/step - accuracy: 0.4866 - loss: 4.0931 - val_accuracy: 0.5500 - val_loss: 4.1982\n",
            "Epoch 30/100\n",
            "\u001b[1m3/3\u001b[0m \u001b[32m━━━━━━━━━━━━━━━━━━━━\u001b[0m\u001b[37m\u001b[0m \u001b[1m0s\u001b[0m 13ms/step - accuracy: 0.4373 - loss: 3.6085 - val_accuracy: 0.5500 - val_loss: 3.9989\n",
            "Epoch 31/100\n",
            "\u001b[1m3/3\u001b[0m \u001b[32m━━━━━━━━━━━━━━━━━━━━\u001b[0m\u001b[37m\u001b[0m \u001b[1m0s\u001b[0m 13ms/step - accuracy: 0.4529 - loss: 3.2630 - val_accuracy: 0.5500 - val_loss: 3.8107\n",
            "Epoch 32/100\n",
            "\u001b[1m3/3\u001b[0m \u001b[32m━━━━━━━━━━━━━━━━━━━━\u001b[0m\u001b[37m\u001b[0m \u001b[1m0s\u001b[0m 13ms/step - accuracy: 0.4842 - loss: 3.6904 - val_accuracy: 0.5500 - val_loss: 3.6256\n",
            "Epoch 33/100\n",
            "\u001b[1m3/3\u001b[0m \u001b[32m━━━━━━━━━━━━━━━━━━━━\u001b[0m\u001b[37m\u001b[0m \u001b[1m0s\u001b[0m 13ms/step - accuracy: 0.4842 - loss: 2.7458 - val_accuracy: 0.5500 - val_loss: 3.4487\n",
            "Epoch 34/100\n",
            "\u001b[1m3/3\u001b[0m \u001b[32m━━━━━━━━━━━━━━━━━━━━\u001b[0m\u001b[37m\u001b[0m \u001b[1m0s\u001b[0m 13ms/step - accuracy: 0.4646 - loss: 3.0931 - val_accuracy: 0.5500 - val_loss: 3.2786\n",
            "Epoch 35/100\n",
            "\u001b[1m3/3\u001b[0m \u001b[32m━━━━━━━━━━━━━━━━━━━━\u001b[0m\u001b[37m\u001b[0m \u001b[1m0s\u001b[0m 13ms/step - accuracy: 0.5335 - loss: 2.4477 - val_accuracy: 0.5500 - val_loss: 3.1131\n",
            "Epoch 36/100\n",
            "\u001b[1m3/3\u001b[0m \u001b[32m━━━━━━━━━━━━━━━━━━━━\u001b[0m\u001b[37m\u001b[0m \u001b[1m0s\u001b[0m 16ms/step - accuracy: 0.4719 - loss: 3.1100 - val_accuracy: 0.5500 - val_loss: 2.9478\n",
            "Epoch 37/100\n",
            "\u001b[1m3/3\u001b[0m \u001b[32m━━━━━━━━━━━━━━━━━━━━\u001b[0m\u001b[37m\u001b[0m \u001b[1m0s\u001b[0m 27ms/step - accuracy: 0.5495 - loss: 2.6190 - val_accuracy: 0.5500 - val_loss: 2.7919\n",
            "Epoch 38/100\n",
            "\u001b[1m3/3\u001b[0m \u001b[32m━━━━━━━━━━━━━━━━━━━━\u001b[0m\u001b[37m\u001b[0m \u001b[1m0s\u001b[0m 30ms/step - accuracy: 0.5314 - loss: 1.9752 - val_accuracy: 0.5500 - val_loss: 2.6422\n",
            "Epoch 39/100\n",
            "\u001b[1m3/3\u001b[0m \u001b[32m━━━━━━━━━━━━━━━━━━━━\u001b[0m\u001b[37m\u001b[0m \u001b[1m0s\u001b[0m 19ms/step - accuracy: 0.5768 - loss: 2.1436 - val_accuracy: 0.5500 - val_loss: 2.4954\n",
            "Epoch 40/100\n",
            "\u001b[1m3/3\u001b[0m \u001b[32m━━━━━━━━━━━━━━━━━━━━\u001b[0m\u001b[37m\u001b[0m \u001b[1m0s\u001b[0m 19ms/step - accuracy: 0.5534 - loss: 2.3920 - val_accuracy: 0.5500 - val_loss: 2.3573\n",
            "Epoch 41/100\n",
            "\u001b[1m3/3\u001b[0m \u001b[32m━━━━━━━━━━━━━━━━━━━━\u001b[0m\u001b[37m\u001b[0m \u001b[1m0s\u001b[0m 17ms/step - accuracy: 0.5285 - loss: 2.4580 - val_accuracy: 0.6000 - val_loss: 2.2240\n",
            "Epoch 42/100\n",
            "\u001b[1m3/3\u001b[0m \u001b[32m━━━━━━━━━━━━━━━━━━━━\u001b[0m\u001b[37m\u001b[0m \u001b[1m0s\u001b[0m 18ms/step - accuracy: 0.5261 - loss: 1.7312 - val_accuracy: 0.6000 - val_loss: 2.1027\n",
            "Epoch 43/100\n",
            "\u001b[1m3/3\u001b[0m \u001b[32m━━━━━━━━━━━━━━━━━━━━\u001b[0m\u001b[37m\u001b[0m \u001b[1m0s\u001b[0m 17ms/step - accuracy: 0.5690 - loss: 1.8634 - val_accuracy: 0.6000 - val_loss: 1.9964\n",
            "Epoch 44/100\n",
            "\u001b[1m3/3\u001b[0m \u001b[32m━━━━━━━━━━━━━━━━━━━━\u001b[0m\u001b[37m\u001b[0m \u001b[1m0s\u001b[0m 17ms/step - accuracy: 0.5988 - loss: 1.5179 - val_accuracy: 0.5500 - val_loss: 1.8893\n",
            "Epoch 45/100\n",
            "\u001b[1m3/3\u001b[0m \u001b[32m━━━━━━━━━━━━━━━━━━━━\u001b[0m\u001b[37m\u001b[0m \u001b[1m0s\u001b[0m 16ms/step - accuracy: 0.5841 - loss: 1.4142 - val_accuracy: 0.5500 - val_loss: 1.7811\n",
            "Epoch 46/100\n",
            "\u001b[1m3/3\u001b[0m \u001b[32m━━━━━━━━━━━━━━━━━━━━\u001b[0m\u001b[37m\u001b[0m \u001b[1m0s\u001b[0m 30ms/step - accuracy: 0.6022 - loss: 1.5927 - val_accuracy: 0.5500 - val_loss: 1.6773\n",
            "Epoch 47/100\n",
            "\u001b[1m3/3\u001b[0m \u001b[32m━━━━━━━━━━━━━━━━━━━━\u001b[0m\u001b[37m\u001b[0m \u001b[1m0s\u001b[0m 18ms/step - accuracy: 0.6265 - loss: 1.4572 - val_accuracy: 0.5500 - val_loss: 1.5798\n",
            "Epoch 48/100\n",
            "\u001b[1m3/3\u001b[0m \u001b[32m━━━━━━━━━━━━━━━━━━━━\u001b[0m\u001b[37m\u001b[0m \u001b[1m0s\u001b[0m 19ms/step - accuracy: 0.6690 - loss: 1.0815 - val_accuracy: 0.5500 - val_loss: 1.4925\n",
            "Epoch 49/100\n",
            "\u001b[1m3/3\u001b[0m \u001b[32m━━━━━━━━━━━━━━━━━━━━\u001b[0m\u001b[37m\u001b[0m \u001b[1m0s\u001b[0m 19ms/step - accuracy: 0.6909 - loss: 1.1685 - val_accuracy: 0.5500 - val_loss: 1.4128\n",
            "Epoch 50/100\n",
            "\u001b[1m3/3\u001b[0m \u001b[32m━━━━━━━━━━━━━━━━━━━━\u001b[0m\u001b[37m\u001b[0m \u001b[1m0s\u001b[0m 19ms/step - accuracy: 0.6651 - loss: 1.0139 - val_accuracy: 0.5500 - val_loss: 1.3383\n",
            "Epoch 51/100\n",
            "\u001b[1m3/3\u001b[0m \u001b[32m━━━━━━━━━━━━━━━━━━━━\u001b[0m\u001b[37m\u001b[0m \u001b[1m0s\u001b[0m 23ms/step - accuracy: 0.6933 - loss: 1.2793 - val_accuracy: 0.5500 - val_loss: 1.2675\n",
            "Epoch 52/100\n",
            "\u001b[1m3/3\u001b[0m \u001b[32m━━━━━━━━━━━━━━━━━━━━\u001b[0m\u001b[37m\u001b[0m \u001b[1m0s\u001b[0m 20ms/step - accuracy: 0.7231 - loss: 0.8082 - val_accuracy: 0.6000 - val_loss: 1.1972\n",
            "Epoch 53/100\n",
            "\u001b[1m3/3\u001b[0m \u001b[32m━━━━━━━━━━━━━━━━━━━━\u001b[0m\u001b[37m\u001b[0m \u001b[1m0s\u001b[0m 19ms/step - accuracy: 0.6958 - loss: 1.0291 - val_accuracy: 0.6500 - val_loss: 1.1342\n",
            "Epoch 54/100\n",
            "\u001b[1m3/3\u001b[0m \u001b[32m━━━━━━━━━━━━━━━━━━━━\u001b[0m\u001b[37m\u001b[0m \u001b[1m0s\u001b[0m 45ms/step - accuracy: 0.7138 - loss: 1.0889 - val_accuracy: 0.6500 - val_loss: 1.0762\n",
            "Epoch 55/100\n",
            "\u001b[1m3/3\u001b[0m \u001b[32m━━━━━━━━━━━━━━━━━━━━\u001b[0m\u001b[37m\u001b[0m \u001b[1m0s\u001b[0m 19ms/step - accuracy: 0.7240 - loss: 0.9697 - val_accuracy: 0.6500 - val_loss: 1.0245\n",
            "Epoch 56/100\n",
            "\u001b[1m3/3\u001b[0m \u001b[32m━━━━━━━━━━━━━━━━━━━━\u001b[0m\u001b[37m\u001b[0m \u001b[1m0s\u001b[0m 29ms/step - accuracy: 0.7382 - loss: 0.8748 - val_accuracy: 0.6500 - val_loss: 0.9793\n",
            "Epoch 57/100\n",
            "\u001b[1m3/3\u001b[0m \u001b[32m━━━━━━━━━━━━━━━━━━━━\u001b[0m\u001b[37m\u001b[0m \u001b[1m0s\u001b[0m 13ms/step - accuracy: 0.7547 - loss: 0.7665 - val_accuracy: 0.6500 - val_loss: 0.9344\n",
            "Epoch 58/100\n",
            "\u001b[1m3/3\u001b[0m \u001b[32m━━━━━━━━━━━━━━━━━━━━\u001b[0m\u001b[37m\u001b[0m \u001b[1m0s\u001b[0m 13ms/step - accuracy: 0.7752 - loss: 0.7313 - val_accuracy: 0.6500 - val_loss: 0.8948\n",
            "Epoch 59/100\n",
            "\u001b[1m3/3\u001b[0m \u001b[32m━━━━━━━━━━━━━━━━━━━━\u001b[0m\u001b[37m\u001b[0m \u001b[1m0s\u001b[0m 13ms/step - accuracy: 0.7713 - loss: 0.6888 - val_accuracy: 0.6500 - val_loss: 0.8597\n",
            "Epoch 60/100\n",
            "\u001b[1m3/3\u001b[0m \u001b[32m━━━━━━━━━━━━━━━━━━━━\u001b[0m\u001b[37m\u001b[0m \u001b[1m0s\u001b[0m 13ms/step - accuracy: 0.7752 - loss: 0.8528 - val_accuracy: 0.6500 - val_loss: 0.8266\n",
            "Epoch 61/100\n",
            "\u001b[1m3/3\u001b[0m \u001b[32m━━━━━━━━━━━━━━━━━━━━\u001b[0m\u001b[37m\u001b[0m \u001b[1m0s\u001b[0m 13ms/step - accuracy: 0.7737 - loss: 0.7813 - val_accuracy: 0.6500 - val_loss: 0.7983\n",
            "Epoch 62/100\n",
            "\u001b[1m3/3\u001b[0m \u001b[32m━━━━━━━━━━━━━━━━━━━━\u001b[0m\u001b[37m\u001b[0m \u001b[1m0s\u001b[0m 13ms/step - accuracy: 0.7972 - loss: 0.7667 - val_accuracy: 0.6500 - val_loss: 0.7721\n",
            "Epoch 63/100\n",
            "\u001b[1m3/3\u001b[0m \u001b[32m━━━━━━━━━━━━━━━━━━━━\u001b[0m\u001b[37m\u001b[0m \u001b[1m0s\u001b[0m 13ms/step - accuracy: 0.8167 - loss: 0.7451 - val_accuracy: 0.7000 - val_loss: 0.7529\n",
            "Epoch 64/100\n",
            "\u001b[1m3/3\u001b[0m \u001b[32m━━━━━━━━━━━━━━━━━━━━\u001b[0m\u001b[37m\u001b[0m \u001b[1m0s\u001b[0m 13ms/step - accuracy: 0.7972 - loss: 0.5324 - val_accuracy: 0.6500 - val_loss: 0.7355\n",
            "Epoch 65/100\n",
            "\u001b[1m3/3\u001b[0m \u001b[32m━━━━━━━━━━━━━━━━━━━━\u001b[0m\u001b[37m\u001b[0m \u001b[1m0s\u001b[0m 13ms/step - accuracy: 0.7840 - loss: 0.6453 - val_accuracy: 0.6500 - val_loss: 0.7239\n",
            "Epoch 66/100\n",
            "\u001b[1m3/3\u001b[0m \u001b[32m━━━━━━━━━━━━━━━━━━━━\u001b[0m\u001b[37m\u001b[0m \u001b[1m0s\u001b[0m 12ms/step - accuracy: 0.7957 - loss: 0.5387 - val_accuracy: 0.6500 - val_loss: 0.7155\n",
            "Epoch 67/100\n",
            "\u001b[1m3/3\u001b[0m \u001b[32m━━━━━━━━━━━━━━━━━━━━\u001b[0m\u001b[37m\u001b[0m \u001b[1m0s\u001b[0m 13ms/step - accuracy: 0.8450 - loss: 0.5913 - val_accuracy: 0.6500 - val_loss: 0.7115\n",
            "Epoch 68/100\n",
            "\u001b[1m3/3\u001b[0m \u001b[32m━━━━━━━━━━━━━━━━━━━━\u001b[0m\u001b[37m\u001b[0m \u001b[1m0s\u001b[0m 15ms/step - accuracy: 0.8567 - loss: 0.4059 - val_accuracy: 0.6500 - val_loss: 0.7093\n",
            "Epoch 69/100\n",
            "\u001b[1m3/3\u001b[0m \u001b[32m━━━━━━━━━━━━━━━━━━━━\u001b[0m\u001b[37m\u001b[0m \u001b[1m0s\u001b[0m 16ms/step - accuracy: 0.8113 - loss: 0.5651 - val_accuracy: 0.6500 - val_loss: 0.7103\n",
            "Epoch 70/100\n",
            "\u001b[1m3/3\u001b[0m \u001b[32m━━━━━━━━━━━━━━━━━━━━\u001b[0m\u001b[37m\u001b[0m \u001b[1m0s\u001b[0m 16ms/step - accuracy: 0.8089 - loss: 0.4757 - val_accuracy: 0.6500 - val_loss: 0.7076\n",
            "Epoch 71/100\n",
            "\u001b[1m3/3\u001b[0m \u001b[32m━━━━━━━━━━━━━━━━━━━━\u001b[0m\u001b[37m\u001b[0m \u001b[1m0s\u001b[0m 21ms/step - accuracy: 0.8191 - loss: 0.4570 - val_accuracy: 0.6500 - val_loss: 0.7011\n",
            "Epoch 72/100\n",
            "\u001b[1m3/3\u001b[0m \u001b[32m━━━━━━━━━━━━━━━━━━━━\u001b[0m\u001b[37m\u001b[0m \u001b[1m0s\u001b[0m 12ms/step - accuracy: 0.8230 - loss: 0.4185 - val_accuracy: 0.7000 - val_loss: 0.6900\n",
            "Epoch 73/100\n",
            "\u001b[1m3/3\u001b[0m \u001b[32m━━━━━━━━━━━━━━━━━━━━\u001b[0m\u001b[37m\u001b[0m \u001b[1m0s\u001b[0m 13ms/step - accuracy: 0.8035 - loss: 0.4758 - val_accuracy: 0.7000 - val_loss: 0.6800\n",
            "Epoch 74/100\n",
            "\u001b[1m3/3\u001b[0m \u001b[32m━━━━━━━━━━━━━━━━━━━━\u001b[0m\u001b[37m\u001b[0m \u001b[1m0s\u001b[0m 16ms/step - accuracy: 0.8348 - loss: 0.3900 - val_accuracy: 0.7000 - val_loss: 0.6668\n",
            "Epoch 75/100\n",
            "\u001b[1m3/3\u001b[0m \u001b[32m━━━━━━━━━━━━━━━━━━━━\u001b[0m\u001b[37m\u001b[0m \u001b[1m0s\u001b[0m 13ms/step - accuracy: 0.8113 - loss: 0.4925 - val_accuracy: 0.7000 - val_loss: 0.6491\n",
            "Epoch 76/100\n",
            "\u001b[1m3/3\u001b[0m \u001b[32m━━━━━━━━━━━━━━━━━━━━\u001b[0m\u001b[37m\u001b[0m \u001b[1m0s\u001b[0m 13ms/step - accuracy: 0.8269 - loss: 0.4615 - val_accuracy: 0.7000 - val_loss: 0.6343\n",
            "Epoch 77/100\n",
            "\u001b[1m3/3\u001b[0m \u001b[32m━━━━━━━━━━━━━━━━━━━━\u001b[0m\u001b[37m\u001b[0m \u001b[1m0s\u001b[0m 14ms/step - accuracy: 0.7918 - loss: 0.4876 - val_accuracy: 0.7000 - val_loss: 0.6189\n",
            "Epoch 78/100\n",
            "\u001b[1m3/3\u001b[0m \u001b[32m━━━━━━━━━━━━━━━━━━━━\u001b[0m\u001b[37m\u001b[0m \u001b[1m0s\u001b[0m 15ms/step - accuracy: 0.8152 - loss: 0.4066 - val_accuracy: 0.7000 - val_loss: 0.6007\n",
            "Epoch 79/100\n",
            "\u001b[1m3/3\u001b[0m \u001b[32m━━━━━━━━━━━━━━━━━━━━\u001b[0m\u001b[37m\u001b[0m \u001b[1m0s\u001b[0m 13ms/step - accuracy: 0.8308 - loss: 0.3905 - val_accuracy: 0.7000 - val_loss: 0.5826\n",
            "Epoch 80/100\n",
            "\u001b[1m3/3\u001b[0m \u001b[32m━━━━━━━━━━━━━━━━━━━━\u001b[0m\u001b[37m\u001b[0m \u001b[1m0s\u001b[0m 15ms/step - accuracy: 0.8113 - loss: 0.3633 - val_accuracy: 0.7000 - val_loss: 0.5640\n",
            "Epoch 81/100\n",
            "\u001b[1m3/3\u001b[0m \u001b[32m━━━━━━━━━━━━━━━━━━━━\u001b[0m\u001b[37m\u001b[0m \u001b[1m0s\u001b[0m 13ms/step - accuracy: 0.8113 - loss: 0.4274 - val_accuracy: 0.7000 - val_loss: 0.5513\n",
            "Epoch 82/100\n",
            "\u001b[1m3/3\u001b[0m \u001b[32m━━━━━━━━━━━━━━━━━━━━\u001b[0m\u001b[37m\u001b[0m \u001b[1m0s\u001b[0m 13ms/step - accuracy: 0.7996 - loss: 0.4385 - val_accuracy: 0.7500 - val_loss: 0.5408\n",
            "Epoch 83/100\n",
            "\u001b[1m3/3\u001b[0m \u001b[32m━━━━━━━━━━━━━━━━━━━━\u001b[0m\u001b[37m\u001b[0m \u001b[1m0s\u001b[0m 13ms/step - accuracy: 0.8035 - loss: 0.4163 - val_accuracy: 0.7500 - val_loss: 0.5319\n",
            "Epoch 84/100\n",
            "\u001b[1m3/3\u001b[0m \u001b[32m━━━━━━━━━━━━━━━━━━━━\u001b[0m\u001b[37m\u001b[0m \u001b[1m0s\u001b[0m 13ms/step - accuracy: 0.8098 - loss: 0.4123 - val_accuracy: 0.8000 - val_loss: 0.5224\n",
            "Epoch 85/100\n",
            "\u001b[1m3/3\u001b[0m \u001b[32m━━━━━━━━━━━━━━━━━━━━\u001b[0m\u001b[37m\u001b[0m \u001b[1m0s\u001b[0m 16ms/step - accuracy: 0.8294 - loss: 0.3273 - val_accuracy: 0.8000 - val_loss: 0.5118\n",
            "Epoch 86/100\n",
            "\u001b[1m3/3\u001b[0m \u001b[32m━━━━━━━━━━━━━━━━━━━━\u001b[0m\u001b[37m\u001b[0m \u001b[1m0s\u001b[0m 16ms/step - accuracy: 0.8396 - loss: 0.3387 - val_accuracy: 0.8000 - val_loss: 0.5044\n",
            "Epoch 87/100\n",
            "\u001b[1m3/3\u001b[0m \u001b[32m━━━━━━━━━━━━━━━━━━━━\u001b[0m\u001b[37m\u001b[0m \u001b[1m0s\u001b[0m 17ms/step - accuracy: 0.8474 - loss: 0.3429 - val_accuracy: 0.8000 - val_loss: 0.4926\n",
            "Epoch 88/100\n",
            "\u001b[1m3/3\u001b[0m \u001b[32m━━━━━━━━━━━━━━━━━━━━\u001b[0m\u001b[37m\u001b[0m \u001b[1m0s\u001b[0m 14ms/step - accuracy: 0.8552 - loss: 0.3155 - val_accuracy: 0.8000 - val_loss: 0.4845\n",
            "Epoch 89/100\n",
            "\u001b[1m3/3\u001b[0m \u001b[32m━━━━━━━━━━━━━━━━━━━━\u001b[0m\u001b[37m\u001b[0m \u001b[1m0s\u001b[0m 14ms/step - accuracy: 0.8655 - loss: 0.2941 - val_accuracy: 0.8000 - val_loss: 0.4778\n",
            "Epoch 90/100\n",
            "\u001b[1m3/3\u001b[0m \u001b[32m━━━━━━━━━━━━━━━━━━━━\u001b[0m\u001b[37m\u001b[0m \u001b[1m0s\u001b[0m 14ms/step - accuracy: 0.8474 - loss: 0.3090 - val_accuracy: 0.8000 - val_loss: 0.4713\n",
            "Epoch 91/100\n",
            "\u001b[1m3/3\u001b[0m \u001b[32m━━━━━━━━━━━━━━━━━━━━\u001b[0m\u001b[37m\u001b[0m \u001b[1m0s\u001b[0m 15ms/step - accuracy: 0.8201 - loss: 0.3519 - val_accuracy: 0.8000 - val_loss: 0.4670\n",
            "Epoch 92/100\n",
            "\u001b[1m3/3\u001b[0m \u001b[32m━━━━━━━━━━━━━━━━━━━━\u001b[0m\u001b[37m\u001b[0m \u001b[1m0s\u001b[0m 15ms/step - accuracy: 0.8474 - loss: 0.2866 - val_accuracy: 0.8000 - val_loss: 0.4601\n",
            "Epoch 93/100\n",
            "\u001b[1m3/3\u001b[0m \u001b[32m━━━━━━━━━━━━━━━━━━━━\u001b[0m\u001b[37m\u001b[0m \u001b[1m0s\u001b[0m 14ms/step - accuracy: 0.8279 - loss: 0.2925 - val_accuracy: 0.8000 - val_loss: 0.4536\n",
            "Epoch 94/100\n",
            "\u001b[1m3/3\u001b[0m \u001b[32m━━━━━━━━━━━━━━━━━━━━\u001b[0m\u001b[37m\u001b[0m \u001b[1m0s\u001b[0m 14ms/step - accuracy: 0.8772 - loss: 0.2813 - val_accuracy: 0.8000 - val_loss: 0.4462\n",
            "Epoch 95/100\n",
            "\u001b[1m3/3\u001b[0m \u001b[32m━━━━━━━━━━━━━━━━━━━━\u001b[0m\u001b[37m\u001b[0m \u001b[1m0s\u001b[0m 13ms/step - accuracy: 0.8240 - loss: 0.3022 - val_accuracy: 0.8000 - val_loss: 0.4355\n",
            "Epoch 96/100\n",
            "\u001b[1m3/3\u001b[0m \u001b[32m━━━━━━━━━━━━━━━━━━━━\u001b[0m\u001b[37m\u001b[0m \u001b[1m0s\u001b[0m 13ms/step - accuracy: 0.8601 - loss: 0.3010 - val_accuracy: 0.8000 - val_loss: 0.4234\n",
            "Epoch 97/100\n",
            "\u001b[1m3/3\u001b[0m \u001b[32m━━━━━━━━━━━━━━━━━━━━\u001b[0m\u001b[37m\u001b[0m \u001b[1m0s\u001b[0m 13ms/step - accuracy: 0.8469 - loss: 0.3434 - val_accuracy: 0.8500 - val_loss: 0.4133\n",
            "Epoch 98/100\n",
            "\u001b[1m3/3\u001b[0m \u001b[32m━━━━━━━━━━━━━━━━━━━━\u001b[0m\u001b[37m\u001b[0m \u001b[1m0s\u001b[0m 13ms/step - accuracy: 0.8884 - loss: 0.2848 - val_accuracy: 0.8500 - val_loss: 0.4009\n",
            "Epoch 99/100\n",
            "\u001b[1m3/3\u001b[0m \u001b[32m━━━━━━━━━━━━━━━━━━━━\u001b[0m\u001b[37m\u001b[0m \u001b[1m0s\u001b[0m 13ms/step - accuracy: 0.8766 - loss: 0.2886 - val_accuracy: 0.8000 - val_loss: 0.3912\n",
            "Epoch 100/100\n",
            "\u001b[1m3/3\u001b[0m \u001b[32m━━━━━━━━━━━━━━━━━━━━\u001b[0m\u001b[37m\u001b[0m \u001b[1m0s\u001b[0m 15ms/step - accuracy: 0.8766 - loss: 0.2828 - val_accuracy: 0.8000 - val_loss: 0.3831\n"
          ]
        }
      ]
    },
    {
      "cell_type": "code",
      "source": [
        "plot_decision_regions(X,y.astype('int'),clf=model,legend=2)"
      ],
      "metadata": {
        "colab": {
          "base_uri": "https://localhost:8080/",
          "height": 465
        },
        "id": "UqwTcgwi1_a9",
        "outputId": "d4ddc5c9-4d1d-4bf1-95e4-dd77b1875418"
      },
      "execution_count": 65,
      "outputs": [
        {
          "output_type": "stream",
          "name": "stdout",
          "text": [
            "\u001b[1m9600/9600\u001b[0m \u001b[32m━━━━━━━━━━━━━━━━━━━━\u001b[0m\u001b[37m\u001b[0m \u001b[1m12s\u001b[0m 1ms/step\n"
          ]
        },
        {
          "output_type": "execute_result",
          "data": {
            "text/plain": [
              "<Axes: >"
            ]
          },
          "metadata": {},
          "execution_count": 65
        },
        {
          "output_type": "display_data",
          "data": {
            "text/plain": [
              "<Figure size 640x480 with 1 Axes>"
            ],
            "image/png": "[encoded data removed]"
          },
          "metadata": {}
        }
      ]
    },
    {
      "cell_type": "code",
      "source": [],
      "metadata": {
        "id": "LGCACkx41_dR"
      },
      "execution_count": null,
      "outputs": []
    },
    {
      "cell_type": "code",
      "source": [],
      "metadata": {
        "id": "pUEC7AZK1_fv"
      },
      "execution_count": null,
      "outputs": []
    },
    {
      "cell_type": "code",
      "source": [],
      "metadata": {
        "id": "hfJTLVZS1_iA"
      },
      "execution_count": null,
      "outputs": []
    },
    {
      "cell_type": "code",
      "source": [],
      "metadata": {
        "id": "jAJvPEHH1_kS"
      },
      "execution_count": null,
      "outputs": []
    }
  ]
}