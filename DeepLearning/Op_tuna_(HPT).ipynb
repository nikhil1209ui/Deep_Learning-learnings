{
  "nbformat": 4,
  "nbformat_minor": 0,
  "metadata": {
    "colab": {
      "provenance": [],
      "gpuType": "T4"
    },
    "kernelspec": {
      "name": "python3",
      "display_name": "Python 3"
    },
    "language_info": {
      "name": "python"
    },
    "accelerator": "GPU"
  },
  "cells": [
    {
      "cell_type": "code",
      "execution_count": null,
      "metadata": {
        "colab": {
          "base_uri": "https://localhost:8080/"
        },
        "id": "aiMYu3Uuxlmz",
        "outputId": "2623b710-0251-4a7b-cbb9-06e8eb49bce6"
      },
      "outputs": [
        {
          "output_type": "stream",
          "name": "stdout",
          "text": [
            "Collecting optuna\n",
            "  Downloading optuna-4.0.0-py3-none-any.whl.metadata (16 kB)\n",
            "Collecting alembic>=1.5.0 (from optuna)\n",
            "  Downloading alembic-1.13.3-py3-none-any.whl.metadata (7.4 kB)\n",
            "Collecting colorlog (from optuna)\n",
            "  Downloading colorlog-6.8.2-py3-none-any.whl.metadata (10 kB)\n",
            "Requirement already satisfied: numpy in /usr/local/lib/python3.10/dist-packages (from optuna) (1.26.4)\n",
            "Requirement already satisfied: packaging>=20.0 in /usr/local/lib/python3.10/dist-packages (from optuna) (24.1)\n",
            "Requirement already satisfied: sqlalchemy>=1.3.0 in /usr/local/lib/python3.10/dist-packages (from optuna) (2.0.35)\n",
            "Requirement already satisfied: tqdm in /usr/local/lib/python3.10/dist-packages (from optuna) (4.66.5)\n",
            "Requirement already satisfied: PyYAML in /usr/local/lib/python3.10/dist-packages (from optuna) (6.0.2)\n",
            "Collecting Mako (from alembic>=1.5.0->optuna)\n",
            "  Downloading Mako-1.3.5-py3-none-any.whl.metadata (2.9 kB)\n",
            "Requirement already satisfied: typing-extensions>=4 in /usr/local/lib/python3.10/dist-packages (from alembic>=1.5.0->optuna) (4.12.2)\n",
            "Requirement already satisfied: greenlet!=0.4.17 in /usr/local/lib/python3.10/dist-packages (from sqlalchemy>=1.3.0->optuna) (3.1.1)\n",
            "Requirement already satisfied: MarkupSafe>=0.9.2 in /usr/local/lib/python3.10/dist-packages (from Mako->alembic>=1.5.0->optuna) (2.1.5)\n",
            "Downloading optuna-4.0.0-py3-none-any.whl (362 kB)\n",
            "\u001b[2K   \u001b[90m━━━━━━━━━━━━━━━━━━━━━━━━━━━━━━━━━━━━━━━━\u001b[0m \u001b[32m362.8/362.8 kB\u001b[0m \u001b[31m12.3 MB/s\u001b[0m eta \u001b[36m0:00:00\u001b[0m\n",
            "\u001b[?25hDownloading alembic-1.13.3-py3-none-any.whl (233 kB)\n",
            "\u001b[2K   \u001b[90m━━━━━━━━━━━━━━━━━━━━━━━━━━━━━━━━━━━━━━━━\u001b[0m \u001b[32m233.2/233.2 kB\u001b[0m \u001b[31m20.6 MB/s\u001b[0m eta \u001b[36m0:00:00\u001b[0m\n",
            "\u001b[?25hDownloading colorlog-6.8.2-py3-none-any.whl (11 kB)\n",
            "Downloading Mako-1.3.5-py3-none-any.whl (78 kB)\n",
            "\u001b[2K   \u001b[90m━━━━━━━━━━━━━━━━━━━━━━━━━━━━━━━━━━━━━━━━\u001b[0m \u001b[32m78.6/78.6 kB\u001b[0m \u001b[31m7.4 MB/s\u001b[0m eta \u001b[36m0:00:00\u001b[0m\n",
            "\u001b[?25hInstalling collected packages: Mako, colorlog, alembic, optuna\n",
            "Successfully installed Mako-1.3.5 alembic-1.13.3 colorlog-6.8.2 optuna-4.0.0\n"
          ]
        }
      ],
      "source": [
        "!pip install optuna"
      ]
    },
    {
      "cell_type": "code",
      "source": [
        "import optuna\n",
        "import pandas as pd\n",
        "import numpy as np"
      ],
      "metadata": {
        "id": "gaqc3ZB9x5s_"
      },
      "execution_count": null,
      "outputs": []
    },
    {
      "cell_type": "code",
      "source": [
        "url = \"https://raw.githubusercontent.com/jbrownlee/Datasets/master/pima-indians-diabetes.data.csv\"\n",
        "columns = ['Pregnancies', 'Glucose', 'BloodPressure', 'SkinThickness', 'Insulin', 'BMI','DiabetesPedigreeFunction', 'Age', 'Outcome']\n",
        "\n",
        "\n",
        "df=pd.read_csv(url,names=columns)\n",
        "df.head()"
      ],
      "metadata": {
        "colab": {
          "base_uri": "https://localhost:8080/",
          "height": 206
        },
        "id": "y7An0fgrx5v2",
        "outputId": "174781fb-2ee4-4f4f-9112-5944527e6e8f"
      },
      "execution_count": null,
      "outputs": [
        {
          "output_type": "execute_result",
          "data": {
            "text/plain": [
              "   Pregnancies  Glucose  BloodPressure  SkinThickness  Insulin   BMI  \\\n",
              "0            6      148             72             35        0  33.6   \n",
              "1            1       85             66             29        0  26.6   \n",
              "2            8      183             64              0        0  23.3   \n",
              "3            1       89             66             23       94  28.1   \n",
              "4            0      137             40             35      168  43.1   \n",
              "\n",
              "   DiabetesPedigreeFunction  Age  Outcome  \n",
              "0                     0.627   50        1  \n",
              "1                     0.351   31        0  \n",
              "2                     0.672   32        1  \n",
              "3                     0.167   21        0  \n",
              "4                     2.288   33        1  "
            ],
            "text/html": [
              "\n",
              "  <div id=\"df-c4b27f78-8e07-47be-b0ee-e91982b7afc3\" class=\"colab-df-container\">\n",
              "    <div>\n",
              "<style scoped>\n",
              "    .dataframe tbody tr th:only-of-type {\n",
              "        vertical-align: middle;\n",
              "    }\n",
              "\n",
              "    .dataframe tbody tr th {\n",
              "        vertical-align: top;\n",
              "    }\n",
              "\n",
              "    .dataframe thead th {\n",
              "        text-align: right;\n",
              "    }\n",
              "</style>\n",
              "<table border=\"1\" class=\"dataframe\">\n",
              "  <thead>\n",
              "    <tr style=\"text-align: right;\">\n",
              "      <th></th>\n",
              "      <th>Pregnancies</th>\n",
              "      <th>Glucose</th>\n",
              "      <th>BloodPressure</th>\n",
              "      <th>SkinThickness</th>\n",
              "      <th>Insulin</th>\n",
              "      <th>BMI</th>\n",
              "      <th>DiabetesPedigreeFunction</th>\n",
              "      <th>Age</th>\n",
              "      <th>Outcome</th>\n",
              "    </tr>\n",
              "  </thead>\n",
              "  <tbody>\n",
              "    <tr>\n",
              "      <th>0</th>\n",
              "      <td>6</td>\n",
              "      <td>148</td>\n",
              "      <td>72</td>\n",
              "      <td>35</td>\n",
              "      <td>0</td>\n",
              "      <td>33.6</td>\n",
              "      <td>0.627</td>\n",
              "      <td>50</td>\n",
              "      <td>1</td>\n",
              "    </tr>\n",
              "    <tr>\n",
              "      <th>1</th>\n",
              "      <td>1</td>\n",
              "      <td>85</td>\n",
              "      <td>66</td>\n",
              "      <td>29</td>\n",
              "      <td>0</td>\n",
              "      <td>26.6</td>\n",
              "      <td>0.351</td>\n",
              "      <td>31</td>\n",
              "      <td>0</td>\n",
              "    </tr>\n",
              "    <tr>\n",
              "      <th>2</th>\n",
              "      <td>8</td>\n",
              "      <td>183</td>\n",
              "      <td>64</td>\n",
              "      <td>0</td>\n",
              "      <td>0</td>\n",
              "      <td>23.3</td>\n",
              "      <td>0.672</td>\n",
              "      <td>32</td>\n",
              "      <td>1</td>\n",
              "    </tr>\n",
              "    <tr>\n",
              "      <th>3</th>\n",
              "      <td>1</td>\n",
              "      <td>89</td>\n",
              "      <td>66</td>\n",
              "      <td>23</td>\n",
              "      <td>94</td>\n",
              "      <td>28.1</td>\n",
              "      <td>0.167</td>\n",
              "      <td>21</td>\n",
              "      <td>0</td>\n",
              "    </tr>\n",
              "    <tr>\n",
              "      <th>4</th>\n",
              "      <td>0</td>\n",
              "      <td>137</td>\n",
              "      <td>40</td>\n",
              "      <td>35</td>\n",
              "      <td>168</td>\n",
              "      <td>43.1</td>\n",
              "      <td>2.288</td>\n",
              "      <td>33</td>\n",
              "      <td>1</td>\n",
              "    </tr>\n",
              "  </tbody>\n",
              "</table>\n",
              "</div>\n",
              "    <div class=\"colab-df-buttons\">\n",
              "\n",
              "  <div class=\"colab-df-container\">\n",
              "    <button class=\"colab-df-convert\" onclick=\"convertToInteractive('df-c4b27f78-8e07-47be-b0ee-e91982b7afc3')\"\n",
              "            title=\"Convert this dataframe to an interactive table.\"\n",
              "            style=\"display:none;\">\n",
              "\n",
              "  <svg xmlns=\"http://www.w3.org/2000/svg\" height=\"24px\" viewBox=\"0 -960 960 960\">\n",
              "    <path d=\"M120-120v-720h720v720H120Zm60-500h600v-160H180v160Zm220 220h160v-160H400v160Zm0 220h160v-160H400v160ZM180-400h160v-160H180v160Zm440 0h160v-160H620v160ZM180-180h160v-160H180v160Zm440 0h160v-160H620v160Z\"/>\n",
              "  </svg>\n",
              "    </button>\n",
              "\n",
              "  <style>\n",
              "    .colab-df-container {\n",
              "      display:flex;\n",
              "      gap: 12px;\n",
              "    }\n",
              "\n",
              "    .colab-df-convert {\n",
              "      background-color: #E8F0FE;\n",
              "      border: none;\n",
              "      border-radius: 50%;\n",
              "      cursor: pointer;\n",
              "      display: none;\n",
              "      fill: #1967D2;\n",
              "      height: 32px;\n",
              "      padding: 0 0 0 0;\n",
              "      width: 32px;\n",
              "    }\n",
              "\n",
              "    .colab-df-convert:hover {\n",
              "      background-color: #E2EBFA;\n",
              "      box-shadow: 0px 1px 2px rgba(60, 64, 67, 0.3), 0px 1px 3px 1px rgba(60, 64, 67, 0.15);\n",
              "      fill: #174EA6;\n",
              "    }\n",
              "\n",
              "    .colab-df-buttons div {\n",
              "      margin-bottom: 4px;\n",
              "    }\n",
              "\n",
              "    [theme=dark] .colab-df-convert {\n",
              "      background-color: #3B4455;\n",
              "      fill: #D2E3FC;\n",
              "    }\n",
              "\n",
              "    [theme=dark] .colab-df-convert:hover {\n",
              "      background-color: #434B5C;\n",
              "      box-shadow: 0px 1px 3px 1px rgba(0, 0, 0, 0.15);\n",
              "      filter: drop-shadow(0px 1px 2px rgba(0, 0, 0, 0.3));\n",
              "      fill: #FFFFFF;\n",
              "    }\n",
              "  </style>\n",
              "\n",
              "    <script>\n",
              "      const buttonEl =\n",
              "        document.querySelector('#df-c4b27f78-8e07-47be-b0ee-e91982b7afc3 button.colab-df-convert');\n",
              "      buttonEl.style.display =\n",
              "        google.colab.kernel.accessAllowed ? 'block' : 'none';\n",
              "\n",
              "      async function convertToInteractive(key) {\n",
              "        const element = document.querySelector('#df-c4b27f78-8e07-47be-b0ee-e91982b7afc3');\n",
              "        const dataTable =\n",
              "          await google.colab.kernel.invokeFunction('convertToInteractive',\n",
              "                                                    [key], {});\n",
              "        if (!dataTable) return;\n",
              "\n",
              "        const docLinkHtml = 'Like what you see? Visit the ' +\n",
              "          '<a target=\"_blank\" href=https://colab.research.google.com/notebooks/data_table.ipynb>data table notebook</a>'\n",
              "          + ' to learn more about interactive tables.';\n",
              "        element.innerHTML = '';\n",
              "        dataTable['output_type'] = 'display_data';\n",
              "        await google.colab.output.renderOutput(dataTable, element);\n",
              "        const docLink = document.createElement('div');\n",
              "        docLink.innerHTML = docLinkHtml;\n",
              "        element.appendChild(docLink);\n",
              "      }\n",
              "    </script>\n",
              "  </div>\n",
              "\n",
              "\n",
              "<div id=\"df-1871d3ff-04d2-4ec6-b390-f95489a788e2\">\n",
              "  <button class=\"colab-df-quickchart\" onclick=\"quickchart('df-1871d3ff-04d2-4ec6-b390-f95489a788e2')\"\n",
              "            title=\"Suggest charts\"\n",
              "            style=\"display:none;\">\n",
              "\n",
              "<svg xmlns=\"http://www.w3.org/2000/svg\" height=\"24px\"viewBox=\"0 0 24 24\"\n",
              "     width=\"24px\">\n",
              "    <g>\n",
              "        <path d=\"M19 3H5c-1.1 0-2 .9-2 2v14c0 1.1.9 2 2 2h14c1.1 0 2-.9 2-2V5c0-1.1-.9-2-2-2zM9 17H7v-7h2v7zm4 0h-2V7h2v10zm4 0h-2v-4h2v4z\"/>\n",
              "    </g>\n",
              "</svg>\n",
              "  </button>\n",
              "\n",
              "<style>\n",
              "  .colab-df-quickchart {\n",
              "      --bg-color: #E8F0FE;\n",
              "      --fill-color: #1967D2;\n",
              "      --hover-bg-color: #E2EBFA;\n",
              "      --hover-fill-color: #174EA6;\n",
              "      --disabled-fill-color: #AAA;\n",
              "      --disabled-bg-color: #DDD;\n",
              "  }\n",
              "\n",
              "  [theme=dark] .colab-df-quickchart {\n",
              "      --bg-color: #3B4455;\n",
              "      --fill-color: #D2E3FC;\n",
              "      --hover-bg-color: #434B5C;\n",
              "      --hover-fill-color: #FFFFFF;\n",
              "      --disabled-bg-color: #3B4455;\n",
              "      --disabled-fill-color: #666;\n",
              "  }\n",
              "\n",
              "  .colab-df-quickchart {\n",
              "    background-color: var(--bg-color);\n",
              "    border: none;\n",
              "    border-radius: 50%;\n",
              "    cursor: pointer;\n",
              "    display: none;\n",
              "    fill: var(--fill-color);\n",
              "    height: 32px;\n",
              "    padding: 0;\n",
              "    width: 32px;\n",
              "  }\n",
              "\n",
              "  .colab-df-quickchart:hover {\n",
              "    background-color: var(--hover-bg-color);\n",
              "    box-shadow: 0 1px 2px rgba(60, 64, 67, 0.3), 0 1px 3px 1px rgba(60, 64, 67, 0.15);\n",
              "    fill: var(--button-hover-fill-color);\n",
              "  }\n",
              "\n",
              "  .colab-df-quickchart-complete:disabled,\n",
              "  .colab-df-quickchart-complete:disabled:hover {\n",
              "    background-color: var(--disabled-bg-color);\n",
              "    fill: var(--disabled-fill-color);\n",
              "    box-shadow: none;\n",
              "  }\n",
              "\n",
              "  .colab-df-spinner {\n",
              "    border: 2px solid var(--fill-color);\n",
              "    border-color: transparent;\n",
              "    border-bottom-color: var(--fill-color);\n",
              "    animation:\n",
              "      spin 1s steps(1) infinite;\n",
              "  }\n",
              "\n",
              "  @keyframes spin {\n",
              "    0% {\n",
              "      border-color: transparent;\n",
              "      border-bottom-color: var(--fill-color);\n",
              "      border-left-color: var(--fill-color);\n",
              "    }\n",
              "    20% {\n",
              "      border-color: transparent;\n",
              "      border-left-color: var(--fill-color);\n",
              "      border-top-color: var(--fill-color);\n",
              "    }\n",
              "    30% {\n",
              "      border-color: transparent;\n",
              "      border-left-color: var(--fill-color);\n",
              "      border-top-color: var(--fill-color);\n",
              "      border-right-color: var(--fill-color);\n",
              "    }\n",
              "    40% {\n",
              "      border-color: transparent;\n",
              "      border-right-color: var(--fill-color);\n",
              "      border-top-color: var(--fill-color);\n",
              "    }\n",
              "    60% {\n",
              "      border-color: transparent;\n",
              "      border-right-color: var(--fill-color);\n",
              "    }\n",
              "    80% {\n",
              "      border-color: transparent;\n",
              "      border-right-color: var(--fill-color);\n",
              "      border-bottom-color: var(--fill-color);\n",
              "    }\n",
              "    90% {\n",
              "      border-color: transparent;\n",
              "      border-bottom-color: var(--fill-color);\n",
              "    }\n",
              "  }\n",
              "</style>\n",
              "\n",
              "  <script>\n",
              "    async function quickchart(key) {\n",
              "      const quickchartButtonEl =\n",
              "        document.querySelector('#' + key + ' button');\n",
              "      quickchartButtonEl.disabled = true;  // To prevent multiple clicks.\n",
              "      quickchartButtonEl.classList.add('colab-df-spinner');\n",
              "      try {\n",
              "        const charts = await google.colab.kernel.invokeFunction(\n",
              "            'suggestCharts', [key], {});\n",
              "      } catch (error) {\n",
              "        console.error('Error during call to suggestCharts:', error);\n",
              "      }\n",
              "      quickchartButtonEl.classList.remove('colab-df-spinner');\n",
              "      quickchartButtonEl.classList.add('colab-df-quickchart-complete');\n",
              "    }\n",
              "    (() => {\n",
              "      let quickchartButtonEl =\n",
              "        document.querySelector('#df-1871d3ff-04d2-4ec6-b390-f95489a788e2 button');\n",
              "      quickchartButtonEl.style.display =\n",
              "        google.colab.kernel.accessAllowed ? 'block' : 'none';\n",
              "    })();\n",
              "  </script>\n",
              "</div>\n",
              "\n",
              "    </div>\n",
              "  </div>\n"
            ],
            "application/vnd.google.colaboratory.intrinsic+json": {
              "type": "dataframe",
              "variable_name": "df",
              "summary": "{\n  \"name\": \"df\",\n  \"rows\": 768,\n  \"fields\": [\n    {\n      \"column\": \"Pregnancies\",\n      \"properties\": {\n        \"dtype\": \"number\",\n        \"std\": 3,\n        \"min\": 0,\n        \"max\": 17,\n        \"num_unique_values\": 17,\n        \"samples\": [\n          6,\n          1,\n          3\n        ],\n        \"semantic_type\": \"\",\n        \"description\": \"\"\n      }\n    },\n    {\n      \"column\": \"Glucose\",\n      \"properties\": {\n        \"dtype\": \"number\",\n        \"std\": 31,\n        \"min\": 0,\n        \"max\": 199,\n        \"num_unique_values\": 136,\n        \"samples\": [\n          151,\n          101,\n          112\n        ],\n        \"semantic_type\": \"\",\n        \"description\": \"\"\n      }\n    },\n    {\n      \"column\": \"BloodPressure\",\n      \"properties\": {\n        \"dtype\": \"number\",\n        \"std\": 19,\n        \"min\": 0,\n        \"max\": 122,\n        \"num_unique_values\": 47,\n        \"samples\": [\n          86,\n          46,\n          85\n        ],\n        \"semantic_type\": \"\",\n        \"description\": \"\"\n      }\n    },\n    {\n      \"column\": \"SkinThickness\",\n      \"properties\": {\n        \"dtype\": \"number\",\n        \"std\": 15,\n        \"min\": 0,\n        \"max\": 99,\n        \"num_unique_values\": 51,\n        \"samples\": [\n          7,\n          12,\n          48\n        ],\n        \"semantic_type\": \"\",\n        \"description\": \"\"\n      }\n    },\n    {\n      \"column\": \"Insulin\",\n      \"properties\": {\n        \"dtype\": \"number\",\n        \"std\": 115,\n        \"min\": 0,\n        \"max\": 846,\n        \"num_unique_values\": 186,\n        \"samples\": [\n          52,\n          41,\n          183\n        ],\n        \"semantic_type\": \"\",\n        \"description\": \"\"\n      }\n    },\n    {\n      \"column\": \"BMI\",\n      \"properties\": {\n        \"dtype\": \"number\",\n        \"std\": 7.884160320375446,\n        \"min\": 0.0,\n        \"max\": 67.1,\n        \"num_unique_values\": 248,\n        \"samples\": [\n          19.9,\n          31.0,\n          38.1\n        ],\n        \"semantic_type\": \"\",\n        \"description\": \"\"\n      }\n    },\n    {\n      \"column\": \"DiabetesPedigreeFunction\",\n      \"properties\": {\n        \"dtype\": \"number\",\n        \"std\": 0.3313285950127749,\n        \"min\": 0.078,\n        \"max\": 2.42,\n        \"num_unique_values\": 517,\n        \"samples\": [\n          1.731,\n          0.426,\n          0.138\n        ],\n        \"semantic_type\": \"\",\n        \"description\": \"\"\n      }\n    },\n    {\n      \"column\": \"Age\",\n      \"properties\": {\n        \"dtype\": \"number\",\n        \"std\": 11,\n        \"min\": 21,\n        \"max\": 81,\n        \"num_unique_values\": 52,\n        \"samples\": [\n          60,\n          47,\n          72\n        ],\n        \"semantic_type\": \"\",\n        \"description\": \"\"\n      }\n    },\n    {\n      \"column\": \"Outcome\",\n      \"properties\": {\n        \"dtype\": \"number\",\n        \"std\": 0,\n        \"min\": 0,\n        \"max\": 1,\n        \"num_unique_values\": 2,\n        \"samples\": [\n          0,\n          1\n        ],\n        \"semantic_type\": \"\",\n        \"description\": \"\"\n      }\n    }\n  ]\n}"
            }
          },
          "metadata": {},
          "execution_count": 3
        }
      ]
    },
    {
      "cell_type": "code",
      "source": [
        "df.info()"
      ],
      "metadata": {
        "colab": {
          "base_uri": "https://localhost:8080/"
        },
        "id": "N4E5G7ATy6Vy",
        "outputId": "9a48a719-0589-4734-a808-f82ebadf5a1a"
      },
      "execution_count": null,
      "outputs": [
        {
          "output_type": "stream",
          "name": "stdout",
          "text": [
            "<class 'pandas.core.frame.DataFrame'>\n",
            "RangeIndex: 768 entries, 0 to 767\n",
            "Data columns (total 9 columns):\n",
            " #   Column                    Non-Null Count  Dtype  \n",
            "---  ------                    --------------  -----  \n",
            " 0   Pregnancies               768 non-null    int64  \n",
            " 1   Glucose                   768 non-null    int64  \n",
            " 2   BloodPressure             768 non-null    int64  \n",
            " 3   SkinThickness             768 non-null    int64  \n",
            " 4   Insulin                   768 non-null    int64  \n",
            " 5   BMI                       768 non-null    float64\n",
            " 6   DiabetesPedigreeFunction  768 non-null    float64\n",
            " 7   Age                       768 non-null    int64  \n",
            " 8   Outcome                   768 non-null    int64  \n",
            "dtypes: float64(2), int64(7)\n",
            "memory usage: 54.1 KB\n"
          ]
        }
      ]
    },
    {
      "cell_type": "code",
      "source": [
        "cols_with_missing_vals = ['Glucose', 'BloodPressure', 'SkinThickness', 'Insulin', 'BMI']\n",
        "df[cols_with_missing_vals]=df[cols_with_missing_vals].replace(0,np.nan)\n",
        "\n",
        "df.fillna(df.mean(),inplace=True)\n",
        "df.isna().sum()"
      ],
      "metadata": {
        "colab": {
          "base_uri": "https://localhost:8080/",
          "height": 366
        },
        "id": "fTU_uDKGzA7T",
        "outputId": "0a49fd5d-1809-41b4-dbc3-45472f186ba8"
      },
      "execution_count": null,
      "outputs": [
        {
          "output_type": "execute_result",
          "data": {
            "text/plain": [
              "Pregnancies                 0\n",
              "Glucose                     0\n",
              "BloodPressure               0\n",
              "SkinThickness               0\n",
              "Insulin                     0\n",
              "BMI                         0\n",
              "DiabetesPedigreeFunction    0\n",
              "Age                         0\n",
              "Outcome                     0\n",
              "dtype: int64"
            ],
            "text/html": [
              "<div>\n",
              "<style scoped>\n",
              "    .dataframe tbody tr th:only-of-type {\n",
              "        vertical-align: middle;\n",
              "    }\n",
              "\n",
              "    .dataframe tbody tr th {\n",
              "        vertical-align: top;\n",
              "    }\n",
              "\n",
              "    .dataframe thead th {\n",
              "        text-align: right;\n",
              "    }\n",
              "</style>\n",
              "<table border=\"1\" class=\"dataframe\">\n",
              "  <thead>\n",
              "    <tr style=\"text-align: right;\">\n",
              "      <th></th>\n",
              "      <th>0</th>\n",
              "    </tr>\n",
              "  </thead>\n",
              "  <tbody>\n",
              "    <tr>\n",
              "      <th>Pregnancies</th>\n",
              "      <td>0</td>\n",
              "    </tr>\n",
              "    <tr>\n",
              "      <th>Glucose</th>\n",
              "      <td>0</td>\n",
              "    </tr>\n",
              "    <tr>\n",
              "      <th>BloodPressure</th>\n",
              "      <td>0</td>\n",
              "    </tr>\n",
              "    <tr>\n",
              "      <th>SkinThickness</th>\n",
              "      <td>0</td>\n",
              "    </tr>\n",
              "    <tr>\n",
              "      <th>Insulin</th>\n",
              "      <td>0</td>\n",
              "    </tr>\n",
              "    <tr>\n",
              "      <th>BMI</th>\n",
              "      <td>0</td>\n",
              "    </tr>\n",
              "    <tr>\n",
              "      <th>DiabetesPedigreeFunction</th>\n",
              "      <td>0</td>\n",
              "    </tr>\n",
              "    <tr>\n",
              "      <th>Age</th>\n",
              "      <td>0</td>\n",
              "    </tr>\n",
              "    <tr>\n",
              "      <th>Outcome</th>\n",
              "      <td>0</td>\n",
              "    </tr>\n",
              "  </tbody>\n",
              "</table>\n",
              "</div><br><label><b>dtype:</b> int64</label>"
            ]
          },
          "metadata": {},
          "execution_count": 4
        }
      ]
    },
    {
      "cell_type": "code",
      "source": [
        "X=df.drop(columns=['Outcome'],axis=1)\n",
        "y=df['Outcome']\n",
        "\n",
        "from sklearn.model_selection import train_test_split\n",
        "X_train,X_test,y_train,y_test=train_test_split(X,y,test_size=0.2,random_state=42)\n",
        "\n",
        "print(X_train.shape,y_train.shape)"
      ],
      "metadata": {
        "colab": {
          "base_uri": "https://localhost:8080/"
        },
        "id": "vDzFShS0x5yz",
        "outputId": "76f334d3-6246-4d0b-cb1f-f415804def03"
      },
      "execution_count": null,
      "outputs": [
        {
          "output_type": "stream",
          "name": "stdout",
          "text": [
            "(614, 8) (614,)\n"
          ]
        }
      ]
    },
    {
      "cell_type": "code",
      "source": [
        "from sklearn.ensemble import RandomForestClassifier\n",
        "from sklearn.model_selection import cross_val_score\n",
        "\n",
        "def objective(trials):\n",
        "  n_estimator=trials.suggest_int('n_estimator',50,250)\n",
        "  max_depth=trials.suggest_int('max_depth',1,5)\n",
        "\n",
        "  #model building\n",
        "  model=RandomForestClassifier(n_estimators=n_estimator, max_depth=max_depth, random_state=42)\n",
        "\n",
        "  score=cross_val_score(model,X,y,cv=3,scoring='accuracy').mean()\n",
        "\n",
        "  return score  # Return the accuracy score for Optuna to maximize"
      ],
      "metadata": {
        "id": "GzgppQcnx51w"
      },
      "execution_count": null,
      "outputs": []
    },
    {
      "cell_type": "markdown",
      "source": [
        "**Bayesian-sampler**"
      ],
      "metadata": {
        "id": "hEPtqXgrWtCI"
      }
    },
    {
      "cell_type": "code",
      "source": [
        "study=optuna.create_study(direction='maximize',sampler=optuna.samplers.TPESampler()) # We aim to maximize accuracy\n",
        "study.optimize(objective,n_trials=50) # Run 50 trials to find the best hyperparameters"
      ],
      "metadata": {
        "colab": {
          "base_uri": "https://localhost:8080/"
        },
        "id": "fK1szsetx54j",
        "outputId": "5263fbd6-fdf6-44db-e242-5d8cece3827c"
      },
      "execution_count": null,
      "outputs": [
        {
          "output_type": "stream",
          "name": "stderr",
          "text": [
            "[I 2024-09-27 12:13:49,826] A new study created in memory with name: no-name-06374141-a59b-4bfd-80c0-fd559433fb9b\n",
            "[I 2024-09-27 12:13:50,278] Trial 0 finished with value: 0.7604166666666666 and parameters: {'n_estimator': 100, 'max_depth': 3}. Best is trial 0 with value: 0.7604166666666666.\n",
            "[I 2024-09-27 12:13:51,608] Trial 1 finished with value: 0.7578125 and parameters: {'n_estimator': 196, 'max_depth': 4}. Best is trial 0 with value: 0.7604166666666666.\n",
            "[I 2024-09-27 12:13:53,350] Trial 2 finished with value: 0.7643229166666666 and parameters: {'n_estimator': 234, 'max_depth': 5}. Best is trial 2 with value: 0.7643229166666666.\n",
            "[I 2024-09-27 12:13:54,029] Trial 3 finished with value: 0.7578125 and parameters: {'n_estimator': 147, 'max_depth': 4}. Best is trial 2 with value: 0.7643229166666666.\n",
            "[I 2024-09-27 12:13:54,724] Trial 4 finished with value: 0.73828125 and parameters: {'n_estimator': 167, 'max_depth': 2}. Best is trial 2 with value: 0.7643229166666666.\n",
            "[I 2024-09-27 12:13:55,540] Trial 5 finished with value: 0.7421875 and parameters: {'n_estimator': 191, 'max_depth': 2}. Best is trial 2 with value: 0.7643229166666666.\n",
            "[I 2024-09-27 12:13:56,459] Trial 6 finished with value: 0.7356770833333334 and parameters: {'n_estimator': 231, 'max_depth': 2}. Best is trial 2 with value: 0.7643229166666666.\n",
            "[I 2024-09-27 12:13:57,196] Trial 7 finished with value: 0.703125 and parameters: {'n_estimator': 187, 'max_depth': 1}. Best is trial 2 with value: 0.7643229166666666.\n",
            "[I 2024-09-27 12:13:58,308] Trial 8 finished with value: 0.7643229166666666 and parameters: {'n_estimator': 235, 'max_depth': 5}. Best is trial 2 with value: 0.7643229166666666.\n",
            "[I 2024-09-27 12:13:59,245] Trial 9 finished with value: 0.7630208333333334 and parameters: {'n_estimator': 214, 'max_depth': 3}. Best is trial 2 with value: 0.7643229166666666.\n",
            "[I 2024-09-27 12:13:59,658] Trial 10 finished with value: 0.7630208333333334 and parameters: {'n_estimator': 85, 'max_depth': 5}. Best is trial 2 with value: 0.7643229166666666.\n",
            "[I 2024-09-27 12:14:00,805] Trial 11 finished with value: 0.7604166666666666 and parameters: {'n_estimator': 248, 'max_depth': 5}. Best is trial 2 with value: 0.7643229166666666.\n",
            "[I 2024-09-27 12:14:01,466] Trial 12 finished with value: 0.7604166666666666 and parameters: {'n_estimator': 136, 'max_depth': 5}. Best is trial 2 with value: 0.7643229166666666.\n",
            "[I 2024-09-27 12:14:02,562] Trial 13 finished with value: 0.7604166666666666 and parameters: {'n_estimator': 247, 'max_depth': 4}. Best is trial 2 with value: 0.7643229166666666.\n",
            "[I 2024-09-27 12:14:03,716] Trial 14 finished with value: 0.7643229166666666 and parameters: {'n_estimator': 218, 'max_depth': 5}. Best is trial 2 with value: 0.7643229166666666.\n",
            "[I 2024-09-27 12:14:04,938] Trial 15 finished with value: 0.7565104166666666 and parameters: {'n_estimator': 172, 'max_depth': 4}. Best is trial 2 with value: 0.7643229166666666.\n",
            "[I 2024-09-27 12:14:05,848] Trial 16 finished with value: 0.7591145833333334 and parameters: {'n_estimator': 114, 'max_depth': 5}. Best is trial 2 with value: 0.7643229166666666.\n",
            "[I 2024-09-27 12:14:07,020] Trial 17 finished with value: 0.7565104166666666 and parameters: {'n_estimator': 220, 'max_depth': 4}. Best is trial 2 with value: 0.7643229166666666.\n",
            "[I 2024-09-27 12:14:07,314] Trial 18 finished with value: 0.7643229166666666 and parameters: {'n_estimator': 57, 'max_depth': 3}. Best is trial 2 with value: 0.7643229166666666.\n",
            "[I 2024-09-27 12:14:08,419] Trial 19 finished with value: 0.7643229166666666 and parameters: {'n_estimator': 235, 'max_depth': 5}. Best is trial 2 with value: 0.7643229166666666.\n",
            "[I 2024-09-27 12:14:09,298] Trial 20 finished with value: 0.7643229166666666 and parameters: {'n_estimator': 207, 'max_depth': 3}. Best is trial 2 with value: 0.7643229166666666.\n",
            "[I 2024-09-27 12:14:10,353] Trial 21 finished with value: 0.76171875 and parameters: {'n_estimator': 225, 'max_depth': 5}. Best is trial 2 with value: 0.7643229166666666.\n",
            "[I 2024-09-27 12:14:11,342] Trial 22 finished with value: 0.765625 and parameters: {'n_estimator': 210, 'max_depth': 5}. Best is trial 22 with value: 0.765625.\n",
            "[I 2024-09-27 12:14:12,451] Trial 23 finished with value: 0.7604166666666666 and parameters: {'n_estimator': 250, 'max_depth': 4}. Best is trial 22 with value: 0.765625.\n",
            "[I 2024-09-27 12:14:13,239] Trial 24 finished with value: 0.76171875 and parameters: {'n_estimator': 170, 'max_depth': 5}. Best is trial 22 with value: 0.765625.\n",
            "[I 2024-09-27 12:14:14,191] Trial 25 finished with value: 0.7565104166666666 and parameters: {'n_estimator': 207, 'max_depth': 4}. Best is trial 22 with value: 0.765625.\n",
            "[I 2024-09-27 12:14:15,669] Trial 26 finished with value: 0.7643229166666666 and parameters: {'n_estimator': 235, 'max_depth': 5}. Best is trial 22 with value: 0.765625.\n",
            "[I 2024-09-27 12:14:18,355] Trial 27 finished with value: 0.7018229166666666 and parameters: {'n_estimator': 202, 'max_depth': 1}. Best is trial 22 with value: 0.765625.\n",
            "[I 2024-09-27 12:14:21,384] Trial 28 finished with value: 0.7591145833333334 and parameters: {'n_estimator': 234, 'max_depth': 4}. Best is trial 22 with value: 0.765625.\n",
            "[I 2024-09-27 12:14:22,755] Trial 29 finished with value: 0.7591145833333334 and parameters: {'n_estimator': 183, 'max_depth': 5}. Best is trial 22 with value: 0.765625.\n",
            "[I 2024-09-27 12:14:23,344] Trial 30 finished with value: 0.7578125 and parameters: {'n_estimator': 128, 'max_depth': 4}. Best is trial 22 with value: 0.765625.\n",
            "[I 2024-09-27 12:14:24,352] Trial 31 finished with value: 0.7643229166666666 and parameters: {'n_estimator': 219, 'max_depth': 5}. Best is trial 22 with value: 0.765625.\n",
            "[I 2024-09-27 12:14:25,357] Trial 32 finished with value: 0.765625 and parameters: {'n_estimator': 213, 'max_depth': 5}. Best is trial 22 with value: 0.765625.\n",
            "[I 2024-09-27 12:14:26,280] Trial 33 finished with value: 0.7630208333333334 and parameters: {'n_estimator': 197, 'max_depth': 5}. Best is trial 22 with value: 0.765625.\n",
            "[I 2024-09-27 12:14:26,995] Trial 34 finished with value: 0.7552083333333334 and parameters: {'n_estimator': 158, 'max_depth': 4}. Best is trial 22 with value: 0.765625.\n",
            "[I 2024-09-27 12:14:27,830] Trial 35 finished with value: 0.76171875 and parameters: {'n_estimator': 181, 'max_depth': 5}. Best is trial 22 with value: 0.765625.\n",
            "[I 2024-09-27 12:14:28,944] Trial 36 finished with value: 0.7643229166666666 and parameters: {'n_estimator': 237, 'max_depth': 5}. Best is trial 22 with value: 0.765625.\n",
            "[I 2024-09-27 12:14:29,826] Trial 37 finished with value: 0.7395833333333334 and parameters: {'n_estimator': 211, 'max_depth': 2}. Best is trial 22 with value: 0.765625.\n",
            "[I 2024-09-27 12:14:31,171] Trial 38 finished with value: 0.7578125 and parameters: {'n_estimator': 195, 'max_depth': 4}. Best is trial 22 with value: 0.765625.\n",
            "[I 2024-09-27 12:14:32,940] Trial 39 finished with value: 0.7630208333333334 and parameters: {'n_estimator': 226, 'max_depth': 5}. Best is trial 22 with value: 0.765625.\n",
            "[I 2024-09-27 12:14:34,043] Trial 40 finished with value: 0.7604166666666666 and parameters: {'n_estimator': 242, 'max_depth': 4}. Best is trial 22 with value: 0.765625.\n",
            "[I 2024-09-27 12:14:35,078] Trial 41 finished with value: 0.7630208333333334 and parameters: {'n_estimator': 217, 'max_depth': 5}. Best is trial 22 with value: 0.765625.\n",
            "[I 2024-09-27 12:14:36,153] Trial 42 finished with value: 0.7630208333333334 and parameters: {'n_estimator': 226, 'max_depth': 5}. Best is trial 22 with value: 0.765625.\n",
            "[I 2024-09-27 12:14:37,135] Trial 43 finished with value: 0.765625 and parameters: {'n_estimator': 210, 'max_depth': 5}. Best is trial 22 with value: 0.765625.\n",
            "[I 2024-09-27 12:14:38,139] Trial 44 finished with value: 0.76953125 and parameters: {'n_estimator': 202, 'max_depth': 5}. Best is trial 44 with value: 0.76953125.\n",
            "[I 2024-09-27 12:14:39,050] Trial 45 finished with value: 0.76171875 and parameters: {'n_estimator': 191, 'max_depth': 5}. Best is trial 44 with value: 0.76953125.\n",
            "[I 2024-09-27 12:14:39,928] Trial 46 finished with value: 0.7604166666666666 and parameters: {'n_estimator': 178, 'max_depth': 5}. Best is trial 44 with value: 0.76953125.\n",
            "[I 2024-09-27 12:14:40,676] Trial 47 finished with value: 0.7591145833333334 and parameters: {'n_estimator': 152, 'max_depth': 5}. Best is trial 44 with value: 0.76953125.\n",
            "[I 2024-09-27 12:14:41,574] Trial 48 finished with value: 0.7643229166666666 and parameters: {'n_estimator': 205, 'max_depth': 3}. Best is trial 44 with value: 0.76953125.\n",
            "[I 2024-09-27 12:14:42,485] Trial 49 finished with value: 0.765625 and parameters: {'n_estimator': 199, 'max_depth': 5}. Best is trial 44 with value: 0.76953125.\n"
          ]
        }
      ]
    },
    {
      "cell_type": "code",
      "source": [
        "print('on Training Dataset :')\n",
        "print(f'best accuracy {study.best_value}')\n",
        "print(f'best params {study.best_params}')"
      ],
      "metadata": {
        "colab": {
          "base_uri": "https://localhost:8080/"
        },
        "id": "NUrVyOlSx57g",
        "outputId": "fc24b006-f09c-44cf-94cd-35441605097e"
      },
      "execution_count": null,
      "outputs": [
        {
          "output_type": "stream",
          "name": "stdout",
          "text": [
            "on Training Dataset :\n",
            "best accuracy 0.76953125\n",
            "best params {'n_estimator': 202, 'max_depth': 5}\n"
          ]
        }
      ]
    },
    {
      "cell_type": "code",
      "source": [
        "from sklearn.metrics import accuracy_score\n",
        "\n",
        "best_model=RandomForestClassifier(n_estimators=202,max_depth=5,random_state=42)\n",
        "best_model.fit(X_train,y_train)\n",
        "\n",
        "y_pred=best_model.predict(X_test)\n",
        "print(f'Accuracy on Test Data {accuracy_score(y_test,y_pred):.2f}')"
      ],
      "metadata": {
        "colab": {
          "base_uri": "https://localhost:8080/"
        },
        "id": "aQum7pbDx5-K",
        "outputId": "0684a3f8-bd6e-4e49-f293-7253d6e634d7"
      },
      "execution_count": null,
      "outputs": [
        {
          "output_type": "stream",
          "name": "stdout",
          "text": [
            "Accuracy on Test Data 0.75\n"
          ]
        }
      ]
    },
    {
      "cell_type": "markdown",
      "source": [
        "**Random-Sampler**"
      ],
      "metadata": {
        "id": "N9CxF-alW2Rg"
      }
    },
    {
      "cell_type": "code",
      "source": [
        "study=optuna.create_study(direction='maximize',sampler=optuna.samplers.RandomSampler()) # We aim to maximize accuracy\n",
        "study.optimize(objective,n_trials=50) # Run 50 trials to find the best hyperparameters"
      ],
      "metadata": {
        "colab": {
          "base_uri": "https://localhost:8080/"
        },
        "id": "nXjmeBoMx6BH",
        "outputId": "998622aa-8625-44e2-d708-ca9c65022bf9"
      },
      "execution_count": null,
      "outputs": [
        {
          "output_type": "stream",
          "name": "stderr",
          "text": [
            "[I 2024-09-27 12:02:22,820] A new study created in memory with name: no-name-a4c6496f-6cae-456f-8e23-2124e3cd83f3\n",
            "[I 2024-09-27 12:02:23,336] Trial 0 finished with value: 0.7473958333333334 and parameters: {'n_estimator': 124, 'max_depth': 2}. Best is trial 0 with value: 0.7473958333333334.\n",
            "[I 2024-09-27 12:02:24,132] Trial 1 finished with value: 0.7643229166666666 and parameters: {'n_estimator': 177, 'max_depth': 3}. Best is trial 1 with value: 0.7643229166666666.\n",
            "[I 2024-09-27 12:02:24,871] Trial 2 finished with value: 0.7369791666666666 and parameters: {'n_estimator': 175, 'max_depth': 2}. Best is trial 1 with value: 0.7643229166666666.\n",
            "[I 2024-09-27 12:02:25,412] Trial 3 finished with value: 0.7578125 and parameters: {'n_estimator': 112, 'max_depth': 4}. Best is trial 1 with value: 0.7643229166666666.\n",
            "[I 2024-09-27 12:02:26,268] Trial 4 finished with value: 0.69921875 and parameters: {'n_estimator': 216, 'max_depth': 1}. Best is trial 1 with value: 0.7643229166666666.\n",
            "[I 2024-09-27 12:02:27,089] Trial 5 finished with value: 0.7005208333333334 and parameters: {'n_estimator': 209, 'max_depth': 1}. Best is trial 1 with value: 0.7643229166666666.\n",
            "[I 2024-09-27 12:02:27,820] Trial 6 finished with value: 0.7591145833333334 and parameters: {'n_estimator': 148, 'max_depth': 5}. Best is trial 1 with value: 0.7643229166666666.\n",
            "[I 2024-09-27 12:02:28,280] Trial 7 finished with value: 0.7421875 and parameters: {'n_estimator': 111, 'max_depth': 2}. Best is trial 1 with value: 0.7643229166666666.\n",
            "[I 2024-09-27 12:02:28,829] Trial 8 finished with value: 0.7604166666666666 and parameters: {'n_estimator': 123, 'max_depth': 3}. Best is trial 1 with value: 0.7643229166666666.\n",
            "[I 2024-09-27 12:02:29,982] Trial 9 finished with value: 0.7630208333333334 and parameters: {'n_estimator': 244, 'max_depth': 5}. Best is trial 1 with value: 0.7643229166666666.\n",
            "[I 2024-09-27 12:02:30,546] Trial 10 finished with value: 0.7578125 and parameters: {'n_estimator': 120, 'max_depth': 4}. Best is trial 1 with value: 0.7643229166666666.\n",
            "[I 2024-09-27 12:02:31,375] Trial 11 finished with value: 0.7578125 and parameters: {'n_estimator': 119, 'max_depth': 4}. Best is trial 1 with value: 0.7643229166666666.\n",
            "[I 2024-09-27 12:02:32,040] Trial 12 finished with value: 0.7447916666666666 and parameters: {'n_estimator': 92, 'max_depth': 2}. Best is trial 1 with value: 0.7643229166666666.\n",
            "[I 2024-09-27 12:02:32,620] Trial 13 finished with value: 0.6979166666666666 and parameters: {'n_estimator': 82, 'max_depth': 1}. Best is trial 1 with value: 0.7643229166666666.\n",
            "[I 2024-09-27 12:02:33,946] Trial 14 finished with value: 0.7005208333333334 and parameters: {'n_estimator': 210, 'max_depth': 1}. Best is trial 1 with value: 0.7643229166666666.\n",
            "[I 2024-09-27 12:02:34,500] Trial 15 finished with value: 0.703125 and parameters: {'n_estimator': 140, 'max_depth': 1}. Best is trial 1 with value: 0.7643229166666666.\n",
            "[I 2024-09-27 12:02:35,221] Trial 16 finished with value: 0.75390625 and parameters: {'n_estimator': 161, 'max_depth': 4}. Best is trial 1 with value: 0.7643229166666666.\n",
            "[I 2024-09-27 12:02:35,825] Trial 17 finished with value: 0.74609375 and parameters: {'n_estimator': 145, 'max_depth': 2}. Best is trial 1 with value: 0.7643229166666666.\n",
            "[I 2024-09-27 12:02:36,677] Trial 18 finished with value: 0.7604166666666666 and parameters: {'n_estimator': 185, 'max_depth': 5}. Best is trial 1 with value: 0.7643229166666666.\n",
            "[I 2024-09-27 12:02:37,189] Trial 19 finished with value: 0.7578125 and parameters: {'n_estimator': 116, 'max_depth': 3}. Best is trial 1 with value: 0.7643229166666666.\n",
            "[I 2024-09-27 12:02:37,579] Trial 20 finished with value: 0.7578125 and parameters: {'n_estimator': 86, 'max_depth': 4}. Best is trial 1 with value: 0.7643229166666666.\n",
            "[I 2024-09-27 12:02:37,919] Trial 21 finished with value: 0.7591145833333334 and parameters: {'n_estimator': 70, 'max_depth': 5}. Best is trial 1 with value: 0.7643229166666666.\n",
            "[I 2024-09-27 12:02:38,721] Trial 22 finished with value: 0.73828125 and parameters: {'n_estimator': 185, 'max_depth': 2}. Best is trial 1 with value: 0.7643229166666666.\n",
            "[I 2024-09-27 12:02:39,566] Trial 23 finished with value: 0.73828125 and parameters: {'n_estimator': 202, 'max_depth': 2}. Best is trial 1 with value: 0.7643229166666666.\n",
            "[I 2024-09-27 12:02:40,060] Trial 24 finished with value: 0.7005208333333334 and parameters: {'n_estimator': 126, 'max_depth': 1}. Best is trial 1 with value: 0.7643229166666666.\n",
            "[I 2024-09-27 12:02:41,119] Trial 25 finished with value: 0.7356770833333334 and parameters: {'n_estimator': 249, 'max_depth': 2}. Best is trial 1 with value: 0.7643229166666666.\n",
            "[I 2024-09-27 12:02:41,676] Trial 26 finished with value: 0.7473958333333334 and parameters: {'n_estimator': 134, 'max_depth': 2}. Best is trial 1 with value: 0.7643229166666666.\n",
            "[I 2024-09-27 12:02:42,015] Trial 27 finished with value: 0.7473958333333334 and parameters: {'n_estimator': 80, 'max_depth': 2}. Best is trial 1 with value: 0.7643229166666666.\n",
            "[I 2024-09-27 12:02:43,074] Trial 28 finished with value: 0.7604166666666666 and parameters: {'n_estimator': 244, 'max_depth': 4}. Best is trial 1 with value: 0.7643229166666666.\n",
            "[I 2024-09-27 12:02:43,701] Trial 29 finished with value: 0.7604166666666666 and parameters: {'n_estimator': 136, 'max_depth': 5}. Best is trial 1 with value: 0.7643229166666666.\n",
            "[I 2024-09-27 12:02:45,121] Trial 30 finished with value: 0.7408854166666666 and parameters: {'n_estimator': 216, 'max_depth': 2}. Best is trial 1 with value: 0.7643229166666666.\n",
            "[I 2024-09-27 12:02:45,986] Trial 31 finished with value: 0.74609375 and parameters: {'n_estimator': 123, 'max_depth': 2}. Best is trial 1 with value: 0.7643229166666666.\n",
            "[I 2024-09-27 12:02:46,869] Trial 32 finished with value: 0.7473958333333334 and parameters: {'n_estimator': 129, 'max_depth': 2}. Best is trial 1 with value: 0.7643229166666666.\n",
            "[I 2024-09-27 12:02:47,250] Trial 33 finished with value: 0.7604166666666666 and parameters: {'n_estimator': 83, 'max_depth': 4}. Best is trial 1 with value: 0.7643229166666666.\n",
            "[I 2024-09-27 12:02:47,579] Trial 34 finished with value: 0.7473958333333334 and parameters: {'n_estimator': 75, 'max_depth': 2}. Best is trial 1 with value: 0.7643229166666666.\n",
            "[I 2024-09-27 12:02:47,979] Trial 35 finished with value: 0.7630208333333334 and parameters: {'n_estimator': 85, 'max_depth': 5}. Best is trial 1 with value: 0.7643229166666666.\n",
            "[I 2024-09-27 12:02:48,557] Trial 36 finished with value: 0.7565104166666666 and parameters: {'n_estimator': 125, 'max_depth': 4}. Best is trial 1 with value: 0.7643229166666666.\n",
            "[I 2024-09-27 12:02:49,069] Trial 37 finished with value: 0.7473958333333334 and parameters: {'n_estimator': 130, 'max_depth': 2}. Best is trial 1 with value: 0.7643229166666666.\n",
            "[I 2024-09-27 12:02:49,294] Trial 38 finished with value: 0.7630208333333334 and parameters: {'n_estimator': 52, 'max_depth': 3}. Best is trial 1 with value: 0.7643229166666666.\n",
            "[I 2024-09-27 12:02:49,907] Trial 39 finished with value: 0.7447916666666666 and parameters: {'n_estimator': 152, 'max_depth': 2}. Best is trial 1 with value: 0.7643229166666666.\n",
            "[I 2024-09-27 12:02:50,240] Trial 40 finished with value: 0.7486979166666666 and parameters: {'n_estimator': 79, 'max_depth': 2}. Best is trial 1 with value: 0.7643229166666666.\n",
            "[I 2024-09-27 12:02:50,892] Trial 41 finished with value: 0.7604166666666666 and parameters: {'n_estimator': 142, 'max_depth': 5}. Best is trial 1 with value: 0.7643229166666666.\n",
            "[I 2024-09-27 12:02:51,977] Trial 42 finished with value: 0.7604166666666666 and parameters: {'n_estimator': 248, 'max_depth': 4}. Best is trial 1 with value: 0.7643229166666666.\n",
            "[I 2024-09-27 12:02:52,934] Trial 43 finished with value: 0.7565104166666666 and parameters: {'n_estimator': 220, 'max_depth': 4}. Best is trial 1 with value: 0.7643229166666666.\n",
            "[I 2024-09-27 12:02:53,280] Trial 44 finished with value: 0.703125 and parameters: {'n_estimator': 88, 'max_depth': 1}. Best is trial 1 with value: 0.7643229166666666.\n",
            "[I 2024-09-27 12:02:54,256] Trial 45 finished with value: 0.7565104166666666 and parameters: {'n_estimator': 222, 'max_depth': 4}. Best is trial 1 with value: 0.7643229166666666.\n",
            "[I 2024-09-27 12:02:55,147] Trial 46 finished with value: 0.7565104166666666 and parameters: {'n_estimator': 202, 'max_depth': 4}. Best is trial 1 with value: 0.7643229166666666.\n",
            "[I 2024-09-27 12:02:55,792] Trial 47 finished with value: 0.7044270833333334 and parameters: {'n_estimator': 167, 'max_depth': 1}. Best is trial 1 with value: 0.7643229166666666.\n",
            "[I 2024-09-27 12:02:56,690] Trial 48 finished with value: 0.7369791666666666 and parameters: {'n_estimator': 225, 'max_depth': 2}. Best is trial 1 with value: 0.7643229166666666.\n",
            "[I 2024-09-27 12:02:57,327] Trial 49 finished with value: 0.7591145833333334 and parameters: {'n_estimator': 97, 'max_depth': 3}. Best is trial 1 with value: 0.7643229166666666.\n"
          ]
        }
      ]
    },
    {
      "cell_type": "code",
      "source": [
        "print('on Training Dataset :')\n",
        "print(f'best accuracy {study.best_value}')\n",
        "print(f'best params {study.best_params}')"
      ],
      "metadata": {
        "colab": {
          "base_uri": "https://localhost:8080/"
        },
        "id": "HQGNU0z6x6EE",
        "outputId": "cb313fc0-80ad-487d-fc14-b8e998988774"
      },
      "execution_count": null,
      "outputs": [
        {
          "output_type": "stream",
          "name": "stdout",
          "text": [
            "on Training Dataset :\n",
            "best accuracy 0.7643229166666666\n",
            "best params {'n_estimator': 177, 'max_depth': 3}\n"
          ]
        }
      ]
    },
    {
      "cell_type": "code",
      "source": [
        "best_model=RandomForestClassifier(n_estimators=177,max_depth=3,random_state=42)\n",
        "best_model.fit(X_train,y_train)\n",
        "\n",
        "y_pred=best_model.predict(X_test)\n",
        "print(f'Accuracy on Test Data {accuracy_score(y_test,y_pred):.2f}')"
      ],
      "metadata": {
        "colab": {
          "base_uri": "https://localhost:8080/"
        },
        "id": "K9tvjeq6x6HH",
        "outputId": "323dccd9-b202-4181-921b-e58273e5a86a"
      },
      "execution_count": null,
      "outputs": [
        {
          "output_type": "stream",
          "name": "stdout",
          "text": [
            "Accuracy on Test Data 0.79\n"
          ]
        }
      ]
    },
    {
      "cell_type": "markdown",
      "source": [
        "**Grid-Search-Sampler**"
      ],
      "metadata": {
        "id": "NjxmjQ5MXdwg"
      }
    },
    {
      "cell_type": "code",
      "source": [
        "search_space={\n",
        "    'n_estimator':[50,100,150,200,250],\n",
        "    'max_depth':[1,2,3,4,5]\n",
        "}"
      ],
      "metadata": {
        "id": "Q3ZgQTRAx6Jz"
      },
      "execution_count": null,
      "outputs": []
    },
    {
      "cell_type": "code",
      "source": [
        "study=optuna.create_study(direction='maximize',sampler=optuna.samplers.GridSampler(search_space))\n",
        "study.optimize(objective)"
      ],
      "metadata": {
        "colab": {
          "base_uri": "https://localhost:8080/"
        },
        "id": "buxdNVFXx6M1",
        "outputId": "014f439f-35ca-4761-baba-df5a0316c72b"
      },
      "execution_count": null,
      "outputs": [
        {
          "output_type": "stream",
          "name": "stderr",
          "text": [
            "[I 2024-09-27 12:07:49,669] A new study created in memory with name: no-name-50225d77-d602-4a5d-8721-d348e2dbcc9c\n",
            "[I 2024-09-27 12:07:49,899] Trial 0 finished with value: 0.7395833333333334 and parameters: {'n_estimator': 50, 'max_depth': 2}. Best is trial 0 with value: 0.7395833333333334.\n",
            "[I 2024-09-27 12:07:50,850] Trial 1 finished with value: 0.69921875 and parameters: {'n_estimator': 150, 'max_depth': 1}. Best is trial 0 with value: 0.7395833333333334.\n",
            "[I 2024-09-27 12:07:52,643] Trial 2 finished with value: 0.7604166666666666 and parameters: {'n_estimator': 250, 'max_depth': 4}. Best is trial 2 with value: 0.7604166666666666.\n",
            "[I 2024-09-27 12:07:53,184] Trial 3 finished with value: 0.7591145833333334 and parameters: {'n_estimator': 100, 'max_depth': 4}. Best is trial 2 with value: 0.7604166666666666.\n",
            "[I 2024-09-27 12:07:53,599] Trial 4 finished with value: 0.7604166666666666 and parameters: {'n_estimator': 100, 'max_depth': 3}. Best is trial 2 with value: 0.7604166666666666.\n",
            "[I 2024-09-27 12:07:54,285] Trial 5 finished with value: 0.7591145833333334 and parameters: {'n_estimator': 150, 'max_depth': 5}. Best is trial 2 with value: 0.7604166666666666.\n",
            "[I 2024-09-27 12:07:54,952] Trial 6 finished with value: 0.7604166666666666 and parameters: {'n_estimator': 150, 'max_depth': 4}. Best is trial 2 with value: 0.7604166666666666.\n",
            "[I 2024-09-27 12:07:56,074] Trial 7 finished with value: 0.76171875 and parameters: {'n_estimator': 250, 'max_depth': 5}. Best is trial 7 with value: 0.76171875.\n",
            "[I 2024-09-27 12:07:56,974] Trial 8 finished with value: 0.765625 and parameters: {'n_estimator': 200, 'max_depth': 5}. Best is trial 8 with value: 0.765625.\n",
            "[I 2024-09-27 12:07:58,044] Trial 9 finished with value: 0.7630208333333334 and parameters: {'n_estimator': 250, 'max_depth': 3}. Best is trial 8 with value: 0.765625.\n",
            "[I 2024-09-27 12:07:58,449] Trial 10 finished with value: 0.7109375 and parameters: {'n_estimator': 100, 'max_depth': 1}. Best is trial 8 with value: 0.765625.\n",
            "[I 2024-09-27 12:07:58,672] Trial 11 finished with value: 0.76171875 and parameters: {'n_estimator': 50, 'max_depth': 3}. Best is trial 8 with value: 0.765625.\n",
            "[I 2024-09-27 12:07:59,496] Trial 12 finished with value: 0.7630208333333334 and parameters: {'n_estimator': 200, 'max_depth': 3}. Best is trial 8 with value: 0.765625.\n",
            "[I 2024-09-27 12:08:00,299] Trial 13 finished with value: 0.73828125 and parameters: {'n_estimator': 200, 'max_depth': 2}. Best is trial 8 with value: 0.765625.\n",
            "[I 2024-09-27 12:08:00,704] Trial 14 finished with value: 0.7395833333333334 and parameters: {'n_estimator': 100, 'max_depth': 2}. Best is trial 8 with value: 0.765625.\n",
            "[I 2024-09-27 12:08:01,566] Trial 15 finished with value: 0.7565104166666666 and parameters: {'n_estimator': 200, 'max_depth': 4}. Best is trial 8 with value: 0.765625.\n",
            "[I 2024-09-27 12:08:02,504] Trial 16 finished with value: 0.6966145833333334 and parameters: {'n_estimator': 250, 'max_depth': 1}. Best is trial 8 with value: 0.765625.\n",
            "[I 2024-09-27 12:08:03,857] Trial 17 finished with value: 0.7356770833333334 and parameters: {'n_estimator': 250, 'max_depth': 2}. Best is trial 8 with value: 0.765625.\n",
            "[I 2024-09-27 12:08:04,852] Trial 18 finished with value: 0.7447916666666666 and parameters: {'n_estimator': 150, 'max_depth': 2}. Best is trial 8 with value: 0.765625.\n",
            "[I 2024-09-27 12:08:05,241] Trial 19 finished with value: 0.75390625 and parameters: {'n_estimator': 50, 'max_depth': 5}. Best is trial 8 with value: 0.765625.\n",
            "[I 2024-09-27 12:08:06,177] Trial 20 finished with value: 0.7005208333333334 and parameters: {'n_estimator': 200, 'max_depth': 1}. Best is trial 8 with value: 0.765625.\n",
            "[I 2024-09-27 12:08:06,380] Trial 21 finished with value: 0.6927083333333334 and parameters: {'n_estimator': 50, 'max_depth': 1}. Best is trial 8 with value: 0.765625.\n",
            "[I 2024-09-27 12:08:06,833] Trial 22 finished with value: 0.765625 and parameters: {'n_estimator': 100, 'max_depth': 5}. Best is trial 8 with value: 0.765625.\n",
            "[I 2024-09-27 12:08:07,064] Trial 23 finished with value: 0.7604166666666666 and parameters: {'n_estimator': 50, 'max_depth': 4}. Best is trial 8 with value: 0.765625.\n",
            "[I 2024-09-27 12:08:07,702] Trial 24 finished with value: 0.76171875 and parameters: {'n_estimator': 150, 'max_depth': 3}. Best is trial 8 with value: 0.765625.\n"
          ]
        }
      ]
    },
    {
      "cell_type": "code",
      "source": [
        "print('on Training Dataset :')\n",
        "print(f'best accuracy {study.best_value}')\n",
        "print(f'best params {study.best_params}')"
      ],
      "metadata": {
        "colab": {
          "base_uri": "https://localhost:8080/"
        },
        "id": "qER2HQ2lx6Pv",
        "outputId": "08ccb1d5-79a2-47e6-8745-d0bb23c4545f"
      },
      "execution_count": null,
      "outputs": [
        {
          "output_type": "stream",
          "name": "stdout",
          "text": [
            "on Training Dataset :\n",
            "best accuracy 0.765625\n",
            "best params {'n_estimator': 200, 'max_depth': 5}\n"
          ]
        }
      ]
    },
    {
      "cell_type": "code",
      "source": [
        "best_model=RandomForestClassifier(n_estimators=200,max_depth=5,random_state=42)\n",
        "best_model.fit(X_train,y_train)\n",
        "\n",
        "y_pred=best_model.predict(X_test)\n",
        "print(f'Accuracy on Test Data {accuracy_score(y_test,y_pred):.2f}')"
      ],
      "metadata": {
        "colab": {
          "base_uri": "https://localhost:8080/"
        },
        "id": "RuvBxPskx6S1",
        "outputId": "6db3b1fa-7555-4c8b-d132-cdd4d6fa4472"
      },
      "execution_count": null,
      "outputs": [
        {
          "output_type": "stream",
          "name": "stdout",
          "text": [
            "Accuracy on Test Data 0.75\n"
          ]
        }
      ]
    },
    {
      "cell_type": "markdown",
      "source": [
        "OPtuna-Visualisations"
      ],
      "metadata": {
        "id": "fflPwfnYaCip"
      }
    },
    {
      "cell_type": "code",
      "source": [
        "from optuna.visualization import plot_contour,plot_optimization_history,plot_parallel_coordinate,plot_param_importances,plot_slice"
      ],
      "metadata": {
        "id": "WbCvtKGUx6Vx"
      },
      "execution_count": null,
      "outputs": []
    },
    {
      "cell_type": "code",
      "source": [
        "plot_optimization_history(study).show()"
      ],
      "metadata": {
        "colab": {
          "base_uri": "https://localhost:8080/",
          "height": 542
        },
        "id": "VrF-3wDcx6Y0",
        "outputId": "c3ca8838-1997-44c3-a0a4-4f76396cfad1"
      },
      "execution_count": null,
      "outputs": [
        {
          "output_type": "display_data",
          "data": {
            "text/html": [
              "<html>\n",
              "<head><meta charset=\"utf-8\" /></head>\n",
              "<body>\n",
              "    <div>            <script src=\"https://cdnjs.cloudflare.com/ajax/libs/mathjax/2.7.5/MathJax.js?config=TeX-AMS-MML_SVG\"></script><script type=\"text/javascript\">if (window.MathJax && window.MathJax.Hub && window.MathJax.Hub.Config) {window.MathJax.Hub.Config({SVG: {font: \"STIX-Web\"}});}</script>                <script type=\"text/javascript\">window.PlotlyConfig = {MathJaxConfig: 'local'};</script>\n",
              "        <script charset=\"utf-8\" src=\"https://cdn.plot.ly/plotly-2.35.2.min.js\"></script>                <div id=\"fd68ef78-0082-4026-9b70-4a236fcbd77b\" class=\"plotly-graph-div\" style=\"height:525px; width:100%;\"></div>            <script type=\"text/javascript\">                                    window.PLOTLYENV=window.PLOTLYENV || {};                                    if (document.getElementById(\"fd68ef78-0082-4026-9b70-4a236fcbd77b\")) {                    Plotly.newPlot(                        \"fd68ef78-0082-4026-9b70-4a236fcbd77b\",                        [{\"mode\":\"markers\",\"name\":\"Objective Value\",\"x\":[0,1,2,3,4,5,6,7,8,9,10,11,12,13,14,15,16,17,18,19,20,21,22,23,24,25,26,27,28,29,30,31,32,33,34,35,36,37,38,39,40,41,42,43,44,45,46,47,48,49],\"y\":[0.7604166666666666,0.7578125,0.7643229166666666,0.7578125,0.73828125,0.7421875,0.7356770833333334,0.703125,0.7643229166666666,0.7630208333333334,0.7630208333333334,0.7604166666666666,0.7604166666666666,0.7604166666666666,0.7643229166666666,0.7565104166666666,0.7591145833333334,0.7565104166666666,0.7643229166666666,0.7643229166666666,0.7643229166666666,0.76171875,0.765625,0.7604166666666666,0.76171875,0.7565104166666666,0.7643229166666666,0.7018229166666666,0.7591145833333334,0.7591145833333334,0.7578125,0.7643229166666666,0.765625,0.7630208333333334,0.7552083333333334,0.76171875,0.7643229166666666,0.7395833333333334,0.7578125,0.7630208333333334,0.7604166666666666,0.7630208333333334,0.7630208333333334,0.765625,0.76953125,0.76171875,0.7604166666666666,0.7591145833333334,0.7643229166666666,0.765625],\"type\":\"scatter\"},{\"mode\":\"lines\",\"name\":\"Best Value\",\"x\":[0,1,2,3,4,5,6,7,8,9,10,11,12,13,14,15,16,17,18,19,20,21,22,23,24,25,26,27,28,29,30,31,32,33,34,35,36,37,38,39,40,41,42,43,44,45,46,47,48,49],\"y\":[0.7604166666666666,0.7604166666666666,0.7643229166666666,0.7643229166666666,0.7643229166666666,0.7643229166666666,0.7643229166666666,0.7643229166666666,0.7643229166666666,0.7643229166666666,0.7643229166666666,0.7643229166666666,0.7643229166666666,0.7643229166666666,0.7643229166666666,0.7643229166666666,0.7643229166666666,0.7643229166666666,0.7643229166666666,0.7643229166666666,0.7643229166666666,0.7643229166666666,0.765625,0.765625,0.765625,0.765625,0.765625,0.765625,0.765625,0.765625,0.765625,0.765625,0.765625,0.765625,0.765625,0.765625,0.765625,0.765625,0.765625,0.765625,0.765625,0.765625,0.765625,0.765625,0.76953125,0.76953125,0.76953125,0.76953125,0.76953125,0.76953125],\"type\":\"scatter\"},{\"marker\":{\"color\":\"#cccccc\"},\"mode\":\"markers\",\"name\":\"Infeasible Trial\",\"showlegend\":false,\"x\":[],\"y\":[],\"type\":\"scatter\"}],                        {\"title\":{\"text\":\"Optimization History Plot\"},\"xaxis\":{\"title\":{\"text\":\"Trial\"}},\"yaxis\":{\"title\":{\"text\":\"Objective Value\"}},\"template\":{\"data\":{\"histogram2dcontour\":[{\"type\":\"histogram2dcontour\",\"colorbar\":{\"outlinewidth\":0,\"ticks\":\"\"},\"colorscale\":[[0.0,\"#0d0887\"],[0.1111111111111111,\"#46039f\"],[0.2222222222222222,\"#7201a8\"],[0.3333333333333333,\"#9c179e\"],[0.4444444444444444,\"#bd3786\"],[0.5555555555555556,\"#d8576b\"],[0.6666666666666666,\"#ed7953\"],[0.7777777777777778,\"#fb9f3a\"],[0.8888888888888888,\"#fdca26\"],[1.0,\"#f0f921\"]]}],\"choropleth\":[{\"type\":\"choropleth\",\"colorbar\":{\"outlinewidth\":0,\"ticks\":\"\"}}],\"histogram2d\":[{\"type\":\"histogram2d\",\"colorbar\":{\"outlinewidth\":0,\"ticks\":\"\"},\"colorscale\":[[0.0,\"#0d0887\"],[0.1111111111111111,\"#46039f\"],[0.2222222222222222,\"#7201a8\"],[0.3333333333333333,\"#9c179e\"],[0.4444444444444444,\"#bd3786\"],[0.5555555555555556,\"#d8576b\"],[0.6666666666666666,\"#ed7953\"],[0.7777777777777778,\"#fb9f3a\"],[0.8888888888888888,\"#fdca26\"],[1.0,\"#f0f921\"]]}],\"heatmap\":[{\"type\":\"heatmap\",\"colorbar\":{\"outlinewidth\":0,\"ticks\":\"\"},\"colorscale\":[[0.0,\"#0d0887\"],[0.1111111111111111,\"#46039f\"],[0.2222222222222222,\"#7201a8\"],[0.3333333333333333,\"#9c179e\"],[0.4444444444444444,\"#bd3786\"],[0.5555555555555556,\"#d8576b\"],[0.6666666666666666,\"#ed7953\"],[0.7777777777777778,\"#fb9f3a\"],[0.8888888888888888,\"#fdca26\"],[1.0,\"#f0f921\"]]}],\"heatmapgl\":[{\"type\":\"heatmapgl\",\"colorbar\":{\"outlinewidth\":0,\"ticks\":\"\"},\"colorscale\":[[0.0,\"#0d0887\"],[0.1111111111111111,\"#46039f\"],[0.2222222222222222,\"#7201a8\"],[0.3333333333333333,\"#9c179e\"],[0.4444444444444444,\"#bd3786\"],[0.5555555555555556,\"#d8576b\"],[0.6666666666666666,\"#ed7953\"],[0.7777777777777778,\"#fb9f3a\"],[0.8888888888888888,\"#fdca26\"],[1.0,\"#f0f921\"]]}],\"contourcarpet\":[{\"type\":\"contourcarpet\",\"colorbar\":{\"outlinewidth\":0,\"ticks\":\"\"}}],\"contour\":[{\"type\":\"contour\",\"colorbar\":{\"outlinewidth\":0,\"ticks\":\"\"},\"colorscale\":[[0.0,\"#0d0887\"],[0.1111111111111111,\"#46039f\"],[0.2222222222222222,\"#7201a8\"],[0.3333333333333333,\"#9c179e\"],[0.4444444444444444,\"#bd3786\"],[0.5555555555555556,\"#d8576b\"],[0.6666666666666666,\"#ed7953\"],[0.7777777777777778,\"#fb9f3a\"],[0.8888888888888888,\"#fdca26\"],[1.0,\"#f0f921\"]]}],\"surface\":[{\"type\":\"surface\",\"colorbar\":{\"outlinewidth\":0,\"ticks\":\"\"},\"colorscale\":[[0.0,\"#0d0887\"],[0.1111111111111111,\"#46039f\"],[0.2222222222222222,\"#7201a8\"],[0.3333333333333333,\"#9c179e\"],[0.4444444444444444,\"#bd3786\"],[0.5555555555555556,\"#d8576b\"],[0.6666666666666666,\"#ed7953\"],[0.7777777777777778,\"#fb9f3a\"],[0.8888888888888888,\"#fdca26\"],[1.0,\"#f0f921\"]]}],\"mesh3d\":[{\"type\":\"mesh3d\",\"colorbar\":{\"outlinewidth\":0,\"ticks\":\"\"}}],\"scatter\":[{\"fillpattern\":{\"fillmode\":\"overlay\",\"size\":10,\"solidity\":0.2},\"type\":\"scatter\"}],\"parcoords\":[{\"type\":\"parcoords\",\"line\":{\"colorbar\":{\"outlinewidth\":0,\"ticks\":\"\"}}}],\"scatterpolargl\":[{\"type\":\"scatterpolargl\",\"marker\":{\"colorbar\":{\"outlinewidth\":0,\"ticks\":\"\"}}}],\"bar\":[{\"error_x\":{\"color\":\"#2a3f5f\"},\"error_y\":{\"color\":\"#2a3f5f\"},\"marker\":{\"line\":{\"color\":\"#E5ECF6\",\"width\":0.5},\"pattern\":{\"fillmode\":\"overlay\",\"size\":10,\"solidity\":0.2}},\"type\":\"bar\"}],\"scattergeo\":[{\"type\":\"scattergeo\",\"marker\":{\"colorbar\":{\"outlinewidth\":0,\"ticks\":\"\"}}}],\"scatterpolar\":[{\"type\":\"scatterpolar\",\"marker\":{\"colorbar\":{\"outlinewidth\":0,\"ticks\":\"\"}}}],\"histogram\":[{\"marker\":{\"pattern\":{\"fillmode\":\"overlay\",\"size\":10,\"solidity\":0.2}},\"type\":\"histogram\"}],\"scattergl\":[{\"type\":\"scattergl\",\"marker\":{\"colorbar\":{\"outlinewidth\":0,\"ticks\":\"\"}}}],\"scatter3d\":[{\"type\":\"scatter3d\",\"line\":{\"colorbar\":{\"outlinewidth\":0,\"ticks\":\"\"}},\"marker\":{\"colorbar\":{\"outlinewidth\":0,\"ticks\":\"\"}}}],\"scattermapbox\":[{\"type\":\"scattermapbox\",\"marker\":{\"colorbar\":{\"outlinewidth\":0,\"ticks\":\"\"}}}],\"scatterternary\":[{\"type\":\"scatterternary\",\"marker\":{\"colorbar\":{\"outlinewidth\":0,\"ticks\":\"\"}}}],\"scattercarpet\":[{\"type\":\"scattercarpet\",\"marker\":{\"colorbar\":{\"outlinewidth\":0,\"ticks\":\"\"}}}],\"carpet\":[{\"aaxis\":{\"endlinecolor\":\"#2a3f5f\",\"gridcolor\":\"white\",\"linecolor\":\"white\",\"minorgridcolor\":\"white\",\"startlinecolor\":\"#2a3f5f\"},\"baxis\":{\"endlinecolor\":\"#2a3f5f\",\"gridcolor\":\"white\",\"linecolor\":\"white\",\"minorgridcolor\":\"white\",\"startlinecolor\":\"#2a3f5f\"},\"type\":\"carpet\"}],\"table\":[{\"cells\":{\"fill\":{\"color\":\"#EBF0F8\"},\"line\":{\"color\":\"white\"}},\"header\":{\"fill\":{\"color\":\"#C8D4E3\"},\"line\":{\"color\":\"white\"}},\"type\":\"table\"}],\"barpolar\":[{\"marker\":{\"line\":{\"color\":\"#E5ECF6\",\"width\":0.5},\"pattern\":{\"fillmode\":\"overlay\",\"size\":10,\"solidity\":0.2}},\"type\":\"barpolar\"}],\"pie\":[{\"automargin\":true,\"type\":\"pie\"}]},\"layout\":{\"autotypenumbers\":\"strict\",\"colorway\":[\"#636efa\",\"#EF553B\",\"#00cc96\",\"#ab63fa\",\"#FFA15A\",\"#19d3f3\",\"#FF6692\",\"#B6E880\",\"#FF97FF\",\"#FECB52\"],\"font\":{\"color\":\"#2a3f5f\"},\"hovermode\":\"closest\",\"hoverlabel\":{\"align\":\"left\"},\"paper_bgcolor\":\"white\",\"plot_bgcolor\":\"#E5ECF6\",\"polar\":{\"bgcolor\":\"#E5ECF6\",\"angularaxis\":{\"gridcolor\":\"white\",\"linecolor\":\"white\",\"ticks\":\"\"},\"radialaxis\":{\"gridcolor\":\"white\",\"linecolor\":\"white\",\"ticks\":\"\"}},\"ternary\":{\"bgcolor\":\"#E5ECF6\",\"aaxis\":{\"gridcolor\":\"white\",\"linecolor\":\"white\",\"ticks\":\"\"},\"baxis\":{\"gridcolor\":\"white\",\"linecolor\":\"white\",\"ticks\":\"\"},\"caxis\":{\"gridcolor\":\"white\",\"linecolor\":\"white\",\"ticks\":\"\"}},\"coloraxis\":{\"colorbar\":{\"outlinewidth\":0,\"ticks\":\"\"}},\"colorscale\":{\"sequential\":[[0.0,\"#0d0887\"],[0.1111111111111111,\"#46039f\"],[0.2222222222222222,\"#7201a8\"],[0.3333333333333333,\"#9c179e\"],[0.4444444444444444,\"#bd3786\"],[0.5555555555555556,\"#d8576b\"],[0.6666666666666666,\"#ed7953\"],[0.7777777777777778,\"#fb9f3a\"],[0.8888888888888888,\"#fdca26\"],[1.0,\"#f0f921\"]],\"sequentialminus\":[[0.0,\"#0d0887\"],[0.1111111111111111,\"#46039f\"],[0.2222222222222222,\"#7201a8\"],[0.3333333333333333,\"#9c179e\"],[0.4444444444444444,\"#bd3786\"],[0.5555555555555556,\"#d8576b\"],[0.6666666666666666,\"#ed7953\"],[0.7777777777777778,\"#fb9f3a\"],[0.8888888888888888,\"#fdca26\"],[1.0,\"#f0f921\"]],\"diverging\":[[0,\"#8e0152\"],[0.1,\"#c51b7d\"],[0.2,\"#de77ae\"],[0.3,\"#f1b6da\"],[0.4,\"#fde0ef\"],[0.5,\"#f7f7f7\"],[0.6,\"#e6f5d0\"],[0.7,\"#b8e186\"],[0.8,\"#7fbc41\"],[0.9,\"#4d9221\"],[1,\"#276419\"]]},\"xaxis\":{\"gridcolor\":\"white\",\"linecolor\":\"white\",\"ticks\":\"\",\"title\":{\"standoff\":15},\"zerolinecolor\":\"white\",\"automargin\":true,\"zerolinewidth\":2},\"yaxis\":{\"gridcolor\":\"white\",\"linecolor\":\"white\",\"ticks\":\"\",\"title\":{\"standoff\":15},\"zerolinecolor\":\"white\",\"automargin\":true,\"zerolinewidth\":2},\"scene\":{\"xaxis\":{\"backgroundcolor\":\"#E5ECF6\",\"gridcolor\":\"white\",\"linecolor\":\"white\",\"showbackground\":true,\"ticks\":\"\",\"zerolinecolor\":\"white\",\"gridwidth\":2},\"yaxis\":{\"backgroundcolor\":\"#E5ECF6\",\"gridcolor\":\"white\",\"linecolor\":\"white\",\"showbackground\":true,\"ticks\":\"\",\"zerolinecolor\":\"white\",\"gridwidth\":2},\"zaxis\":{\"backgroundcolor\":\"#E5ECF6\",\"gridcolor\":\"white\",\"linecolor\":\"white\",\"showbackground\":true,\"ticks\":\"\",\"zerolinecolor\":\"white\",\"gridwidth\":2}},\"shapedefaults\":{\"line\":{\"color\":\"#2a3f5f\"}},\"annotationdefaults\":{\"arrowcolor\":\"#2a3f5f\",\"arrowhead\":0,\"arrowwidth\":1},\"geo\":{\"bgcolor\":\"white\",\"landcolor\":\"#E5ECF6\",\"subunitcolor\":\"white\",\"showland\":true,\"showlakes\":true,\"lakecolor\":\"white\"},\"title\":{\"x\":0.05},\"mapbox\":{\"style\":\"light\"}}}},                        {\"responsive\": true}                    ).then(function(){\n",
              "                            \n",
              "var gd = document.getElementById('fd68ef78-0082-4026-9b70-4a236fcbd77b');\n",
              "var x = new MutationObserver(function (mutations, observer) {{\n",
              "        var display = window.getComputedStyle(gd).display;\n",
              "        if (!display || display === 'none') {{\n",
              "            console.log([gd, 'removed!']);\n",
              "            Plotly.purge(gd);\n",
              "            observer.disconnect();\n",
              "        }}\n",
              "}});\n",
              "\n",
              "// Listen for the removal of the full notebook cells\n",
              "var notebookContainer = gd.closest('#notebook-container');\n",
              "if (notebookContainer) {{\n",
              "    x.observe(notebookContainer, {childList: true});\n",
              "}}\n",
              "\n",
              "// Listen for the clearing of the current output cell\n",
              "var outputEl = gd.closest('.output');\n",
              "if (outputEl) {{\n",
              "    x.observe(outputEl, {childList: true});\n",
              "}}\n",
              "\n",
              "                        })                };                            </script>        </div>\n",
              "</body>\n",
              "</html>"
            ]
          },
          "metadata": {}
        }
      ]
    },
    {
      "cell_type": "code",
      "source": [
        "plot_parallel_coordinate(study).show()"
      ],
      "metadata": {
        "colab": {
          "base_uri": "https://localhost:8080/",
          "height": 542
        },
        "id": "T-SQVspgx6bo",
        "outputId": "2257b6d0-45ff-4c44-a350-926466cf772e"
      },
      "execution_count": null,
      "outputs": [
        {
          "output_type": "display_data",
          "data": {
            "text/html": [
              "<html>\n",
              "<head><meta charset=\"utf-8\" /></head>\n",
              "<body>\n",
              "    <div>            <script src=\"https://cdnjs.cloudflare.com/ajax/libs/mathjax/2.7.5/MathJax.js?config=TeX-AMS-MML_SVG\"></script><script type=\"text/javascript\">if (window.MathJax && window.MathJax.Hub && window.MathJax.Hub.Config) {window.MathJax.Hub.Config({SVG: {font: \"STIX-Web\"}});}</script>                <script type=\"text/javascript\">window.PlotlyConfig = {MathJaxConfig: 'local'};</script>\n",
              "        <script charset=\"utf-8\" src=\"https://cdn.plot.ly/plotly-2.35.2.min.js\"></script>                <div id=\"8380041a-674e-4584-98e2-0a6584593831\" class=\"plotly-graph-div\" style=\"height:525px; width:100%;\"></div>            <script type=\"text/javascript\">                                    window.PLOTLYENV=window.PLOTLYENV || {};                                    if (document.getElementById(\"8380041a-674e-4584-98e2-0a6584593831\")) {                    Plotly.newPlot(                        \"8380041a-674e-4584-98e2-0a6584593831\",                        [{\"dimensions\":[{\"label\":\"Objective Value\",\"range\":[0.7018229166666666,0.76953125],\"values\":[0.7604166666666666,0.7578125,0.7643229166666666,0.7578125,0.73828125,0.7421875,0.7356770833333334,0.703125,0.7643229166666666,0.7630208333333334,0.7630208333333334,0.7604166666666666,0.7604166666666666,0.7604166666666666,0.7643229166666666,0.7565104166666666,0.7591145833333334,0.7565104166666666,0.7643229166666666,0.7643229166666666,0.7643229166666666,0.76171875,0.765625,0.7604166666666666,0.76171875,0.7565104166666666,0.7643229166666666,0.7018229166666666,0.7591145833333334,0.7591145833333334,0.7578125,0.7643229166666666,0.765625,0.7630208333333334,0.7552083333333334,0.76171875,0.7643229166666666,0.7395833333333334,0.7578125,0.7630208333333334,0.7604166666666666,0.7630208333333334,0.7630208333333334,0.765625,0.76953125,0.76171875,0.7604166666666666,0.7591145833333334,0.7643229166666666,0.765625]},{\"label\":\"max_depth\",\"range\":[1,5],\"values\":[3,4,5,4,2,2,2,1,5,3,5,5,5,4,5,4,5,4,3,5,3,5,5,4,5,4,5,1,4,5,4,5,5,5,4,5,5,2,4,5,4,5,5,5,5,5,5,5,3,5]},{\"label\":\"n_estimator\",\"range\":[57,250],\"values\":[100,196,234,147,167,191,231,187,235,214,85,248,136,247,218,172,114,220,57,235,207,225,210,250,170,207,235,202,234,183,128,219,213,197,158,181,237,211,195,226,242,217,226,210,202,191,178,152,205,199]}],\"labelangle\":30,\"labelside\":\"bottom\",\"line\":{\"color\":[0.7604166666666666,0.7578125,0.7643229166666666,0.7578125,0.73828125,0.7421875,0.7356770833333334,0.703125,0.7643229166666666,0.7630208333333334,0.7630208333333334,0.7604166666666666,0.7604166666666666,0.7604166666666666,0.7643229166666666,0.7565104166666666,0.7591145833333334,0.7565104166666666,0.7643229166666666,0.7643229166666666,0.7643229166666666,0.76171875,0.765625,0.7604166666666666,0.76171875,0.7565104166666666,0.7643229166666666,0.7018229166666666,0.7591145833333334,0.7591145833333334,0.7578125,0.7643229166666666,0.765625,0.7630208333333334,0.7552083333333334,0.76171875,0.7643229166666666,0.7395833333333334,0.7578125,0.7630208333333334,0.7604166666666666,0.7630208333333334,0.7630208333333334,0.765625,0.76953125,0.76171875,0.7604166666666666,0.7591145833333334,0.7643229166666666,0.765625],\"colorbar\":{\"title\":{\"text\":\"Objective Value\"}},\"colorscale\":[[0.0,\"rgb(247,251,255)\"],[0.125,\"rgb(222,235,247)\"],[0.25,\"rgb(198,219,239)\"],[0.375,\"rgb(158,202,225)\"],[0.5,\"rgb(107,174,214)\"],[0.625,\"rgb(66,146,198)\"],[0.75,\"rgb(33,113,181)\"],[0.875,\"rgb(8,81,156)\"],[1.0,\"rgb(8,48,107)\"]],\"reversescale\":false,\"showscale\":true},\"type\":\"parcoords\"}],                        {\"title\":{\"text\":\"Parallel Coordinate Plot\"},\"template\":{\"data\":{\"histogram2dcontour\":[{\"type\":\"histogram2dcontour\",\"colorbar\":{\"outlinewidth\":0,\"ticks\":\"\"},\"colorscale\":[[0.0,\"#0d0887\"],[0.1111111111111111,\"#46039f\"],[0.2222222222222222,\"#7201a8\"],[0.3333333333333333,\"#9c179e\"],[0.4444444444444444,\"#bd3786\"],[0.5555555555555556,\"#d8576b\"],[0.6666666666666666,\"#ed7953\"],[0.7777777777777778,\"#fb9f3a\"],[0.8888888888888888,\"#fdca26\"],[1.0,\"#f0f921\"]]}],\"choropleth\":[{\"type\":\"choropleth\",\"colorbar\":{\"outlinewidth\":0,\"ticks\":\"\"}}],\"histogram2d\":[{\"type\":\"histogram2d\",\"colorbar\":{\"outlinewidth\":0,\"ticks\":\"\"},\"colorscale\":[[0.0,\"#0d0887\"],[0.1111111111111111,\"#46039f\"],[0.2222222222222222,\"#7201a8\"],[0.3333333333333333,\"#9c179e\"],[0.4444444444444444,\"#bd3786\"],[0.5555555555555556,\"#d8576b\"],[0.6666666666666666,\"#ed7953\"],[0.7777777777777778,\"#fb9f3a\"],[0.8888888888888888,\"#fdca26\"],[1.0,\"#f0f921\"]]}],\"heatmap\":[{\"type\":\"heatmap\",\"colorbar\":{\"outlinewidth\":0,\"ticks\":\"\"},\"colorscale\":[[0.0,\"#0d0887\"],[0.1111111111111111,\"#46039f\"],[0.2222222222222222,\"#7201a8\"],[0.3333333333333333,\"#9c179e\"],[0.4444444444444444,\"#bd3786\"],[0.5555555555555556,\"#d8576b\"],[0.6666666666666666,\"#ed7953\"],[0.7777777777777778,\"#fb9f3a\"],[0.8888888888888888,\"#fdca26\"],[1.0,\"#f0f921\"]]}],\"heatmapgl\":[{\"type\":\"heatmapgl\",\"colorbar\":{\"outlinewidth\":0,\"ticks\":\"\"},\"colorscale\":[[0.0,\"#0d0887\"],[0.1111111111111111,\"#46039f\"],[0.2222222222222222,\"#7201a8\"],[0.3333333333333333,\"#9c179e\"],[0.4444444444444444,\"#bd3786\"],[0.5555555555555556,\"#d8576b\"],[0.6666666666666666,\"#ed7953\"],[0.7777777777777778,\"#fb9f3a\"],[0.8888888888888888,\"#fdca26\"],[1.0,\"#f0f921\"]]}],\"contourcarpet\":[{\"type\":\"contourcarpet\",\"colorbar\":{\"outlinewidth\":0,\"ticks\":\"\"}}],\"contour\":[{\"type\":\"contour\",\"colorbar\":{\"outlinewidth\":0,\"ticks\":\"\"},\"colorscale\":[[0.0,\"#0d0887\"],[0.1111111111111111,\"#46039f\"],[0.2222222222222222,\"#7201a8\"],[0.3333333333333333,\"#9c179e\"],[0.4444444444444444,\"#bd3786\"],[0.5555555555555556,\"#d8576b\"],[0.6666666666666666,\"#ed7953\"],[0.7777777777777778,\"#fb9f3a\"],[0.8888888888888888,\"#fdca26\"],[1.0,\"#f0f921\"]]}],\"surface\":[{\"type\":\"surface\",\"colorbar\":{\"outlinewidth\":0,\"ticks\":\"\"},\"colorscale\":[[0.0,\"#0d0887\"],[0.1111111111111111,\"#46039f\"],[0.2222222222222222,\"#7201a8\"],[0.3333333333333333,\"#9c179e\"],[0.4444444444444444,\"#bd3786\"],[0.5555555555555556,\"#d8576b\"],[0.6666666666666666,\"#ed7953\"],[0.7777777777777778,\"#fb9f3a\"],[0.8888888888888888,\"#fdca26\"],[1.0,\"#f0f921\"]]}],\"mesh3d\":[{\"type\":\"mesh3d\",\"colorbar\":{\"outlinewidth\":0,\"ticks\":\"\"}}],\"scatter\":[{\"fillpattern\":{\"fillmode\":\"overlay\",\"size\":10,\"solidity\":0.2},\"type\":\"scatter\"}],\"parcoords\":[{\"type\":\"parcoords\",\"line\":{\"colorbar\":{\"outlinewidth\":0,\"ticks\":\"\"}}}],\"scatterpolargl\":[{\"type\":\"scatterpolargl\",\"marker\":{\"colorbar\":{\"outlinewidth\":0,\"ticks\":\"\"}}}],\"bar\":[{\"error_x\":{\"color\":\"#2a3f5f\"},\"error_y\":{\"color\":\"#2a3f5f\"},\"marker\":{\"line\":{\"color\":\"#E5ECF6\",\"width\":0.5},\"pattern\":{\"fillmode\":\"overlay\",\"size\":10,\"solidity\":0.2}},\"type\":\"bar\"}],\"scattergeo\":[{\"type\":\"scattergeo\",\"marker\":{\"colorbar\":{\"outlinewidth\":0,\"ticks\":\"\"}}}],\"scatterpolar\":[{\"type\":\"scatterpolar\",\"marker\":{\"colorbar\":{\"outlinewidth\":0,\"ticks\":\"\"}}}],\"histogram\":[{\"marker\":{\"pattern\":{\"fillmode\":\"overlay\",\"size\":10,\"solidity\":0.2}},\"type\":\"histogram\"}],\"scattergl\":[{\"type\":\"scattergl\",\"marker\":{\"colorbar\":{\"outlinewidth\":0,\"ticks\":\"\"}}}],\"scatter3d\":[{\"type\":\"scatter3d\",\"line\":{\"colorbar\":{\"outlinewidth\":0,\"ticks\":\"\"}},\"marker\":{\"colorbar\":{\"outlinewidth\":0,\"ticks\":\"\"}}}],\"scattermapbox\":[{\"type\":\"scattermapbox\",\"marker\":{\"colorbar\":{\"outlinewidth\":0,\"ticks\":\"\"}}}],\"scatterternary\":[{\"type\":\"scatterternary\",\"marker\":{\"colorbar\":{\"outlinewidth\":0,\"ticks\":\"\"}}}],\"scattercarpet\":[{\"type\":\"scattercarpet\",\"marker\":{\"colorbar\":{\"outlinewidth\":0,\"ticks\":\"\"}}}],\"carpet\":[{\"aaxis\":{\"endlinecolor\":\"#2a3f5f\",\"gridcolor\":\"white\",\"linecolor\":\"white\",\"minorgridcolor\":\"white\",\"startlinecolor\":\"#2a3f5f\"},\"baxis\":{\"endlinecolor\":\"#2a3f5f\",\"gridcolor\":\"white\",\"linecolor\":\"white\",\"minorgridcolor\":\"white\",\"startlinecolor\":\"#2a3f5f\"},\"type\":\"carpet\"}],\"table\":[{\"cells\":{\"fill\":{\"color\":\"#EBF0F8\"},\"line\":{\"color\":\"white\"}},\"header\":{\"fill\":{\"color\":\"#C8D4E3\"},\"line\":{\"color\":\"white\"}},\"type\":\"table\"}],\"barpolar\":[{\"marker\":{\"line\":{\"color\":\"#E5ECF6\",\"width\":0.5},\"pattern\":{\"fillmode\":\"overlay\",\"size\":10,\"solidity\":0.2}},\"type\":\"barpolar\"}],\"pie\":[{\"automargin\":true,\"type\":\"pie\"}]},\"layout\":{\"autotypenumbers\":\"strict\",\"colorway\":[\"#636efa\",\"#EF553B\",\"#00cc96\",\"#ab63fa\",\"#FFA15A\",\"#19d3f3\",\"#FF6692\",\"#B6E880\",\"#FF97FF\",\"#FECB52\"],\"font\":{\"color\":\"#2a3f5f\"},\"hovermode\":\"closest\",\"hoverlabel\":{\"align\":\"left\"},\"paper_bgcolor\":\"white\",\"plot_bgcolor\":\"#E5ECF6\",\"polar\":{\"bgcolor\":\"#E5ECF6\",\"angularaxis\":{\"gridcolor\":\"white\",\"linecolor\":\"white\",\"ticks\":\"\"},\"radialaxis\":{\"gridcolor\":\"white\",\"linecolor\":\"white\",\"ticks\":\"\"}},\"ternary\":{\"bgcolor\":\"#E5ECF6\",\"aaxis\":{\"gridcolor\":\"white\",\"linecolor\":\"white\",\"ticks\":\"\"},\"baxis\":{\"gridcolor\":\"white\",\"linecolor\":\"white\",\"ticks\":\"\"},\"caxis\":{\"gridcolor\":\"white\",\"linecolor\":\"white\",\"ticks\":\"\"}},\"coloraxis\":{\"colorbar\":{\"outlinewidth\":0,\"ticks\":\"\"}},\"colorscale\":{\"sequential\":[[0.0,\"#0d0887\"],[0.1111111111111111,\"#46039f\"],[0.2222222222222222,\"#7201a8\"],[0.3333333333333333,\"#9c179e\"],[0.4444444444444444,\"#bd3786\"],[0.5555555555555556,\"#d8576b\"],[0.6666666666666666,\"#ed7953\"],[0.7777777777777778,\"#fb9f3a\"],[0.8888888888888888,\"#fdca26\"],[1.0,\"#f0f921\"]],\"sequentialminus\":[[0.0,\"#0d0887\"],[0.1111111111111111,\"#46039f\"],[0.2222222222222222,\"#7201a8\"],[0.3333333333333333,\"#9c179e\"],[0.4444444444444444,\"#bd3786\"],[0.5555555555555556,\"#d8576b\"],[0.6666666666666666,\"#ed7953\"],[0.7777777777777778,\"#fb9f3a\"],[0.8888888888888888,\"#fdca26\"],[1.0,\"#f0f921\"]],\"diverging\":[[0,\"#8e0152\"],[0.1,\"#c51b7d\"],[0.2,\"#de77ae\"],[0.3,\"#f1b6da\"],[0.4,\"#fde0ef\"],[0.5,\"#f7f7f7\"],[0.6,\"#e6f5d0\"],[0.7,\"#b8e186\"],[0.8,\"#7fbc41\"],[0.9,\"#4d9221\"],[1,\"#276419\"]]},\"xaxis\":{\"gridcolor\":\"white\",\"linecolor\":\"white\",\"ticks\":\"\",\"title\":{\"standoff\":15},\"zerolinecolor\":\"white\",\"automargin\":true,\"zerolinewidth\":2},\"yaxis\":{\"gridcolor\":\"white\",\"linecolor\":\"white\",\"ticks\":\"\",\"title\":{\"standoff\":15},\"zerolinecolor\":\"white\",\"automargin\":true,\"zerolinewidth\":2},\"scene\":{\"xaxis\":{\"backgroundcolor\":\"#E5ECF6\",\"gridcolor\":\"white\",\"linecolor\":\"white\",\"showbackground\":true,\"ticks\":\"\",\"zerolinecolor\":\"white\",\"gridwidth\":2},\"yaxis\":{\"backgroundcolor\":\"#E5ECF6\",\"gridcolor\":\"white\",\"linecolor\":\"white\",\"showbackground\":true,\"ticks\":\"\",\"zerolinecolor\":\"white\",\"gridwidth\":2},\"zaxis\":{\"backgroundcolor\":\"#E5ECF6\",\"gridcolor\":\"white\",\"linecolor\":\"white\",\"showbackground\":true,\"ticks\":\"\",\"zerolinecolor\":\"white\",\"gridwidth\":2}},\"shapedefaults\":{\"line\":{\"color\":\"#2a3f5f\"}},\"annotationdefaults\":{\"arrowcolor\":\"#2a3f5f\",\"arrowhead\":0,\"arrowwidth\":1},\"geo\":{\"bgcolor\":\"white\",\"landcolor\":\"#E5ECF6\",\"subunitcolor\":\"white\",\"showland\":true,\"showlakes\":true,\"lakecolor\":\"white\"},\"title\":{\"x\":0.05},\"mapbox\":{\"style\":\"light\"}}}},                        {\"responsive\": true}                    ).then(function(){\n",
              "                            \n",
              "var gd = document.getElementById('8380041a-674e-4584-98e2-0a6584593831');\n",
              "var x = new MutationObserver(function (mutations, observer) {{\n",
              "        var display = window.getComputedStyle(gd).display;\n",
              "        if (!display || display === 'none') {{\n",
              "            console.log([gd, 'removed!']);\n",
              "            Plotly.purge(gd);\n",
              "            observer.disconnect();\n",
              "        }}\n",
              "}});\n",
              "\n",
              "// Listen for the removal of the full notebook cells\n",
              "var notebookContainer = gd.closest('#notebook-container');\n",
              "if (notebookContainer) {{\n",
              "    x.observe(notebookContainer, {childList: true});\n",
              "}}\n",
              "\n",
              "// Listen for the clearing of the current output cell\n",
              "var outputEl = gd.closest('.output');\n",
              "if (outputEl) {{\n",
              "    x.observe(outputEl, {childList: true});\n",
              "}}\n",
              "\n",
              "                        })                };                            </script>        </div>\n",
              "</body>\n",
              "</html>"
            ]
          },
          "metadata": {}
        }
      ]
    },
    {
      "cell_type": "code",
      "source": [
        "plot_param_importances(study).show()"
      ],
      "metadata": {
        "colab": {
          "base_uri": "https://localhost:8080/",
          "height": 542
        },
        "id": "j-NG4oeWx6ee",
        "outputId": "e36685f6-5066-4ad5-f9c7-1cc441ce1fbb"
      },
      "execution_count": null,
      "outputs": [
        {
          "output_type": "display_data",
          "data": {
            "text/html": [
              "<html>\n",
              "<head><meta charset=\"utf-8\" /></head>\n",
              "<body>\n",
              "    <div>            <script src=\"https://cdnjs.cloudflare.com/ajax/libs/mathjax/2.7.5/MathJax.js?config=TeX-AMS-MML_SVG\"></script><script type=\"text/javascript\">if (window.MathJax && window.MathJax.Hub && window.MathJax.Hub.Config) {window.MathJax.Hub.Config({SVG: {font: \"STIX-Web\"}});}</script>                <script type=\"text/javascript\">window.PlotlyConfig = {MathJaxConfig: 'local'};</script>\n",
              "        <script charset=\"utf-8\" src=\"https://cdn.plot.ly/plotly-2.35.2.min.js\"></script>                <div id=\"8bd909e7-64eb-4d82-96aa-f03b736b90a1\" class=\"plotly-graph-div\" style=\"height:525px; width:100%;\"></div>            <script type=\"text/javascript\">                                    window.PLOTLYENV=window.PLOTLYENV || {};                                    if (document.getElementById(\"8bd909e7-64eb-4d82-96aa-f03b736b90a1\")) {                    Plotly.newPlot(                        \"8bd909e7-64eb-4d82-96aa-f03b736b90a1\",                        [{\"cliponaxis\":false,\"hovertemplate\":[\"n_estimator (IntDistribution): 0.024192861930158086\\u003cextra\\u003e\\u003c\\u002fextra\\u003e\",\"max_depth (IntDistribution): 0.9758071380698419\\u003cextra\\u003e\\u003c\\u002fextra\\u003e\"],\"name\":\"Objective Value\",\"orientation\":\"h\",\"text\":[\"0.02\",\"0.98\"],\"textposition\":\"outside\",\"x\":[0.024192861930158086,0.9758071380698419],\"y\":[\"n_estimator\",\"max_depth\"],\"type\":\"bar\"}],                        {\"title\":{\"text\":\"Hyperparameter Importances\"},\"xaxis\":{\"title\":{\"text\":\"Hyperparameter Importance\"}},\"yaxis\":{\"title\":{\"text\":\"Hyperparameter\"}},\"template\":{\"data\":{\"histogram2dcontour\":[{\"type\":\"histogram2dcontour\",\"colorbar\":{\"outlinewidth\":0,\"ticks\":\"\"},\"colorscale\":[[0.0,\"#0d0887\"],[0.1111111111111111,\"#46039f\"],[0.2222222222222222,\"#7201a8\"],[0.3333333333333333,\"#9c179e\"],[0.4444444444444444,\"#bd3786\"],[0.5555555555555556,\"#d8576b\"],[0.6666666666666666,\"#ed7953\"],[0.7777777777777778,\"#fb9f3a\"],[0.8888888888888888,\"#fdca26\"],[1.0,\"#f0f921\"]]}],\"choropleth\":[{\"type\":\"choropleth\",\"colorbar\":{\"outlinewidth\":0,\"ticks\":\"\"}}],\"histogram2d\":[{\"type\":\"histogram2d\",\"colorbar\":{\"outlinewidth\":0,\"ticks\":\"\"},\"colorscale\":[[0.0,\"#0d0887\"],[0.1111111111111111,\"#46039f\"],[0.2222222222222222,\"#7201a8\"],[0.3333333333333333,\"#9c179e\"],[0.4444444444444444,\"#bd3786\"],[0.5555555555555556,\"#d8576b\"],[0.6666666666666666,\"#ed7953\"],[0.7777777777777778,\"#fb9f3a\"],[0.8888888888888888,\"#fdca26\"],[1.0,\"#f0f921\"]]}],\"heatmap\":[{\"type\":\"heatmap\",\"colorbar\":{\"outlinewidth\":0,\"ticks\":\"\"},\"colorscale\":[[0.0,\"#0d0887\"],[0.1111111111111111,\"#46039f\"],[0.2222222222222222,\"#7201a8\"],[0.3333333333333333,\"#9c179e\"],[0.4444444444444444,\"#bd3786\"],[0.5555555555555556,\"#d8576b\"],[0.6666666666666666,\"#ed7953\"],[0.7777777777777778,\"#fb9f3a\"],[0.8888888888888888,\"#fdca26\"],[1.0,\"#f0f921\"]]}],\"heatmapgl\":[{\"type\":\"heatmapgl\",\"colorbar\":{\"outlinewidth\":0,\"ticks\":\"\"},\"colorscale\":[[0.0,\"#0d0887\"],[0.1111111111111111,\"#46039f\"],[0.2222222222222222,\"#7201a8\"],[0.3333333333333333,\"#9c179e\"],[0.4444444444444444,\"#bd3786\"],[0.5555555555555556,\"#d8576b\"],[0.6666666666666666,\"#ed7953\"],[0.7777777777777778,\"#fb9f3a\"],[0.8888888888888888,\"#fdca26\"],[1.0,\"#f0f921\"]]}],\"contourcarpet\":[{\"type\":\"contourcarpet\",\"colorbar\":{\"outlinewidth\":0,\"ticks\":\"\"}}],\"contour\":[{\"type\":\"contour\",\"colorbar\":{\"outlinewidth\":0,\"ticks\":\"\"},\"colorscale\":[[0.0,\"#0d0887\"],[0.1111111111111111,\"#46039f\"],[0.2222222222222222,\"#7201a8\"],[0.3333333333333333,\"#9c179e\"],[0.4444444444444444,\"#bd3786\"],[0.5555555555555556,\"#d8576b\"],[0.6666666666666666,\"#ed7953\"],[0.7777777777777778,\"#fb9f3a\"],[0.8888888888888888,\"#fdca26\"],[1.0,\"#f0f921\"]]}],\"surface\":[{\"type\":\"surface\",\"colorbar\":{\"outlinewidth\":0,\"ticks\":\"\"},\"colorscale\":[[0.0,\"#0d0887\"],[0.1111111111111111,\"#46039f\"],[0.2222222222222222,\"#7201a8\"],[0.3333333333333333,\"#9c179e\"],[0.4444444444444444,\"#bd3786\"],[0.5555555555555556,\"#d8576b\"],[0.6666666666666666,\"#ed7953\"],[0.7777777777777778,\"#fb9f3a\"],[0.8888888888888888,\"#fdca26\"],[1.0,\"#f0f921\"]]}],\"mesh3d\":[{\"type\":\"mesh3d\",\"colorbar\":{\"outlinewidth\":0,\"ticks\":\"\"}}],\"scatter\":[{\"fillpattern\":{\"fillmode\":\"overlay\",\"size\":10,\"solidity\":0.2},\"type\":\"scatter\"}],\"parcoords\":[{\"type\":\"parcoords\",\"line\":{\"colorbar\":{\"outlinewidth\":0,\"ticks\":\"\"}}}],\"scatterpolargl\":[{\"type\":\"scatterpolargl\",\"marker\":{\"colorbar\":{\"outlinewidth\":0,\"ticks\":\"\"}}}],\"bar\":[{\"error_x\":{\"color\":\"#2a3f5f\"},\"error_y\":{\"color\":\"#2a3f5f\"},\"marker\":{\"line\":{\"color\":\"#E5ECF6\",\"width\":0.5},\"pattern\":{\"fillmode\":\"overlay\",\"size\":10,\"solidity\":0.2}},\"type\":\"bar\"}],\"scattergeo\":[{\"type\":\"scattergeo\",\"marker\":{\"colorbar\":{\"outlinewidth\":0,\"ticks\":\"\"}}}],\"scatterpolar\":[{\"type\":\"scatterpolar\",\"marker\":{\"colorbar\":{\"outlinewidth\":0,\"ticks\":\"\"}}}],\"histogram\":[{\"marker\":{\"pattern\":{\"fillmode\":\"overlay\",\"size\":10,\"solidity\":0.2}},\"type\":\"histogram\"}],\"scattergl\":[{\"type\":\"scattergl\",\"marker\":{\"colorbar\":{\"outlinewidth\":0,\"ticks\":\"\"}}}],\"scatter3d\":[{\"type\":\"scatter3d\",\"line\":{\"colorbar\":{\"outlinewidth\":0,\"ticks\":\"\"}},\"marker\":{\"colorbar\":{\"outlinewidth\":0,\"ticks\":\"\"}}}],\"scattermapbox\":[{\"type\":\"scattermapbox\",\"marker\":{\"colorbar\":{\"outlinewidth\":0,\"ticks\":\"\"}}}],\"scatterternary\":[{\"type\":\"scatterternary\",\"marker\":{\"colorbar\":{\"outlinewidth\":0,\"ticks\":\"\"}}}],\"scattercarpet\":[{\"type\":\"scattercarpet\",\"marker\":{\"colorbar\":{\"outlinewidth\":0,\"ticks\":\"\"}}}],\"carpet\":[{\"aaxis\":{\"endlinecolor\":\"#2a3f5f\",\"gridcolor\":\"white\",\"linecolor\":\"white\",\"minorgridcolor\":\"white\",\"startlinecolor\":\"#2a3f5f\"},\"baxis\":{\"endlinecolor\":\"#2a3f5f\",\"gridcolor\":\"white\",\"linecolor\":\"white\",\"minorgridcolor\":\"white\",\"startlinecolor\":\"#2a3f5f\"},\"type\":\"carpet\"}],\"table\":[{\"cells\":{\"fill\":{\"color\":\"#EBF0F8\"},\"line\":{\"color\":\"white\"}},\"header\":{\"fill\":{\"color\":\"#C8D4E3\"},\"line\":{\"color\":\"white\"}},\"type\":\"table\"}],\"barpolar\":[{\"marker\":{\"line\":{\"color\":\"#E5ECF6\",\"width\":0.5},\"pattern\":{\"fillmode\":\"overlay\",\"size\":10,\"solidity\":0.2}},\"type\":\"barpolar\"}],\"pie\":[{\"automargin\":true,\"type\":\"pie\"}]},\"layout\":{\"autotypenumbers\":\"strict\",\"colorway\":[\"#636efa\",\"#EF553B\",\"#00cc96\",\"#ab63fa\",\"#FFA15A\",\"#19d3f3\",\"#FF6692\",\"#B6E880\",\"#FF97FF\",\"#FECB52\"],\"font\":{\"color\":\"#2a3f5f\"},\"hovermode\":\"closest\",\"hoverlabel\":{\"align\":\"left\"},\"paper_bgcolor\":\"white\",\"plot_bgcolor\":\"#E5ECF6\",\"polar\":{\"bgcolor\":\"#E5ECF6\",\"angularaxis\":{\"gridcolor\":\"white\",\"linecolor\":\"white\",\"ticks\":\"\"},\"radialaxis\":{\"gridcolor\":\"white\",\"linecolor\":\"white\",\"ticks\":\"\"}},\"ternary\":{\"bgcolor\":\"#E5ECF6\",\"aaxis\":{\"gridcolor\":\"white\",\"linecolor\":\"white\",\"ticks\":\"\"},\"baxis\":{\"gridcolor\":\"white\",\"linecolor\":\"white\",\"ticks\":\"\"},\"caxis\":{\"gridcolor\":\"white\",\"linecolor\":\"white\",\"ticks\":\"\"}},\"coloraxis\":{\"colorbar\":{\"outlinewidth\":0,\"ticks\":\"\"}},\"colorscale\":{\"sequential\":[[0.0,\"#0d0887\"],[0.1111111111111111,\"#46039f\"],[0.2222222222222222,\"#7201a8\"],[0.3333333333333333,\"#9c179e\"],[0.4444444444444444,\"#bd3786\"],[0.5555555555555556,\"#d8576b\"],[0.6666666666666666,\"#ed7953\"],[0.7777777777777778,\"#fb9f3a\"],[0.8888888888888888,\"#fdca26\"],[1.0,\"#f0f921\"]],\"sequentialminus\":[[0.0,\"#0d0887\"],[0.1111111111111111,\"#46039f\"],[0.2222222222222222,\"#7201a8\"],[0.3333333333333333,\"#9c179e\"],[0.4444444444444444,\"#bd3786\"],[0.5555555555555556,\"#d8576b\"],[0.6666666666666666,\"#ed7953\"],[0.7777777777777778,\"#fb9f3a\"],[0.8888888888888888,\"#fdca26\"],[1.0,\"#f0f921\"]],\"diverging\":[[0,\"#8e0152\"],[0.1,\"#c51b7d\"],[0.2,\"#de77ae\"],[0.3,\"#f1b6da\"],[0.4,\"#fde0ef\"],[0.5,\"#f7f7f7\"],[0.6,\"#e6f5d0\"],[0.7,\"#b8e186\"],[0.8,\"#7fbc41\"],[0.9,\"#4d9221\"],[1,\"#276419\"]]},\"xaxis\":{\"gridcolor\":\"white\",\"linecolor\":\"white\",\"ticks\":\"\",\"title\":{\"standoff\":15},\"zerolinecolor\":\"white\",\"automargin\":true,\"zerolinewidth\":2},\"yaxis\":{\"gridcolor\":\"white\",\"linecolor\":\"white\",\"ticks\":\"\",\"title\":{\"standoff\":15},\"zerolinecolor\":\"white\",\"automargin\":true,\"zerolinewidth\":2},\"scene\":{\"xaxis\":{\"backgroundcolor\":\"#E5ECF6\",\"gridcolor\":\"white\",\"linecolor\":\"white\",\"showbackground\":true,\"ticks\":\"\",\"zerolinecolor\":\"white\",\"gridwidth\":2},\"yaxis\":{\"backgroundcolor\":\"#E5ECF6\",\"gridcolor\":\"white\",\"linecolor\":\"white\",\"showbackground\":true,\"ticks\":\"\",\"zerolinecolor\":\"white\",\"gridwidth\":2},\"zaxis\":{\"backgroundcolor\":\"#E5ECF6\",\"gridcolor\":\"white\",\"linecolor\":\"white\",\"showbackground\":true,\"ticks\":\"\",\"zerolinecolor\":\"white\",\"gridwidth\":2}},\"shapedefaults\":{\"line\":{\"color\":\"#2a3f5f\"}},\"annotationdefaults\":{\"arrowcolor\":\"#2a3f5f\",\"arrowhead\":0,\"arrowwidth\":1},\"geo\":{\"bgcolor\":\"white\",\"landcolor\":\"#E5ECF6\",\"subunitcolor\":\"white\",\"showland\":true,\"showlakes\":true,\"lakecolor\":\"white\"},\"title\":{\"x\":0.05},\"mapbox\":{\"style\":\"light\"}}}},                        {\"responsive\": true}                    ).then(function(){\n",
              "                            \n",
              "var gd = document.getElementById('8bd909e7-64eb-4d82-96aa-f03b736b90a1');\n",
              "var x = new MutationObserver(function (mutations, observer) {{\n",
              "        var display = window.getComputedStyle(gd).display;\n",
              "        if (!display || display === 'none') {{\n",
              "            console.log([gd, 'removed!']);\n",
              "            Plotly.purge(gd);\n",
              "            observer.disconnect();\n",
              "        }}\n",
              "}});\n",
              "\n",
              "// Listen for the removal of the full notebook cells\n",
              "var notebookContainer = gd.closest('#notebook-container');\n",
              "if (notebookContainer) {{\n",
              "    x.observe(notebookContainer, {childList: true});\n",
              "}}\n",
              "\n",
              "// Listen for the clearing of the current output cell\n",
              "var outputEl = gd.closest('.output');\n",
              "if (outputEl) {{\n",
              "    x.observe(outputEl, {childList: true});\n",
              "}}\n",
              "\n",
              "                        })                };                            </script>        </div>\n",
              "</body>\n",
              "</html>"
            ]
          },
          "metadata": {}
        }
      ]
    },
    {
      "cell_type": "code",
      "source": [
        "plot_slice(study).show()"
      ],
      "metadata": {
        "colab": {
          "base_uri": "https://localhost:8080/",
          "height": 542
        },
        "id": "5yByEk7vx6hS",
        "outputId": "1c0505bb-5248-4c71-bab3-1c0be0e464d4"
      },
      "execution_count": null,
      "outputs": [
        {
          "output_type": "display_data",
          "data": {
            "text/html": [
              "<html>\n",
              "<head><meta charset=\"utf-8\" /></head>\n",
              "<body>\n",
              "    <div>            <script src=\"https://cdnjs.cloudflare.com/ajax/libs/mathjax/2.7.5/MathJax.js?config=TeX-AMS-MML_SVG\"></script><script type=\"text/javascript\">if (window.MathJax && window.MathJax.Hub && window.MathJax.Hub.Config) {window.MathJax.Hub.Config({SVG: {font: \"STIX-Web\"}});}</script>                <script type=\"text/javascript\">window.PlotlyConfig = {MathJaxConfig: 'local'};</script>\n",
              "        <script charset=\"utf-8\" src=\"https://cdn.plot.ly/plotly-2.35.2.min.js\"></script>                <div id=\"a42d0734-b08b-408d-aea2-b73b2f9866d9\" class=\"plotly-graph-div\" style=\"height:525px; width:100%;\"></div>            <script type=\"text/javascript\">                                    window.PLOTLYENV=window.PLOTLYENV || {};                                    if (document.getElementById(\"a42d0734-b08b-408d-aea2-b73b2f9866d9\")) {                    Plotly.newPlot(                        \"a42d0734-b08b-408d-aea2-b73b2f9866d9\",                        [{\"marker\":{\"color\":[0,1,2,3,4,5,6,7,8,9,10,11,12,13,14,15,16,17,18,19,20,21,22,23,24,25,26,27,28,29,30,31,32,33,34,35,36,37,38,39,40,41,42,43,44,45,46,47,48,49],\"colorbar\":{\"title\":{\"text\":\"Trial\"},\"x\":1.0,\"xpad\":40},\"colorscale\":[[0.0,\"rgb(247,251,255)\"],[0.125,\"rgb(222,235,247)\"],[0.25,\"rgb(198,219,239)\"],[0.375,\"rgb(158,202,225)\"],[0.5,\"rgb(107,174,214)\"],[0.625,\"rgb(66,146,198)\"],[0.75,\"rgb(33,113,181)\"],[0.875,\"rgb(8,81,156)\"],[1.0,\"rgb(8,48,107)\"]],\"line\":{\"color\":\"Grey\",\"width\":0.5},\"showscale\":true},\"mode\":\"markers\",\"name\":\"Feasible Trial\",\"showlegend\":false,\"x\":[3,4,5,4,2,2,2,1,5,3,5,5,5,4,5,4,5,4,3,5,3,5,5,4,5,4,5,1,4,5,4,5,5,5,4,5,5,2,4,5,4,5,5,5,5,5,5,5,3,5],\"y\":[0.7604166666666666,0.7578125,0.7643229166666666,0.7578125,0.73828125,0.7421875,0.7356770833333334,0.703125,0.7643229166666666,0.7630208333333334,0.7630208333333334,0.7604166666666666,0.7604166666666666,0.7604166666666666,0.7643229166666666,0.7565104166666666,0.7591145833333334,0.7565104166666666,0.7643229166666666,0.7643229166666666,0.7643229166666666,0.76171875,0.765625,0.7604166666666666,0.76171875,0.7565104166666666,0.7643229166666666,0.7018229166666666,0.7591145833333334,0.7591145833333334,0.7578125,0.7643229166666666,0.765625,0.7630208333333334,0.7552083333333334,0.76171875,0.7643229166666666,0.7395833333333334,0.7578125,0.7630208333333334,0.7604166666666666,0.7630208333333334,0.7630208333333334,0.765625,0.76953125,0.76171875,0.7604166666666666,0.7591145833333334,0.7643229166666666,0.765625],\"type\":\"scatter\",\"xaxis\":\"x\",\"yaxis\":\"y\"},{\"marker\":{\"color\":[0,1,2,3,4,5,6,7,8,9,10,11,12,13,14,15,16,17,18,19,20,21,22,23,24,25,26,27,28,29,30,31,32,33,34,35,36,37,38,39,40,41,42,43,44,45,46,47,48,49],\"colorbar\":{\"title\":{\"text\":\"Trial\"},\"x\":1.0,\"xpad\":40},\"colorscale\":[[0.0,\"rgb(247,251,255)\"],[0.125,\"rgb(222,235,247)\"],[0.25,\"rgb(198,219,239)\"],[0.375,\"rgb(158,202,225)\"],[0.5,\"rgb(107,174,214)\"],[0.625,\"rgb(66,146,198)\"],[0.75,\"rgb(33,113,181)\"],[0.875,\"rgb(8,81,156)\"],[1.0,\"rgb(8,48,107)\"]],\"line\":{\"color\":\"Grey\",\"width\":0.5},\"showscale\":false},\"mode\":\"markers\",\"name\":\"Feasible Trial\",\"showlegend\":false,\"x\":[100,196,234,147,167,191,231,187,235,214,85,248,136,247,218,172,114,220,57,235,207,225,210,250,170,207,235,202,234,183,128,219,213,197,158,181,237,211,195,226,242,217,226,210,202,191,178,152,205,199],\"y\":[0.7604166666666666,0.7578125,0.7643229166666666,0.7578125,0.73828125,0.7421875,0.7356770833333334,0.703125,0.7643229166666666,0.7630208333333334,0.7630208333333334,0.7604166666666666,0.7604166666666666,0.7604166666666666,0.7643229166666666,0.7565104166666666,0.7591145833333334,0.7565104166666666,0.7643229166666666,0.7643229166666666,0.7643229166666666,0.76171875,0.765625,0.7604166666666666,0.76171875,0.7565104166666666,0.7643229166666666,0.7018229166666666,0.7591145833333334,0.7591145833333334,0.7578125,0.7643229166666666,0.765625,0.7630208333333334,0.7552083333333334,0.76171875,0.7643229166666666,0.7395833333333334,0.7578125,0.7630208333333334,0.7604166666666666,0.7630208333333334,0.7630208333333334,0.765625,0.76953125,0.76171875,0.7604166666666666,0.7591145833333334,0.7643229166666666,0.765625],\"type\":\"scatter\",\"xaxis\":\"x2\",\"yaxis\":\"y2\"}],                        {\"template\":{\"data\":{\"histogram2dcontour\":[{\"type\":\"histogram2dcontour\",\"colorbar\":{\"outlinewidth\":0,\"ticks\":\"\"},\"colorscale\":[[0.0,\"#0d0887\"],[0.1111111111111111,\"#46039f\"],[0.2222222222222222,\"#7201a8\"],[0.3333333333333333,\"#9c179e\"],[0.4444444444444444,\"#bd3786\"],[0.5555555555555556,\"#d8576b\"],[0.6666666666666666,\"#ed7953\"],[0.7777777777777778,\"#fb9f3a\"],[0.8888888888888888,\"#fdca26\"],[1.0,\"#f0f921\"]]}],\"choropleth\":[{\"type\":\"choropleth\",\"colorbar\":{\"outlinewidth\":0,\"ticks\":\"\"}}],\"histogram2d\":[{\"type\":\"histogram2d\",\"colorbar\":{\"outlinewidth\":0,\"ticks\":\"\"},\"colorscale\":[[0.0,\"#0d0887\"],[0.1111111111111111,\"#46039f\"],[0.2222222222222222,\"#7201a8\"],[0.3333333333333333,\"#9c179e\"],[0.4444444444444444,\"#bd3786\"],[0.5555555555555556,\"#d8576b\"],[0.6666666666666666,\"#ed7953\"],[0.7777777777777778,\"#fb9f3a\"],[0.8888888888888888,\"#fdca26\"],[1.0,\"#f0f921\"]]}],\"heatmap\":[{\"type\":\"heatmap\",\"colorbar\":{\"outlinewidth\":0,\"ticks\":\"\"},\"colorscale\":[[0.0,\"#0d0887\"],[0.1111111111111111,\"#46039f\"],[0.2222222222222222,\"#7201a8\"],[0.3333333333333333,\"#9c179e\"],[0.4444444444444444,\"#bd3786\"],[0.5555555555555556,\"#d8576b\"],[0.6666666666666666,\"#ed7953\"],[0.7777777777777778,\"#fb9f3a\"],[0.8888888888888888,\"#fdca26\"],[1.0,\"#f0f921\"]]}],\"heatmapgl\":[{\"type\":\"heatmapgl\",\"colorbar\":{\"outlinewidth\":0,\"ticks\":\"\"},\"colorscale\":[[0.0,\"#0d0887\"],[0.1111111111111111,\"#46039f\"],[0.2222222222222222,\"#7201a8\"],[0.3333333333333333,\"#9c179e\"],[0.4444444444444444,\"#bd3786\"],[0.5555555555555556,\"#d8576b\"],[0.6666666666666666,\"#ed7953\"],[0.7777777777777778,\"#fb9f3a\"],[0.8888888888888888,\"#fdca26\"],[1.0,\"#f0f921\"]]}],\"contourcarpet\":[{\"type\":\"contourcarpet\",\"colorbar\":{\"outlinewidth\":0,\"ticks\":\"\"}}],\"contour\":[{\"type\":\"contour\",\"colorbar\":{\"outlinewidth\":0,\"ticks\":\"\"},\"colorscale\":[[0.0,\"#0d0887\"],[0.1111111111111111,\"#46039f\"],[0.2222222222222222,\"#7201a8\"],[0.3333333333333333,\"#9c179e\"],[0.4444444444444444,\"#bd3786\"],[0.5555555555555556,\"#d8576b\"],[0.6666666666666666,\"#ed7953\"],[0.7777777777777778,\"#fb9f3a\"],[0.8888888888888888,\"#fdca26\"],[1.0,\"#f0f921\"]]}],\"surface\":[{\"type\":\"surface\",\"colorbar\":{\"outlinewidth\":0,\"ticks\":\"\"},\"colorscale\":[[0.0,\"#0d0887\"],[0.1111111111111111,\"#46039f\"],[0.2222222222222222,\"#7201a8\"],[0.3333333333333333,\"#9c179e\"],[0.4444444444444444,\"#bd3786\"],[0.5555555555555556,\"#d8576b\"],[0.6666666666666666,\"#ed7953\"],[0.7777777777777778,\"#fb9f3a\"],[0.8888888888888888,\"#fdca26\"],[1.0,\"#f0f921\"]]}],\"mesh3d\":[{\"type\":\"mesh3d\",\"colorbar\":{\"outlinewidth\":0,\"ticks\":\"\"}}],\"scatter\":[{\"fillpattern\":{\"fillmode\":\"overlay\",\"size\":10,\"solidity\":0.2},\"type\":\"scatter\"}],\"parcoords\":[{\"type\":\"parcoords\",\"line\":{\"colorbar\":{\"outlinewidth\":0,\"ticks\":\"\"}}}],\"scatterpolargl\":[{\"type\":\"scatterpolargl\",\"marker\":{\"colorbar\":{\"outlinewidth\":0,\"ticks\":\"\"}}}],\"bar\":[{\"error_x\":{\"color\":\"#2a3f5f\"},\"error_y\":{\"color\":\"#2a3f5f\"},\"marker\":{\"line\":{\"color\":\"#E5ECF6\",\"width\":0.5},\"pattern\":{\"fillmode\":\"overlay\",\"size\":10,\"solidity\":0.2}},\"type\":\"bar\"}],\"scattergeo\":[{\"type\":\"scattergeo\",\"marker\":{\"colorbar\":{\"outlinewidth\":0,\"ticks\":\"\"}}}],\"scatterpolar\":[{\"type\":\"scatterpolar\",\"marker\":{\"colorbar\":{\"outlinewidth\":0,\"ticks\":\"\"}}}],\"histogram\":[{\"marker\":{\"pattern\":{\"fillmode\":\"overlay\",\"size\":10,\"solidity\":0.2}},\"type\":\"histogram\"}],\"scattergl\":[{\"type\":\"scattergl\",\"marker\":{\"colorbar\":{\"outlinewidth\":0,\"ticks\":\"\"}}}],\"scatter3d\":[{\"type\":\"scatter3d\",\"line\":{\"colorbar\":{\"outlinewidth\":0,\"ticks\":\"\"}},\"marker\":{\"colorbar\":{\"outlinewidth\":0,\"ticks\":\"\"}}}],\"scattermapbox\":[{\"type\":\"scattermapbox\",\"marker\":{\"colorbar\":{\"outlinewidth\":0,\"ticks\":\"\"}}}],\"scatterternary\":[{\"type\":\"scatterternary\",\"marker\":{\"colorbar\":{\"outlinewidth\":0,\"ticks\":\"\"}}}],\"scattercarpet\":[{\"type\":\"scattercarpet\",\"marker\":{\"colorbar\":{\"outlinewidth\":0,\"ticks\":\"\"}}}],\"carpet\":[{\"aaxis\":{\"endlinecolor\":\"#2a3f5f\",\"gridcolor\":\"white\",\"linecolor\":\"white\",\"minorgridcolor\":\"white\",\"startlinecolor\":\"#2a3f5f\"},\"baxis\":{\"endlinecolor\":\"#2a3f5f\",\"gridcolor\":\"white\",\"linecolor\":\"white\",\"minorgridcolor\":\"white\",\"startlinecolor\":\"#2a3f5f\"},\"type\":\"carpet\"}],\"table\":[{\"cells\":{\"fill\":{\"color\":\"#EBF0F8\"},\"line\":{\"color\":\"white\"}},\"header\":{\"fill\":{\"color\":\"#C8D4E3\"},\"line\":{\"color\":\"white\"}},\"type\":\"table\"}],\"barpolar\":[{\"marker\":{\"line\":{\"color\":\"#E5ECF6\",\"width\":0.5},\"pattern\":{\"fillmode\":\"overlay\",\"size\":10,\"solidity\":0.2}},\"type\":\"barpolar\"}],\"pie\":[{\"automargin\":true,\"type\":\"pie\"}]},\"layout\":{\"autotypenumbers\":\"strict\",\"colorway\":[\"#636efa\",\"#EF553B\",\"#00cc96\",\"#ab63fa\",\"#FFA15A\",\"#19d3f3\",\"#FF6692\",\"#B6E880\",\"#FF97FF\",\"#FECB52\"],\"font\":{\"color\":\"#2a3f5f\"},\"hovermode\":\"closest\",\"hoverlabel\":{\"align\":\"left\"},\"paper_bgcolor\":\"white\",\"plot_bgcolor\":\"#E5ECF6\",\"polar\":{\"bgcolor\":\"#E5ECF6\",\"angularaxis\":{\"gridcolor\":\"white\",\"linecolor\":\"white\",\"ticks\":\"\"},\"radialaxis\":{\"gridcolor\":\"white\",\"linecolor\":\"white\",\"ticks\":\"\"}},\"ternary\":{\"bgcolor\":\"#E5ECF6\",\"aaxis\":{\"gridcolor\":\"white\",\"linecolor\":\"white\",\"ticks\":\"\"},\"baxis\":{\"gridcolor\":\"white\",\"linecolor\":\"white\",\"ticks\":\"\"},\"caxis\":{\"gridcolor\":\"white\",\"linecolor\":\"white\",\"ticks\":\"\"}},\"coloraxis\":{\"colorbar\":{\"outlinewidth\":0,\"ticks\":\"\"}},\"colorscale\":{\"sequential\":[[0.0,\"#0d0887\"],[0.1111111111111111,\"#46039f\"],[0.2222222222222222,\"#7201a8\"],[0.3333333333333333,\"#9c179e\"],[0.4444444444444444,\"#bd3786\"],[0.5555555555555556,\"#d8576b\"],[0.6666666666666666,\"#ed7953\"],[0.7777777777777778,\"#fb9f3a\"],[0.8888888888888888,\"#fdca26\"],[1.0,\"#f0f921\"]],\"sequentialminus\":[[0.0,\"#0d0887\"],[0.1111111111111111,\"#46039f\"],[0.2222222222222222,\"#7201a8\"],[0.3333333333333333,\"#9c179e\"],[0.4444444444444444,\"#bd3786\"],[0.5555555555555556,\"#d8576b\"],[0.6666666666666666,\"#ed7953\"],[0.7777777777777778,\"#fb9f3a\"],[0.8888888888888888,\"#fdca26\"],[1.0,\"#f0f921\"]],\"diverging\":[[0,\"#8e0152\"],[0.1,\"#c51b7d\"],[0.2,\"#de77ae\"],[0.3,\"#f1b6da\"],[0.4,\"#fde0ef\"],[0.5,\"#f7f7f7\"],[0.6,\"#e6f5d0\"],[0.7,\"#b8e186\"],[0.8,\"#7fbc41\"],[0.9,\"#4d9221\"],[1,\"#276419\"]]},\"xaxis\":{\"gridcolor\":\"white\",\"linecolor\":\"white\",\"ticks\":\"\",\"title\":{\"standoff\":15},\"zerolinecolor\":\"white\",\"automargin\":true,\"zerolinewidth\":2},\"yaxis\":{\"gridcolor\":\"white\",\"linecolor\":\"white\",\"ticks\":\"\",\"title\":{\"standoff\":15},\"zerolinecolor\":\"white\",\"automargin\":true,\"zerolinewidth\":2},\"scene\":{\"xaxis\":{\"backgroundcolor\":\"#E5ECF6\",\"gridcolor\":\"white\",\"linecolor\":\"white\",\"showbackground\":true,\"ticks\":\"\",\"zerolinecolor\":\"white\",\"gridwidth\":2},\"yaxis\":{\"backgroundcolor\":\"#E5ECF6\",\"gridcolor\":\"white\",\"linecolor\":\"white\",\"showbackground\":true,\"ticks\":\"\",\"zerolinecolor\":\"white\",\"gridwidth\":2},\"zaxis\":{\"backgroundcolor\":\"#E5ECF6\",\"gridcolor\":\"white\",\"linecolor\":\"white\",\"showbackground\":true,\"ticks\":\"\",\"zerolinecolor\":\"white\",\"gridwidth\":2}},\"shapedefaults\":{\"line\":{\"color\":\"#2a3f5f\"}},\"annotationdefaults\":{\"arrowcolor\":\"#2a3f5f\",\"arrowhead\":0,\"arrowwidth\":1},\"geo\":{\"bgcolor\":\"white\",\"landcolor\":\"#E5ECF6\",\"subunitcolor\":\"white\",\"showland\":true,\"showlakes\":true,\"lakecolor\":\"white\"},\"title\":{\"x\":0.05},\"mapbox\":{\"style\":\"light\"}}},\"xaxis\":{\"anchor\":\"y\",\"domain\":[0.0,0.45],\"title\":{\"text\":\"max_depth\"}},\"yaxis\":{\"anchor\":\"x\",\"domain\":[0.0,1.0],\"title\":{\"text\":\"Objective Value\"}},\"xaxis2\":{\"anchor\":\"y2\",\"domain\":[0.55,1.0],\"title\":{\"text\":\"n_estimator\"}},\"yaxis2\":{\"anchor\":\"x2\",\"domain\":[0.0,1.0],\"matches\":\"y\",\"showticklabels\":false},\"title\":{\"text\":\"Slice Plot\"}},                        {\"responsive\": true}                    ).then(function(){\n",
              "                            \n",
              "var gd = document.getElementById('a42d0734-b08b-408d-aea2-b73b2f9866d9');\n",
              "var x = new MutationObserver(function (mutations, observer) {{\n",
              "        var display = window.getComputedStyle(gd).display;\n",
              "        if (!display || display === 'none') {{\n",
              "            console.log([gd, 'removed!']);\n",
              "            Plotly.purge(gd);\n",
              "            observer.disconnect();\n",
              "        }}\n",
              "}});\n",
              "\n",
              "// Listen for the removal of the full notebook cells\n",
              "var notebookContainer = gd.closest('#notebook-container');\n",
              "if (notebookContainer) {{\n",
              "    x.observe(notebookContainer, {childList: true});\n",
              "}}\n",
              "\n",
              "// Listen for the clearing of the current output cell\n",
              "var outputEl = gd.closest('.output');\n",
              "if (outputEl) {{\n",
              "    x.observe(outputEl, {childList: true});\n",
              "}}\n",
              "\n",
              "                        })                };                            </script>        </div>\n",
              "</body>\n",
              "</html>"
            ]
          },
          "metadata": {}
        }
      ]
    },
    {
      "cell_type": "code",
      "source": [
        "plot_contour(study).show()"
      ],
      "metadata": {
        "colab": {
          "base_uri": "https://localhost:8080/",
          "height": 542
        },
        "id": "POqjlFw1x6kV",
        "outputId": "9a469462-68cb-47da-c662-99eb942c5178"
      },
      "execution_count": null,
      "outputs": [
        {
          "output_type": "display_data",
          "data": {
            "text/html": [
              "<html>\n",
              "<head><meta charset=\"utf-8\" /></head>\n",
              "<body>\n",
              "    <div>            <script src=\"https://cdnjs.cloudflare.com/ajax/libs/mathjax/2.7.5/MathJax.js?config=TeX-AMS-MML_SVG\"></script><script type=\"text/javascript\">if (window.MathJax && window.MathJax.Hub && window.MathJax.Hub.Config) {window.MathJax.Hub.Config({SVG: {font: \"STIX-Web\"}});}</script>                <script type=\"text/javascript\">window.PlotlyConfig = {MathJaxConfig: 'local'};</script>\n",
              "        <script charset=\"utf-8\" src=\"https://cdn.plot.ly/plotly-2.35.2.min.js\"></script>                <div id=\"9030c082-8800-4748-aaa2-466bb966a130\" class=\"plotly-graph-div\" style=\"height:525px; width:100%;\"></div>            <script type=\"text/javascript\">                                    window.PLOTLYENV=window.PLOTLYENV || {};                                    if (document.getElementById(\"9030c082-8800-4748-aaa2-466bb966a130\")) {                    Plotly.newPlot(                        \"9030c082-8800-4748-aaa2-466bb966a130\",                        [{\"colorbar\":{\"title\":{\"text\":\"Objective Value\"}},\"colorscale\":[[0.0,\"rgb(247,251,255)\"],[0.125,\"rgb(222,235,247)\"],[0.25,\"rgb(198,219,239)\"],[0.375,\"rgb(158,202,225)\"],[0.5,\"rgb(107,174,214)\"],[0.625,\"rgb(66,146,198)\"],[0.75,\"rgb(33,113,181)\"],[0.875,\"rgb(8,81,156)\"],[1.0,\"rgb(8,48,107)\"]],\"connectgaps\":true,\"contours\":{\"coloring\":\"heatmap\"},\"hoverinfo\":\"none\",\"line\":{\"smoothing\":1.3},\"reversescale\":false,\"x\":[0.8,1,2,3,4,5,5.2],\"y\":[47.35,57,85,100,114,128,136,147,152,158,167,170,172,178,181,183,187,191,195,196,197,199,202,205,207,210,211,213,214,217,218,219,220,225,226,231,234,235,237,242,247,248,250,259.65],\"z\":[[null,null,null,null,null,null,null],[null,null,null,0.7643229166666666,null,null,null],[null,null,null,null,null,0.7630208333333334,null],[null,null,null,0.7604166666666666,null,null,null],[null,null,null,null,null,0.7591145833333334,null],[null,null,null,null,0.7578125,null,null],[null,null,null,null,null,0.7604166666666666,null],[null,null,null,null,0.7578125,null,null],[null,null,null,null,null,0.7591145833333334,null],[null,null,null,null,0.7552083333333334,null,null],[null,null,0.73828125,null,null,null,null],[null,null,null,null,null,0.76171875,null],[null,null,null,null,0.7565104166666666,null,null],[null,null,null,null,null,0.7604166666666666,null],[null,null,null,null,null,0.76171875,null],[null,null,null,null,null,0.7591145833333334,null],[null,0.703125,null,null,null,null,null],[null,null,0.7421875,null,null,0.76171875,null],[null,null,null,null,0.7578125,null,null],[null,null,null,null,0.7578125,null,null],[null,null,null,null,null,0.7630208333333334,null],[null,null,null,null,null,0.765625,null],[null,0.7018229166666666,null,null,null,0.76953125,null],[null,null,null,0.7643229166666666,null,null,null],[null,null,null,0.7643229166666666,0.7565104166666666,null,null],[null,null,null,null,null,0.765625,null],[null,null,0.7395833333333334,null,null,null,null],[null,null,null,null,null,0.765625,null],[null,null,null,0.7630208333333334,null,null,null],[null,null,null,null,null,0.7630208333333334,null],[null,null,null,null,null,0.7643229166666666,null],[null,null,null,null,null,0.7643229166666666,null],[null,null,null,null,0.7565104166666666,null,null],[null,null,null,null,null,0.76171875,null],[null,null,null,null,null,0.7630208333333334,null],[null,null,0.7356770833333334,null,null,null,null],[null,null,null,null,0.7591145833333334,0.7643229166666666,null],[null,null,null,null,null,0.7643229166666666,null],[null,null,null,null,null,0.7643229166666666,null],[null,null,null,null,0.7604166666666666,null,null],[null,null,null,null,0.7604166666666666,null,null],[null,null,null,null,null,0.7604166666666666,null],[null,null,null,null,0.7604166666666666,null,null],[null,null,null,null,null,null,null]],\"type\":\"contour\"},{\"marker\":{\"color\":\"black\",\"line\":{\"color\":\"Gray\",\"width\":2.0}},\"mode\":\"markers\",\"name\":\"Feasible Trial\",\"showlegend\":false,\"x\":[3,4,5,4,2,2,2,1,5,3,5,5,5,4,5,4,5,4,3,5,3,5,5,4,5,4,5,1,4,5,4,5,5,5,4,5,5,2,4,5,4,5,5,5,5,5,5,5,3,5],\"y\":[100,196,234,147,167,191,231,187,235,214,85,248,136,247,218,172,114,220,57,235,207,225,210,250,170,207,235,202,234,183,128,219,213,197,158,181,237,211,195,226,242,217,226,210,202,191,178,152,205,199],\"type\":\"scatter\"},{\"marker\":{\"color\":\"#cccccc\",\"line\":{\"color\":\"Gray\",\"width\":2.0}},\"mode\":\"markers\",\"name\":\"Infeasible Trial\",\"showlegend\":false,\"x\":[],\"y\":[],\"type\":\"scatter\"}],                        {\"title\":{\"text\":\"Contour Plot\"},\"template\":{\"data\":{\"histogram2dcontour\":[{\"type\":\"histogram2dcontour\",\"colorbar\":{\"outlinewidth\":0,\"ticks\":\"\"},\"colorscale\":[[0.0,\"#0d0887\"],[0.1111111111111111,\"#46039f\"],[0.2222222222222222,\"#7201a8\"],[0.3333333333333333,\"#9c179e\"],[0.4444444444444444,\"#bd3786\"],[0.5555555555555556,\"#d8576b\"],[0.6666666666666666,\"#ed7953\"],[0.7777777777777778,\"#fb9f3a\"],[0.8888888888888888,\"#fdca26\"],[1.0,\"#f0f921\"]]}],\"choropleth\":[{\"type\":\"choropleth\",\"colorbar\":{\"outlinewidth\":0,\"ticks\":\"\"}}],\"histogram2d\":[{\"type\":\"histogram2d\",\"colorbar\":{\"outlinewidth\":0,\"ticks\":\"\"},\"colorscale\":[[0.0,\"#0d0887\"],[0.1111111111111111,\"#46039f\"],[0.2222222222222222,\"#7201a8\"],[0.3333333333333333,\"#9c179e\"],[0.4444444444444444,\"#bd3786\"],[0.5555555555555556,\"#d8576b\"],[0.6666666666666666,\"#ed7953\"],[0.7777777777777778,\"#fb9f3a\"],[0.8888888888888888,\"#fdca26\"],[1.0,\"#f0f921\"]]}],\"heatmap\":[{\"type\":\"heatmap\",\"colorbar\":{\"outlinewidth\":0,\"ticks\":\"\"},\"colorscale\":[[0.0,\"#0d0887\"],[0.1111111111111111,\"#46039f\"],[0.2222222222222222,\"#7201a8\"],[0.3333333333333333,\"#9c179e\"],[0.4444444444444444,\"#bd3786\"],[0.5555555555555556,\"#d8576b\"],[0.6666666666666666,\"#ed7953\"],[0.7777777777777778,\"#fb9f3a\"],[0.8888888888888888,\"#fdca26\"],[1.0,\"#f0f921\"]]}],\"heatmapgl\":[{\"type\":\"heatmapgl\",\"colorbar\":{\"outlinewidth\":0,\"ticks\":\"\"},\"colorscale\":[[0.0,\"#0d0887\"],[0.1111111111111111,\"#46039f\"],[0.2222222222222222,\"#7201a8\"],[0.3333333333333333,\"#9c179e\"],[0.4444444444444444,\"#bd3786\"],[0.5555555555555556,\"#d8576b\"],[0.6666666666666666,\"#ed7953\"],[0.7777777777777778,\"#fb9f3a\"],[0.8888888888888888,\"#fdca26\"],[1.0,\"#f0f921\"]]}],\"contourcarpet\":[{\"type\":\"contourcarpet\",\"colorbar\":{\"outlinewidth\":0,\"ticks\":\"\"}}],\"contour\":[{\"type\":\"contour\",\"colorbar\":{\"outlinewidth\":0,\"ticks\":\"\"},\"colorscale\":[[0.0,\"#0d0887\"],[0.1111111111111111,\"#46039f\"],[0.2222222222222222,\"#7201a8\"],[0.3333333333333333,\"#9c179e\"],[0.4444444444444444,\"#bd3786\"],[0.5555555555555556,\"#d8576b\"],[0.6666666666666666,\"#ed7953\"],[0.7777777777777778,\"#fb9f3a\"],[0.8888888888888888,\"#fdca26\"],[1.0,\"#f0f921\"]]}],\"surface\":[{\"type\":\"surface\",\"colorbar\":{\"outlinewidth\":0,\"ticks\":\"\"},\"colorscale\":[[0.0,\"#0d0887\"],[0.1111111111111111,\"#46039f\"],[0.2222222222222222,\"#7201a8\"],[0.3333333333333333,\"#9c179e\"],[0.4444444444444444,\"#bd3786\"],[0.5555555555555556,\"#d8576b\"],[0.6666666666666666,\"#ed7953\"],[0.7777777777777778,\"#fb9f3a\"],[0.8888888888888888,\"#fdca26\"],[1.0,\"#f0f921\"]]}],\"mesh3d\":[{\"type\":\"mesh3d\",\"colorbar\":{\"outlinewidth\":0,\"ticks\":\"\"}}],\"scatter\":[{\"fillpattern\":{\"fillmode\":\"overlay\",\"size\":10,\"solidity\":0.2},\"type\":\"scatter\"}],\"parcoords\":[{\"type\":\"parcoords\",\"line\":{\"colorbar\":{\"outlinewidth\":0,\"ticks\":\"\"}}}],\"scatterpolargl\":[{\"type\":\"scatterpolargl\",\"marker\":{\"colorbar\":{\"outlinewidth\":0,\"ticks\":\"\"}}}],\"bar\":[{\"error_x\":{\"color\":\"#2a3f5f\"},\"error_y\":{\"color\":\"#2a3f5f\"},\"marker\":{\"line\":{\"color\":\"#E5ECF6\",\"width\":0.5},\"pattern\":{\"fillmode\":\"overlay\",\"size\":10,\"solidity\":0.2}},\"type\":\"bar\"}],\"scattergeo\":[{\"type\":\"scattergeo\",\"marker\":{\"colorbar\":{\"outlinewidth\":0,\"ticks\":\"\"}}}],\"scatterpolar\":[{\"type\":\"scatterpolar\",\"marker\":{\"colorbar\":{\"outlinewidth\":0,\"ticks\":\"\"}}}],\"histogram\":[{\"marker\":{\"pattern\":{\"fillmode\":\"overlay\",\"size\":10,\"solidity\":0.2}},\"type\":\"histogram\"}],\"scattergl\":[{\"type\":\"scattergl\",\"marker\":{\"colorbar\":{\"outlinewidth\":0,\"ticks\":\"\"}}}],\"scatter3d\":[{\"type\":\"scatter3d\",\"line\":{\"colorbar\":{\"outlinewidth\":0,\"ticks\":\"\"}},\"marker\":{\"colorbar\":{\"outlinewidth\":0,\"ticks\":\"\"}}}],\"scattermapbox\":[{\"type\":\"scattermapbox\",\"marker\":{\"colorbar\":{\"outlinewidth\":0,\"ticks\":\"\"}}}],\"scatterternary\":[{\"type\":\"scatterternary\",\"marker\":{\"colorbar\":{\"outlinewidth\":0,\"ticks\":\"\"}}}],\"scattercarpet\":[{\"type\":\"scattercarpet\",\"marker\":{\"colorbar\":{\"outlinewidth\":0,\"ticks\":\"\"}}}],\"carpet\":[{\"aaxis\":{\"endlinecolor\":\"#2a3f5f\",\"gridcolor\":\"white\",\"linecolor\":\"white\",\"minorgridcolor\":\"white\",\"startlinecolor\":\"#2a3f5f\"},\"baxis\":{\"endlinecolor\":\"#2a3f5f\",\"gridcolor\":\"white\",\"linecolor\":\"white\",\"minorgridcolor\":\"white\",\"startlinecolor\":\"#2a3f5f\"},\"type\":\"carpet\"}],\"table\":[{\"cells\":{\"fill\":{\"color\":\"#EBF0F8\"},\"line\":{\"color\":\"white\"}},\"header\":{\"fill\":{\"color\":\"#C8D4E3\"},\"line\":{\"color\":\"white\"}},\"type\":\"table\"}],\"barpolar\":[{\"marker\":{\"line\":{\"color\":\"#E5ECF6\",\"width\":0.5},\"pattern\":{\"fillmode\":\"overlay\",\"size\":10,\"solidity\":0.2}},\"type\":\"barpolar\"}],\"pie\":[{\"automargin\":true,\"type\":\"pie\"}]},\"layout\":{\"autotypenumbers\":\"strict\",\"colorway\":[\"#636efa\",\"#EF553B\",\"#00cc96\",\"#ab63fa\",\"#FFA15A\",\"#19d3f3\",\"#FF6692\",\"#B6E880\",\"#FF97FF\",\"#FECB52\"],\"font\":{\"color\":\"#2a3f5f\"},\"hovermode\":\"closest\",\"hoverlabel\":{\"align\":\"left\"},\"paper_bgcolor\":\"white\",\"plot_bgcolor\":\"#E5ECF6\",\"polar\":{\"bgcolor\":\"#E5ECF6\",\"angularaxis\":{\"gridcolor\":\"white\",\"linecolor\":\"white\",\"ticks\":\"\"},\"radialaxis\":{\"gridcolor\":\"white\",\"linecolor\":\"white\",\"ticks\":\"\"}},\"ternary\":{\"bgcolor\":\"#E5ECF6\",\"aaxis\":{\"gridcolor\":\"white\",\"linecolor\":\"white\",\"ticks\":\"\"},\"baxis\":{\"gridcolor\":\"white\",\"linecolor\":\"white\",\"ticks\":\"\"},\"caxis\":{\"gridcolor\":\"white\",\"linecolor\":\"white\",\"ticks\":\"\"}},\"coloraxis\":{\"colorbar\":{\"outlinewidth\":0,\"ticks\":\"\"}},\"colorscale\":{\"sequential\":[[0.0,\"#0d0887\"],[0.1111111111111111,\"#46039f\"],[0.2222222222222222,\"#7201a8\"],[0.3333333333333333,\"#9c179e\"],[0.4444444444444444,\"#bd3786\"],[0.5555555555555556,\"#d8576b\"],[0.6666666666666666,\"#ed7953\"],[0.7777777777777778,\"#fb9f3a\"],[0.8888888888888888,\"#fdca26\"],[1.0,\"#f0f921\"]],\"sequentialminus\":[[0.0,\"#0d0887\"],[0.1111111111111111,\"#46039f\"],[0.2222222222222222,\"#7201a8\"],[0.3333333333333333,\"#9c179e\"],[0.4444444444444444,\"#bd3786\"],[0.5555555555555556,\"#d8576b\"],[0.6666666666666666,\"#ed7953\"],[0.7777777777777778,\"#fb9f3a\"],[0.8888888888888888,\"#fdca26\"],[1.0,\"#f0f921\"]],\"diverging\":[[0,\"#8e0152\"],[0.1,\"#c51b7d\"],[0.2,\"#de77ae\"],[0.3,\"#f1b6da\"],[0.4,\"#fde0ef\"],[0.5,\"#f7f7f7\"],[0.6,\"#e6f5d0\"],[0.7,\"#b8e186\"],[0.8,\"#7fbc41\"],[0.9,\"#4d9221\"],[1,\"#276419\"]]},\"xaxis\":{\"gridcolor\":\"white\",\"linecolor\":\"white\",\"ticks\":\"\",\"title\":{\"standoff\":15},\"zerolinecolor\":\"white\",\"automargin\":true,\"zerolinewidth\":2},\"yaxis\":{\"gridcolor\":\"white\",\"linecolor\":\"white\",\"ticks\":\"\",\"title\":{\"standoff\":15},\"zerolinecolor\":\"white\",\"automargin\":true,\"zerolinewidth\":2},\"scene\":{\"xaxis\":{\"backgroundcolor\":\"#E5ECF6\",\"gridcolor\":\"white\",\"linecolor\":\"white\",\"showbackground\":true,\"ticks\":\"\",\"zerolinecolor\":\"white\",\"gridwidth\":2},\"yaxis\":{\"backgroundcolor\":\"#E5ECF6\",\"gridcolor\":\"white\",\"linecolor\":\"white\",\"showbackground\":true,\"ticks\":\"\",\"zerolinecolor\":\"white\",\"gridwidth\":2},\"zaxis\":{\"backgroundcolor\":\"#E5ECF6\",\"gridcolor\":\"white\",\"linecolor\":\"white\",\"showbackground\":true,\"ticks\":\"\",\"zerolinecolor\":\"white\",\"gridwidth\":2}},\"shapedefaults\":{\"line\":{\"color\":\"#2a3f5f\"}},\"annotationdefaults\":{\"arrowcolor\":\"#2a3f5f\",\"arrowhead\":0,\"arrowwidth\":1},\"geo\":{\"bgcolor\":\"white\",\"landcolor\":\"#E5ECF6\",\"subunitcolor\":\"white\",\"showland\":true,\"showlakes\":true,\"lakecolor\":\"white\"},\"title\":{\"x\":0.05},\"mapbox\":{\"style\":\"light\"}}},\"xaxis\":{\"title\":{\"text\":\"max_depth\"},\"range\":[0.8,5.2]},\"yaxis\":{\"title\":{\"text\":\"n_estimator\"},\"range\":[47.35,259.65]}},                        {\"responsive\": true}                    ).then(function(){\n",
              "                            \n",
              "var gd = document.getElementById('9030c082-8800-4748-aaa2-466bb966a130');\n",
              "var x = new MutationObserver(function (mutations, observer) {{\n",
              "        var display = window.getComputedStyle(gd).display;\n",
              "        if (!display || display === 'none') {{\n",
              "            console.log([gd, 'removed!']);\n",
              "            Plotly.purge(gd);\n",
              "            observer.disconnect();\n",
              "        }}\n",
              "}});\n",
              "\n",
              "// Listen for the removal of the full notebook cells\n",
              "var notebookContainer = gd.closest('#notebook-container');\n",
              "if (notebookContainer) {{\n",
              "    x.observe(notebookContainer, {childList: true});\n",
              "}}\n",
              "\n",
              "// Listen for the clearing of the current output cell\n",
              "var outputEl = gd.closest('.output');\n",
              "if (outputEl) {{\n",
              "    x.observe(outputEl, {childList: true});\n",
              "}}\n",
              "\n",
              "                        })                };                            </script>        </div>\n",
              "</body>\n",
              "</html>"
            ]
          },
          "metadata": {}
        }
      ]
    },
    {
      "cell_type": "markdown",
      "source": [
        "Dynamic Search Space"
      ],
      "metadata": {
        "id": "OF-5QtAMeCYp"
      }
    },
    {
      "cell_type": "code",
      "source": [
        "from sklearn.ensemble import GradientBoostingClassifier,RandomForestClassifier\n",
        "from sklearn.model_selection import cross_val_score\n",
        "from sklearn.svm import SVC"
      ],
      "metadata": {
        "id": "MoUJ28Okx6no"
      },
      "execution_count": null,
      "outputs": []
    },
    {
      "cell_type": "code",
      "source": [
        "def objective(trial):\n",
        "  model=trial.suggest_categorical('classifier',['GBF','RFC','svm'])\n",
        "\n",
        "  if model=='GBF':\n",
        "    #Gradient Boosting Classifier\n",
        "    n_estimator=trial.suggest_int('n_estimators', 50, 300)\n",
        "    learning_rate=trial.suggest_float('learning_rate', 0.01, 0.3, log=True)\n",
        "    max_depth=trial.suggest_int('max_depth', 3, 20)\n",
        "    min_samples_split=trial.suggest_int('min_samples_split', 2, 10)\n",
        "    min_samples_leaf=trial.suggest_int('min_samples_leaf', 1, 10)\n",
        "\n",
        "    model=GradientBoostingClassifier(\n",
        "        n_estimators=n_estimator,\n",
        "        max_depth=max_depth,\n",
        "        min_samples_leaf=min_samples_leaf,\n",
        "        min_samples_split=min_samples_split,\n",
        "        learning_rate=learning_rate,\n",
        "        random_state=42\n",
        "    )\n",
        "\n",
        "  elif model=='svm':\n",
        "    #Support Vector Machine\n",
        "    c=trial.suggest_float('C', 0.1, 100, log=True)\n",
        "    gamma=trial.suggest_categorical('gamma',['auto','scale'])\n",
        "    kernel=trial.suggest_categorical('kernel',['linear', 'rbf', 'poly', 'sigmoid'])\n",
        "\n",
        "    model=SVC(C=c,gamma=gamma,kernel=kernel,random_state=42)\n",
        "\n",
        "  elif model=='RFC':\n",
        "    #Random Forest Classifier\n",
        "    n_estimator = trial.suggest_int('n_estimators', 50, 300)\n",
        "    max_depth = trial.suggest_int('max_depth', 3, 20)\n",
        "    min_samples_split = trial.suggest_int('min_samples_split', 2, 10)\n",
        "    min_samples_leaf = trial.suggest_int('min_samples_leaf', 1, 10)\n",
        "    bootstrap = trial.suggest_categorical('bootstrap', [True, False])\n",
        "\n",
        "    model=RandomForestClassifier(\n",
        "        n_estimators=n_estimator,\n",
        "        max_depth=max_depth,\n",
        "        min_samples_leaf=min_samples_leaf,\n",
        "        min_samples_split=min_samples_split,\n",
        "        bootstrap=bootstrap,\n",
        "        random_state=42\n",
        "    )\n",
        "\n",
        "  score=cross_val_score(model,X_train,y_train,cv=3,scoring='accuracy').mean()\n",
        "\n",
        "  return score"
      ],
      "metadata": {
        "id": "2jSYlQ5ax6qd"
      },
      "execution_count": null,
      "outputs": []
    },
    {
      "cell_type": "code",
      "source": [
        "study=optuna.create_study(direction='maximize')\n",
        "study.optimize(objective,n_trials=100)"
      ],
      "metadata": {
        "colab": {
          "base_uri": "https://localhost:8080/"
        },
        "id": "a-nRntMvmzwN",
        "outputId": "77502ac2-a867-474e-bcbf-3cd244748360"
      },
      "execution_count": null,
      "outputs": [
        {
          "output_type": "stream",
          "name": "stderr",
          "text": [
            "[I 2024-09-27 13:20:31,010] A new study created in memory with name: no-name-2e0d0106-dbfd-486d-8a80-9ac3a9647cd2\n",
            "[I 2024-09-27 13:20:33,389] Trial 0 finished with value: 0.7573170731707317 and parameters: {'classifier': 'GBF', 'n_estimators': 195, 'learning_rate': 0.02808245187143458, 'max_depth': 17, 'min_samples_split': 10, 'min_samples_leaf': 8}. Best is trial 0 with value: 0.7573170731707317.\n",
            "[I 2024-09-27 13:20:35,648] Trial 1 finished with value: 0.7670891120675912 and parameters: {'classifier': 'GBF', 'n_estimators': 145, 'learning_rate': 0.012429130883921016, 'max_depth': 11, 'min_samples_split': 9, 'min_samples_leaf': 4}. Best is trial 1 with value: 0.7670891120675912.\n",
            "[I 2024-09-27 13:20:38,250] Trial 2 finished with value: 0.7443487964291408 and parameters: {'classifier': 'GBF', 'n_estimators': 111, 'learning_rate': 0.1601682277058009, 'max_depth': 10, 'min_samples_split': 3, 'min_samples_leaf': 1}. Best is trial 1 with value: 0.7670891120675912.\n",
            "[I 2024-09-27 13:21:02,931] Trial 3 finished with value: 0.7768452096285668 and parameters: {'classifier': 'svm', 'C': 9.500663954987976, 'gamma': 'auto', 'kernel': 'linear'}. Best is trial 3 with value: 0.7768452096285668.\n",
            "[I 2024-09-27 13:21:02,972] Trial 4 finished with value: 0.7491710505340348 and parameters: {'classifier': 'svm', 'C': 0.4397417101329913, 'gamma': 'scale', 'kernel': 'poly'}. Best is trial 3 with value: 0.7768452096285668.\n"
          ]
        }
      ]
    },
    {
      "cell_type": "code",
      "source": [
        "print(f'selected param {study.best_trial.params}')\n",
        "print(f'selected param {study.best_trial.values}')"
      ],
      "metadata": {
        "id": "60MS484sx6th"
      },
      "execution_count": null,
      "outputs": []
    },
    {
      "cell_type": "code",
      "source": [],
      "metadata": {
        "id": "IznE35C_x6wL"
      },
      "execution_count": null,
      "outputs": []
    },
    {
      "cell_type": "code",
      "source": [],
      "metadata": {
        "id": "TxKPs7Fqx6zB"
      },
      "execution_count": null,
      "outputs": []
    },
    {
      "cell_type": "code",
      "source": [],
      "metadata": {
        "id": "tmwIzEfcx8TX"
      },
      "execution_count": null,
      "outputs": []
    },
    {
      "cell_type": "code",
      "source": [],
      "metadata": {
        "id": "SJnU51gvx8WL"
      },
      "execution_count": null,
      "outputs": []
    },
    {
      "cell_type": "code",
      "source": [],
      "metadata": {
        "id": "M9fDYuPWx8ZQ"
      },
      "execution_count": null,
      "outputs": []
    },
    {
      "cell_type": "code",
      "source": [],
      "metadata": {
        "id": "GwekE147x8cR"
      },
      "execution_count": null,
      "outputs": []
    },
    {
      "cell_type": "code",
      "source": [],
      "metadata": {
        "id": "zJYPtH1Nx8fI"
      },
      "execution_count": null,
      "outputs": []
    },
    {
      "cell_type": "code",
      "source": [],
      "metadata": {
        "id": "C1bYX7eCx8hu"
      },
      "execution_count": null,
      "outputs": []
    },
    {
      "cell_type": "code",
      "source": [],
      "metadata": {
        "id": "BC0NCGUKx8kW"
      },
      "execution_count": null,
      "outputs": []
    }
  ]
}